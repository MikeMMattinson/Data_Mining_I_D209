{
 "cells": [
  {
   "cell_type": "code",
   "execution_count": 3,
   "id": "5d874091",
   "metadata": {},
   "outputs": [
    {
     "name": "stdout",
     "output_type": "stream",
     "text": [
      "3.9.7 (tags/v3.9.7:1016ef3, Aug 30 2021, 20:19:38) [MSC v.1929 64 bit (AMD64)]\n",
      "P:\\code\\wgu\\py39\\Scripts\\python.exe\n"
     ]
    }
   ],
   "source": [
    "# show python environment variables\n",
    "import sys\n",
    "print(sys.version)\n",
    "print(sys.executable)"
   ]
  },
  {
   "cell_type": "markdown",
   "id": "b48d908f",
   "metadata": {},
   "source": [
    "<h1>WGU D209 TASK 1 REV 3 - MATTINSON</h1>"
   ]
  },
  {
   "cell_type": "markdown",
   "id": "ca88463d",
   "metadata": {},
   "source": [
    "<h2>Part I: Research Question</h2>A.  Describe the purpose of this data mining report by doing the following:"
   ]
  },
  {
   "cell_type": "markdown",
   "id": "6f78ddf1",
   "metadata": {},
   "source": [
    "<h3>A1. Propose <b>one</b> question relevant to a real-world organizational situation that you will answer using one of the following classification methods: (a) k-nearest neighbor (KNN) or (b) Naive Bayes.</h3>"
   ]
  },
  {
   "cell_type": "markdown",
   "id": "60201b80",
   "metadata": {},
   "source": [
    "<div style=\"font-family:Impact;\">Primary Goal. <span style=\"font-family: 'Courier New';font-size: 18px;color: #000000;line-height: 24px;\">The question has come up for a telecommunications company regarding churn. <b>Churn</b> is defined when a customer chooses to stop services. If the company has data on customers that have and have not churned in the past, is it possible to classify a new (or existing) customer based on their similarity to other customers with similar attributes that have and have not churned in the past. This analysis will consider two (2) attributes, <b>MonthlyCharge</b> and <b>Tenure</b> within the company's customer data of 10,000 customers. In addition, if the prediction is made, the analysis will also attempt to quantify the accuracy of the prediction.</span></div>"
   ]
  },
  {
   "cell_type": "markdown",
   "id": "99ca4d65",
   "metadata": {},
   "source": [
    "<h3>A2. Define <b>one</b> goal of the data analysis. Ensure that your goal is reasonable within the scope of the scenario and is represented in the available data.</h3>"
   ]
  },
  {
   "cell_type": "markdown",
   "id": "08b665f6",
   "metadata": {},
   "source": [
    "<div style=\"font-family:Impact;\">Primary Goal. <span style=\"font-family: 'Courier New';font-size: 18px;color: #000000;line-height: 24px;\">The analysis will attempt to predict <b>Churn</b> for a new customer with values of <b>MonthlyCharge</b> = $170.00 and <b>Tenure</b> = 1.0. This goal is within the scope of the company's customer data, both attributes are contained with the data for 10,000 customers and should provide adequate data for the prediction. The analysis will use K-nearest neighbors (KNN) to classify the new customer based on the k-nearest other customers with similar attributes.</span></div>"
   ]
  },
  {
   "cell_type": "code",
   "execution_count": 1,
   "id": "2f5126ca",
   "metadata": {
    "scrolled": false
   },
   "outputs": [],
   "source": [
    "# define new customer\n",
    "import pandas as pd\n",
    "newCustomer = pd.DataFrame([{'Tenure': 1.0,\n",
    "                             'MonthlyCharge': 170.0,\n",
    "                            'zTenure': 0.0,\n",
    "                            'zMonthlyCharge': 0.0}])"
   ]
  },
  {
   "cell_type": "markdown",
   "id": "0a64ef3f",
   "metadata": {},
   "source": [
    "<h2>Part II: Method Justification</h2>B.  Explain the reasons for your chosen classification method from part A1 by doing the following:"
   ]
  },
  {
   "cell_type": "markdown",
   "id": "79a296d2",
   "metadata": {},
   "source": [
    "<h3>B1. Explain how the classification method you chose analyzes the selected data set. Include expected outcomes.</h3>"
   ]
  },
  {
   "cell_type": "markdown",
   "id": "45c86845",
   "metadata": {},
   "source": [
    "<div style=\"font-family:Impact;\">Explain Method. <span style=\"font-family: 'Courier New';font-size: 18px;color: #000000;line-height: 24px;\">\n",
    "KNN classification will look for similar attributes in the closest k-neighbors, that are in close proximity to the target value to be classified. It will decide which classification value occurs most frequently in those k-neighbors and then output a classification prediction based on those values. I would expect the results to show the target variable as it relates to the k-neighbors and accuracy summaries for the model.</span></div> "
   ]
  },
  {
   "cell_type": "markdown",
   "id": "6a7e7c22",
   "metadata": {},
   "source": [
    "<h3>B2. Summarize <b>one</b> assumption of the chosen classification method.</h3>"
   ]
  },
  {
   "cell_type": "markdown",
   "id": "4e098b95",
   "metadata": {},
   "source": [
    "<div style=\"font-family:Impact;\">One Assumption. <span style=\"font-family: 'Courier New';font-size: 18px;color: #000000;line-height: 24px;\">One key assumption for KNN modeling is that similar things are close to each other. To classify the new customer, it will look for similar customer records and then make a classification based on which class occurs most frequently in those close neighbors. </span></div>"
   ]
  },
  {
   "cell_type": "markdown",
   "id": "bdc8000c",
   "metadata": {},
   "source": [
    "<h3>B3. List the packages or libraries you have chosen for <b>Python</b> or R, and justify how each item on the list supports the analysis.</h3>"
   ]
  },
  {
   "cell_type": "code",
   "execution_count": 2,
   "id": "99be3bf8",
   "metadata": {
    "scrolled": false
   },
   "outputs": [],
   "source": [
    "# import and configure pandas\n",
    "import pandas as pd\n",
    "pd.set_option('precision',3)\n",
    "pd.set_option('max_columns',9)\n",
    "pd.set_option('display.width', None)"
   ]
  },
  {
   "cell_type": "markdown",
   "id": "c2fa9c5b",
   "metadata": {},
   "source": [
    "Pandas is a data workhorse. It will allow data to be read in from company data .CSV file and then manipulated in many ways to clean and present the data."
   ]
  },
  {
   "cell_type": "code",
   "execution_count": 3,
   "id": "9dc2bf3f",
   "metadata": {
    "scrolled": false
   },
   "outputs": [],
   "source": [
    "# import and configure scientific computing\n",
    "import numpy as np\n",
    "import scipy.stats as stats\n",
    "#import statsmodels.api as sm\n",
    "#import statsmodels.formula.api as smf"
   ]
  },
  {
   "cell_type": "markdown",
   "id": "78d0c7cc",
   "metadata": {},
   "source": [
    "Numpy and Scipy allow math and scientific computations."
   ]
  },
  {
   "cell_type": "code",
   "execution_count": 4,
   "id": "f642e716",
   "metadata": {
    "scrolled": false
   },
   "outputs": [],
   "source": [
    "# import and configure sklearn\n",
    "from sklearn.metrics import confusion_matrix\n",
    "from sklearn import preprocessing\n",
    "from sklearn.decomposition import PCA\n",
    "from sklearn.linear_model import LogisticRegression\n",
    "from sklearn.model_selection import train_test_split\n",
    "from sklearn.metrics import roc_auc_score\n",
    "from sklearn.metrics import roc_curve\n",
    "from sklearn.metrics import classification_report\n",
    "from sklearn import metrics\n",
    "from sklearn.model_selection import train_test_split\n",
    "from sklearn.neighbors import KNeighborsClassifier\n",
    "from sklearn.metrics import accuracy_score\n",
    "from sklearn.neighbors import NearestNeighbors\n",
    "from sklearn.model_selection import KFold\n",
    "from sklearn.model_selection import cross_val_score"
   ]
  },
  {
   "cell_type": "markdown",
   "id": "37028158",
   "metadata": {},
   "source": [
    "For this analysis, sklearn provides all of the modeling and measurements."
   ]
  },
  {
   "cell_type": "code",
   "execution_count": 5,
   "id": "663f016f",
   "metadata": {
    "scrolled": false
   },
   "outputs": [],
   "source": [
    "# import and configure matplotlib\n",
    "import matplotlib.pyplot as plt\n",
    "import matplotlib.patches as mpatches\n",
    "plt.rc(\"font\", size=14)\n",
    "%matplotlib inline\n",
    "import seaborn as sns\n",
    "sns.set(style=\"white\")\n",
    "sns.set(style=\"whitegrid\", color_codes=True)"
   ]
  },
  {
   "cell_type": "markdown",
   "id": "cbdbd318",
   "metadata": {},
   "source": [
    "Matplotlib and Seaborn provide all of the plotting functions. All of the figures created in this notebook were created using matplotlib and seaborn packages."
   ]
  },
  {
   "cell_type": "code",
   "execution_count": 6,
   "id": "16e7999f",
   "metadata": {
    "scrolled": false
   },
   "outputs": [],
   "source": [
    "# helper function to plot a given dataset with the target data\n",
    "def plotDataset(ax, data, xFeature, yFeature, target, neighbors, showLabel=True, **kwargs):\n",
    "    \n",
    "    # Churn == True\n",
    "    subset = data.loc[data[target]==True]\n",
    "    ax.scatter(subset[xFeature], subset[yFeature], marker='o',\n",
    "              label=str(target)+'=True' if showLabel else None, color='C1', **kwargs)\n",
    "    \n",
    "    # Churn == False\n",
    "    subset = data.loc[data[target]==False]\n",
    "    ax.scatter(subset[xFeature], subset[yFeature], marker='D',\n",
    "              label=str(target)+'=False' if showLabel else None, color='C0', **kwargs)\n",
    "    \n",
    "    # labels\n",
    "    if len(neighbors) > 0:\n",
    "        for idx, row in data.iterrows():\n",
    "            ax.annotate(str(idx), (row[xFeature], row[yFeature]))  "
   ]
  },
  {
   "cell_type": "code",
   "execution_count": 7,
   "id": "7fab5a00",
   "metadata": {
    "scrolled": false
   },
   "outputs": [],
   "source": [
    "# helper function to standardize the format \n",
    "# a filename for figures and tables\n",
    "COURSE = 'D209' # global\n",
    "TASK = 'Task1' # global\n",
    "FTYPE = 'PNG' # global\n",
    "\n",
    "def getFilename(title: str, sect: str,\n",
    "            caption: str, ftype = FTYPE,\n",
    "            course = COURSE, task = TASK,\n",
    "               subfolder='figures') -> str:\n",
    "    \"\"\"\n",
    "    Prepare filename for a figure or table\n",
    "    \"\"\"\n",
    "    temp = subfolder + '/'  # subfolder for tables and figures, default is 'fig'\n",
    "    temp += COURSE + '_'\n",
    "    temp += TASK + '_'\n",
    "    temp += sect + '_'\n",
    "    temp += subfolder[0:3] + \" \" +caption + '_' #\n",
    "    temp += title\n",
    "    temp += '.' + ftype\n",
    "\n",
    "    return temp.replace(' ','_').upper()"
   ]
  },
  {
   "cell_type": "code",
   "execution_count": 8,
   "id": "0ca71326",
   "metadata": {
    "scrolled": false
   },
   "outputs": [
    {
     "name": "stdout",
     "output_type": "stream",
     "text": [
      "TABLES/D209_TASK1_D2_TAB_4_1_HELLO.CSV\n"
     ]
    }
   ],
   "source": [
    "f = getFilename('hello', sect='d2',\n",
    "    subfolder='tables', caption='4 1', ftype='CSV' )\n",
    "print(f)"
   ]
  },
  {
   "cell_type": "markdown",
   "id": "57937026",
   "metadata": {},
   "source": [
    "<h2>Part III: Data Preparation</h2>C.  Perform data preparation for the chosen data set by doing the following:"
   ]
  },
  {
   "cell_type": "markdown",
   "id": "359f4930",
   "metadata": {},
   "source": [
    "<h3>C1. Describe <b>one</b> data preprocessing goal relevant to the classification method from part A1.</h3>"
   ]
  },
  {
   "cell_type": "markdown",
   "id": "86c1319a",
   "metadata": {},
   "source": [
    "<div style=\"font-family:Impact;\">One Data Preprocessing Goal. <span style=\"font-family: 'Courier New';font-size: 18px;color: #000000;line-height: 24px;\">\n",
    "In order to apply the KNN classification analysis to this problem, the company data must be imported into the Python environment and then the raw numerical data must be normalized. In addition, the company data will be broken up into two (2) subsets, 70% in a training dataset, and the remain 30% in a testing or validation dataset. The KNN will then use the training set to build the model, and it will use the test set to validate the model. The main goal for data preparation will be to define these subsets of data is a manner that is as simple and intuitive as possible, to allow anyone to follow the analysis throughout the notebook. The following is a list of the planned data variables for this analysis:</span></div>"
   ]
  },
  {
   "cell_type": "markdown",
   "id": "f675acbb",
   "metadata": {},
   "source": [
    "<div style=\"font-family:Impact;\">Raw Data. <span style=\"font-family: 'Courier New';font-size: 18px;color: #000000;line-height: 24px;\">\n",
    "<ul style=\"line-height: 30px;\">\n",
    "    <li><b>y</b> = target data (i.e. <b>Churn</b> (categorical))\n",
    "    <li><b>X</b> = feature data (i.e. <b>MonthlyCharge</b>, and <b>Tenure</b>)\n",
    "    <li><b>rawData</b> = y.merge(X)       \n",
    "</ul>"
   ]
  },
  {
   "cell_type": "markdown",
   "id": "463ab988",
   "metadata": {},
   "source": [
    "<div style=\"font-family:Impact;\">Clean Data. <span style=\"font-family: 'Courier New';font-size: 18px;color: #000000;line-height: 24px;\">\n",
    "<ul style=\"line-height: 30px;\">\n",
    "    <li><b>y</b> = target data (i.e. <b>Churn</b> (bool))\n",
    "    <li><b>X</b> = feature data (i.e. <b>MonthlyCharge</b>, <b>Tenure</b>, <b>zMonthlyCharge</b>, and <b>zTenure</b>)\n",
    "    <li><b>cleanData</b> = y.merge(X)       \n",
    "</ul>"
   ]
  },
  {
   "cell_type": "markdown",
   "id": "5383e21c",
   "metadata": {},
   "source": [
    "<div style=\"font-family:Impact;\">Training Data. <span style=\"font-family: 'Courier New';font-size: 18px;color: #000000;line-height: 24px;\">70% of the cleaned data.\n",
    "<ul style=\"line-height: 30px;\">\n",
    "    <li><b>X_train</b> = created using train-test-split (i.e. <b>zMonthlyCharge</b>, and <b>zTenure</b>)\n",
    "    <li><b>y_train</b> = created using train-test-split \n",
    "    <li><b>trainData</b> = y_train.merge(X_train)        \n",
    "</ul>"
   ]
  },
  {
   "cell_type": "markdown",
   "id": "3e42278b",
   "metadata": {},
   "source": [
    "<div style=\"font-family:Impact;\">Testing Data. <span style=\"font-family: 'Courier New';font-size: 18px;color: #000000;line-height: 24px;\">The remaining 30% of the cleaned data.\n",
    "<ul style=\"line-height: 30px;\">\n",
    "    <li><b>X_test</b> = created using train-test-split (i.e. <b>zMonthlyCharge</b>, and <b>zTenure</b>)\n",
    "    <li><b>y_test</b> = created using train-test-split \n",
    "    <li><b>testData</b> = y_test.merge(X_test)        \n",
    "</ul>"
   ]
  },
  {
   "cell_type": "markdown",
   "id": "5f6d2781",
   "metadata": {},
   "source": [
    "<h3>C2. Identify the initial data set variables that you will use to perform the analysis for the classification question from part A1, and classify each variable as continuous or categorical.</h3>"
   ]
  },
  {
   "cell_type": "code",
   "execution_count": 9,
   "id": "bf43d942",
   "metadata": {
    "scrolled": false
   },
   "outputs": [],
   "source": [
    "# read subset of company's customer data from csv file\n",
    "import pandas as pd\n",
    "y = pd.read_csv('data/churn_clean.csv', \n",
    "        usecols=['Churn'])\n",
    "X = pd.read_csv('data/churn_clean.csv', \n",
    "        usecols=['Tenure','MonthlyCharge'])"
   ]
  },
  {
   "cell_type": "markdown",
   "id": "09830b09",
   "metadata": {},
   "source": [
    "<div style=\"font-family:Impact;\">Identify Initial Variables. <span style=\"font-family: 'Courier New';font-size: 18px;color: #000000;line-height: 24px;\">\n",
    "For this analysis, I will consider two (2) features, <b>MonthlyCharge</b> and <b>Tenure</b>, and one (1) target, <b>Churn</b>. Pandas is used to read the .CSV raw data file, the USECOLS option retrieves only selected data from the file.</span></div>"
   ]
  },
  {
   "cell_type": "markdown",
   "id": "ef326c35",
   "metadata": {},
   "source": [
    "<ul style=\"line-height: 30px;\">\n",
    "    <li><b>MonthlyCharge</b> (FEATURE) the amount charged to the customer monthly, it reflects an average per customer\n",
    "    <li><b>Tenure</b> (FEATURE) the number of months the customer has stayed with the provider\n",
    "    <li><b>Churn</b> (TARGET) is whether the customer has discontinued service within the last month (yes, no).\n",
    "</ul>"
   ]
  },
  {
   "cell_type": "markdown",
   "id": "0bf11633",
   "metadata": {},
   "source": [
    "<div style= \"font-weight: bold;font-size: large;border-top: solid;text-transform: uppercase;\">TABLE 3-1.<span style=\"font-weight: normal;\">SELECTED RAW CUSTOMER DATA. THIS IS THE PRIMARY DATASET IDENTIFIED AS 'RAWDATA'. NOTICE CHURN VALUES (YES AND NO)</span></div>Ref. (1) <a href=\"https://stackoverflow.com/questions/15017072/pandas-read-csv-and-filter-columns-with-usecols\" target=\"_blank\" rel:\"noopener noreferrer\">https://stackoverflow.com/questions/15017072/pandas-read-csv-and-filter-columns-with-usecols</a>"
   ]
  },
  {
   "cell_type": "code",
   "execution_count": 10,
   "id": "192e0ae8",
   "metadata": {
    "scrolled": false
   },
   "outputs": [
    {
     "data": {
      "text/html": [
       "<div>\n",
       "<style scoped>\n",
       "    .dataframe tbody tr th:only-of-type {\n",
       "        vertical-align: middle;\n",
       "    }\n",
       "\n",
       "    .dataframe tbody tr th {\n",
       "        vertical-align: top;\n",
       "    }\n",
       "\n",
       "    .dataframe thead th {\n",
       "        text-align: right;\n",
       "    }\n",
       "</style>\n",
       "<table border=\"1\" class=\"dataframe\">\n",
       "  <thead>\n",
       "    <tr style=\"text-align: right;\">\n",
       "      <th></th>\n",
       "      <th>Churn</th>\n",
       "      <th>Tenure</th>\n",
       "      <th>MonthlyCharge</th>\n",
       "    </tr>\n",
       "  </thead>\n",
       "  <tbody>\n",
       "    <tr>\n",
       "      <th>0</th>\n",
       "      <td>No</td>\n",
       "      <td>6.796</td>\n",
       "      <td>172.456</td>\n",
       "    </tr>\n",
       "    <tr>\n",
       "      <th>1</th>\n",
       "      <td>Yes</td>\n",
       "      <td>1.157</td>\n",
       "      <td>242.633</td>\n",
       "    </tr>\n",
       "    <tr>\n",
       "      <th>2</th>\n",
       "      <td>No</td>\n",
       "      <td>15.754</td>\n",
       "      <td>159.948</td>\n",
       "    </tr>\n",
       "    <tr>\n",
       "      <th>3</th>\n",
       "      <td>No</td>\n",
       "      <td>17.087</td>\n",
       "      <td>119.957</td>\n",
       "    </tr>\n",
       "    <tr>\n",
       "      <th>4</th>\n",
       "      <td>Yes</td>\n",
       "      <td>1.671</td>\n",
       "      <td>149.948</td>\n",
       "    </tr>\n",
       "  </tbody>\n",
       "</table>\n",
       "</div>"
      ],
      "text/plain": [
       "  Churn  Tenure  MonthlyCharge\n",
       "0    No   6.796        172.456\n",
       "1   Yes   1.157        242.633\n",
       "2    No  15.754        159.948\n",
       "3    No  17.087        119.957\n",
       "4   Yes   1.671        149.948"
      ]
     },
     "metadata": {},
     "output_type": "display_data"
    },
    {
     "name": "stdout",
     "output_type": "stream",
     "text": [
      "Table saved to: TABLES/D209_TASK1_C2_TAB_3_1_RAW.CSV\n"
     ]
    }
   ],
   "source": [
    "# describe raw data\n",
    "rawData = y.merge(X, left_index=True, right_index=True)\n",
    "d = rawData\n",
    "f = getFilename('RAW', sect='C2', \n",
    "        subfolder='tables', caption='3 1', ftype='CSV')\n",
    "d.to_csv(f, index=True, header=True)\n",
    "display(d.head())\n",
    "print('Table saved to: {}'.format(f))"
   ]
  },
  {
   "cell_type": "markdown",
   "id": "ce6e2d80",
   "metadata": {},
   "source": [
    "<div style=\"font-family:Impact;\">Target Data ( y ). <span style=\"font-family: 'Courier New';font-size: 18px;color: #000000;line-height: 24px;\">Convert categorical Churn to numeric boolean. Ref: (1) <a href:\"https://pandas.pydata.org/pandas-docs/stable/user_guide/indexing.html\" target=\"_blank\">https://pandas.pydata.org/pandas-docs/stable/user_guide/indexing.html</a></span></div>"
   ]
  },
  {
   "cell_type": "code",
   "execution_count": 11,
   "id": "831310ff",
   "metadata": {
    "scrolled": false
   },
   "outputs": [
    {
     "name": "stdout",
     "output_type": "stream",
     "text": [
      "\n",
      "0. Churn is boolean (BINARY): [False  True].\n"
     ]
    }
   ],
   "source": [
    "# convert churn from object [Yes No] to bool [True False]\n",
    "target = 'Churn'\n",
    "y[target] = y[target].replace({\"No\":False, \"Yes\":True})\n",
    "y[target] = y[target].astype('bool')\n",
    "print('\\n{}. {} is boolean (BINARY): {}.'.format(0,target,y[target].unique()))"
   ]
  },
  {
   "cell_type": "markdown",
   "id": "e0afee5b",
   "metadata": {},
   "source": [
    "<div style=\"font-family:Impact;\">Input Data Cleaning ( X ). <span style=\"font-family: 'Courier New';font-size: 18px;color: #000000;line-height: 24px;\">Transform each variable using standard transformation.</span></div>"
   ]
  },
  {
   "cell_type": "code",
   "execution_count": 12,
   "id": "94f8e994",
   "metadata": {
    "scrolled": false
   },
   "outputs": [],
   "source": [
    "# scale variables using standard transformation\n",
    "for c in X.columns:\n",
    "    X['z'+c] = (X[c] - X[c].mean()) / X[c].std()"
   ]
  },
  {
   "cell_type": "code",
   "execution_count": 13,
   "id": "f983f129",
   "metadata": {
    "scrolled": false
   },
   "outputs": [
    {
     "name": "stdout",
     "output_type": "stream",
     "text": [
      "\n",
      "1. Tenure is numerical (CONTINUOUS).\n",
      "\n",
      "2. MonthlyCharge is numerical (CONTINUOUS).\n",
      "\n",
      "3. zTenure is numerical (CONTINUOUS).\n",
      "\n",
      "4. zMonthlyCharge is numerical (CONTINUOUS).\n"
     ]
    }
   ],
   "source": [
    "# identify the initial set of variables\n",
    "for idx, c in enumerate(X.columns):\n",
    "    if X.dtypes[c] in ('float', 'int', 'int64'):\n",
    "        print('\\n{}. {} is numerical (CONTINUOUS).'.format(idx+1, c))\n",
    "    elif X.dtypes[c] == bool:\n",
    "        print('\\n{}. {} is boolean (BINARY): {}.'.format(idx+1,c,df[c].unique()))\n",
    "    else:\n",
    "        print('\\n{}. {} is categorical (CATEGORICAL): {}.'.format(idx+1,c,df[c].unique()))"
   ]
  },
  {
   "cell_type": "markdown",
   "id": "f2642a3c",
   "metadata": {},
   "source": [
    "<div style= \"font-weight: bold;font-size: large;border-top: solid;text-transform: uppercase;\">TABLE 3-2.<span style=\"font-weight: normal;\">DESCRIBE NUMERIC FEATURE DATA. THESE ARE THE TRADITIONAL STATISTICS FOR THE NUMERIC DATA</span></div>"
   ]
  },
  {
   "cell_type": "code",
   "execution_count": 14,
   "id": "966ff370",
   "metadata": {
    "scrolled": false
   },
   "outputs": [
    {
     "data": {
      "text/html": [
       "<div>\n",
       "<style scoped>\n",
       "    .dataframe tbody tr th:only-of-type {\n",
       "        vertical-align: middle;\n",
       "    }\n",
       "\n",
       "    .dataframe tbody tr th {\n",
       "        vertical-align: top;\n",
       "    }\n",
       "\n",
       "    .dataframe thead th {\n",
       "        text-align: right;\n",
       "    }\n",
       "</style>\n",
       "<table border=\"1\" class=\"dataframe\">\n",
       "  <thead>\n",
       "    <tr style=\"text-align: right;\">\n",
       "      <th></th>\n",
       "      <th>Tenure</th>\n",
       "      <th>MonthlyCharge</th>\n",
       "      <th>zTenure</th>\n",
       "      <th>zMonthlyCharge</th>\n",
       "    </tr>\n",
       "  </thead>\n",
       "  <tbody>\n",
       "    <tr>\n",
       "      <th>count</th>\n",
       "      <td>10000.000</td>\n",
       "      <td>10000.000</td>\n",
       "      <td>10000.000</td>\n",
       "      <td>10000.000</td>\n",
       "    </tr>\n",
       "    <tr>\n",
       "      <th>mean</th>\n",
       "      <td>34.526</td>\n",
       "      <td>172.625</td>\n",
       "      <td>0.000</td>\n",
       "      <td>-0.000</td>\n",
       "    </tr>\n",
       "    <tr>\n",
       "      <th>std</th>\n",
       "      <td>26.443</td>\n",
       "      <td>42.943</td>\n",
       "      <td>1.000</td>\n",
       "      <td>1.000</td>\n",
       "    </tr>\n",
       "    <tr>\n",
       "      <th>min</th>\n",
       "      <td>1.000</td>\n",
       "      <td>79.979</td>\n",
       "      <td>-1.268</td>\n",
       "      <td>-2.157</td>\n",
       "    </tr>\n",
       "    <tr>\n",
       "      <th>25%</th>\n",
       "      <td>7.918</td>\n",
       "      <td>139.979</td>\n",
       "      <td>-1.006</td>\n",
       "      <td>-0.760</td>\n",
       "    </tr>\n",
       "    <tr>\n",
       "      <th>50%</th>\n",
       "      <td>35.431</td>\n",
       "      <td>167.485</td>\n",
       "      <td>0.034</td>\n",
       "      <td>-0.120</td>\n",
       "    </tr>\n",
       "    <tr>\n",
       "      <th>75%</th>\n",
       "      <td>61.480</td>\n",
       "      <td>200.735</td>\n",
       "      <td>1.019</td>\n",
       "      <td>0.655</td>\n",
       "    </tr>\n",
       "    <tr>\n",
       "      <th>max</th>\n",
       "      <td>71.999</td>\n",
       "      <td>290.160</td>\n",
       "      <td>1.417</td>\n",
       "      <td>2.737</td>\n",
       "    </tr>\n",
       "  </tbody>\n",
       "</table>\n",
       "</div>"
      ],
      "text/plain": [
       "          Tenure  MonthlyCharge    zTenure  zMonthlyCharge\n",
       "count  10000.000      10000.000  10000.000       10000.000\n",
       "mean      34.526        172.625      0.000          -0.000\n",
       "std       26.443         42.943      1.000           1.000\n",
       "min        1.000         79.979     -1.268          -2.157\n",
       "25%        7.918        139.979     -1.006          -0.760\n",
       "50%       35.431        167.485      0.034          -0.120\n",
       "75%       61.480        200.735      1.019           0.655\n",
       "max       71.999        290.160      1.417           2.737"
      ]
     },
     "metadata": {},
     "output_type": "display_data"
    },
    {
     "name": "stdout",
     "output_type": "stream",
     "text": [
      "Table saved to: TABLES/D209_TASK1_C2_TAB_3_2_DF_STATS.CSV\n"
     ]
    }
   ],
   "source": [
    "# describe numeric feature data\n",
    "d =X.describe().round(3)\n",
    "f = getFilename('DF STATS', sect='c2',\n",
    "       subfolder='tables', caption='3 2', ftype='CSV')\n",
    "d.to_csv(f, index=True, header=True)\n",
    "display(d)\n",
    "print('Table saved to: {}'.format(f))"
   ]
  },
  {
   "cell_type": "markdown",
   "id": "21fd871b",
   "metadata": {},
   "source": [
    "<div style=\"font-family:Impact;\">Summary. <span style=\"font-family: 'Courier New';font-size: 18px;color: #000000;line-height: 24px;\">The company's customer raw data has been read into the df variable and consists of 10,000 customer records with three (3) variables each. Two (2) of the variables will be used as features and are continuous (numerical) data, and the the third variable is our target, binary variable. In addition to the raw data, a Z-scored column was also included for each variable which is the standard transformation.</span></div>"
   ]
  },
  {
   "cell_type": "markdown",
   "id": "31286e58",
   "metadata": {},
   "source": [
    "<h3>C3. Explain each of the steps used to prepare the data for the analysis. Identify the code segment for each step.</h3>"
   ]
  },
  {
   "cell_type": "markdown",
   "id": "c15cc9b1",
   "metadata": {},
   "source": [
    "<div style=\"font-family: 'Impact';\">Step 1.</div>Read in selected company data. Applicable customer data (<b>Churn</b>, <b>MonthlyCharge</b> and <b>Tenure</b>) from the company data was read into Python environment using pandas .read_cs() function using the usecols=[] option. This was completed in section C2 [9] above."
   ]
  },
  {
   "cell_type": "markdown",
   "id": "7eda7df0",
   "metadata": {},
   "source": [
    "<div style=\"font-family: 'Impact';\">Step 2.</div>Convert cateogrical data</div>Initially, the <b>Churn</b> variable was categorical, each row was Yes or No values, so this step converted the categorical data to boolean data using pandas .replace() function. In Python, boolean data is considered as numerical data, 1 or 0, or type(int). This was completed in section C2 [9] above."
   ]
  },
  {
   "cell_type": "markdown",
   "id": "add41c7e",
   "metadata": {},
   "source": [
    "<div style=\"font-family: 'Impact';\">Step 3.</div>Describe initial set of variables</div>For each variable of data, describe the data whether numerical or categorical. I used a function I created to loop through and list each one and a short description. Also, use pandas .describe() method to show descriptive statistics for numerical data. This was completed in section C2 [10] and C2[11] above."
   ]
  },
  {
   "cell_type": "markdown",
   "id": "80512815",
   "metadata": {},
   "source": [
    "<div style=\"font-family: 'Impact';\">Step 4.</div>Quick check for null values</div>The company data was previously cleaned and prepared, so I do not expect to find null values, but using the pandas .info() I can observe quickly that there are not any null values for any of the 10,000 customer records. This was completed in section C2 [12] above."
   ]
  },
  {
   "cell_type": "markdown",
   "id": "1d6ffdf1",
   "metadata": {},
   "source": [
    "<h3>C4. Provide Clean Data</h3>Provide a copy of the cleaned data set."
   ]
  },
  {
   "cell_type": "markdown",
   "id": "6c79619a",
   "metadata": {},
   "source": [
    "<div style= \"font-weight: bold;font-size: large;border-top: solid;text-transform: uppercase;\">TABLE 3-3.<span style=\"font-weight: normal;\">CLEAN DATA</div>"
   ]
  },
  {
   "cell_type": "code",
   "execution_count": 15,
   "id": "aeaeda5b",
   "metadata": {
    "scrolled": false
   },
   "outputs": [
    {
     "data": {
      "text/html": [
       "<div>\n",
       "<style scoped>\n",
       "    .dataframe tbody tr th:only-of-type {\n",
       "        vertical-align: middle;\n",
       "    }\n",
       "\n",
       "    .dataframe tbody tr th {\n",
       "        vertical-align: top;\n",
       "    }\n",
       "\n",
       "    .dataframe thead th {\n",
       "        text-align: right;\n",
       "    }\n",
       "</style>\n",
       "<table border=\"1\" class=\"dataframe\">\n",
       "  <thead>\n",
       "    <tr style=\"text-align: right;\">\n",
       "      <th></th>\n",
       "      <th>Churn</th>\n",
       "      <th>Tenure</th>\n",
       "      <th>MonthlyCharge</th>\n",
       "      <th>zTenure</th>\n",
       "      <th>zMonthlyCharge</th>\n",
       "    </tr>\n",
       "  </thead>\n",
       "  <tbody>\n",
       "    <tr>\n",
       "      <th>0</th>\n",
       "      <td>False</td>\n",
       "      <td>6.796</td>\n",
       "      <td>172.456</td>\n",
       "      <td>-1.049</td>\n",
       "      <td>-0.004</td>\n",
       "    </tr>\n",
       "    <tr>\n",
       "      <th>1</th>\n",
       "      <td>True</td>\n",
       "      <td>1.157</td>\n",
       "      <td>242.633</td>\n",
       "      <td>-1.262</td>\n",
       "      <td>1.630</td>\n",
       "    </tr>\n",
       "    <tr>\n",
       "      <th>2</th>\n",
       "      <td>False</td>\n",
       "      <td>15.754</td>\n",
       "      <td>159.948</td>\n",
       "      <td>-0.710</td>\n",
       "      <td>-0.295</td>\n",
       "    </tr>\n",
       "    <tr>\n",
       "      <th>3</th>\n",
       "      <td>False</td>\n",
       "      <td>17.087</td>\n",
       "      <td>119.957</td>\n",
       "      <td>-0.659</td>\n",
       "      <td>-1.226</td>\n",
       "    </tr>\n",
       "    <tr>\n",
       "      <th>4</th>\n",
       "      <td>True</td>\n",
       "      <td>1.671</td>\n",
       "      <td>149.948</td>\n",
       "      <td>-1.242</td>\n",
       "      <td>-0.528</td>\n",
       "    </tr>\n",
       "  </tbody>\n",
       "</table>\n",
       "</div>"
      ],
      "text/plain": [
       "   Churn  Tenure  MonthlyCharge  zTenure  zMonthlyCharge\n",
       "0  False   6.796        172.456   -1.049          -0.004\n",
       "1   True   1.157        242.633   -1.262           1.630\n",
       "2  False  15.754        159.948   -0.710          -0.295\n",
       "3  False  17.087        119.957   -0.659          -1.226\n",
       "4   True   1.671        149.948   -1.242          -0.528"
      ]
     },
     "metadata": {},
     "output_type": "display_data"
    },
    {
     "name": "stdout",
     "output_type": "stream",
     "text": [
      "<class 'pandas.core.frame.DataFrame'>\n",
      "RangeIndex: 10000 entries, 0 to 9999\n",
      "Data columns (total 5 columns):\n",
      " #   Column          Non-Null Count  Dtype  \n",
      "---  ------          --------------  -----  \n",
      " 0   Churn           10000 non-null  bool   \n",
      " 1   Tenure          10000 non-null  float64\n",
      " 2   MonthlyCharge   10000 non-null  float64\n",
      " 3   zTenure         10000 non-null  float64\n",
      " 4   zMonthlyCharge  10000 non-null  float64\n",
      "dtypes: bool(1), float64(4)\n",
      "memory usage: 322.4 KB\n",
      "None\n",
      "Shape (rows, cols): (10000, 5)\n",
      "Table saved to: TABLES/D209_TASK1_C4_TAB_3_3_CLEAN.CSV\n"
     ]
    }
   ],
   "source": [
    "# provide copy of cleaned data\n",
    "cleanData = y.merge(X, left_index=True, right_index=True) # refreshed after cleaning\n",
    "d = cleanData\n",
    "f = getFilename('CLEAN', sect='c4',\n",
    "        subfolder='tables', caption='3 3', ftype='CSV')\n",
    "d.to_csv(f, index=True, header=True)\n",
    "display(d.head())\n",
    "print(d.info())\n",
    "print('Shape (rows, cols): {}'.format(d.shape))\n",
    "print('Table saved to: {}'.format(f))"
   ]
  },
  {
   "cell_type": "markdown",
   "id": "2689ce99",
   "metadata": {},
   "source": [
    "<h2>Part IV Analysis</h2>D.  Perform the data analysis and report on the results by doing the following:"
   ]
  },
  {
   "cell_type": "markdown",
   "id": "8be3ef10",
   "metadata": {},
   "source": [
    "<h3>D1. Split the data into training and test data sets and provide the file(s).</h3>"
   ]
  },
  {
   "cell_type": "code",
   "execution_count": 16,
   "id": "3d7972c4",
   "metadata": {
    "scrolled": false
   },
   "outputs": [],
   "source": [
    "# train test split raw data\n",
    "#trainData, validData = train_test_split(df, test_size=0.3, random_state=13)\n",
    "X_train, X_test, y_train, y_test = train_test_split(X, y, test_size=0.3, random_state=13)"
   ]
  },
  {
   "cell_type": "code",
   "execution_count": 17,
   "id": "60511301",
   "metadata": {
    "scrolled": false
   },
   "outputs": [
    {
     "data": {
      "text/html": [
       "<div>\n",
       "<style scoped>\n",
       "    .dataframe tbody tr th:only-of-type {\n",
       "        vertical-align: middle;\n",
       "    }\n",
       "\n",
       "    .dataframe tbody tr th {\n",
       "        vertical-align: top;\n",
       "    }\n",
       "\n",
       "    .dataframe thead th {\n",
       "        text-align: right;\n",
       "    }\n",
       "</style>\n",
       "<table border=\"1\" class=\"dataframe\">\n",
       "  <thead>\n",
       "    <tr style=\"text-align: right;\">\n",
       "      <th></th>\n",
       "      <th>Tenure</th>\n",
       "      <th>MonthlyCharge</th>\n",
       "      <th>zTenure</th>\n",
       "      <th>zMonthlyCharge</th>\n",
       "    </tr>\n",
       "  </thead>\n",
       "  <tbody>\n",
       "    <tr>\n",
       "      <th>0</th>\n",
       "      <td>6.796</td>\n",
       "      <td>172.456</td>\n",
       "      <td>-1.049</td>\n",
       "      <td>-0.004</td>\n",
       "    </tr>\n",
       "    <tr>\n",
       "      <th>1</th>\n",
       "      <td>1.157</td>\n",
       "      <td>242.633</td>\n",
       "      <td>-1.262</td>\n",
       "      <td>1.630</td>\n",
       "    </tr>\n",
       "    <tr>\n",
       "      <th>2</th>\n",
       "      <td>15.754</td>\n",
       "      <td>159.948</td>\n",
       "      <td>-0.710</td>\n",
       "      <td>-0.295</td>\n",
       "    </tr>\n",
       "    <tr>\n",
       "      <th>3</th>\n",
       "      <td>17.087</td>\n",
       "      <td>119.957</td>\n",
       "      <td>-0.659</td>\n",
       "      <td>-1.226</td>\n",
       "    </tr>\n",
       "    <tr>\n",
       "      <th>4</th>\n",
       "      <td>1.671</td>\n",
       "      <td>149.948</td>\n",
       "      <td>-1.242</td>\n",
       "      <td>-0.528</td>\n",
       "    </tr>\n",
       "  </tbody>\n",
       "</table>\n",
       "</div>"
      ],
      "text/plain": [
       "   Tenure  MonthlyCharge  zTenure  zMonthlyCharge\n",
       "0   6.796        172.456   -1.049          -0.004\n",
       "1   1.157        242.633   -1.262           1.630\n",
       "2  15.754        159.948   -0.710          -0.295\n",
       "3  17.087        119.957   -0.659          -1.226\n",
       "4   1.671        149.948   -1.242          -0.528"
      ]
     },
     "execution_count": 17,
     "metadata": {},
     "output_type": "execute_result"
    }
   ],
   "source": [
    "X.head()"
   ]
  },
  {
   "cell_type": "code",
   "execution_count": 18,
   "id": "641e0e78",
   "metadata": {
    "scrolled": false
   },
   "outputs": [
    {
     "data": {
      "text/html": [
       "<div>\n",
       "<style scoped>\n",
       "    .dataframe tbody tr th:only-of-type {\n",
       "        vertical-align: middle;\n",
       "    }\n",
       "\n",
       "    .dataframe tbody tr th {\n",
       "        vertical-align: top;\n",
       "    }\n",
       "\n",
       "    .dataframe thead th {\n",
       "        text-align: right;\n",
       "    }\n",
       "</style>\n",
       "<table border=\"1\" class=\"dataframe\">\n",
       "  <thead>\n",
       "    <tr style=\"text-align: right;\">\n",
       "      <th></th>\n",
       "      <th>Churn</th>\n",
       "    </tr>\n",
       "  </thead>\n",
       "  <tbody>\n",
       "    <tr>\n",
       "      <th>0</th>\n",
       "      <td>False</td>\n",
       "    </tr>\n",
       "    <tr>\n",
       "      <th>1</th>\n",
       "      <td>True</td>\n",
       "    </tr>\n",
       "    <tr>\n",
       "      <th>2</th>\n",
       "      <td>False</td>\n",
       "    </tr>\n",
       "    <tr>\n",
       "      <th>3</th>\n",
       "      <td>False</td>\n",
       "    </tr>\n",
       "    <tr>\n",
       "      <th>4</th>\n",
       "      <td>True</td>\n",
       "    </tr>\n",
       "  </tbody>\n",
       "</table>\n",
       "</div>"
      ],
      "text/plain": [
       "   Churn\n",
       "0  False\n",
       "1   True\n",
       "2  False\n",
       "3  False\n",
       "4   True"
      ]
     },
     "execution_count": 18,
     "metadata": {},
     "output_type": "execute_result"
    }
   ],
   "source": [
    "y.head()"
   ]
  },
  {
   "cell_type": "code",
   "execution_count": 19,
   "id": "17b1bada",
   "metadata": {
    "scrolled": false
   },
   "outputs": [
    {
     "data": {
      "text/plain": [
       "(10000, 4)"
      ]
     },
     "execution_count": 19,
     "metadata": {},
     "output_type": "execute_result"
    }
   ],
   "source": [
    "X.shape"
   ]
  },
  {
   "cell_type": "code",
   "execution_count": 20,
   "id": "ed992add",
   "metadata": {
    "scrolled": false
   },
   "outputs": [
    {
     "data": {
      "text/plain": [
       "(10000, 1)"
      ]
     },
     "execution_count": 20,
     "metadata": {},
     "output_type": "execute_result"
    }
   ],
   "source": [
    "y.shape"
   ]
  },
  {
   "cell_type": "code",
   "execution_count": 21,
   "id": "2baa8ae9",
   "metadata": {
    "scrolled": false
   },
   "outputs": [
    {
     "data": {
      "text/plain": [
       "(7000, 4)"
      ]
     },
     "execution_count": 21,
     "metadata": {},
     "output_type": "execute_result"
    }
   ],
   "source": [
    "X_train.shape"
   ]
  },
  {
   "cell_type": "code",
   "execution_count": 22,
   "id": "66eed1c1",
   "metadata": {
    "scrolled": false
   },
   "outputs": [
    {
     "data": {
      "text/plain": [
       "(7000, 1)"
      ]
     },
     "execution_count": 22,
     "metadata": {},
     "output_type": "execute_result"
    }
   ],
   "source": [
    "y_train.shape"
   ]
  },
  {
   "cell_type": "code",
   "execution_count": 23,
   "id": "6521b255",
   "metadata": {
    "scrolled": false
   },
   "outputs": [
    {
     "data": {
      "text/plain": [
       "(3000, 4)"
      ]
     },
     "execution_count": 23,
     "metadata": {},
     "output_type": "execute_result"
    }
   ],
   "source": [
    "X_test.shape"
   ]
  },
  {
   "cell_type": "code",
   "execution_count": 24,
   "id": "3f2f9006",
   "metadata": {
    "scrolled": false
   },
   "outputs": [
    {
     "data": {
      "text/plain": [
       "(3000, 1)"
      ]
     },
     "execution_count": 24,
     "metadata": {},
     "output_type": "execute_result"
    }
   ],
   "source": [
    "y_test.shape"
   ]
  },
  {
   "cell_type": "markdown",
   "id": "1a8eb6a7",
   "metadata": {},
   "source": [
    "<div style= \"font-weight: bold;font-size: large;border-top: solid;text-transform: uppercase;\">TABLE 4-4.<span style=\"font-weight: normal;\">TRAINING DATA</span></div>"
   ]
  },
  {
   "cell_type": "code",
   "execution_count": 25,
   "id": "c31a0ab7",
   "metadata": {
    "scrolled": false
   },
   "outputs": [
    {
     "data": {
      "text/html": [
       "<div>\n",
       "<style scoped>\n",
       "    .dataframe tbody tr th:only-of-type {\n",
       "        vertical-align: middle;\n",
       "    }\n",
       "\n",
       "    .dataframe tbody tr th {\n",
       "        vertical-align: top;\n",
       "    }\n",
       "\n",
       "    .dataframe thead th {\n",
       "        text-align: right;\n",
       "    }\n",
       "</style>\n",
       "<table border=\"1\" class=\"dataframe\">\n",
       "  <thead>\n",
       "    <tr style=\"text-align: right;\">\n",
       "      <th></th>\n",
       "      <th>Churn</th>\n",
       "      <th>Tenure</th>\n",
       "      <th>MonthlyCharge</th>\n",
       "      <th>zTenure</th>\n",
       "      <th>zMonthlyCharge</th>\n",
       "    </tr>\n",
       "  </thead>\n",
       "  <tbody>\n",
       "    <tr>\n",
       "      <th>4847</th>\n",
       "      <td>False</td>\n",
       "      <td>9.525</td>\n",
       "      <td>92.488</td>\n",
       "      <td>-0.945</td>\n",
       "      <td>-1.866</td>\n",
       "    </tr>\n",
       "    <tr>\n",
       "      <th>9992</th>\n",
       "      <td>False</td>\n",
       "      <td>56.472</td>\n",
       "      <td>137.439</td>\n",
       "      <td>0.830</td>\n",
       "      <td>-0.819</td>\n",
       "    </tr>\n",
       "    <tr>\n",
       "      <th>4621</th>\n",
       "      <td>False</td>\n",
       "      <td>2.612</td>\n",
       "      <td>124.964</td>\n",
       "      <td>-1.207</td>\n",
       "      <td>-1.110</td>\n",
       "    </tr>\n",
       "    <tr>\n",
       "      <th>5774</th>\n",
       "      <td>False</td>\n",
       "      <td>58.787</td>\n",
       "      <td>139.983</td>\n",
       "      <td>0.917</td>\n",
       "      <td>-0.760</td>\n",
       "    </tr>\n",
       "    <tr>\n",
       "      <th>9294</th>\n",
       "      <td>False</td>\n",
       "      <td>64.116</td>\n",
       "      <td>255.120</td>\n",
       "      <td>1.119</td>\n",
       "      <td>1.921</td>\n",
       "    </tr>\n",
       "  </tbody>\n",
       "</table>\n",
       "</div>"
      ],
      "text/plain": [
       "      Churn  Tenure  MonthlyCharge  zTenure  zMonthlyCharge\n",
       "4847  False   9.525         92.488   -0.945          -1.866\n",
       "9992  False  56.472        137.439    0.830          -0.819\n",
       "4621  False   2.612        124.964   -1.207          -1.110\n",
       "5774  False  58.787        139.983    0.917          -0.760\n",
       "9294  False  64.116        255.120    1.119           1.921"
      ]
     },
     "metadata": {},
     "output_type": "display_data"
    },
    {
     "name": "stdout",
     "output_type": "stream",
     "text": [
      "Int64Index([4847, 9992, 4621, 5774, 9294, 1085, 1073,  950, 9512, 3773,\n",
      "            ...\n",
      "            6782, 9114, 4026, 8940,  153, 5876,  866, 7696,   74,  338],\n",
      "           dtype='int64', length=7000)\n",
      "<class 'pandas.core.frame.DataFrame'>\n",
      "Int64Index: 7000 entries, 4847 to 338\n",
      "Data columns (total 5 columns):\n",
      " #   Column          Non-Null Count  Dtype  \n",
      "---  ------          --------------  -----  \n",
      " 0   Churn           7000 non-null   bool   \n",
      " 1   Tenure          7000 non-null   float64\n",
      " 2   MonthlyCharge   7000 non-null   float64\n",
      " 3   zTenure         7000 non-null   float64\n",
      " 4   zMonthlyCharge  7000 non-null   float64\n",
      "dtypes: bool(1), float64(4)\n",
      "memory usage: 538.3 KB\n",
      "None\n",
      "Shape (rows, cols): (7000, 5)\n",
      "Table saved to: TABLES/D209_TASK1_D1_TAB_4_4_TRAIN_DATA.CSV\n"
     ]
    }
   ],
   "source": [
    "# provide TRAIN data\n",
    "trainData = y_train.merge(X_train, left_index=True, right_index=True)\n",
    "d = trainData\n",
    "f = getFilename('TRAIN DATA', sect='D1',\n",
    "        subfolder='tables',caption='4 4', ftype='CSV')\n",
    "d.to_csv(f, index=True, header=True)\n",
    "display(d.head())\n",
    "print(d.index)\n",
    "print(d.info())\n",
    "print('Shape (rows, cols): {}'.format(d.shape))\n",
    "print('Table saved to: {}'.format(f))"
   ]
  },
  {
   "cell_type": "markdown",
   "id": "b3dff5b7",
   "metadata": {},
   "source": [
    "<div style= \"font-weight: bold;font-size: large;border-top: solid;text-transform: uppercase;\">TABLE 4-5.<span style=\"font-weight: normal;\">TEST DATA</span></div>"
   ]
  },
  {
   "cell_type": "code",
   "execution_count": 26,
   "id": "887194a8",
   "metadata": {
    "scrolled": false
   },
   "outputs": [
    {
     "data": {
      "text/html": [
       "<div>\n",
       "<style scoped>\n",
       "    .dataframe tbody tr th:only-of-type {\n",
       "        vertical-align: middle;\n",
       "    }\n",
       "\n",
       "    .dataframe tbody tr th {\n",
       "        vertical-align: top;\n",
       "    }\n",
       "\n",
       "    .dataframe thead th {\n",
       "        text-align: right;\n",
       "    }\n",
       "</style>\n",
       "<table border=\"1\" class=\"dataframe\">\n",
       "  <thead>\n",
       "    <tr style=\"text-align: right;\">\n",
       "      <th></th>\n",
       "      <th>Churn</th>\n",
       "      <th>Tenure</th>\n",
       "      <th>MonthlyCharge</th>\n",
       "      <th>zTenure</th>\n",
       "      <th>zMonthlyCharge</th>\n",
       "    </tr>\n",
       "  </thead>\n",
       "  <tbody>\n",
       "    <tr>\n",
       "      <th>5952</th>\n",
       "      <td>False</td>\n",
       "      <td>56.633</td>\n",
       "      <td>114.984</td>\n",
       "      <td>0.836</td>\n",
       "      <td>-1.342</td>\n",
       "    </tr>\n",
       "    <tr>\n",
       "      <th>1783</th>\n",
       "      <td>False</td>\n",
       "      <td>2.851</td>\n",
       "      <td>117.483</td>\n",
       "      <td>-1.198</td>\n",
       "      <td>-1.284</td>\n",
       "    </tr>\n",
       "    <tr>\n",
       "      <th>4811</th>\n",
       "      <td>True</td>\n",
       "      <td>5.664</td>\n",
       "      <td>230.105</td>\n",
       "      <td>-1.091</td>\n",
       "      <td>1.339</td>\n",
       "    </tr>\n",
       "    <tr>\n",
       "      <th>145</th>\n",
       "      <td>True</td>\n",
       "      <td>2.733</td>\n",
       "      <td>217.473</td>\n",
       "      <td>-1.202</td>\n",
       "      <td>1.044</td>\n",
       "    </tr>\n",
       "    <tr>\n",
       "      <th>7146</th>\n",
       "      <td>True</td>\n",
       "      <td>56.275</td>\n",
       "      <td>200.132</td>\n",
       "      <td>0.822</td>\n",
       "      <td>0.641</td>\n",
       "    </tr>\n",
       "  </tbody>\n",
       "</table>\n",
       "</div>"
      ],
      "text/plain": [
       "      Churn  Tenure  MonthlyCharge  zTenure  zMonthlyCharge\n",
       "5952  False  56.633        114.984    0.836          -1.342\n",
       "1783  False   2.851        117.483   -1.198          -1.284\n",
       "4811   True   5.664        230.105   -1.091           1.339\n",
       "145    True   2.733        217.473   -1.202           1.044\n",
       "7146   True  56.275        200.132    0.822           0.641"
      ]
     },
     "metadata": {},
     "output_type": "display_data"
    },
    {
     "name": "stdout",
     "output_type": "stream",
     "text": [
      "Int64Index([5952, 1783, 4811,  145, 7146, 2452, 4051, 4311, 9715,  303,\n",
      "            ...\n",
      "            1442, 5091, 6525, 1241, 1161, 8654, 9777, 3727, 7848, 4977],\n",
      "           dtype='int64', length=3000)\n",
      "<class 'pandas.core.frame.DataFrame'>\n",
      "Int64Index: 3000 entries, 5952 to 4977\n",
      "Data columns (total 5 columns):\n",
      " #   Column          Non-Null Count  Dtype  \n",
      "---  ------          --------------  -----  \n",
      " 0   Churn           3000 non-null   bool   \n",
      " 1   Tenure          3000 non-null   float64\n",
      " 2   MonthlyCharge   3000 non-null   float64\n",
      " 3   zTenure         3000 non-null   float64\n",
      " 4   zMonthlyCharge  3000 non-null   float64\n",
      "dtypes: bool(1), float64(4)\n",
      "memory usage: 184.7 KB\n",
      "None\n",
      "Shape (rows, cols): (3000, 5)\n",
      "Table saved to: TABLES/D209_TASK1_D1_TAB_4_5_TEST_DATA.CSV\n"
     ]
    }
   ],
   "source": [
    "# provide TEST data\n",
    "testData = y_test.merge(X_test, left_index=True, right_index=True)\n",
    "d = testData\n",
    "f = getFilename('TEST DATA', sect='D1',\n",
    "        subfolder='tables', caption='4 5', ftype='CSV')\n",
    "d.to_csv(f, index=True, header=True)\n",
    "display(d.head())\n",
    "print(d.index)\n",
    "print(d.info())\n",
    "print('Shape (rows, cols): {}'.format(d.shape))\n",
    "print('Table saved to: {}'.format(f))"
   ]
  },
  {
   "cell_type": "markdown",
   "id": "a5237516",
   "metadata": {},
   "source": [
    "<h3>D2. Describe the analysis technique you used to appropriately analyze the data. Include screenshots of the intermediate calculations you performed.</h3>"
   ]
  },
  {
   "cell_type": "markdown",
   "id": "d8ea98ec",
   "metadata": {},
   "source": [
    "<div style=\"font-family:Impact;\">Data Exploratory Analysis. <span style=\"font-family: 'Courier New';font-size: 18px;color: #000000;line-height: 24px;\">I will create a scatter plot of the two (2) features showing differences between Churn=True and Churn=False customers. I will plot the new customer in the same plot to see where the new and existing customers are similar. We will then see what we expect the classification results will yield in the end.</span></div>"
   ]
  },
  {
   "cell_type": "markdown",
   "id": "9e246c74",
   "metadata": {},
   "source": [
    "<div style= \"font-weight: bold;font-size: large;border-top: solid;text-transform: uppercase;\">FIGURE 4-1.<span style=\"font-weight: normal;\">TRAINING DATA SCATTER PLOT OF MONTHLYCHARGE VS TENURE FOR TRAINING SET (SOLID MARKERS) AND TEST SET (HOLLOW MARKERS) AND THE NEW CUSTOMER (STAR MARKER) TO BE CLASSIFIED. </span> </div>Ref: (1) Shmueli, G.+ (2020). Data Mining for Business Analytics: Concepts, Techniques and Applications in Python, Chapter 7. "
   ]
  },
  {
   "cell_type": "code",
   "execution_count": 27,
   "id": "60bb0b46",
   "metadata": {
    "scrolled": false
   },
   "outputs": [
    {
     "data": {
      "image/png": "[encoded data removed]",
      "text/plain": [
       "<Figure size 576x360 with 1 Axes>"
      ]
     },
     "metadata": {},
     "output_type": "display_data"
    }
   ],
   "source": [
    "# scatter plot using the plotDataset() helper function\n",
    "xFeature = 'MonthlyCharge' \n",
    "yFeature = 'Tenure'\n",
    "target = 'Churn'\n",
    "neighbors = []\n",
    "\n",
    "fig, ax = plt.subplots()\n",
    "fig.set_size_inches(8, 5)\n",
    "plotDataset(ax, trainData, xFeature, yFeature, target, neighbors)\n",
    "plotDataset(ax, testData, xFeature, yFeature, target, neighbors, showLabel=False, facecolors='none')\n",
    "\n",
    "# plot new customer as a Star\n",
    "ax.scatter(newCustomer.MonthlyCharge, newCustomer.Tenure, marker='*',\n",
    "          label='New customer', color='red', s=270)\n",
    "\n",
    "title = 'Scatter Plot'\n",
    "plt.title(title)\n",
    "plt.xlabel(xFeature) \n",
    "plt.ylabel(yFeature)\n",
    "\n",
    "# configure legend\n",
    "handles, labels = ax.get_legend_handles_labels()\n",
    "patch = mpatches.Patch(color='grey', label='Manual Label')\n",
    "handles.append(patch) \n",
    "plt.legend(handles, labels, loc='upper center', bbox_to_anchor=(0.5, -0.15),\n",
    "          fancybox=True, shadow=True, ncol=5)\n",
    "\n",
    "# add customer data text\n",
    "plt.gcf().text(0, -.4, newCustomer.to_string(), fontsize=14)   \n",
    "\n",
    "# add filename\n",
    "f = getFilename(title, sect='d2',\n",
    "                subfolder='figures', caption='4 1') # getFilename using helper\n",
    "plt.gcf().text(0, -.2, f, fontsize=14) \n",
    "\n",
    "# save file\n",
    "fig.savefig(f, dpi=150, bbox_inches='tight')"
   ]
  },
  {
   "cell_type": "markdown",
   "id": "f8cf0d72",
   "metadata": {},
   "source": [
    "<div style=\"font-family:Impact;\">Create and Train the Model. <span style=\"font-family: 'Courier New';font-size: 18px;color: #000000;line-height: 24px;\">Use KNeighborsClassifier object's fit method, which loads the sample training set (X_train) and target training set (y_train) into the estimator:</span></div>"
   ]
  },
  {
   "cell_type": "code",
   "execution_count": 28,
   "id": "03ca678c",
   "metadata": {
    "scrolled": false
   },
   "outputs": [
    {
     "data": {
      "text/plain": [
       "KNeighborsClassifier()"
      ]
     },
     "execution_count": 28,
     "metadata": {},
     "output_type": "execute_result"
    }
   ],
   "source": [
    "# find k-nearest neighbors\n",
    "knn = KNeighborsClassifier()\n",
    "knn.fit(X=X_train, y=y_train['Churn'])"
   ]
  },
  {
   "cell_type": "code",
   "execution_count": 29,
   "id": "056bc915",
   "metadata": {
    "scrolled": false
   },
   "outputs": [],
   "source": [
    "predicted = knn.predict(X=X_test)"
   ]
  },
  {
   "cell_type": "code",
   "execution_count": 30,
   "id": "b034afdd",
   "metadata": {
    "scrolled": false
   },
   "outputs": [],
   "source": [
    "observed = y_test['Churn']"
   ]
  },
  {
   "cell_type": "code",
   "execution_count": 31,
   "id": "b3870d64",
   "metadata": {
    "scrolled": false
   },
   "outputs": [],
   "source": [
    "wrong = [(p,e) for (p,e) in zip(predicted, observed) if p!=e]"
   ]
  },
  {
   "cell_type": "code",
   "execution_count": 32,
   "id": "ec8f63dc",
   "metadata": {
    "scrolled": false
   },
   "outputs": [
    {
     "data": {
      "text/plain": [
       "523"
      ]
     },
     "execution_count": 32,
     "metadata": {},
     "output_type": "execute_result"
    }
   ],
   "source": [
    "len(wrong)"
   ]
  },
  {
   "cell_type": "markdown",
   "id": "12befb38",
   "metadata": {},
   "source": [
    "523 out of 3,000 were incorrectly predicted, that is 0.1743 or 17.4%."
   ]
  },
  {
   "cell_type": "code",
   "execution_count": 33,
   "id": "50149eca",
   "metadata": {
    "scrolled": false
   },
   "outputs": [
    {
     "data": {
      "text/plain": [
       "0.8256666666666667"
      ]
     },
     "execution_count": 33,
     "metadata": {},
     "output_type": "execute_result"
    }
   ],
   "source": [
    "knn.score(X_test, y_test)"
   ]
  },
  {
   "cell_type": "code",
   "execution_count": 34,
   "id": "f22e76f3",
   "metadata": {
    "scrolled": true
   },
   "outputs": [
    {
     "name": "stdout",
     "output_type": "stream",
     "text": [
      "k=1 ; mean accuracy=78.53%;\n",
      "k=3 ; mean accuracy=81.49%;\n",
      "k=5 ; mean accuracy=81.53%;\n",
      "k=7 ; mean accuracy=82.30%;\n",
      "k=9 ; mean accuracy=82.39%;\n",
      "k=11; mean accuracy=82.64%;\n",
      "k=13; mean accuracy=82.69%;\n",
      "k=15; mean accuracy=82.97%;\n",
      "k=17; mean accuracy=83.06%;\n",
      "k=19; mean accuracy=82.96%;\n",
      "k=21; mean accuracy=83.26%;\n",
      "k=23; mean accuracy=83.21%;\n",
      "k=25; mean accuracy=83.24%;\n",
      "k=27; mean accuracy=83.19%;\n",
      "k=29; mean accuracy=83.33%;\n",
      "k=31; mean accuracy=83.29%;\n",
      "k=33; mean accuracy=83.27%;\n",
      "k=35; mean accuracy=83.30%;\n",
      "k=37; mean accuracy=83.57%;\n",
      "k=39; mean accuracy=83.66%;\n"
     ]
    }
   ],
   "source": [
    "# hyperparamter tuning (Ref: Deitel (2020))\n",
    "for k in range(1,40,2):\n",
    "    kfold = KFold(n_splits=10, random_state=11, shuffle=True)\n",
    "    knn = KNeighborsClassifier(n_neighbors=k)\n",
    "    scores = cross_val_score(estimator=knn,\n",
    "            X=X_train, y=y_train['Churn'], cv=kfold)\n",
    "    print(f'k={k:<2}; mean accuracy={scores.mean():.2%};')"
   ]
  },
  {
   "cell_type": "markdown",
   "id": "bcb7aab9",
   "metadata": {},
   "source": [
    "<div style=\"font-family:Impact;\">Hyperparameter Tuning. <span style=\"font-family: 'Courier New';font-size: 18px;color: #000000;line-height: 24px;\">From the tuning data, it appears that anything more than k=7 will give 82% or better accuracy, so I will use k=7 for the prediction.</span></div>"
   ]
  },
  {
   "cell_type": "code",
   "execution_count": 35,
   "id": "fd5800fe",
   "metadata": {
    "scrolled": false
   },
   "outputs": [
    {
     "data": {
      "text/html": [
       "<div>\n",
       "<style scoped>\n",
       "    .dataframe tbody tr th:only-of-type {\n",
       "        vertical-align: middle;\n",
       "    }\n",
       "\n",
       "    .dataframe tbody tr th {\n",
       "        vertical-align: top;\n",
       "    }\n",
       "\n",
       "    .dataframe thead th {\n",
       "        text-align: right;\n",
       "    }\n",
       "</style>\n",
       "<table border=\"1\" class=\"dataframe\">\n",
       "  <thead>\n",
       "    <tr style=\"text-align: right;\">\n",
       "      <th></th>\n",
       "      <th>zTenure</th>\n",
       "      <th>zMonthlyCharge</th>\n",
       "    </tr>\n",
       "  </thead>\n",
       "  <tbody>\n",
       "    <tr>\n",
       "      <th>0</th>\n",
       "      <td>-1.268</td>\n",
       "      <td>-0.061</td>\n",
       "    </tr>\n",
       "  </tbody>\n",
       "</table>\n",
       "</div>"
      ],
      "text/plain": [
       "   zTenure  zMonthlyCharge\n",
       "0   -1.268          -0.061"
      ]
     },
     "execution_count": 35,
     "metadata": {},
     "output_type": "execute_result"
    }
   ],
   "source": [
    "# scale new Customer data\n",
    "newCustomer['zMonthlyCharge'] = (newCustomer['MonthlyCharge'] - cleanData['MonthlyCharge'].mean() ) / cleanData['MonthlyCharge'].std()\n",
    "newCustomer['zTenure'] =  (newCustomer['Tenure'] - cleanData['Tenure'].mean() ) / cleanData['Tenure'].std()\n",
    "newCustomerNorm = newCustomer[['zTenure','zMonthlyCharge']]\n",
    "newCustomerNorm"
   ]
  },
  {
   "cell_type": "markdown",
   "id": "b1d07781",
   "metadata": {},
   "source": [
    "<div style= \"font-weight: bold;font-size: large;border-top: solid;text-transform: uppercase;\">TABLE 4-7.<span style=\"font-weight: normal;\">K-NEAREST \"TRAINING\" NEIGHBORS</span></div>"
   ]
  },
  {
   "cell_type": "code",
   "execution_count": 36,
   "id": "369e5d52",
   "metadata": {
    "scrolled": false
   },
   "outputs": [
    {
     "data": {
      "text/html": [
       "<div>\n",
       "<style scoped>\n",
       "    .dataframe tbody tr th:only-of-type {\n",
       "        vertical-align: middle;\n",
       "    }\n",
       "\n",
       "    .dataframe tbody tr th {\n",
       "        vertical-align: top;\n",
       "    }\n",
       "\n",
       "    .dataframe thead th {\n",
       "        text-align: right;\n",
       "    }\n",
       "</style>\n",
       "<table border=\"1\" class=\"dataframe\">\n",
       "  <thead>\n",
       "    <tr style=\"text-align: right;\">\n",
       "      <th></th>\n",
       "      <th>Churn</th>\n",
       "      <th>Tenure</th>\n",
       "      <th>MonthlyCharge</th>\n",
       "      <th>zTenure</th>\n",
       "      <th>zMonthlyCharge</th>\n",
       "    </tr>\n",
       "  </thead>\n",
       "  <tbody>\n",
       "    <tr>\n",
       "      <th>3009</th>\n",
       "      <td>False</td>\n",
       "      <td>1.125</td>\n",
       "      <td>169.993</td>\n",
       "      <td>-1.263</td>\n",
       "      <td>-0.061</td>\n",
       "    </tr>\n",
       "    <tr>\n",
       "      <th>2241</th>\n",
       "      <td>True</td>\n",
       "      <td>1.198</td>\n",
       "      <td>169.938</td>\n",
       "      <td>-1.260</td>\n",
       "      <td>-0.063</td>\n",
       "    </tr>\n",
       "    <tr>\n",
       "      <th>557</th>\n",
       "      <td>True</td>\n",
       "      <td>1.411</td>\n",
       "      <td>169.938</td>\n",
       "      <td>-1.252</td>\n",
       "      <td>-0.063</td>\n",
       "    </tr>\n",
       "    <tr>\n",
       "      <th>2855</th>\n",
       "      <td>True</td>\n",
       "      <td>1.462</td>\n",
       "      <td>169.945</td>\n",
       "      <td>-1.250</td>\n",
       "      <td>-0.062</td>\n",
       "    </tr>\n",
       "    <tr>\n",
       "      <th>53</th>\n",
       "      <td>True</td>\n",
       "      <td>1.553</td>\n",
       "      <td>169.945</td>\n",
       "      <td>-1.247</td>\n",
       "      <td>-0.062</td>\n",
       "    </tr>\n",
       "    <tr>\n",
       "      <th>449</th>\n",
       "      <td>False</td>\n",
       "      <td>1.715</td>\n",
       "      <td>169.993</td>\n",
       "      <td>-1.241</td>\n",
       "      <td>-0.061</td>\n",
       "    </tr>\n",
       "    <tr>\n",
       "      <th>3503</th>\n",
       "      <td>False</td>\n",
       "      <td>1.740</td>\n",
       "      <td>169.993</td>\n",
       "      <td>-1.240</td>\n",
       "      <td>-0.061</td>\n",
       "    </tr>\n",
       "  </tbody>\n",
       "</table>\n",
       "</div>"
      ],
      "text/plain": [
       "      Churn  Tenure  MonthlyCharge  zTenure  zMonthlyCharge\n",
       "3009  False   1.125        169.993   -1.263          -0.061\n",
       "2241   True   1.198        169.938   -1.260          -0.063\n",
       "557    True   1.411        169.938   -1.252          -0.063\n",
       "2855   True   1.462        169.945   -1.250          -0.062\n",
       "53     True   1.553        169.945   -1.247          -0.062\n",
       "449   False   1.715        169.993   -1.241          -0.061\n",
       "3503  False   1.740        169.993   -1.240          -0.061"
      ]
     },
     "metadata": {},
     "output_type": "display_data"
    },
    {
     "name": "stdout",
     "output_type": "stream",
     "text": [
      "Table saved to: TABLES/D209_TASK1_D2_TAB_4_7_TRAINING_NEIGHBORS.CSV\n"
     ]
    }
   ],
   "source": [
    "# use NearestNeighbors from skikit-learn to compute knn\n",
    "k=7 # determined from the hyperparameter tuning above\n",
    "knn = NearestNeighbors(n_neighbors=k)\n",
    "knn.fit(trainData.iloc[:,3:5])\n",
    "distances, indices = knn.kneighbors(newCustomerNorm)\n",
    "training_neighbors = trainData.iloc[indices[0],:]\n",
    "\n",
    "# provide training neighbors\n",
    "d = training_neighbors\n",
    "f = getFilename('TRAINING NEIGHBORS', sect='D2',\n",
    "        subfolder='tables', caption='4 7', ftype='CSV')\n",
    "d.to_csv(f, index=True, header=True)\n",
    "display(d)\n",
    "print('Table saved to: {}'.format(f))"
   ]
  },
  {
   "cell_type": "markdown",
   "id": "a787d8e4",
   "metadata": {},
   "source": [
    "<div style=\"font-family:Impact;\">Final Prediction. <span style=\"font-family: 'Courier New';font-size: 18px;color: #000000;line-height: 24px;\">Calculate final prediction using the complete set of scaled data. Select a value for k from the figure above, let's select k=7 which looks like it should have about 82% accurary. Create a list of the neighbors in order to include highlighted neighbors on the next plot.</span></div>"
   ]
  },
  {
   "cell_type": "code",
   "execution_count": 37,
   "id": "89f1ed17",
   "metadata": {
    "scrolled": false
   },
   "outputs": [
    {
     "name": "stdout",
     "output_type": "stream",
     "text": [
      "Churn prediction (k=7) for \n",
      "   Tenure  MonthlyCharge  zTenure  zMonthlyCharge\n",
      "0     1.0          170.0   -1.268          -0.061 is \n",
      "[ True]\n",
      "      Churn  Tenure  MonthlyCharge  zTenure  zMonthlyCharge\n",
      "4030   True   1.115        169.938   -1.264          -0.063\n",
      "3009  False   1.125        169.993   -1.263          -0.061\n",
      "2241   True   1.198        169.938   -1.260          -0.063\n",
      "557    True   1.411        169.938   -1.252          -0.063\n",
      "2855   True   1.462        169.945   -1.250          -0.062\n",
      "53     True   1.553        169.945   -1.247          -0.062\n",
      "951    True   1.600        169.938   -1.245          -0.063\n"
     ]
    }
   ],
   "source": [
    "# retrain with full data.\n",
    "k=7\n",
    "knn = KNeighborsClassifier(n_neighbors=k).fit(X[['zTenure','zMonthlyCharge']], y['Churn'])\n",
    "distances, indices = knn.kneighbors(newCustomerNorm)\n",
    "print('Churn prediction (k={}) for \\n{} is \\n{}'.format(k,newCustomer,knn.predict(newCustomerNorm)))\n",
    "df_neighbors = cleanData.iloc[indices[0],:]\n",
    "neighbors = df_neighbors.index\n",
    "neighbors = neighbors.to_list()\n",
    "print(df_neighbors)"
   ]
  },
  {
   "cell_type": "markdown",
   "id": "c24ffeb2",
   "metadata": {},
   "source": [
    "<div style= \"font-weight: bold;font-size: large;border-top: solid;text-transform: uppercase;\">FIGURE 4-3.<span style=\"font-weight: normal;\">FINAL CLASSIFICATION OF NEW CUSTOMER WITH NEIGHBORS (RED CIRCLES) USED TO CLASSIFY WITH THE NEIGHBOR DATA SORTED BY DISTANCE FROM NEW CUSTOMER</span></div>Include data table using .to_string() method. Adjust plot so that text does not get cut off at bottom. Ref: (1) https://stackabuse.com/how-to-iterate-over-rows-in-a-pandas-dataframe/, (2) https://www.youtube.com/watch?v=C8MT-A7Mvk4&ab_channel=KimberlyFessel"
   ]
  },
  {
   "cell_type": "code",
   "execution_count": 38,
   "id": "e1a18656",
   "metadata": {
    "scrolled": false
   },
   "outputs": [
    {
     "data": {
      "image/png": "[encoded data removed]",
      "text/plain": [
       "<Figure size 432x288 with 1 Axes>"
      ]
     },
     "metadata": {},
     "output_type": "display_data"
    }
   ],
   "source": [
    "# scatter plot using the plotDataset() helper function\n",
    "xFeature = 'MonthlyCharge' \n",
    "yFeature = 'Tenure'\n",
    "fig, ax = plt.subplots()\n",
    "plotDataset(ax, trainData, xFeature, yFeature, target, neighbors)\n",
    "plotDataset(ax, testData, xFeature, yFeature, target, neighbors, showLabel=False, facecolors='none')\n",
    "\n",
    "# plot new customer as a Star\n",
    "ax.scatter(newCustomer.MonthlyCharge, newCustomer.Tenure, marker='*',\n",
    "          label='New customer', color='red', s=270)\n",
    "\n",
    "# highlight neighbors with red circles\n",
    "if len(neighbors) > 0:\n",
    "    for n in neighbors:\n",
    "        point = cleanData.iloc[n]\n",
    "        ax.scatter(point.MonthlyCharge, point.Tenure, marker='o',\n",
    "                color='red', s=300, facecolors='none')\n",
    "\n",
    "title = 'Final Prediction with Neighbors'\n",
    "plt.title(title)\n",
    "plt.xlabel(xFeature) \n",
    "plt.ylabel(yFeature)\n",
    "\n",
    "# set axis limits centered around the new customer\n",
    "left = float(newCustomer.MonthlyCharge) - 4\n",
    "right = float(newCustomer.MonthlyCharge) + 4\n",
    "top = float(newCustomer.Tenure) - 4\n",
    "bottom = float(newCustomer.Tenure) + 3\n",
    "ax.set_xlim(160,180)\n",
    "ax.set_ylim(.8,2)\n",
    "\n",
    "handles, labels = ax.get_legend_handles_labels()\n",
    "ax.legend(handles, labels, loc='upper center', bbox_to_anchor=(0.5, -0.15),\n",
    "          fancybox=True, shadow=True, ncol=5)\n",
    "#plt.legend(loc=\"lower center\", bbox_to_anchor=(0.5, -0.15), ncol= 2)\n",
    "f = getFilename(title, sect='d2',\n",
    "        subfolder='figures', caption='4 3') # getFilename using helper\n",
    "plt.gcf().text(0, -.2, f, fontsize=14) \n",
    "\n",
    "# loop through neighbors and include neighbor as table data\n",
    "#for idx,n in enumerate(df_neighbors.iloc[:, 0:3]):\n",
    "#    plt.gcf().text(0, -.5+(.05*idx), n, fontsize=10) \n",
    "plt.gcf().text(0, -.7, df_neighbors.iloc[:, 0:3].to_string(), fontsize=14)     \n",
    "\n",
    "fig.savefig(f, dpi=150, bbox_inches='tight')\n",
    "plt.show()"
   ]
  },
  {
   "cell_type": "markdown",
   "id": "ab1fa5cc",
   "metadata": {},
   "source": [
    "<div style=\"font-family:Impact;\">Summary. <span style=\"font-family: 'Courier New';font-size: 18px;color: #000000;line-height: 24px;\">The KNN model calculated the new customer as Churn=True, with 6 of 7 neighbors with Churn=True.</span></div>"
   ]
  },
  {
   "cell_type": "markdown",
   "id": "7f7dee00",
   "metadata": {},
   "source": [
    "<h3>D3. Provide the code used to perform the classification analysis from part D2.</h3>"
   ]
  },
  {
   "cell_type": "markdown",
   "id": "70f2c3cb",
   "metadata": {},
   "source": [
    "<div style=\"font-family:Impact;\">Code. <span style=\"font-family: 'Courier New';font-size: 18px;color: #000000;line-height: 24px;\">All code and output is contained within this Jupyter notebook. The notebook file is called <b>D209_1_x.ipynb</b> and the associated PDF version is called <b>D209_1_x - Jupyter Notebook.pdf</b>.</span></div>"
   ]
  },
  {
   "cell_type": "markdown",
   "id": "a3beadbc",
   "metadata": {},
   "source": [
    "<h2>Part V: Data Summary and Implications</h2>"
   ]
  },
  {
   "cell_type": "markdown",
   "id": "b1032d96",
   "metadata": {},
   "source": [
    "<h3>E1. Explain the accuracy and the area under the curve (AUC) of your classification model.</h3>"
   ]
  },
  {
   "cell_type": "markdown",
   "id": "68f35932",
   "metadata": {},
   "source": [
    "<div style=\"font-family:Impact;\">Confusion and Classification Report. <span style=\"font-family: 'Courier New';font-size: 18px;color: #000000;line-height: 24px;\">Look at confusion and classification report to determine overall accuracy of the KNN model.</span></div>"
   ]
  },
  {
   "cell_type": "markdown",
   "id": "76e6590b",
   "metadata": {},
   "source": [
    "<div style= \"font-weight: bold;font-size: large;border-top: solid;text-transform: uppercase;\">FIGURE 5-1.<span style=\"font-weight: normal;\">CONFUSION MATRIX AND METRICS </span></div>Ref: (1) https://classeval.wordpress.com/introduction/basic-evaluation-measures/, (2) https://scikit-learn.org/stable/modules/generated/sklearn.metrics.confusion_matrix.html"
   ]
  },
  {
   "cell_type": "code",
   "execution_count": 39,
   "id": "6973f0b2",
   "metadata": {
    "scrolled": false
   },
   "outputs": [
    {
     "data": {
      "image/png": "[encoded data removed]",
      "text/plain": [
       "<Figure size 432x288 with 2 Axes>"
      ]
     },
     "metadata": {},
     "output_type": "display_data"
    }
   ],
   "source": [
    "# confusion matrix\n",
    "confusion = confusion_matrix(y_true=observed, y_pred=predicted)\n",
    "\n",
    "# create plot\n",
    "fig, ax = plt.subplots()\n",
    "ax = sns.heatmap(confusion, annot=True,\n",
    "            cmap='nipy_spectral_r', fmt='d')\n",
    "title = 'Confusion Matrix (Churn Prediction)'\n",
    "plt.title(title)\n",
    "ax.set_xlabel('Predicted');\n",
    "ax.set_ylabel('Observed'); \n",
    "ax.xaxis.set_ticklabels(['Positive', 'Negative']);\n",
    "ax.yaxis.set_ticklabels(['Positive', 'Negative']);\n",
    "\n",
    "# add filename\n",
    "f = getFilename(title, sect='E1',\n",
    "                subfolder='figures', caption='5 1') # getFilename using helper\n",
    "plt.gcf().text(0, -.1, f, fontsize=14) \n",
    "\n",
    "# add measurements\n",
    "TN, FP, FN, TP = confusion_matrix(y_true=observed, y_pred=predicted).ravel()\n",
    "P = TP + FP\n",
    "N = TN + FN\n",
    "ERR = (FP + FN) / (TP + TN + FN + FP) # Error rate\n",
    "ACC = (TP + TN) / (TP + TN + FN + FP) # Accuracy\n",
    "SN = TP / (TP + FN) # Sensitivity\n",
    "SP = TN / (TN + FP) # Specificity\n",
    "PREC = TP / (TP + FP) # Precision\n",
    "FPR = FP / (TN + FP) # False Positive Rate\n",
    "COR = TP + TN\n",
    "\n",
    "plt.gcf().text(0, -.3, 'Error rate (ERR): ' + str(ERR.round(3)), fontsize=14) \n",
    "plt.gcf().text(0, -.4, 'Accuracy (ACC): ' + str(ACC.round(3)), fontsize=14) \n",
    "plt.gcf().text(0, -.5, 'Sensitivity (SN): ' + str(SN.round(3)), fontsize=14) \n",
    "plt.gcf().text(0, -.6, 'Specificity (SP): ' + str(SP.round(3)), fontsize=14) \n",
    "plt.gcf().text(0, -.7, 'Precision (PREC): ' + str(PREC.round(3)), fontsize=14) \n",
    "plt.gcf().text(0, -.8, 'False Positive Rate (FPR): ' + str(FPR.round(3)), fontsize=14)  \n",
    "plt.gcf().text(0, -.9, 'Correct Predictions (COR): ' + str(COR.round(3)), fontsize=14)  \n",
    "\n",
    "\n",
    "# save file\n",
    "fig.savefig(f, dpi=150, bbox_inches='tight')"
   ]
  },
  {
   "cell_type": "markdown",
   "id": "4099f209",
   "metadata": {},
   "source": [
    "<div style=\"font-family:Impact;\">Receiver Operation Characteristic (ROC) ad Area Under Curve (AUC). <span style=\"font-family: 'Courier New';font-size: 18px;color: #000000;line-height: 24px;\">Calculate and plot ROC and AOUC. Add custom text annotation to the plot. </span></div>"
   ]
  },
  {
   "cell_type": "markdown",
   "id": "9e653334",
   "metadata": {},
   "source": [
    "<div style= \"font-weight: bold;font-size: large;border-top: solid;text-transform: uppercase;\">FIGURE 5-2.<span style=\"font-weight: normal;\">RECEIVER OPERATION CHARACTERISTIC (ROC)</span></div>Ref: (1) <a HREF=\"https://stackoverflow.com/questions/42435446/how-to-put-text-outside-python-plots\" target=\"_blank\" rel=\"noopener noreferrer\">https://stackoverflow.com/questions/42435446/how-to-put-text-outside-python-plots</a>, (2) <a href=\"https://scikit-learn.org/stable/auto_examples/model_selection/plot_roc.html\" target=\"_blank\" rel=\"noopener noreferrer\">https://scikit-learn.org/stable/auto_examples/model_selection/plot_roc.html</a>, (3) <a href=\"https://stackoverflow.com/questions/25009284/how-to-plot-roc-curve-in-python\" target=\"_blank\" rel=\"noopener noreferrer\">https://stackoverflow.com/questions/25009284/how-to-plot-roc-curve-in-python</a> and (4) <a href=\"https://towardsdatascience.com/understanding-auc-roc-curve-68b2303cc9c5\" target=\"_blank\" rel=\"noopener noreferrer\">https://towardsdatascience.com/understanding-auc-roc-curve-68b2303cc9c5</a>"
   ]
  },
  {
   "cell_type": "code",
   "execution_count": 40,
   "id": "bfa23431",
   "metadata": {
    "scrolled": false
   },
   "outputs": [
    {
     "data": {
      "image/png": "[encoded data removed]",
      "text/plain": [
       "<Figure size 432x288 with 1 Axes>"
      ]
     },
     "metadata": {},
     "output_type": "display_data"
    }
   ],
   "source": [
    "# calculate the fpr and tpr for all thresholds of the classification\n",
    "fpr, tpr, threshold = metrics.roc_curve(observed, predicted)\n",
    "auc = metrics.auc(fpr, tpr)\n",
    "\n",
    "# method I: plt\n",
    "fig, ax = plt.subplots()\n",
    "title = 'ROC-AUC'\n",
    "plt.title(title)\n",
    "plt.plot(fpr, tpr, 'b', label = 'AUC = %0.2f' % auc)\n",
    "plt.legend(loc = 'lower right')\n",
    "plt.plot([0, 1], [0, 1],'r--')\n",
    "plt.xlim([0, 1])\n",
    "plt.ylim([0, 1])\n",
    "plt.ylabel('True Positive Rate (TPR)')\n",
    "plt.xlabel('False Positive Rate (FPR)')\n",
    "f = getFilename(title, sect='e1',\n",
    "    subfolder='figures', caption='5 2') # getFilename using helper\n",
    "#plt.gcf().text(0, -.1, 'Area Under Curve (AUC): {:.2f}'.format(auc), fontsize=14) \n",
    "plt.gcf().text(0, -.2, f, fontsize=14) \n",
    "fig.savefig(f, dpi=150, bbox_inches='tight')\n",
    "plt.show()"
   ]
  },
  {
   "cell_type": "markdown",
   "id": "35db4d89",
   "metadata": {},
   "source": [
    "<h3>E2. Discuss the results and implications of your classification analysis.</h3>"
   ]
  },
  {
   "cell_type": "markdown",
   "id": "403937ce",
   "metadata": {},
   "source": [
    "<div style=\"font-family:Impact;\">Summary. <span style=\"font-family: 'Courier New';font-size: 18px;color: #000000;line-height: 24px;\">Looks like $1984+493 = 2477$ predictions on the diagonal were correct for an accuracy of about 82.56%. Analysis predicts 83% that the new customer is Churn=True, so, therefore, there is also the 17% chance that the new customer is actually Churn=False.</span></div>"
   ]
  },
  {
   "cell_type": "markdown",
   "id": "11b9505d",
   "metadata": {},
   "source": [
    "<h3>E3. Discuss <b>one</b> limitation of your data analysis.</h3>"
   ]
  },
  {
   "cell_type": "markdown",
   "id": "78377084",
   "metadata": {},
   "source": [
    "<div style=\"font-family:Impact;\">Limitations. <span style=\"font-family: 'Courier New';font-size: 18px;color: #000000;line-height: 24px;\">It occus to me that a new customer is new, that is, their <b>Tenure</b> will always be low compared to other existing customers. The KNN analysis will never make it to the higher <b>Tenure</b> numbers. Future study may look at other features instead such as <b>Income</b>, <b>Bandwidth_GB_Year</b>, or <b>Outage_sec_perweek</b> which may provide better insight.</span></div>"
   ]
  },
  {
   "cell_type": "markdown",
   "id": "15d65ff8",
   "metadata": {},
   "source": [
    "<h3>E4. Recommend a course of action for the real-world organizational situation from part A1 based on your results and implications discussed in part E2.</h3>"
   ]
  },
  {
   "cell_type": "markdown",
   "id": "dee820e1",
   "metadata": {},
   "source": [
    "<div style=\"font-family:Impact;\">Recommendations. <span style=\"font-family: 'Courier New';font-size: 18px;color: #000000;line-height: 24px;\">Recommend additional data analysis to determine if there are other factors besides Tenure that might be used to better predict and classify customers.</span></div>"
   ]
  },
  {
   "cell_type": "markdown",
   "id": "eba6c3c2",
   "metadata": {},
   "source": [
    "<h2>Part VI: Demonstration</h2>"
   ]
  },
  {
   "cell_type": "markdown",
   "id": "7e98641d",
   "metadata": {},
   "source": [
    "<h3>F. Provide a Panopto video recording that includes a demonstration of the functionality of the code used for the analysis and a summary of the programming environment.</h3>"
   ]
  },
  {
   "cell_type": "markdown",
   "id": "957aa032",
   "metadata": {},
   "source": [
    "<div style=\"font-family:Impact;\">Video. <span style=\"font-family: 'Courier New';font-size: 18px;color: #000000;line-height: 24px;\">Panapto video was created and is located at: <a href=\"https://wgu.edu\" target=\"_blank\" rel=\"noopner noreferrer\">https://wgu.edu</a></span></div>"
   ]
  },
  {
   "cell_type": "markdown",
   "id": "1b085f46",
   "metadata": {},
   "source": [
    "<h3>G. Record the web sources used to acquire data or segments of third-party code to support the analysis. Ensure the web sources are reliable.</h3>"
   ]
  },
  {
   "cell_type": "markdown",
   "id": "1d80097c",
   "metadata": {},
   "source": [
    "<div style=\"font-family:Impact;\">Configure Scrollbars. <span style=\"font-family: 'Courier New';font-size: 18px;color: #000000;line-height: 24px;\">Disable scrollbars in notebook.</span></div>"
   ]
  },
  {
   "cell_type": "code",
   "execution_count": 41,
   "id": "c9cbd79b",
   "metadata": {
    "scrolled": false
   },
   "outputs": [
    {
     "data": {
      "application/javascript": [
       "IPython.OutputArea.prototype._should_scroll = function(lines) {\n",
       "    return false;\n",
       "}\n"
      ],
      "text/plain": [
       "<IPython.core.display.Javascript object>"
      ]
     },
     "metadata": {},
     "output_type": "display_data"
    }
   ],
   "source": [
    "%%javascript\n",
    "IPython.OutputArea.prototype._should_scroll = function(lines) {\n",
    "    return false;\n",
    "}"
   ]
  },
  {
   "cell_type": "markdown",
   "id": "5dcfb814",
   "metadata": {},
   "source": [
    "<div style=\"font-family:Impact;\">Disable Auto Scroll. <span style=\"font-family: 'Courier New';font-size: 18px;color: #000000;line-height: 24px;\">Disable automatically scroll to bottom.</span></div>"
   ]
  },
  {
   "cell_type": "code",
   "execution_count": 42,
   "id": "03f9405c",
   "metadata": {
    "scrolled": false
   },
   "outputs": [
    {
     "data": {
      "application/javascript": [
       "require(\"notebook/js/notebook\").Notebook.prototype.scroll_to_bottom = function () {}\n"
      ],
      "text/plain": [
       "<IPython.core.display.Javascript object>"
      ]
     },
     "metadata": {},
     "output_type": "display_data"
    }
   ],
   "source": [
    "%%javascript\n",
    "require(\"notebook/js/notebook\").Notebook.prototype.scroll_to_bottom = function () {}"
   ]
  },
  {
   "cell_type": "markdown",
   "id": "cadb9c60",
   "metadata": {},
   "source": [
    "<div style=\"font-family:Impact;\">Toggle Notebook Warnings. <span style=\"font-family: 'Courier New';font-size: 18px;color: #000000;line-height: 24px;\">Use the following code to toggle warning messages in the notebook. Another piece of code courtesy of stackoverflow (2021). <a href=\"https://stackoverflow.com/questions/9031783/hide-all-warnings-in-ipython\" target=\"_blank\" rel=\"\">https://stackoverflow.com/questions/9031783/hide-all-warnings-in-ipython</a></span></div>"
   ]
  },
  {
   "cell_type": "code",
   "execution_count": 43,
   "id": "8dd3c217",
   "metadata": {
    "scrolled": false
   },
   "outputs": [
    {
     "data": {
      "text/html": [
       "<script>\n",
       "code_show_err=false; \n",
       "function code_toggle_err() {\n",
       " if (code_show_err){\n",
       " $('div.output_stderr').hide();\n",
       " } else {\n",
       " $('div.output_stderr').show();\n",
       " }\n",
       " code_show_err = !code_show_err\n",
       "} \n",
       "$( document ).ready(code_toggle_err);\n",
       "</script>\n",
       "To toggle on/off output_stderr, click <a href=\"javascript:code_toggle_err()\">here</a>."
      ],
      "text/plain": [
       "<IPython.core.display.HTML object>"
      ]
     },
     "execution_count": 43,
     "metadata": {},
     "output_type": "execute_result"
    }
   ],
   "source": [
    "from IPython.display import HTML\n",
    "HTML('''<script>\n",
    "code_show_err=false; \n",
    "function code_toggle_err() {\n",
    " if (code_show_err){\n",
    " $('div.output_stderr').hide();\n",
    " } else {\n",
    " $('div.output_stderr').show();\n",
    " }\n",
    " code_show_err = !code_show_err\n",
    "} \n",
    "$( document ).ready(code_toggle_err);\n",
    "</script>\n",
    "To toggle on/off output_stderr, click <a href=\"javascript:code_toggle_err()\">here</a>.''')"
   ]
  },
  {
   "cell_type": "markdown",
   "id": "ce25934f",
   "metadata": {},
   "source": [
    "<div style=\"font-family:Impact;\">Terminal List Files. <span style=\"font-family: 'Courier New';font-size: 18px;color: #000000;line-height: 24px;\">List all of the  files from the current working directory. Ref: (1) <a href=\"https://www.youtube.com/watch?v=C8MT-A7Mvk4&ab_channel=KimberlyFessel\" target=\"_blank\" rel=\"https://www.youtube.com/watch?v=C8MT-A7Mvk4&ab_channel=KimberlyFessel\">Fessel, K. (2021). How to save a matplotlib figure and fix text cutting off || Matplotlib Tips</a> Retrieved from https://www.youtube.com/watch?v=C8MT-A7Mvk4&ab_channel=KimberlyFessel</span></div>"
   ]
  },
  {
   "cell_type": "code",
   "execution_count": 44,
   "id": "6f0f3d43",
   "metadata": {
    "scrolled": false
   },
   "outputs": [
    {
     "name": "stderr",
     "output_type": "stream",
     "text": [
      "'ls' is not recognized as an internal or external command,\n",
      "operable program or batch file.\n"
     ]
    }
   ],
   "source": [
    "!ls"
   ]
  },
  {
   "cell_type": "code",
   "execution_count": 45,
   "id": "53e25534",
   "metadata": {
    "scrolled": false
   },
   "outputs": [
    {
     "name": "stderr",
     "output_type": "stream",
     "text": [
      "'du' is not recognized as an internal or external command,\n",
      "operable program or batch file.\n"
     ]
    }
   ],
   "source": [
    "!du -h *.*"
   ]
  },
  {
   "cell_type": "markdown",
   "id": "33332c02",
   "metadata": {},
   "source": [
    "<div style=\"font-family:Impact;\">List Installed Packages. <span style=\"font-family: 'Courier New';font-size: 18px;color: #000000;line-height: 24px;\">List of all installed PIP packages and the versions.</div>Ref: (1) https://pip.pypa.io/en/stable/cli/pip_list/"
   ]
  },
  {
   "cell_type": "code",
   "execution_count": 46,
   "id": "0a66678a",
   "metadata": {
    "scrolled": false
   },
   "outputs": [
    {
     "name": "stdout",
     "output_type": "stream",
     "text": [
      "Package                           Version\n",
      "--------------------------------- ---------\n",
      "anyio                             3.3.4\n",
      "argon2-cffi                       21.1.0\n",
      "attrs                             21.2.0\n",
      "Babel                             2.9.1\n",
      "backcall                          0.2.0\n",
      "bleach                            4.1.0\n",
      "certifi                           2021.10.8\n",
      "cffi                              1.15.0\n",
      "charset-normalizer                2.0.7\n",
      "colorama                          0.4.4\n",
      "cycler                            0.10.0\n",
      "debugpy                           1.5.1\n",
      "decorator                         5.1.0\n",
      "defusedxml                        0.7.1\n",
      "entrypoints                       0.3\n",
      "enum34                            1.1.10\n",
      "idna                              3.3\n",
      "ipykernel                         6.4.2\n",
      "ipython                           7.28.0\n",
      "ipython-genutils                  0.2.0\n",
      "jedi                              0.18.0\n",
      "Jinja2                            3.0.2\n",
      "joblib                            1.1.0\n",
      "json5                             0.9.6\n",
      "jsonschema                        4.1.2\n",
      "jupyter-client                    7.0.6\n",
      "jupyter-contrib-core              0.3.3\n",
      "jupyter-contrib-nbextensions      0.5.1\n",
      "jupyter-core                      4.8.1\n",
      "jupyter-highlight-selected-word   0.2.0\n",
      "jupyter-latex-envs                1.4.6\n",
      "jupyter-nbextensions-configurator 0.4.1\n",
      "jupyter-server                    1.11.1\n",
      "jupyterlab                        3.2.1\n",
      "jupyterlab-pygments               0.1.2\n",
      "jupyterlab-server                 2.8.2\n",
      "kiwisolver                        1.3.2\n",
      "lxml                              4.6.3\n",
      "MarkupSafe                        2.0.1\n",
      "matplotlib                        3.4.3\n",
      "matplotlib-inline                 0.1.3\n",
      "mistune                           0.8.4\n",
      "nbclassic                         0.3.3\n",
      "nbclient                          0.5.4\n",
      "nbconvert                         6.2.0\n",
      "nbformat                          5.1.3\n",
      "nest-asyncio                      1.5.1\n",
      "notebook                          6.4.5\n",
      "numpy                             1.21.3\n",
      "packaging                         21.0\n",
      "pandas                            1.3.4\n",
      "pandas-ml                         0.6.1\n",
      "pandocfilters                     1.5.0\n",
      "parso                             0.8.2\n",
      "pickleshare                       0.7.5\n",
      "Pillow                            8.4.0\n",
      "pip                               21.3.1\n",
      "prometheus-client                 0.11.0\n",
      "prompt-toolkit                    3.0.21\n",
      "pycparser                         2.20\n",
      "Pygments                          2.10.0\n",
      "pyparsing                         3.0.1\n",
      "pyrsistent                        0.18.0\n",
      "python-dateutil                   2.8.2\n",
      "pytz                              2021.3\n",
      "pywin32                           302\n",
      "pywinpty                          1.1.4\n",
      "PyYAML                            6.0\n",
      "pyzmq                             22.3.0\n",
      "requests                          2.26.0\n",
      "requests-unixsocket               0.2.0\n",
      "scikit-learn                      1.0.1\n",
      "scipy                             1.7.1\n",
      "seaborn                           0.11.2\n",
      "Send2Trash                        1.8.0\n",
      "setuptools                        57.4.0\n",
      "six                               1.16.0\n",
      "sklearn                           0.0\n",
      "sniffio                           1.2.0\n",
      "terminado                         0.12.1\n",
      "testpath                          0.5.0\n",
      "threadpoolctl                     3.0.0\n",
      "tornado                           6.1\n",
      "traitlets                         5.1.1\n",
      "urllib3                           1.26.7\n",
      "wcwidth                           0.2.5\n",
      "webencodings                      0.5.1\n",
      "websocket-client                  1.2.1\n"
     ]
    }
   ],
   "source": [
    "!pip list"
   ]
  },
  {
   "cell_type": "markdown",
   "id": "696eba1c",
   "metadata": {},
   "source": [
    "<div class=\"impact\" data-hdr=\"UPDATE PACKAGE WITHIN NOTEBOOK\">Update a specific package within notebook.</div>Ref: (1) https://stackoverflow.com/questions/54453219/why-can-i-see-pip-list-sklearn-but-not-in-jupyter-when-i-run-a-code"
   ]
  },
  {
   "cell_type": "code",
   "execution_count": 47,
   "id": "690c9c60",
   "metadata": {
    "scrolled": false
   },
   "outputs": [
    {
     "name": "stdout",
     "output_type": "stream",
     "text": [
      "Requirement already satisfied: scikit-learn in p:\\code\\venv\\lib\\site-packages (1.0.1)\n",
      "Requirement already satisfied: threadpoolctl>=2.0.0 in p:\\code\\venv\\lib\\site-packages (from scikit-learn) (3.0.0)\n",
      "Requirement already satisfied: joblib>=0.11 in p:\\code\\venv\\lib\\site-packages (from scikit-learn) (1.1.0)\n",
      "Requirement already satisfied: numpy>=1.14.6 in p:\\code\\venv\\lib\\site-packages (from scikit-learn) (1.21.3)\n",
      "Requirement already satisfied: scipy>=1.1.0 in p:\\code\\venv\\lib\\site-packages (from scikit-learn) (1.7.1)\n"
     ]
    }
   ],
   "source": [
    "!python -m pip install -U scikit-learn"
   ]
  },
  {
   "cell_type": "markdown",
   "id": "2ea4e5e3",
   "metadata": {},
   "source": [
    "<div style=\"font-family:Impact;\">Merget Two Dataframes. <span style=\"font-family: 'Courier New';font-size: 18px;color: #000000;line-height: 24px;\">Code to merge two dataframes. Ref: (1) https://stackoverflow.com/questions/26265819/how-to-merge-a-series-and-dataframe</span></div>"
   ]
  },
  {
   "cell_type": "code",
   "execution_count": 48,
   "id": "21b361eb",
   "metadata": {
    "scrolled": false
   },
   "outputs": [
    {
     "data": {
      "text/html": [
       "<div>\n",
       "<style scoped>\n",
       "    .dataframe tbody tr th:only-of-type {\n",
       "        vertical-align: middle;\n",
       "    }\n",
       "\n",
       "    .dataframe tbody tr th {\n",
       "        vertical-align: top;\n",
       "    }\n",
       "\n",
       "    .dataframe thead th {\n",
       "        text-align: right;\n",
       "    }\n",
       "</style>\n",
       "<table border=\"1\" class=\"dataframe\">\n",
       "  <thead>\n",
       "    <tr style=\"text-align: right;\">\n",
       "      <th></th>\n",
       "      <th>Tenure</th>\n",
       "      <th>MonthlyCharge</th>\n",
       "      <th>zTenure</th>\n",
       "      <th>zMonthlyCharge</th>\n",
       "      <th>Churn</th>\n",
       "    </tr>\n",
       "  </thead>\n",
       "  <tbody>\n",
       "    <tr>\n",
       "      <th>0</th>\n",
       "      <td>6.796</td>\n",
       "      <td>172.456</td>\n",
       "      <td>-1.049</td>\n",
       "      <td>-0.004</td>\n",
       "      <td>False</td>\n",
       "    </tr>\n",
       "    <tr>\n",
       "      <th>1</th>\n",
       "      <td>1.157</td>\n",
       "      <td>242.633</td>\n",
       "      <td>-1.262</td>\n",
       "      <td>1.630</td>\n",
       "      <td>True</td>\n",
       "    </tr>\n",
       "    <tr>\n",
       "      <th>2</th>\n",
       "      <td>15.754</td>\n",
       "      <td>159.948</td>\n",
       "      <td>-0.710</td>\n",
       "      <td>-0.295</td>\n",
       "      <td>False</td>\n",
       "    </tr>\n",
       "    <tr>\n",
       "      <th>3</th>\n",
       "      <td>17.087</td>\n",
       "      <td>119.957</td>\n",
       "      <td>-0.659</td>\n",
       "      <td>-1.226</td>\n",
       "      <td>False</td>\n",
       "    </tr>\n",
       "    <tr>\n",
       "      <th>4</th>\n",
       "      <td>1.671</td>\n",
       "      <td>149.948</td>\n",
       "      <td>-1.242</td>\n",
       "      <td>-0.528</td>\n",
       "      <td>True</td>\n",
       "    </tr>\n",
       "  </tbody>\n",
       "</table>\n",
       "</div>"
      ],
      "text/plain": [
       "   Tenure  MonthlyCharge  zTenure  zMonthlyCharge  Churn\n",
       "0   6.796        172.456   -1.049          -0.004  False\n",
       "1   1.157        242.633   -1.262           1.630   True\n",
       "2  15.754        159.948   -0.710          -0.295  False\n",
       "3  17.087        119.957   -0.659          -1.226  False\n",
       "4   1.671        149.948   -1.242          -0.528   True"
      ]
     },
     "metadata": {},
     "output_type": "display_data"
    }
   ],
   "source": [
    "# merge X and y back together, for example\n",
    "d = X.merge(y, left_index=True, right_index=True)\n",
    "display(d.head())"
   ]
  },
  {
   "cell_type": "markdown",
   "id": "98dc16e8",
   "metadata": {},
   "source": [
    "<div style=\"font-family:Impact;\">List .index() Function. <span style=\"font-family: 'Courier New';font-size: 18px;color: #000000;line-height: 24px;\">The .index() method returns the index of the specified element in the list. Ref: (1) https://www.programiz.com/python-programming/methods/list/index</span></div>"
   ]
  },
  {
   "cell_type": "code",
   "execution_count": 49,
   "id": "28792b2a",
   "metadata": {
    "scrolled": false
   },
   "outputs": [
    {
     "name": "stdout",
     "output_type": "stream",
     "text": [
      "1\n"
     ]
    }
   ],
   "source": [
    "animals = ['cat', 'dog', 'rabbit', 'horse']\n",
    "# get the index of 'dog'\n",
    "index = animals.index('dog')\n",
    "print(index)"
   ]
  },
  {
   "cell_type": "markdown",
   "id": "19ca20d3",
   "metadata": {},
   "source": [
    "<div style=\"font-family:Impact;\">Row Index Names in Pandas. <span style=\"font-family: 'Courier New';font-size: 18px;color: #000000;line-height: 24px;\">Code to get rows/index names in a Pandas dataframe. Ref: (1) https://www.geeksforgeeks.org/how-to-get-rows-index-names-in-pandas-dataframe/</span></div>"
   ]
  },
  {
   "cell_type": "code",
   "execution_count": 50,
   "id": "65167a7e",
   "metadata": {
    "scrolled": false
   },
   "outputs": [
    {
     "name": "stdout",
     "output_type": "stream",
     "text": [
      "0 1 2 3 4 "
     ]
    }
   ],
   "source": [
    "# making data frame \n",
    "data = cleanData\n",
    "  \n",
    "# calling head() method  \n",
    "# storing in new variable \n",
    "data_top = data.head() \n",
    "    \n",
    "# iterating the columns\n",
    "for row in data_top.index:\n",
    "    print(row, end = \" \")"
   ]
  },
  {
   "cell_type": "markdown",
   "id": "c3838ecb",
   "metadata": {},
   "source": [
    "<div style=\"font-family:Impact;\">Tutorial Python Subplots. <span style=\"font-family: 'Courier New';font-size: 18px;color: #000000;line-height: 24px;\">Tutorial: Python Subplots Ref: (1) https://www.kaggle.com/asimislam/tutorial-python-subplots</span></div>"
   ]
  },
  {
   "cell_type": "code",
   "execution_count": 51,
   "id": "4a438956",
   "metadata": {
    "scrolled": false
   },
   "outputs": [
    {
     "data": {
      "image/png": "[encoded data removed]",
      "text/plain": [
       "<Figure size 1008x720 with 1 Axes>"
      ]
     },
     "metadata": {},
     "output_type": "display_data"
    }
   ],
   "source": [
    "#  Categorical Data\n",
    "heart_CAT = ['Churn']\n",
    "\n",
    "#  Categorical Data\n",
    "a = 2  # number of rows\n",
    "b = 3  # number of columns\n",
    "c = 1  # initialize plot counter\n",
    "\n",
    "fig = plt.figure(figsize=(14,10))\n",
    "\n",
    "for i in heart_CAT:\n",
    "    plt.subplot(a, b, c)\n",
    "    plt.title('{}, subplot: {}{}{}'.format(i, a, b, c))\n",
    "    plt.xlabel(i)\n",
    "    sns.countplot(x=i, data=cleanData, palette='hls')\n",
    "    c = c + 1\n",
    "\n",
    "plt.show()"
   ]
  },
  {
   "cell_type": "markdown",
   "id": "d8a16c4c",
   "metadata": {},
   "source": [
    "<div style=\"font-family:Impact;\">PASS FIG TO CUSTOM PLOT FUNCTION. <span style=\"font-family: 'Courier New';font-size: 18px;color: #000000;line-height: 24px;\">A great way to do this is to pass a figure object to your code and have your function add an axis then return the updated figure. Here is an example: Ref: (1) https://stackoverflow.com/questions/43925337/matplotlib-returning-a-plot-object</span></div>"
   ]
  },
  {
   "cell_type": "code",
   "execution_count": 52,
   "id": "049ebdc9",
   "metadata": {
    "scrolled": false
   },
   "outputs": [
    {
     "data": {
      "image/png": "[encoded data removed]",
      "text/plain": [
       "<Figure size 432x360 with 1 Axes>"
      ]
     },
     "metadata": {},
     "output_type": "display_data"
    },
    {
     "data": {
      "image/png": "[encoded data removed]",
      "text/plain": [
       "<Figure size 432x360 with 1 Axes>"
      ]
     },
     "metadata": {},
     "output_type": "display_data"
    }
   ],
   "source": [
    "def plot_hist_overlay(feature, fig, p, bins=8):\n",
    "\n",
    "    # data\n",
    "    df_yes = cleanData[cleanData.Churn==True][feature]\n",
    "    df_no = cleanData[cleanData.Churn==False][feature]\n",
    "    \n",
    "    # plot stacked hist\n",
    "    ax = f.add_subplot() # here is where you add the subplot to f\n",
    "    plt.hist([df_yes,df_no], bins=bins, stacked=True)\n",
    "    \n",
    "    # add title\n",
    "    plt.title(feature + ' grouped by target', size=16)\n",
    "    \n",
    "    # tick marks\n",
    "    ax.set_xticks([])\n",
    "    #ax.set_yticks([]) # use default\n",
    "    \n",
    "    # add axis labels\n",
    "    plt.xlabel(feature)\n",
    "    plt.ylabel('# Churn')\n",
    "    \n",
    "    # add legend\n",
    "    ax.legend(['Churn - Yes','Churn - No'])\n",
    "\n",
    "    return(f)\n",
    "\n",
    "target = 'Churn'\n",
    "features = ['MonthlyCharge','Tenure']\n",
    "bins = 6\n",
    "for idx,fea in enumerate(features):\n",
    "    fig_size = (6,5)\n",
    "    f = plt.figure(figsize=fig_size)\n",
    "    f = plot_hist_overlay(fea, fig=f, p=idx+1, bins=bins)\n",
    "    file = getFilename(fea, 'z1','fig 9 ' + str(idx+1)) # getFilename using helper\n",
    "    plt.gcf().text(0.1, 0, file, fontsize=14) \n",
    "    \n",
    "    # data table\n",
    "    b = pd.cut(cleanData[fea], bins=bins) # create bins (b) of numeric feature\n",
    "    dt = pd.crosstab(cleanData[target], b)\n",
    "    plt.gcf().text(0.1, -.4, dt.T.to_string(), fontsize=14)\n",
    "    #print(dt.T)\n",
    "    \n",
    "    f.savefig(file, dpi=150, bbox_inches='tight')\n",
    "\n",
    "#f = plot_hist_overlay('MonthlyCharge', fig=f, p=3)\n",
    "#f = plot_hist_overlay('Tenure', fig=f, p=2)"
   ]
  },
  {
   "cell_type": "markdown",
   "id": "a6de381e",
   "metadata": {},
   "source": [
    "<div style=\"font-family:Impact;\">Enabling Jupyter Notebook extensions. <span style=\"font-family: 'Courier New';font-size: 18px;color: #000000;line-height: 24px;\"> Ref: (1) https://tljh.jupyter.org/en/latest/howto/admin/enable-extensions.html</span></div>"
   ]
  },
  {
   "cell_type": "raw",
   "id": "ba7621f0",
   "metadata": {},
   "source": [
    "pip install jupyter_contrib_nbextensions\n",
    "jupyter contrib nbextension install --sys-prefix\n",
    "jupyter nbextension enable scratchpad/main --sys-prefix\n",
    "jupyter nbextension list"
   ]
  },
  {
   "cell_type": "markdown",
   "id": "dc5f82c4",
   "metadata": {},
   "source": [
    "<div style=\"font-family:Impact;\">How to Use HTML to Open a Link in a New Tab. <span style=\"font-family: 'Courier New';font-size: 18px;color: #000000;line-height: 24px;\"> Ref: (1)https://www.freecodecamp.org/news/how-to-use-html-to-open-link-in-new-tab/</span></div>"
   ]
  },
  {
   "cell_type": "raw",
   "id": "519b20a7",
   "metadata": {},
   "source": [
    "<p>Check out <a href=\"https://www.freecodecamp.org/\" target=\"_blank\" rel=\"noopener noreferrer\">freeCodeCamp</a>.</p>"
   ]
  },
  {
   "cell_type": "markdown",
   "id": "0cece9f9",
   "metadata": {},
   "source": [
    "<div style=\"font-family:Impact;\">CSS Tutorial. <span style=\"font-family: 'Courier New';font-size: 18px;color: #000000;line-height: 24px;\"> This is a great resource for CSS code with many examples. Ref: (1)https://www.w3schools.com/css/default.asp</span></div>"
   ]
  },
  {
   "cell_type": "markdown",
   "id": "d166dc64",
   "metadata": {},
   "source": [
    "<div style=\"font-family:Impact;\">HTML Tutorial. <span style=\"font-family: 'Courier New';font-size: 18px;color: #000000;line-height: 24px;\"> This is a great resource for HTML code with many examples. Ref: (1)https://www.w3schools.com/html/default.asp</span></div>"
   ]
  },
  {
   "cell_type": "markdown",
   "id": "f4056110",
   "metadata": {},
   "source": [
    "<div style=\"font-family:Impact;\">Inline Styles in HTML. <span style=\"font-family: 'Courier New';font-size: 18px;color: #000000;line-height: 24px;\"> Usually, CSS is written in a separate CSS file (with file extension .css) or in a 'style' tag inside of the 'head' tag, but there is a third place which is also valid. The third place you can write CSS is inside of an HTML tag, using the style attribute. When CSS is written using the style attribute, it’s called an “inline style”. In general, this is not considered a best practice. However, there are times when inline styles are the right (or only) choice. Ref: (1) https://www.codecademy.com/articles/html-inline-styles</span></div>"
   ]
  },
  {
   "cell_type": "markdown",
   "id": "9f4d04f6",
   "metadata": {},
   "source": [
    "<h3>H. Acknowledge sources, using in-text citations and references, for content that is quoted, paraphrased, or summarized.</h3>"
   ]
  },
  {
   "cell_type": "markdown",
   "id": "19e3e4b4",
   "metadata": {},
   "source": [
    "<div style=\"font-family:Impact;\">Deitel, P. +<span style=\"font-family: 'Courier New';font-size: 18px;color: #000000;line-height: 24px;\">(2020). Intro to Python for Computer Science and Data Science: Learning to Program with AI, Big Data and the Cloud</span></div>"
   ]
  },
  {
   "cell_type": "markdown",
   "id": "11304439",
   "metadata": {},
   "source": [
    "<div style=\"font-family:Impact;\">Geron, A.<span style=\"font-family: 'Courier New';font-size: 18px;color: #000000;line-height: 24px;\">(2019). Hands-on Machine Learning with Scikit-Learn, Keras and TensorFlow: Concepts, Tools and Techniques to Build Intelligent Systems</span></div>"
   ]
  },
  {
   "cell_type": "markdown",
   "id": "fb336848",
   "metadata": {},
   "source": [
    "<div style=\"font-family:Impact;\">Rite, S.<span style=\"font-family: 'Courier New';font-size: 18px;color: #000000;line-height: 24px;\">(2018). Demystifying ‘Confusion Matrix’ Confusion</span></div>https://towardsdatascience.com/demystifying-confusion-matrix-confusion-9e82201592fd"
   ]
  },
  {
   "cell_type": "markdown",
   "id": "378a9af5",
   "metadata": {},
   "source": [
    "<div style=\"font-family:Impact;\">Robinson, S. <span style=\"font-family: 'Courier New';font-size: 18px;color: #000000;line-height: 24px;\">(2021). K-Nearest Neighbors Algorithm in Python and Scikit-Learn</span></div>https://stackabuse.com/k-nearest-neighbors-algorithm-in-python-and-scikit-learn/"
   ]
  },
  {
   "cell_type": "markdown",
   "id": "fe724a0a",
   "metadata": {},
   "source": [
    "<div style=\"font-family:Impact;\">Sharma, A.<span style=\"font-family: 'Courier New';font-size: 18px;color: #000000;line-height: 24px;\">(2021). K-Nearest Neighbors (KNN) on Customer Churn Data</span></div>https://medium.com/data-science-on-customer-churn-data/k-nearest-neighbors-knn-on-customer-churn-data-40e9b2bb9266"
   ]
  },
  {
   "cell_type": "markdown",
   "id": "1bcd7667",
   "metadata": {},
   "source": [
    "<div style=\"font-family:Impact;\">Shmueli, G. +<span style=\"font-family: 'Courier New';font-size: 18px;color: #000000;line-height: 24px;\">(2020). Data Mining for Business Analytics: Concepts, Techniques, and Application in Python</span></div>"
   ]
  },
  {
   "cell_type": "code",
   "execution_count": null,
   "id": "bc00937e",
   "metadata": {},
   "outputs": [],
   "source": []
  }
 ],
 "metadata": {
  "kernelspec": {
   "display_name": "py39",
   "language": "python",
   "name": "py39"
  },
  "language_info": {
   "codemirror_mode": {
    "name": "ipython",
    "version": 3
   },
   "file_extension": ".py",
   "mimetype": "text/x-python",
   "name": "python",
   "nbconvert_exporter": "python",
   "pygments_lexer": "ipython3",
   "version": "3.9.7"
  },
  "toc": {
   "base_numbering": 1,
   "nav_menu": {},
   "number_sections": false,
   "sideBar": true,
   "skip_h1_title": true,
   "title_cell": "Table of Contents",
   "title_sidebar": "Contents",
   "toc_cell": false,
   "toc_position": {
    "height": "calc(100% - 180px)",
    "left": "10px",
    "top": "150px",
    "width": "212px"
   },
   "toc_section_display": true,
   "toc_window_display": true
  }
 },
 "nbformat": 4,
 "nbformat_minor": 5
}
