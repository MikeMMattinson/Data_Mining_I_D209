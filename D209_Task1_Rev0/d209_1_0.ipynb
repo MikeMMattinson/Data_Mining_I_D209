{
 "cells": [
  {
   "cell_type": "markdown",
   "metadata": {},
   "source": [
    "# WGU D209 TASK 1 REV 0 - MATTINSON"
   ]
  },
  {
   "cell_type": "markdown",
   "metadata": {},
   "source": [
    "<div class=\"title\">\n",
    "    KNN Classification Using Churn Data<br>\n",
    "    Mike Mattinson<br>\n",
    "    Master of Science, Data Analytics, WGU.edu<br>\n",
    "    D209: Data Mining I<br>\n",
    "    Dr. Festus Elleh<br>\n",
    "    October 14, 2021<br>\n",
    "</div>"
   ]
  },
  {
   "cell_type": "markdown",
   "metadata": {},
   "source": [
    "<div class=\"impact\" data-hdr=\"Abstract\">This paper provides the _____.</div>"
   ]
  },
  {
   "cell_type": "markdown",
   "metadata": {},
   "source": [
    "<div class=\"impact\" data-hdr=\"Keywords\">Customer churn prediction. Data Mining. K-Nearest Neighbors (KNN).</div>"
   ]
  },
  {
   "cell_type": "markdown",
   "metadata": {},
   "source": [
    "<div class=\"impact\" data-hdr=\"Partial Reuse\">Portions of this notebook have been reused from previous WGU course work.</div>"
   ]
  },
  {
   "cell_type": "markdown",
   "metadata": {},
   "source": [
    "<div class=\"apa\" data-author=\"Mattinson, M.\" data-date=\"2021, September\" data-url=\"wgu.edu\">WGU D208 TASK 1 REV 8 - MATTINSON</div>"
   ]
  },
  {
   "cell_type": "markdown",
   "metadata": {},
   "source": [
    "<div class=\"apa\" data-author=\"Mattinson, M.\" data-date=\"2021, October\" data-url=\"wgu.edu\">WGU D208 TASK 2 REV 3 - MATTINSON</div>"
   ]
  },
  {
   "cell_type": "markdown",
   "metadata": {},
   "source": [
    "<div class=\"impact\" data-hdr=\"Apply Custom Notebook Styles\">\n",
    "   Apply custom .css styles to the notebook.\n",
    "    </div>"
   ]
  },
  {
   "cell_type": "code",
   "execution_count": 1,
   "metadata": {
    "scrolled": true
   },
   "outputs": [
    {
     "name": "stdout",
     "output_type": "stream",
     "text": [
      "custom styles are found in custom.css\n"
     ]
    },
    {
     "data": {
      "text/html": [
       "<style>\n",
       "\n",
       "body {\n",
       "    counter-reset: part-counter 0;\n",
       "}\n",
       "\n",
       "h1 {\n",
       "    margin: 0 0 0 0;\n",
       "    font-family: 'Times New Roman', serif;\n",
       "    font-size: 40px;\n",
       "    padding: 5px;\n",
       "    text-transform: uppercase;\n",
       "    letter-spacing: 5px;\n",
       "    color: #0000ff;\n",
       "}\n",
       "\n",
       ".part {\n",
       "    margin: 0 0 0 0;\n",
       "    font-family: 'Impact';\n",
       "    font-size: 20px;\n",
       "    padding: 5px;\n",
       "    text-transform: uppercase;\n",
       "    letter-spacing: 5px;\n",
       "    color: #000000;\n",
       "    background: inherit;\n",
       "}\n",
       "\n",
       ".part:before {\n",
       "    counter-increment: part-counter;\n",
       "    content: \"Part \" counter(part-counter, upper-roman)\": \";\n",
       "}\n",
       "\n",
       "h2 {\n",
       "    margin: 0 0 0 0;\n",
       "    font-family: 'Times New Roman', serif;\n",
       "    font-size: 36px;\n",
       "    padding: 5px;\n",
       "    text-transform: uppercase;\n",
       "    letter-spacing: 5px;\n",
       "    color: #0000ff;\n",
       "    background: inherit;\n",
       "\n",
       "}\n",
       "\n",
       "h2:before {\n",
       "    content: attr(data-nbr)\". \";\n",
       "}\n",
       "\n",
       "\n",
       "h3 {\n",
       "    background: #E6EFFA;\n",
       "    font-family: 'Impact';\n",
       "    font-size: 100%;\n",
       "    text-align: center;\n",
       "    text-transform: uppercase;\n",
       "    padding: 5px 0;\n",
       "\n",
       "}\n",
       "\n",
       ".title {\n",
       "    text-align: center; \n",
       "    line-height: 48px;\n",
       "    font-size: 20px; \n",
       "}\n",
       "\n",
       ".quote {\n",
       "    padding: 10px;\n",
       "    border: 1px groove gray;\n",
       "    background-color: rgb(202, 197, 198);\n",
       "}\n",
       "\n",
       ".impact {\n",
       "    font-family: 'Courier New';\n",
       "    font-size: 18px; \n",
       "    line-height: 24px;\n",
       "}\n",
       "\n",
       ".impact:before {\n",
       "    content: attr(data-hdr)\". \";\n",
       "    font-family: 'Impact';\n",
       "}\n",
       "\n",
       "p {\n",
       "    font-family: 'Courier New';\n",
       "    font-size: 18px; \n",
       "    color: #000000;\n",
       "    line-height: 24px;\n",
       "}\n",
       "\n",
       "ul.a {\n",
       "    list-style-position: outside;\n",
       "    list-style-type: upper-alpha;\n",
       "    line-height: 2.0;\n",
       "  }\n",
       "\n",
       ".apa {\n",
       "    padding-left: 4em;\n",
       "    text-indent: -4em;\n",
       "    background: powderblue;\n",
       "    font-size: 18px;\n",
       "    line-height: 2.0;\n",
       "}\n",
       "\n",
       ".apa:before {\n",
       "    content: attr(data-author) \" (\" attr(data-date) \"). \";\n",
       "}\n",
       "\n",
       ".apa:after {\n",
       "    content: \". Retrieved from: \" attr(data-url);\n",
       "}\n",
       "\n",
       "</style>"
      ],
      "text/plain": [
       "<IPython.core.display.HTML object>"
      ]
     },
     "execution_count": 1,
     "metadata": {},
     "output_type": "execute_result"
    }
   ],
   "source": [
    "# Styling notebook with custom css\n",
    "s = 'custom.css' # in the root folder\n",
    "print('custom styles are found in {}'.format(s))\n",
    "from IPython.core.display import HTML\n",
    "HTML(open(s, \"r\").read())"
   ]
  },
  {
   "cell_type": "markdown",
   "metadata": {},
   "source": [
    "<div class=\"part\">Research Question</div>"
   ]
  },
  {
   "cell_type": "markdown",
   "metadata": {},
   "source": [
    "<h2 data-nbr=\"A1\">Research Question</h2>"
   ]
  },
  {
   "cell_type": "markdown",
   "metadata": {},
   "source": [
    "<div class=\"impact\" data-hdr=\"Primary Research Question\">\n",
    "    ______ A typical services company’s revenue is maximized based on the total number of customers and how much each of those customers pay for those services. If the company charges too much, then the customer may stop the service, this is known as churn. If the company charges too little, then it will not maximize its revenue. This analysis will attempt to predict the probability of a customer’s churn (dependent variable is ‘Churn’ which is a binary categorical data) using logistic regression with high degree of accuracy based on a minimum set of predictor variables. The final set of predictor variables should include both numeric (e.g., Tenure, Child, and Income, etc.) and categorical data (e.g., Techie, Gender, and Internet Service type, etc.).\n",
    "    </div>"
   ]
  },
  {
   "cell_type": "markdown",
   "metadata": {},
   "source": [
    "<h2 data-nbr=\"A2\">Objectives and Goals</h2>"
   ]
  },
  {
   "cell_type": "markdown",
   "metadata": {},
   "source": [
    "<div class=\"impact\" data-hdr=\"Data Preparation\">Data Preparation objectives are addressed in Part III below and include the following:</div>\n",
    "<ul class=\"a\">\n",
    "    <li>Convert categorical data.\n",
    "    <li>Mitigate missing data.\n",
    "    <li>Select data required for the analysis.\n",
    "    <li>Remove data deemed unneccesary.\n",
    "    <li>Explore data.\n",
    "    <li>Visualize data.\n",
    "    <li>Provide copy of final data.\n",
    "</ul>"
   ]
  },
  {
   "cell_type": "markdown",
   "metadata": {},
   "source": [
    "<div class=\"impact\" data-hdr=\"Model Analysis\">Model Analysis objectives are addressed in Part IV below and include the following:</div>\n",
    "<ul class=\"a\">\n",
    "    <li>Eliminate predictor variables with high p-values.\n",
    "    <li>Eliminate predictor variables with high degree of multicollinearity.\n",
    "    <li>Create initial model using all the data.\n",
    "    <li>Refine model using a reduced set of the data.\n",
    "    <li>Summarize results.  \n",
    "    <li>Ensure independent and dependent variables are linear.  \n",
    "    <li>Ensure independent variables are not highly collinear\n",
    "    <li>Ensure final model residuals are normally distributed.  \n",
    "</ul>"
   ]
  },
  {
   "cell_type": "markdown",
   "metadata": {},
   "source": [
    "<div class=\"part\">\n",
    "    Method Justification\n",
    "</div>"
   ]
  },
  {
   "cell_type": "markdown",
   "metadata": {},
   "source": [
    "<h2 data-nbr=\"B1\">\n",
    "    Assumptions\n",
    "</h2>"
   ]
  },
  {
   "cell_type": "markdown",
   "metadata": {},
   "source": [
    "<div class=\"impact\" data-hdr=\"Assumptions\">According to Massaron and Boschetti (2019), the logistic regression analysis is based on the following assumptions:</div>\n",
    "<ul class=\"a\">\n",
    "    <li><b>Binary Dependent Variable</b>. Binary logistic regression requires the dependent variable to be binary.\n",
    "    <li><b>Desired Outcome</b>. For a binary regression, the factor level 1 of the dependent variable should represent\n",
    "the desired outcome.\n",
    "    <li><b>Only Meaningful Variables</b>. Only the meaningful variables should be included.\n",
    "    <li><b>Multi-Collinearity</b>. The independent variables should be independent of each other. That is, the model\n",
    "should have little or no multicollinearity. \n",
    "    <li><b>Independent Variable Linear to Log Odds</b>. The independent variables are linearly related to the log odds.\n",
    "    <li><b>Large Sample Size</b>. Logistic regression requires large sample sizes.\n",
    "</ul>"
   ]
  },
  {
   "cell_type": "markdown",
   "metadata": {},
   "source": [
    "<div class=\"apa\" data-author=\"Massaron, L., Boschetti, A.\" data-date=\"2016\" data-url=\"https://www.packtpub.com/product/regression-analysis-with-python/9781785286315\">Regression Analysis with Python</div>"
   ]
  },
  {
   "cell_type": "markdown",
   "metadata": {},
   "source": [
    "<h2 data-nbr=\"B2\">Summarize One Assumption of KNN</h2>"
   ]
  },
  {
   "cell_type": "markdown",
   "metadata": {},
   "source": [
    "<div class=\"impact\" data-hdr=\"Assumption 1\">______.</div>"
   ]
  },
  {
   "cell_type": "markdown",
   "metadata": {},
   "source": [
    "<h2 data-nbr=\"B3\">Required Packages</h2>"
   ]
  },
  {
   "cell_type": "markdown",
   "metadata": {},
   "source": [
    "The following packages are required: _____"
   ]
  },
  {
   "cell_type": "markdown",
   "metadata": {},
   "source": [
    "<div class=\"part\">Data Preparation</div>"
   ]
  },
  {
   "cell_type": "markdown",
   "metadata": {},
   "source": [
    "<h2 data-nbr=\"C1\">Describe One Goal</h2>"
   ]
  },
  {
   "cell_type": "markdown",
   "metadata": {},
   "source": [
    "<h2 data-nbr=\"C3\">Explain Each Step</h2>"
   ]
  },
  {
   "cell_type": "markdown",
   "metadata": {},
   "source": [
    "<div class=\"impact\" data-hdr=\"Select Data\">From the original data, determine which attributes fit the best for the primary research question. Load the data from the provided .csv file as a pandas dataframe.</div>"
   ]
  },
  {
   "cell_type": "markdown",
   "metadata": {},
   "source": [
    "<div class=\"impact\" data-hdr=\"Mitigate Missing Data\">Look through data for missing rows or columns. Also, look for Null or NaN values. If found, decide how best to mitigate the issue.</div>"
   ]
  },
  {
   "cell_type": "markdown",
   "metadata": {},
   "source": [
    "<div class=\"impact\" data-hdr=\"Remove Data\">Once data is determined not to be of value to the analysis, use the pandas .drop() method to remove the data.</div>"
   ]
  },
  {
   "cell_type": "markdown",
   "metadata": {},
   "source": [
    "<div class=\"impact\" data-hdr=\"Convert Categorical Data\">In order to use categorical data in the regression model, each variable must be converted into numeric dummy data. I will use pandas .get_dummies() method. This will generate new numeric variables based on the unique values and this will also remove the original attribute.</div>"
   ]
  },
  {
   "cell_type": "markdown",
   "metadata": {},
   "source": [
    "<div class=\"impact\" data-hdr=\"Explore Data\">Explore customer data by calculating traditional statistics. Look for patterns and relationships between attributes. If possible, create visualizations to add in the exploratory process.</div>"
   ]
  },
  {
   "cell_type": "markdown",
   "metadata": {},
   "source": [
    "<div class=\"impact\" data-hdr=\"Visualize Data\">Continue to explore data and their relationships using histogram, countplots, barplots and scatter plot diagrams. Use matplotlib and sns packages to generate these univariate and bivariate diagrams.</div>"
   ]
  },
  {
   "cell_type": "markdown",
   "metadata": {},
   "source": [
    "<div class=\"impact\" data-hdr=\"Import Packages\">Import and configure required math, plotting and analysis packages.</div>"
   ]
  },
  {
   "cell_type": "code",
   "execution_count": 2,
   "metadata": {
    "scrolled": true
   },
   "outputs": [],
   "source": [
    "# import standard libraries\n",
    "import numpy as np\n",
    "import scipy.stats as stats\n",
    "import statsmodels.api as sm\n",
    "import statsmodels.formula.api as smf\n",
    "from IPython.core.display import HTML\n",
    "from IPython.display import display"
   ]
  },
  {
   "cell_type": "code",
   "execution_count": 3,
   "metadata": {},
   "outputs": [],
   "source": [
    "# import and configure matplotlib\n",
    "import matplotlib.pyplot as plt\n",
    "plt.rc(\"font\", size=14)\n",
    "%matplotlib inline"
   ]
  },
  {
   "cell_type": "code",
   "execution_count": 4,
   "metadata": {},
   "outputs": [],
   "source": [
    "# import and configure sklearn\n",
    "from sklearn.metrics import confusion_matrix\n",
    "from sklearn import preprocessing\n",
    "from sklearn.decomposition import PCA\n",
    "from sklearn.linear_model import LogisticRegression\n",
    "from sklearn.model_selection import train_test_split\n",
    "from sklearn.metrics import roc_auc_score\n",
    "from sklearn.metrics import roc_curve\n",
    "from sklearn.metrics import classification_report\n",
    "from sklearn import metrics\n",
    "from sklearn.model_selection import train_test_split\n",
    "from sklearn.neighbors import KNeighborsClassifier\n",
    "from sklearn.metrics import accuracy_score"
   ]
  },
  {
   "cell_type": "code",
   "execution_count": 5,
   "metadata": {},
   "outputs": [],
   "source": [
    "# import and configure seaborn\n",
    "import seaborn as sns\n",
    "sns.set(style=\"white\")\n",
    "sns.set(style=\"whitegrid\", color_codes=True)"
   ]
  },
  {
   "cell_type": "code",
   "execution_count": 6,
   "metadata": {},
   "outputs": [],
   "source": [
    "# import and configure pandas\n",
    "import pandas as pd\n",
    "pd.set_option('precision',3)\n",
    "pd.set_option('max_columns',9)\n",
    "pd.set_option('display.width', None)"
   ]
  },
  {
   "cell_type": "markdown",
   "metadata": {},
   "source": [
    "<div class=\"impact\" data-hdr=\"Configure Scrollbars\">\n",
    "   Disable scrollbars in notebook. And, Disable automatically scroll to bottom.\n",
    "    </div>"
   ]
  },
  {
   "cell_type": "code",
   "execution_count": 37,
   "metadata": {},
   "outputs": [
    {
     "data": {
      "application/javascript": [
       "IPython.OutputArea.prototype._should_scroll = function(lines) {\n",
       "    return false;\n",
       "}\n"
      ],
      "text/plain": [
       "<IPython.core.display.Javascript object>"
      ]
     },
     "metadata": {},
     "output_type": "display_data"
    }
   ],
   "source": [
    "%%javascript\n",
    "IPython.OutputArea.prototype._should_scroll = function(lines) {\n",
    "    return false;\n",
    "}"
   ]
  },
  {
   "cell_type": "code",
   "execution_count": 38,
   "metadata": {},
   "outputs": [
    {
     "data": {
      "application/javascript": [
       "require(\"notebook/js/notebook\").Notebook.prototype.scroll_to_bottom = function () {}\n"
      ],
      "text/plain": [
       "<IPython.core.display.Javascript object>"
      ]
     },
     "metadata": {},
     "output_type": "display_data"
    }
   ],
   "source": [
    "%%javascript\n",
    "require(\"notebook/js/notebook\").Notebook.prototype.scroll_to_bottom = function () {}"
   ]
  },
  {
   "cell_type": "markdown",
   "metadata": {},
   "source": [
    "<div class=\"impact\" data-hdr=\"Toggle Warnings\">Use the following code to toggle warning messages in the notebook. Another piece of code courtesy of stackoverflow (2021).</div>"
   ]
  },
  {
   "cell_type": "code",
   "execution_count": 39,
   "metadata": {},
   "outputs": [
    {
     "data": {
      "text/html": [
       "<script>\n",
       "code_show_err=false; \n",
       "function code_toggle_err() {\n",
       " if (code_show_err){\n",
       " $('div.output_stderr').hide();\n",
       " } else {\n",
       " $('div.output_stderr').show();\n",
       " }\n",
       " code_show_err = !code_show_err\n",
       "} \n",
       "$( document ).ready(code_toggle_err);\n",
       "</script>\n",
       "To toggle on/off output_stderr, click <a href=\"javascript:code_toggle_err()\">here</a>."
      ],
      "text/plain": [
       "<IPython.core.display.HTML object>"
      ]
     },
     "execution_count": 39,
     "metadata": {},
     "output_type": "execute_result"
    }
   ],
   "source": [
    "from IPython.display import HTML\n",
    "HTML('''<script>\n",
    "code_show_err=false; \n",
    "function code_toggle_err() {\n",
    " if (code_show_err){\n",
    " $('div.output_stderr').hide();\n",
    " } else {\n",
    " $('div.output_stderr').show();\n",
    " }\n",
    " code_show_err = !code_show_err\n",
    "} \n",
    "$( document ).ready(code_toggle_err);\n",
    "</script>\n",
    "To toggle on/off output_stderr, click <a href=\"javascript:code_toggle_err()\">here</a>.''')"
   ]
  },
  {
   "cell_type": "markdown",
   "metadata": {},
   "source": [
    "<div class=\"apa\" data-author=\"Stackoverflow\" data-date=\"2021, October\" data-url=\"https://stackoverflow.com/questions/9031783/hide-all-warnings-in-ipython\">Hide all warnings in ipython</div>"
   ]
  },
  {
   "cell_type": "markdown",
   "metadata": {},
   "source": [
    "<div class=\"impact\" data-hdr=\"Helper Functions\">Here are some helper functions that will be used thoughout the notebook. The coorelation matrix helpers were developed courtesy of stackoverflow (2021).</div>"
   ]
  },
  {
   "cell_type": "markdown",
   "metadata": {},
   "source": [
    "<div class=\"impact\" data-hdr=\"Constants\">Here are a couple of global variables that will be reused thoughout the notebook.</div>"
   ]
  },
  {
   "cell_type": "code",
   "execution_count": 40,
   "metadata": {
    "scrolled": true
   },
   "outputs": [],
   "source": [
    "# constants\n",
    "COURSE = 'd209' # name of course to be added to filename of generated figures and tables.\n",
    "target = 'Churn' # this is the column name of the primary research column"
   ]
  },
  {
   "cell_type": "markdown",
   "metadata": {},
   "source": [
    "<div class=\"impact\" data-hdr=\"Raw Data\">The customer dataset as a .csv file is loaded into Python as a Pandas dataframe using the .read_csv() method. After the dataframe is created, I use the df.shape function to show number of rows and columns. To begin the analysis, I have selected to load all of the data from the .csv file.</div>"
   ]
  },
  {
   "cell_type": "code",
   "execution_count": 41,
   "metadata": {
    "scrolled": true
   },
   "outputs": [
    {
     "data": {
      "text/plain": [
       "(10000, 50)"
      ]
     },
     "execution_count": 41,
     "metadata": {},
     "output_type": "execute_result"
    }
   ],
   "source": [
    "# read csv file\n",
    "df = pd.read_csv('churn_clean.csv', header=0) # in the root folder\n",
    "df.shape"
   ]
  },
  {
   "cell_type": "markdown",
   "metadata": {},
   "source": [
    "There are 10,000 customer records with fifty (50) attributes for each customer."
   ]
  },
  {
   "cell_type": "code",
   "execution_count": 42,
   "metadata": {},
   "outputs": [
    {
     "data": {
      "text/html": [
       "<div>\n",
       "<style scoped>\n",
       "    .dataframe tbody tr th:only-of-type {\n",
       "        vertical-align: middle;\n",
       "    }\n",
       "\n",
       "    .dataframe tbody tr th {\n",
       "        vertical-align: top;\n",
       "    }\n",
       "\n",
       "    .dataframe thead th {\n",
       "        text-align: right;\n",
       "    }\n",
       "</style>\n",
       "<table border=\"1\" class=\"dataframe\">\n",
       "  <thead>\n",
       "    <tr style=\"text-align: right;\">\n",
       "      <th></th>\n",
       "      <th>0</th>\n",
       "      <th>1</th>\n",
       "    </tr>\n",
       "  </thead>\n",
       "  <tbody>\n",
       "    <tr>\n",
       "      <th>CaseOrder</th>\n",
       "      <td>1</td>\n",
       "      <td>2</td>\n",
       "    </tr>\n",
       "    <tr>\n",
       "      <th>Customer_id</th>\n",
       "      <td>K409198</td>\n",
       "      <td>S120509</td>\n",
       "    </tr>\n",
       "    <tr>\n",
       "      <th>Interaction</th>\n",
       "      <td>aa90260b-4141-4a24-8e36-b04ce1f4f77b</td>\n",
       "      <td>fb76459f-c047-4a9d-8af9-e0f7d4ac2524</td>\n",
       "    </tr>\n",
       "    <tr>\n",
       "      <th>UID</th>\n",
       "      <td>e885b299883d4f9fb18e39c75155d990</td>\n",
       "      <td>f2de8bef964785f41a2959829830fb8a</td>\n",
       "    </tr>\n",
       "    <tr>\n",
       "      <th>City</th>\n",
       "      <td>Point Baker</td>\n",
       "      <td>West Branch</td>\n",
       "    </tr>\n",
       "    <tr>\n",
       "      <th>State</th>\n",
       "      <td>AK</td>\n",
       "      <td>MI</td>\n",
       "    </tr>\n",
       "    <tr>\n",
       "      <th>County</th>\n",
       "      <td>Prince of Wales-Hyder</td>\n",
       "      <td>Ogemaw</td>\n",
       "    </tr>\n",
       "    <tr>\n",
       "      <th>Zip</th>\n",
       "      <td>99927</td>\n",
       "      <td>48661</td>\n",
       "    </tr>\n",
       "    <tr>\n",
       "      <th>Lat</th>\n",
       "      <td>56.251</td>\n",
       "      <td>44.329</td>\n",
       "    </tr>\n",
       "    <tr>\n",
       "      <th>Lng</th>\n",
       "      <td>-133.376</td>\n",
       "      <td>-84.241</td>\n",
       "    </tr>\n",
       "    <tr>\n",
       "      <th>Population</th>\n",
       "      <td>38</td>\n",
       "      <td>10446</td>\n",
       "    </tr>\n",
       "    <tr>\n",
       "      <th>Area</th>\n",
       "      <td>Urban</td>\n",
       "      <td>Urban</td>\n",
       "    </tr>\n",
       "    <tr>\n",
       "      <th>TimeZone</th>\n",
       "      <td>America/Sitka</td>\n",
       "      <td>America/Detroit</td>\n",
       "    </tr>\n",
       "    <tr>\n",
       "      <th>Job</th>\n",
       "      <td>Environmental health practitioner</td>\n",
       "      <td>Programmer, multimedia</td>\n",
       "    </tr>\n",
       "    <tr>\n",
       "      <th>Children</th>\n",
       "      <td>0</td>\n",
       "      <td>1</td>\n",
       "    </tr>\n",
       "    <tr>\n",
       "      <th>Age</th>\n",
       "      <td>68</td>\n",
       "      <td>27</td>\n",
       "    </tr>\n",
       "    <tr>\n",
       "      <th>Income</th>\n",
       "      <td>28561.99</td>\n",
       "      <td>21704.77</td>\n",
       "    </tr>\n",
       "    <tr>\n",
       "      <th>Marital</th>\n",
       "      <td>Widowed</td>\n",
       "      <td>Married</td>\n",
       "    </tr>\n",
       "    <tr>\n",
       "      <th>Gender</th>\n",
       "      <td>Male</td>\n",
       "      <td>Female</td>\n",
       "    </tr>\n",
       "    <tr>\n",
       "      <th>Churn</th>\n",
       "      <td>No</td>\n",
       "      <td>Yes</td>\n",
       "    </tr>\n",
       "    <tr>\n",
       "      <th>Outage_sec_perweek</th>\n",
       "      <td>7.978</td>\n",
       "      <td>11.699</td>\n",
       "    </tr>\n",
       "    <tr>\n",
       "      <th>Email</th>\n",
       "      <td>10</td>\n",
       "      <td>12</td>\n",
       "    </tr>\n",
       "    <tr>\n",
       "      <th>Contacts</th>\n",
       "      <td>0</td>\n",
       "      <td>0</td>\n",
       "    </tr>\n",
       "    <tr>\n",
       "      <th>Yearly_equip_failure</th>\n",
       "      <td>1</td>\n",
       "      <td>1</td>\n",
       "    </tr>\n",
       "    <tr>\n",
       "      <th>Techie</th>\n",
       "      <td>No</td>\n",
       "      <td>Yes</td>\n",
       "    </tr>\n",
       "    <tr>\n",
       "      <th>Contract</th>\n",
       "      <td>One year</td>\n",
       "      <td>Month-to-month</td>\n",
       "    </tr>\n",
       "    <tr>\n",
       "      <th>Port_modem</th>\n",
       "      <td>Yes</td>\n",
       "      <td>No</td>\n",
       "    </tr>\n",
       "    <tr>\n",
       "      <th>Tablet</th>\n",
       "      <td>Yes</td>\n",
       "      <td>Yes</td>\n",
       "    </tr>\n",
       "    <tr>\n",
       "      <th>InternetService</th>\n",
       "      <td>Fiber Optic</td>\n",
       "      <td>Fiber Optic</td>\n",
       "    </tr>\n",
       "    <tr>\n",
       "      <th>Phone</th>\n",
       "      <td>Yes</td>\n",
       "      <td>Yes</td>\n",
       "    </tr>\n",
       "    <tr>\n",
       "      <th>Multiple</th>\n",
       "      <td>No</td>\n",
       "      <td>Yes</td>\n",
       "    </tr>\n",
       "    <tr>\n",
       "      <th>OnlineSecurity</th>\n",
       "      <td>Yes</td>\n",
       "      <td>Yes</td>\n",
       "    </tr>\n",
       "    <tr>\n",
       "      <th>OnlineBackup</th>\n",
       "      <td>Yes</td>\n",
       "      <td>No</td>\n",
       "    </tr>\n",
       "    <tr>\n",
       "      <th>DeviceProtection</th>\n",
       "      <td>No</td>\n",
       "      <td>No</td>\n",
       "    </tr>\n",
       "    <tr>\n",
       "      <th>TechSupport</th>\n",
       "      <td>No</td>\n",
       "      <td>No</td>\n",
       "    </tr>\n",
       "    <tr>\n",
       "      <th>StreamingTV</th>\n",
       "      <td>No</td>\n",
       "      <td>Yes</td>\n",
       "    </tr>\n",
       "    <tr>\n",
       "      <th>StreamingMovies</th>\n",
       "      <td>Yes</td>\n",
       "      <td>Yes</td>\n",
       "    </tr>\n",
       "    <tr>\n",
       "      <th>PaperlessBilling</th>\n",
       "      <td>Yes</td>\n",
       "      <td>Yes</td>\n",
       "    </tr>\n",
       "    <tr>\n",
       "      <th>PaymentMethod</th>\n",
       "      <td>Credit Card (automatic)</td>\n",
       "      <td>Bank Transfer(automatic)</td>\n",
       "    </tr>\n",
       "    <tr>\n",
       "      <th>Tenure</th>\n",
       "      <td>6.796</td>\n",
       "      <td>1.157</td>\n",
       "    </tr>\n",
       "    <tr>\n",
       "      <th>MonthlyCharge</th>\n",
       "      <td>172.456</td>\n",
       "      <td>242.633</td>\n",
       "    </tr>\n",
       "    <tr>\n",
       "      <th>Bandwidth_GB_Year</th>\n",
       "      <td>904.536</td>\n",
       "      <td>800.983</td>\n",
       "    </tr>\n",
       "    <tr>\n",
       "      <th>Item1</th>\n",
       "      <td>5</td>\n",
       "      <td>3</td>\n",
       "    </tr>\n",
       "    <tr>\n",
       "      <th>Item2</th>\n",
       "      <td>5</td>\n",
       "      <td>4</td>\n",
       "    </tr>\n",
       "    <tr>\n",
       "      <th>Item3</th>\n",
       "      <td>5</td>\n",
       "      <td>3</td>\n",
       "    </tr>\n",
       "    <tr>\n",
       "      <th>Item4</th>\n",
       "      <td>3</td>\n",
       "      <td>3</td>\n",
       "    </tr>\n",
       "    <tr>\n",
       "      <th>Item5</th>\n",
       "      <td>4</td>\n",
       "      <td>4</td>\n",
       "    </tr>\n",
       "    <tr>\n",
       "      <th>Item6</th>\n",
       "      <td>4</td>\n",
       "      <td>3</td>\n",
       "    </tr>\n",
       "    <tr>\n",
       "      <th>Item7</th>\n",
       "      <td>3</td>\n",
       "      <td>4</td>\n",
       "    </tr>\n",
       "    <tr>\n",
       "      <th>Item8</th>\n",
       "      <td>4</td>\n",
       "      <td>4</td>\n",
       "    </tr>\n",
       "  </tbody>\n",
       "</table>\n",
       "</div>"
      ],
      "text/plain": [
       "                                                         0  \\\n",
       "CaseOrder                                                1   \n",
       "Customer_id                                        K409198   \n",
       "Interaction           aa90260b-4141-4a24-8e36-b04ce1f4f77b   \n",
       "UID                       e885b299883d4f9fb18e39c75155d990   \n",
       "City                                           Point Baker   \n",
       "State                                                   AK   \n",
       "County                               Prince of Wales-Hyder   \n",
       "Zip                                                  99927   \n",
       "Lat                                                 56.251   \n",
       "Lng                                               -133.376   \n",
       "Population                                              38   \n",
       "Area                                                 Urban   \n",
       "TimeZone                                     America/Sitka   \n",
       "Job                      Environmental health practitioner   \n",
       "Children                                                 0   \n",
       "Age                                                     68   \n",
       "Income                                            28561.99   \n",
       "Marital                                            Widowed   \n",
       "Gender                                                Male   \n",
       "Churn                                                   No   \n",
       "Outage_sec_perweek                                   7.978   \n",
       "Email                                                   10   \n",
       "Contacts                                                 0   \n",
       "Yearly_equip_failure                                     1   \n",
       "Techie                                                  No   \n",
       "Contract                                          One year   \n",
       "Port_modem                                             Yes   \n",
       "Tablet                                                 Yes   \n",
       "InternetService                                Fiber Optic   \n",
       "Phone                                                  Yes   \n",
       "Multiple                                                No   \n",
       "OnlineSecurity                                         Yes   \n",
       "OnlineBackup                                           Yes   \n",
       "DeviceProtection                                        No   \n",
       "TechSupport                                             No   \n",
       "StreamingTV                                             No   \n",
       "StreamingMovies                                        Yes   \n",
       "PaperlessBilling                                       Yes   \n",
       "PaymentMethod                      Credit Card (automatic)   \n",
       "Tenure                                               6.796   \n",
       "MonthlyCharge                                      172.456   \n",
       "Bandwidth_GB_Year                                  904.536   \n",
       "Item1                                                    5   \n",
       "Item2                                                    5   \n",
       "Item3                                                    5   \n",
       "Item4                                                    3   \n",
       "Item5                                                    4   \n",
       "Item6                                                    4   \n",
       "Item7                                                    3   \n",
       "Item8                                                    4   \n",
       "\n",
       "                                                         1  \n",
       "CaseOrder                                                2  \n",
       "Customer_id                                        S120509  \n",
       "Interaction           fb76459f-c047-4a9d-8af9-e0f7d4ac2524  \n",
       "UID                       f2de8bef964785f41a2959829830fb8a  \n",
       "City                                           West Branch  \n",
       "State                                                   MI  \n",
       "County                                              Ogemaw  \n",
       "Zip                                                  48661  \n",
       "Lat                                                 44.329  \n",
       "Lng                                                -84.241  \n",
       "Population                                           10446  \n",
       "Area                                                 Urban  \n",
       "TimeZone                                   America/Detroit  \n",
       "Job                                 Programmer, multimedia  \n",
       "Children                                                 1  \n",
       "Age                                                     27  \n",
       "Income                                            21704.77  \n",
       "Marital                                            Married  \n",
       "Gender                                              Female  \n",
       "Churn                                                  Yes  \n",
       "Outage_sec_perweek                                  11.699  \n",
       "Email                                                   12  \n",
       "Contacts                                                 0  \n",
       "Yearly_equip_failure                                     1  \n",
       "Techie                                                 Yes  \n",
       "Contract                                    Month-to-month  \n",
       "Port_modem                                              No  \n",
       "Tablet                                                 Yes  \n",
       "InternetService                                Fiber Optic  \n",
       "Phone                                                  Yes  \n",
       "Multiple                                               Yes  \n",
       "OnlineSecurity                                         Yes  \n",
       "OnlineBackup                                            No  \n",
       "DeviceProtection                                        No  \n",
       "TechSupport                                             No  \n",
       "StreamingTV                                            Yes  \n",
       "StreamingMovies                                        Yes  \n",
       "PaperlessBilling                                       Yes  \n",
       "PaymentMethod                     Bank Transfer(automatic)  \n",
       "Tenure                                               1.157  \n",
       "MonthlyCharge                                      242.633  \n",
       "Bandwidth_GB_Year                                  800.983  \n",
       "Item1                                                    3  \n",
       "Item2                                                    4  \n",
       "Item3                                                    3  \n",
       "Item4                                                    3  \n",
       "Item5                                                    4  \n",
       "Item6                                                    3  \n",
       "Item7                                                    4  \n",
       "Item8                                                    4  "
      ]
     },
     "execution_count": 42,
     "metadata": {},
     "output_type": "execute_result"
    }
   ],
   "source": [
    "# raw data\n",
    "df.head(2).T"
   ]
  },
  {
   "cell_type": "markdown",
   "metadata": {},
   "source": [
    "<div class=\"impact\" data-hdr=\"Mitigate Missing Data\">Use .info() and .isna().any() methods to view a summary of possible missing data. I do not expect to find any missing data as the dataset provided has already been cleaned.</div>"
   ]
  },
  {
   "cell_type": "code",
   "execution_count": 43,
   "metadata": {
    "scrolled": true
   },
   "outputs": [
    {
     "name": "stdout",
     "output_type": "stream",
     "text": [
      "<class 'pandas.core.frame.DataFrame'>\n",
      "RangeIndex: 10000 entries, 0 to 9999\n",
      "Empty DataFrameNone\n"
     ]
    }
   ],
   "source": [
    "# explore missing data\n",
    "missing = df[df.columns[df.isna().any()]].columns\n",
    "df_missing = df[missing]\n",
    "print(df_missing.info())"
   ]
  },
  {
   "cell_type": "markdown",
   "metadata": {},
   "source": [
    "Analysis of the raw data shows no missing data, each attribute has 10,000 non-null values. "
   ]
  },
  {
   "cell_type": "markdown",
   "metadata": {},
   "source": [
    "<div class=\"impact\" data-hdr=\"Duplicate Data\">Look for duplicate data in rows and columns. This dataset had been provided to this assignment in a very clean, ready state, so I don't expect to find anything here.</div>"
   ]
  },
  {
   "cell_type": "code",
   "execution_count": 44,
   "metadata": {
    "scrolled": true
   },
   "outputs": [
    {
     "data": {
      "text/html": [
       "<div>\n",
       "<style scoped>\n",
       "    .dataframe tbody tr th:only-of-type {\n",
       "        vertical-align: middle;\n",
       "    }\n",
       "\n",
       "    .dataframe tbody tr th {\n",
       "        vertical-align: top;\n",
       "    }\n",
       "\n",
       "    .dataframe thead th {\n",
       "        text-align: right;\n",
       "    }\n",
       "</style>\n",
       "<table border=\"1\" class=\"dataframe\">\n",
       "  <thead>\n",
       "    <tr style=\"text-align: right;\">\n",
       "      <th></th>\n",
       "      <th>CaseOrder</th>\n",
       "      <th>Customer_id</th>\n",
       "      <th>Interaction</th>\n",
       "      <th>UID</th>\n",
       "      <th>...</th>\n",
       "      <th>Item5</th>\n",
       "      <th>Item6</th>\n",
       "      <th>Item7</th>\n",
       "      <th>Item8</th>\n",
       "    </tr>\n",
       "  </thead>\n",
       "  <tbody>\n",
       "  </tbody>\n",
       "</table>\n",
       "<p>0 rows × 50 columns</p>\n",
       "</div>"
      ],
      "text/plain": [
       "Empty DataFrame\n",
       "Columns: [CaseOrder, Customer_id, Interaction, UID, City, State, County, Zip, Lat, Lng, Population, Area, TimeZone, Job, Children, Age, Income, Marital, Gender, Churn, Outage_sec_perweek, Email, Contacts, Yearly_equip_failure, Techie, Contract, Port_modem, Tablet, InternetService, Phone, Multiple, OnlineSecurity, OnlineBackup, DeviceProtection, TechSupport, StreamingTV, StreamingMovies, PaperlessBilling, PaymentMethod, Tenure, MonthlyCharge, Bandwidth_GB_Year, Item1, Item2, Item3, Item4, Item5, Item6, Item7, Item8]\n",
       "Index: []\n",
       "\n",
       "[0 rows x 50 columns]"
      ]
     },
     "execution_count": 44,
     "metadata": {},
     "output_type": "execute_result"
    }
   ],
   "source": [
    "# look for duplicate data - looking for zero rows\n",
    "df[df.duplicated()]"
   ]
  },
  {
   "cell_type": "code",
   "execution_count": 45,
   "metadata": {
    "scrolled": true
   },
   "outputs": [
    {
     "data": {
      "text/plain": [
       "False"
      ]
     },
     "execution_count": 45,
     "metadata": {},
     "output_type": "execute_result"
    }
   ],
   "source": [
    "# check if any cols are duplicated - Looking for False\n",
    "df.columns.duplicated().any()"
   ]
  },
  {
   "cell_type": "code",
   "execution_count": 46,
   "metadata": {
    "scrolled": true
   },
   "outputs": [
    {
     "data": {
      "text/plain": [
       "False"
      ]
     },
     "execution_count": 46,
     "metadata": {},
     "output_type": "execute_result"
    }
   ],
   "source": [
    "# check if any rows are duplicated - looing for False\n",
    "df.duplicated().any()"
   ]
  },
  {
   "cell_type": "markdown",
   "metadata": {},
   "source": [
    "<div class=\"impact\" data-hdr=\"Remove Data\">Identify columns that are not needed for the analysis and then use the .drop() method to remove the data. Looking at the data, I select some of the demographic data, customer identification data and the survey data to be removed.</div>"
   ]
  },
  {
   "cell_type": "code",
   "execution_count": 47,
   "metadata": {
    "scrolled": false
   },
   "outputs": [
    {
     "name": "stdout",
     "output_type": "stream",
     "text": [
      "data to be removed: ['City', 'County', 'Zip', 'Job', 'TimeZone', 'State', 'Lat', 'Lng', 'UID', 'Interaction', 'CaseOrder', 'Customer_id', 'Item1', 'Item2', 'Item3', 'Item4', 'Item5', 'Item6', 'Item7', 'Item8']\n",
      "Data named [City] has been removed.\n",
      "Data named [County] has been removed.\n",
      "Data named [Zip] has been removed.\n",
      "Data named [Job] has been removed.\n",
      "Data named [TimeZone] has been removed.\n",
      "Data named [State] has been removed.\n",
      "Data named [Lat] has been removed.\n",
      "Data named [Lng] has been removed.\n",
      "Data named [UID] has been removed.\n",
      "Data named [Interaction] has been removed.\n",
      "Data named [CaseOrder] has been removed.\n",
      "Data named [Customer_id] has been removed.\n",
      "Data named [Item1] has been removed.\n",
      "Data named [Item2] has been removed.\n",
      "Data named [Item3] has been removed.\n",
      "Data named [Item4] has been removed.\n",
      "Data named [Item5] has been removed.\n",
      "Data named [Item6] has been removed.\n",
      "Data named [Item7] has been removed.\n",
      "Data named [Item8] has been removed.\n"
     ]
    }
   ],
   "source": [
    "# drop unwanted data\n",
    "cols_to_be_removed = ['City','County','Zip','Job','TimeZone', 'State', \n",
    "            'Lat', 'Lng', 'UID','Interaction', 'CaseOrder', 'Customer_id',\n",
    "            'Item1','Item2','Item3','Item4','Item5','Item6','Item7','Item8']\n",
    "\n",
    "# print list of dropped data\n",
    "print('data to be removed: {}'.format(cols_to_be_removed))\n",
    "\n",
    "# loop through list, if in current df, drop col\n",
    "for c in cols_to_be_removed:\n",
    "    if c in df.columns:\n",
    "        df.drop(columns = c, inplace=True)\n",
    "        print('Data named [{}] has been removed.'.format(c))"
   ]
  },
  {
   "cell_type": "markdown",
   "metadata": {},
   "source": [
    "<h2 data-nbr=\"C2\">Initial Variables</h2>"
   ]
  },
  {
   "cell_type": "markdown",
   "metadata": {},
   "source": [
    "<div class=\"impact\" data-hdr=\"Numerical Data\">Excluding target data, here is the final list of input variables that are numerical: </div>"
   ]
  },
  {
   "cell_type": "code",
   "execution_count": 48,
   "metadata": {
    "scrolled": false
   },
   "outputs": [
    {
     "name": "stdout",
     "output_type": "stream",
     "text": [
      "\n",
      "Numerical data:\n",
      "\n",
      "1. Population is numerical.\n",
      "\n",
      "3. Children is numerical.\n",
      "\n",
      "4. Age is numerical.\n",
      "\n",
      "5. Income is numerical.\n",
      "\n",
      "8. Outage_sec_perweek is numerical.\n",
      "\n",
      "9. Email is numerical.\n",
      "\n",
      "10. Contacts is numerical.\n",
      "\n",
      "11. Yearly_equip_failure is numerical.\n",
      "\n",
      "27. Tenure is numerical.\n",
      "\n",
      "28. MonthlyCharge is numerical.\n",
      "\n",
      "29. Bandwidth_GB_Year is numerical.\n"
     ]
    }
   ],
   "source": [
    "# print out and describe input variables\n",
    "print('\\n{}'.format(\"Numerical data:\"))\n",
    "num_cols = df.select_dtypes(include=\"number\").columns\n",
    "for idx, c in enumerate(df.loc[:, df.columns != target]):\n",
    "    if df.dtypes[c] != \"object\":\n",
    "        print('\\n{}. {} is numerical.'.format(idx+1, c))\n",
    "        #print('{}'.format(df[c].describe().round(3)))\n",
    "        #groups = df.groupby([target, pd.cut(df[c], bins=4)])\n",
    "        #print(groups.size().unstack().T)"
   ]
  },
  {
   "cell_type": "markdown",
   "metadata": {},
   "source": [
    "<div class=\"impact\" data-hdr=\"Observations on Numerical Data\">______ </div>"
   ]
  },
  {
   "cell_type": "markdown",
   "metadata": {},
   "source": [
    "<div class=\"impact\" data-hdr=\"Categorical Data\">Excluding target data, here is the final list of input variables that are categorical: </div>"
   ]
  },
  {
   "cell_type": "code",
   "execution_count": 49,
   "metadata": {},
   "outputs": [
    {
     "name": "stdout",
     "output_type": "stream",
     "text": [
      "\n",
      "Categorical data:\n",
      "\n",
      "2. Area is categorical: ['Urban' 'Suburban' 'Rural'].\n",
      "\n",
      "6. Marital is categorical: ['Widowed' 'Married' 'Separated' 'Never Married' 'Divorced'].\n",
      "\n",
      "7. Gender is categorical: ['Male' 'Female' 'Nonbinary'].\n",
      "\n",
      "12. Techie is categorical: ['No' 'Yes'].\n",
      "\n",
      "13. Contract is categorical: ['One year' 'Month-to-month' 'Two Year'].\n",
      "\n",
      "14. Port_modem is categorical: ['Yes' 'No'].\n",
      "\n",
      "15. Tablet is categorical: ['Yes' 'No'].\n",
      "\n",
      "16. InternetService is categorical: ['Fiber Optic' 'DSL' 'None'].\n",
      "\n",
      "17. Phone is categorical: ['Yes' 'No'].\n",
      "\n",
      "18. Multiple is categorical: ['No' 'Yes'].\n",
      "\n",
      "19. OnlineSecurity is categorical: ['Yes' 'No'].\n",
      "\n",
      "20. OnlineBackup is categorical: ['Yes' 'No'].\n",
      "\n",
      "21. DeviceProtection is categorical: ['No' 'Yes'].\n",
      "\n",
      "22. TechSupport is categorical: ['No' 'Yes'].\n",
      "\n",
      "23. StreamingTV is categorical: ['No' 'Yes'].\n",
      "\n",
      "24. StreamingMovies is categorical: ['Yes' 'No'].\n",
      "\n",
      "25. PaperlessBilling is categorical: ['Yes' 'No'].\n",
      "\n",
      "26. PaymentMethod is categorical: ['Credit Card (automatic)' 'Bank Transfer(automatic)' 'Mailed Check'\n",
      " 'Electronic Check'].\n"
     ]
    }
   ],
   "source": [
    "# list all categorical variables\n",
    "print('\\n{}'.format(\"Categorical data:\"))\n",
    "cat_cols = df.select_dtypes(include=\"object\").columns\n",
    "for idx, c in enumerate(df.loc[:, df.columns != target]):\n",
    "    if df.dtypes[c] == \"object\":\n",
    "        print('\\n{}. {} is categorical: {}.'.format(idx+1,c,df[c].unique()))\n",
    "        #for idx,name in enumerate(df[c].value_counts().index.tolist()):\n",
    "        #    print('\\t{:<20}:{:>6}'.format(name,df[c].value_counts()[idx]))\n",
    "        #print('{}'.format(df[c].describe()))"
   ]
  },
  {
   "cell_type": "markdown",
   "metadata": {},
   "source": [
    "<div class=\"impact\" data-hdr=\"Observations on Categorical Data\">The first thing is there are many string variables that are Yes-No. I will convert each of those to boolean variables. Boolean type is treated as int(1) for True and int(0) for False, this will work for the models I plan on using. I will also include the target variable 'Churn', it is also a Yes-No variable.</div>"
   ]
  },
  {
   "cell_type": "code",
   "execution_count": 50,
   "metadata": {},
   "outputs": [],
   "source": [
    "# convert categorical yes-no data to boolean\n",
    "for b in ['PaperlessBilling', 'StreamingMovies','StreamingTV',\n",
    "          'TechSupport','DeviceProtection','OnlineBackup',\n",
    "           'OnlineSecurity','Multiple','Phone', 'Tablet',\n",
    "          'Port_modem','Techie','Churn']:\n",
    "    df[b] = df[b].replace({\"No\":False, \"Yes\":True})\n",
    "    df[b] = df[b].astype('bool')"
   ]
  },
  {
   "cell_type": "markdown",
   "metadata": {},
   "source": [
    "<p>Next, there are a couple of variables that have a lot of unique values, I will consolidate those variables so there are just a couple of unique values.</p>"
   ]
  },
  {
   "cell_type": "markdown",
   "metadata": {},
   "source": [
    "<div class=\"impact\" data-hdr=\"PaymentMethod\">The PaymentMethod column has many categories and we can reduce the number of unique values in order to produce a better model. Let's combine all of the data into two (2) categories, 'Automatic' and 'Check'.</div>"
   ]
  },
  {
   "cell_type": "code",
   "execution_count": 51,
   "metadata": {
    "scrolled": true
   },
   "outputs": [
    {
     "data": {
      "text/plain": [
       "array(['Auto', 'Check'], dtype=object)"
      ]
     },
     "execution_count": 51,
     "metadata": {},
     "output_type": "execute_result"
    }
   ],
   "source": [
    "# re-cateogize Marital data\n",
    "df['PaymentMethod']=np.where(df['PaymentMethod'] =='Credit Card (automatic)', 'Auto',df['PaymentMethod'])\n",
    "df['PaymentMethod']=np.where(df['PaymentMethod'] =='Bank Transfer(automatic)', 'Auto',df['PaymentMethod'])\n",
    "df['PaymentMethod']=np.where(df['PaymentMethod'] =='Mailed Check', 'Check',df['PaymentMethod'])\n",
    "df['PaymentMethod']=np.where(df['PaymentMethod'] =='Electronic Check', 'Auto',df['PaymentMethod'])\n",
    "df['PaymentMethod'].unique()"
   ]
  },
  {
   "cell_type": "markdown",
   "metadata": {},
   "source": [
    "<div class=\"impact\" data-hdr=\"Marital\">The Marital column has many categories and we can reduce the number of unique values in order to produce a better model. Let's combine all of the data into two (2) categories, 'Married' and 'Not_Married'.</div>"
   ]
  },
  {
   "cell_type": "code",
   "execution_count": 52,
   "metadata": {
    "scrolled": true
   },
   "outputs": [
    {
     "data": {
      "text/plain": [
       "array(['Not_Married', 'Married'], dtype=object)"
      ]
     },
     "execution_count": 52,
     "metadata": {},
     "output_type": "execute_result"
    }
   ],
   "source": [
    "# re-cateogize Marital data\n",
    "df['Marital']=np.where(df['Marital'] =='Widowed', 'Not_Married',df['Marital'])\n",
    "df['Marital']=np.where(df['Marital'] =='Separated', 'Not_Married',df['Marital'])\n",
    "df['Marital']=np.where(df['Marital'] =='Never Married', 'Not_Married',df['Marital'])\n",
    "df['Marital']=np.where(df['Marital'] =='Divorced', 'Not_Married',df['Marital'])\n",
    "df['Marital'].unique()"
   ]
  },
  {
   "cell_type": "code",
   "execution_count": 53,
   "metadata": {},
   "outputs": [
    {
     "data": {
      "text/html": [
       "<div>\n",
       "<style scoped>\n",
       "    .dataframe tbody tr th:only-of-type {\n",
       "        vertical-align: middle;\n",
       "    }\n",
       "\n",
       "    .dataframe tbody tr th {\n",
       "        vertical-align: top;\n",
       "    }\n",
       "\n",
       "    .dataframe thead th {\n",
       "        text-align: right;\n",
       "    }\n",
       "</style>\n",
       "<table border=\"1\" class=\"dataframe\">\n",
       "  <thead>\n",
       "    <tr style=\"text-align: right;\">\n",
       "      <th></th>\n",
       "      <th>0</th>\n",
       "      <th>1</th>\n",
       "      <th>2</th>\n",
       "      <th>3</th>\n",
       "    </tr>\n",
       "  </thead>\n",
       "  <tbody>\n",
       "    <tr>\n",
       "      <th>Population</th>\n",
       "      <td>38</td>\n",
       "      <td>10446</td>\n",
       "      <td>3735</td>\n",
       "      <td>13863</td>\n",
       "    </tr>\n",
       "    <tr>\n",
       "      <th>Area</th>\n",
       "      <td>Urban</td>\n",
       "      <td>Urban</td>\n",
       "      <td>Urban</td>\n",
       "      <td>Suburban</td>\n",
       "    </tr>\n",
       "    <tr>\n",
       "      <th>Children</th>\n",
       "      <td>0</td>\n",
       "      <td>1</td>\n",
       "      <td>4</td>\n",
       "      <td>1</td>\n",
       "    </tr>\n",
       "    <tr>\n",
       "      <th>Age</th>\n",
       "      <td>68</td>\n",
       "      <td>27</td>\n",
       "      <td>50</td>\n",
       "      <td>48</td>\n",
       "    </tr>\n",
       "    <tr>\n",
       "      <th>Income</th>\n",
       "      <td>28561.99</td>\n",
       "      <td>21704.77</td>\n",
       "      <td>9609.57</td>\n",
       "      <td>18925.23</td>\n",
       "    </tr>\n",
       "    <tr>\n",
       "      <th>Marital</th>\n",
       "      <td>Not_Married</td>\n",
       "      <td>Married</td>\n",
       "      <td>Not_Married</td>\n",
       "      <td>Married</td>\n",
       "    </tr>\n",
       "    <tr>\n",
       "      <th>Gender</th>\n",
       "      <td>Male</td>\n",
       "      <td>Female</td>\n",
       "      <td>Female</td>\n",
       "      <td>Male</td>\n",
       "    </tr>\n",
       "    <tr>\n",
       "      <th>Churn</th>\n",
       "      <td>False</td>\n",
       "      <td>True</td>\n",
       "      <td>False</td>\n",
       "      <td>False</td>\n",
       "    </tr>\n",
       "    <tr>\n",
       "      <th>Outage_sec_perweek</th>\n",
       "      <td>7.978</td>\n",
       "      <td>11.699</td>\n",
       "      <td>10.753</td>\n",
       "      <td>14.914</td>\n",
       "    </tr>\n",
       "    <tr>\n",
       "      <th>Email</th>\n",
       "      <td>10</td>\n",
       "      <td>12</td>\n",
       "      <td>9</td>\n",
       "      <td>15</td>\n",
       "    </tr>\n",
       "    <tr>\n",
       "      <th>Contacts</th>\n",
       "      <td>0</td>\n",
       "      <td>0</td>\n",
       "      <td>0</td>\n",
       "      <td>2</td>\n",
       "    </tr>\n",
       "    <tr>\n",
       "      <th>Yearly_equip_failure</th>\n",
       "      <td>1</td>\n",
       "      <td>1</td>\n",
       "      <td>1</td>\n",
       "      <td>0</td>\n",
       "    </tr>\n",
       "    <tr>\n",
       "      <th>Techie</th>\n",
       "      <td>False</td>\n",
       "      <td>True</td>\n",
       "      <td>True</td>\n",
       "      <td>True</td>\n",
       "    </tr>\n",
       "    <tr>\n",
       "      <th>Contract</th>\n",
       "      <td>One year</td>\n",
       "      <td>Month-to-month</td>\n",
       "      <td>Two Year</td>\n",
       "      <td>Two Year</td>\n",
       "    </tr>\n",
       "    <tr>\n",
       "      <th>Port_modem</th>\n",
       "      <td>True</td>\n",
       "      <td>False</td>\n",
       "      <td>True</td>\n",
       "      <td>False</td>\n",
       "    </tr>\n",
       "    <tr>\n",
       "      <th>Tablet</th>\n",
       "      <td>True</td>\n",
       "      <td>True</td>\n",
       "      <td>False</td>\n",
       "      <td>False</td>\n",
       "    </tr>\n",
       "    <tr>\n",
       "      <th>InternetService</th>\n",
       "      <td>Fiber Optic</td>\n",
       "      <td>Fiber Optic</td>\n",
       "      <td>DSL</td>\n",
       "      <td>DSL</td>\n",
       "    </tr>\n",
       "    <tr>\n",
       "      <th>Phone</th>\n",
       "      <td>True</td>\n",
       "      <td>True</td>\n",
       "      <td>True</td>\n",
       "      <td>True</td>\n",
       "    </tr>\n",
       "    <tr>\n",
       "      <th>Multiple</th>\n",
       "      <td>False</td>\n",
       "      <td>True</td>\n",
       "      <td>True</td>\n",
       "      <td>False</td>\n",
       "    </tr>\n",
       "    <tr>\n",
       "      <th>OnlineSecurity</th>\n",
       "      <td>True</td>\n",
       "      <td>True</td>\n",
       "      <td>False</td>\n",
       "      <td>True</td>\n",
       "    </tr>\n",
       "    <tr>\n",
       "      <th>OnlineBackup</th>\n",
       "      <td>True</td>\n",
       "      <td>False</td>\n",
       "      <td>False</td>\n",
       "      <td>False</td>\n",
       "    </tr>\n",
       "    <tr>\n",
       "      <th>DeviceProtection</th>\n",
       "      <td>False</td>\n",
       "      <td>False</td>\n",
       "      <td>False</td>\n",
       "      <td>False</td>\n",
       "    </tr>\n",
       "    <tr>\n",
       "      <th>TechSupport</th>\n",
       "      <td>False</td>\n",
       "      <td>False</td>\n",
       "      <td>False</td>\n",
       "      <td>False</td>\n",
       "    </tr>\n",
       "    <tr>\n",
       "      <th>StreamingTV</th>\n",
       "      <td>False</td>\n",
       "      <td>True</td>\n",
       "      <td>False</td>\n",
       "      <td>True</td>\n",
       "    </tr>\n",
       "    <tr>\n",
       "      <th>StreamingMovies</th>\n",
       "      <td>True</td>\n",
       "      <td>True</td>\n",
       "      <td>True</td>\n",
       "      <td>False</td>\n",
       "    </tr>\n",
       "    <tr>\n",
       "      <th>PaperlessBilling</th>\n",
       "      <td>True</td>\n",
       "      <td>True</td>\n",
       "      <td>True</td>\n",
       "      <td>True</td>\n",
       "    </tr>\n",
       "    <tr>\n",
       "      <th>PaymentMethod</th>\n",
       "      <td>Auto</td>\n",
       "      <td>Auto</td>\n",
       "      <td>Auto</td>\n",
       "      <td>Check</td>\n",
       "    </tr>\n",
       "    <tr>\n",
       "      <th>Tenure</th>\n",
       "      <td>6.796</td>\n",
       "      <td>1.157</td>\n",
       "      <td>15.754</td>\n",
       "      <td>17.087</td>\n",
       "    </tr>\n",
       "    <tr>\n",
       "      <th>MonthlyCharge</th>\n",
       "      <td>172.456</td>\n",
       "      <td>242.633</td>\n",
       "      <td>159.948</td>\n",
       "      <td>119.957</td>\n",
       "    </tr>\n",
       "    <tr>\n",
       "      <th>Bandwidth_GB_Year</th>\n",
       "      <td>904.536</td>\n",
       "      <td>800.983</td>\n",
       "      <td>2054.707</td>\n",
       "      <td>2164.579</td>\n",
       "    </tr>\n",
       "  </tbody>\n",
       "</table>\n",
       "</div>"
      ],
      "text/plain": [
       "                                0               1            2         3\n",
       "Population                     38           10446         3735     13863\n",
       "Area                        Urban           Urban        Urban  Suburban\n",
       "Children                        0               1            4         1\n",
       "Age                            68              27           50        48\n",
       "Income                   28561.99        21704.77      9609.57  18925.23\n",
       "Marital               Not_Married         Married  Not_Married   Married\n",
       "Gender                       Male          Female       Female      Male\n",
       "Churn                       False            True        False     False\n",
       "Outage_sec_perweek          7.978          11.699       10.753    14.914\n",
       "Email                          10              12            9        15\n",
       "Contacts                        0               0            0         2\n",
       "Yearly_equip_failure            1               1            1         0\n",
       "Techie                      False            True         True      True\n",
       "Contract                 One year  Month-to-month     Two Year  Two Year\n",
       "Port_modem                   True           False         True     False\n",
       "Tablet                       True            True        False     False\n",
       "InternetService       Fiber Optic     Fiber Optic          DSL       DSL\n",
       "Phone                        True            True         True      True\n",
       "Multiple                    False            True         True     False\n",
       "OnlineSecurity               True            True        False      True\n",
       "OnlineBackup                 True           False        False     False\n",
       "DeviceProtection            False           False        False     False\n",
       "TechSupport                 False           False        False     False\n",
       "StreamingTV                 False            True        False      True\n",
       "StreamingMovies              True            True         True     False\n",
       "PaperlessBilling             True            True         True      True\n",
       "PaymentMethod                Auto            Auto         Auto     Check\n",
       "Tenure                      6.796           1.157       15.754    17.087\n",
       "MonthlyCharge             172.456         242.633      159.948   119.957\n",
       "Bandwidth_GB_Year         904.536         800.983     2054.707  2164.579"
      ]
     },
     "execution_count": 53,
     "metadata": {},
     "output_type": "execute_result"
    }
   ],
   "source": [
    "# modified data\n",
    "df.head(4).T"
   ]
  },
  {
   "cell_type": "markdown",
   "metadata": {},
   "source": [
    "<h2 data-nbr=\"C4\">Provide Copy of Data</h2>"
   ]
  },
  {
   "cell_type": "markdown",
   "metadata": {},
   "source": [
    "<div class=\"impact\" data-hdr=\"Final Data\">Here is the final list of columns after all data cleaning.</div>"
   ]
  },
  {
   "cell_type": "code",
   "execution_count": 54,
   "metadata": {
    "scrolled": true
   },
   "outputs": [
    {
     "name": "stdout",
     "output_type": "stream",
     "text": [
      "File saved to: d209_task1_final_data.csv\n",
      "{bool: ['Churn', 'Techie', 'Port_modem', 'Tablet', 'Phone', 'Multiple', 'OnlineSecurity', 'OnlineBackup', 'DeviceProtection', 'TechSupport', 'StreamingTV', 'StreamingMovies', 'PaperlessBilling'], int64: ['Population', 'Children', 'Age', 'Email', 'Contacts', 'Yearly_equip_failure'], float64: ['Income', 'Outage_sec_perweek', 'Tenure', 'MonthlyCharge', 'Bandwidth_GB_Year'], object: ['Area', 'Marital', 'Gender', 'Contract', 'InternetService', 'PaymentMethod']}\n"
     ]
    }
   ],
   "source": [
    "# Provide copy of the prepared data set.\n",
    "final_data = 'd209_task1_final_data.csv'\n",
    "df.to_csv(final_data, index=False, header=True)\n",
    "print('File saved to: {}'.format(final_data))\n",
    "print(df.columns.to_series().groupby(df.dtypes).groups)"
   ]
  },
  {
   "cell_type": "code",
   "execution_count": 55,
   "metadata": {},
   "outputs": [
    {
     "data": {
      "text/html": [
       "<div>\n",
       "<style scoped>\n",
       "    .dataframe tbody tr th:only-of-type {\n",
       "        vertical-align: middle;\n",
       "    }\n",
       "\n",
       "    .dataframe tbody tr th {\n",
       "        vertical-align: top;\n",
       "    }\n",
       "\n",
       "    .dataframe thead th {\n",
       "        text-align: right;\n",
       "    }\n",
       "</style>\n",
       "<table border=\"1\" class=\"dataframe\">\n",
       "  <thead>\n",
       "    <tr style=\"text-align: right;\">\n",
       "      <th></th>\n",
       "      <th>0</th>\n",
       "      <th>1</th>\n",
       "      <th>2</th>\n",
       "      <th>3</th>\n",
       "    </tr>\n",
       "  </thead>\n",
       "  <tbody>\n",
       "    <tr>\n",
       "      <th>Population</th>\n",
       "      <td>38</td>\n",
       "      <td>10446</td>\n",
       "      <td>3735</td>\n",
       "      <td>13863</td>\n",
       "    </tr>\n",
       "    <tr>\n",
       "      <th>Area</th>\n",
       "      <td>Urban</td>\n",
       "      <td>Urban</td>\n",
       "      <td>Urban</td>\n",
       "      <td>Suburban</td>\n",
       "    </tr>\n",
       "    <tr>\n",
       "      <th>Children</th>\n",
       "      <td>0</td>\n",
       "      <td>1</td>\n",
       "      <td>4</td>\n",
       "      <td>1</td>\n",
       "    </tr>\n",
       "    <tr>\n",
       "      <th>Age</th>\n",
       "      <td>68</td>\n",
       "      <td>27</td>\n",
       "      <td>50</td>\n",
       "      <td>48</td>\n",
       "    </tr>\n",
       "    <tr>\n",
       "      <th>Income</th>\n",
       "      <td>28561.99</td>\n",
       "      <td>21704.77</td>\n",
       "      <td>9609.57</td>\n",
       "      <td>18925.23</td>\n",
       "    </tr>\n",
       "    <tr>\n",
       "      <th>Marital</th>\n",
       "      <td>Not_Married</td>\n",
       "      <td>Married</td>\n",
       "      <td>Not_Married</td>\n",
       "      <td>Married</td>\n",
       "    </tr>\n",
       "    <tr>\n",
       "      <th>Gender</th>\n",
       "      <td>Male</td>\n",
       "      <td>Female</td>\n",
       "      <td>Female</td>\n",
       "      <td>Male</td>\n",
       "    </tr>\n",
       "    <tr>\n",
       "      <th>Churn</th>\n",
       "      <td>False</td>\n",
       "      <td>True</td>\n",
       "      <td>False</td>\n",
       "      <td>False</td>\n",
       "    </tr>\n",
       "    <tr>\n",
       "      <th>Outage_sec_perweek</th>\n",
       "      <td>7.978</td>\n",
       "      <td>11.699</td>\n",
       "      <td>10.753</td>\n",
       "      <td>14.914</td>\n",
       "    </tr>\n",
       "    <tr>\n",
       "      <th>Email</th>\n",
       "      <td>10</td>\n",
       "      <td>12</td>\n",
       "      <td>9</td>\n",
       "      <td>15</td>\n",
       "    </tr>\n",
       "    <tr>\n",
       "      <th>Contacts</th>\n",
       "      <td>0</td>\n",
       "      <td>0</td>\n",
       "      <td>0</td>\n",
       "      <td>2</td>\n",
       "    </tr>\n",
       "    <tr>\n",
       "      <th>Yearly_equip_failure</th>\n",
       "      <td>1</td>\n",
       "      <td>1</td>\n",
       "      <td>1</td>\n",
       "      <td>0</td>\n",
       "    </tr>\n",
       "    <tr>\n",
       "      <th>Techie</th>\n",
       "      <td>False</td>\n",
       "      <td>True</td>\n",
       "      <td>True</td>\n",
       "      <td>True</td>\n",
       "    </tr>\n",
       "    <tr>\n",
       "      <th>Contract</th>\n",
       "      <td>One year</td>\n",
       "      <td>Month-to-month</td>\n",
       "      <td>Two Year</td>\n",
       "      <td>Two Year</td>\n",
       "    </tr>\n",
       "    <tr>\n",
       "      <th>Port_modem</th>\n",
       "      <td>True</td>\n",
       "      <td>False</td>\n",
       "      <td>True</td>\n",
       "      <td>False</td>\n",
       "    </tr>\n",
       "    <tr>\n",
       "      <th>Tablet</th>\n",
       "      <td>True</td>\n",
       "      <td>True</td>\n",
       "      <td>False</td>\n",
       "      <td>False</td>\n",
       "    </tr>\n",
       "    <tr>\n",
       "      <th>InternetService</th>\n",
       "      <td>Fiber Optic</td>\n",
       "      <td>Fiber Optic</td>\n",
       "      <td>DSL</td>\n",
       "      <td>DSL</td>\n",
       "    </tr>\n",
       "    <tr>\n",
       "      <th>Phone</th>\n",
       "      <td>True</td>\n",
       "      <td>True</td>\n",
       "      <td>True</td>\n",
       "      <td>True</td>\n",
       "    </tr>\n",
       "    <tr>\n",
       "      <th>Multiple</th>\n",
       "      <td>False</td>\n",
       "      <td>True</td>\n",
       "      <td>True</td>\n",
       "      <td>False</td>\n",
       "    </tr>\n",
       "    <tr>\n",
       "      <th>OnlineSecurity</th>\n",
       "      <td>True</td>\n",
       "      <td>True</td>\n",
       "      <td>False</td>\n",
       "      <td>True</td>\n",
       "    </tr>\n",
       "    <tr>\n",
       "      <th>OnlineBackup</th>\n",
       "      <td>True</td>\n",
       "      <td>False</td>\n",
       "      <td>False</td>\n",
       "      <td>False</td>\n",
       "    </tr>\n",
       "    <tr>\n",
       "      <th>DeviceProtection</th>\n",
       "      <td>False</td>\n",
       "      <td>False</td>\n",
       "      <td>False</td>\n",
       "      <td>False</td>\n",
       "    </tr>\n",
       "    <tr>\n",
       "      <th>TechSupport</th>\n",
       "      <td>False</td>\n",
       "      <td>False</td>\n",
       "      <td>False</td>\n",
       "      <td>False</td>\n",
       "    </tr>\n",
       "    <tr>\n",
       "      <th>StreamingTV</th>\n",
       "      <td>False</td>\n",
       "      <td>True</td>\n",
       "      <td>False</td>\n",
       "      <td>True</td>\n",
       "    </tr>\n",
       "    <tr>\n",
       "      <th>StreamingMovies</th>\n",
       "      <td>True</td>\n",
       "      <td>True</td>\n",
       "      <td>True</td>\n",
       "      <td>False</td>\n",
       "    </tr>\n",
       "    <tr>\n",
       "      <th>PaperlessBilling</th>\n",
       "      <td>True</td>\n",
       "      <td>True</td>\n",
       "      <td>True</td>\n",
       "      <td>True</td>\n",
       "    </tr>\n",
       "    <tr>\n",
       "      <th>PaymentMethod</th>\n",
       "      <td>Auto</td>\n",
       "      <td>Auto</td>\n",
       "      <td>Auto</td>\n",
       "      <td>Check</td>\n",
       "    </tr>\n",
       "    <tr>\n",
       "      <th>Tenure</th>\n",
       "      <td>6.796</td>\n",
       "      <td>1.157</td>\n",
       "      <td>15.754</td>\n",
       "      <td>17.087</td>\n",
       "    </tr>\n",
       "    <tr>\n",
       "      <th>MonthlyCharge</th>\n",
       "      <td>172.456</td>\n",
       "      <td>242.633</td>\n",
       "      <td>159.948</td>\n",
       "      <td>119.957</td>\n",
       "    </tr>\n",
       "    <tr>\n",
       "      <th>Bandwidth_GB_Year</th>\n",
       "      <td>904.536</td>\n",
       "      <td>800.983</td>\n",
       "      <td>2054.707</td>\n",
       "      <td>2164.579</td>\n",
       "    </tr>\n",
       "  </tbody>\n",
       "</table>\n",
       "</div>"
      ],
      "text/plain": [
       "                                0               1            2         3\n",
       "Population                     38           10446         3735     13863\n",
       "Area                        Urban           Urban        Urban  Suburban\n",
       "Children                        0               1            4         1\n",
       "Age                            68              27           50        48\n",
       "Income                   28561.99        21704.77      9609.57  18925.23\n",
       "Marital               Not_Married         Married  Not_Married   Married\n",
       "Gender                       Male          Female       Female      Male\n",
       "Churn                       False            True        False     False\n",
       "Outage_sec_perweek          7.978          11.699       10.753    14.914\n",
       "Email                          10              12            9        15\n",
       "Contacts                        0               0            0         2\n",
       "Yearly_equip_failure            1               1            1         0\n",
       "Techie                      False            True         True      True\n",
       "Contract                 One year  Month-to-month     Two Year  Two Year\n",
       "Port_modem                   True           False         True     False\n",
       "Tablet                       True            True        False     False\n",
       "InternetService       Fiber Optic     Fiber Optic          DSL       DSL\n",
       "Phone                        True            True         True      True\n",
       "Multiple                    False            True         True     False\n",
       "OnlineSecurity               True            True        False      True\n",
       "OnlineBackup                 True           False        False     False\n",
       "DeviceProtection            False           False        False     False\n",
       "TechSupport                 False           False        False     False\n",
       "StreamingTV                 False            True        False      True\n",
       "StreamingMovies              True            True         True     False\n",
       "PaperlessBilling             True            True         True      True\n",
       "PaymentMethod                Auto            Auto         Auto     Check\n",
       "Tenure                      6.796           1.157       15.754    17.087\n",
       "MonthlyCharge             172.456         242.633      159.948   119.957\n",
       "Bandwidth_GB_Year         904.536         800.983     2054.707  2164.579"
      ]
     },
     "execution_count": 55,
     "metadata": {},
     "output_type": "execute_result"
    }
   ],
   "source": [
    "# final data\n",
    "df.head(4).T"
   ]
  },
  {
   "cell_type": "markdown",
   "metadata": {},
   "source": [
    "<div class=\"impact\" data-hdr=\"Model Data\">Here is a subset of the data to be used for this analysis.</div>"
   ]
  },
  {
   "cell_type": "code",
   "execution_count": 56,
   "metadata": {},
   "outputs": [
    {
     "data": {
      "text/html": [
       "<div>\n",
       "<style scoped>\n",
       "    .dataframe tbody tr th:only-of-type {\n",
       "        vertical-align: middle;\n",
       "    }\n",
       "\n",
       "    .dataframe tbody tr th {\n",
       "        vertical-align: top;\n",
       "    }\n",
       "\n",
       "    .dataframe thead th {\n",
       "        text-align: right;\n",
       "    }\n",
       "</style>\n",
       "<table border=\"1\" class=\"dataframe\">\n",
       "  <thead>\n",
       "    <tr style=\"text-align: right;\">\n",
       "      <th></th>\n",
       "      <th>Tenure</th>\n",
       "      <th>MonthlyCharge</th>\n",
       "      <th>Churn</th>\n",
       "    </tr>\n",
       "  </thead>\n",
       "  <tbody>\n",
       "    <tr>\n",
       "      <th>0</th>\n",
       "      <td>6.796</td>\n",
       "      <td>172.456</td>\n",
       "      <td>False</td>\n",
       "    </tr>\n",
       "    <tr>\n",
       "      <th>1</th>\n",
       "      <td>1.157</td>\n",
       "      <td>242.633</td>\n",
       "      <td>True</td>\n",
       "    </tr>\n",
       "    <tr>\n",
       "      <th>2</th>\n",
       "      <td>15.754</td>\n",
       "      <td>159.948</td>\n",
       "      <td>False</td>\n",
       "    </tr>\n",
       "    <tr>\n",
       "      <th>3</th>\n",
       "      <td>17.087</td>\n",
       "      <td>119.957</td>\n",
       "      <td>False</td>\n",
       "    </tr>\n",
       "    <tr>\n",
       "      <th>4</th>\n",
       "      <td>1.671</td>\n",
       "      <td>149.948</td>\n",
       "      <td>True</td>\n",
       "    </tr>\n",
       "    <tr>\n",
       "      <th>...</th>\n",
       "      <td>...</td>\n",
       "      <td>...</td>\n",
       "      <td>...</td>\n",
       "    </tr>\n",
       "    <tr>\n",
       "      <th>9995</th>\n",
       "      <td>68.197</td>\n",
       "      <td>159.979</td>\n",
       "      <td>False</td>\n",
       "    </tr>\n",
       "    <tr>\n",
       "      <th>9996</th>\n",
       "      <td>61.040</td>\n",
       "      <td>207.481</td>\n",
       "      <td>False</td>\n",
       "    </tr>\n",
       "    <tr>\n",
       "      <th>9997</th>\n",
       "      <td>47.417</td>\n",
       "      <td>169.974</td>\n",
       "      <td>False</td>\n",
       "    </tr>\n",
       "    <tr>\n",
       "      <th>9998</th>\n",
       "      <td>71.096</td>\n",
       "      <td>252.624</td>\n",
       "      <td>False</td>\n",
       "    </tr>\n",
       "    <tr>\n",
       "      <th>9999</th>\n",
       "      <td>63.351</td>\n",
       "      <td>217.484</td>\n",
       "      <td>False</td>\n",
       "    </tr>\n",
       "  </tbody>\n",
       "</table>\n",
       "<p>10000 rows × 3 columns</p>\n",
       "</div>"
      ],
      "text/plain": [
       "      Tenure  MonthlyCharge  Churn\n",
       "0      6.796        172.456  False\n",
       "1      1.157        242.633   True\n",
       "2     15.754        159.948  False\n",
       "3     17.087        119.957  False\n",
       "4      1.671        149.948   True\n",
       "...      ...            ...    ...\n",
       "9995  68.197        159.979  False\n",
       "9996  61.040        207.481  False\n",
       "9997  47.417        169.974  False\n",
       "9998  71.096        252.624  False\n",
       "9999  63.351        217.484  False\n",
       "\n",
       "[10000 rows x 3 columns]"
      ]
     },
     "execution_count": 56,
     "metadata": {},
     "output_type": "execute_result"
    }
   ],
   "source": [
    "# create data for the knn analysis\n",
    "X = df[['Tenure','MonthlyCharge']] # features\n",
    "y = df['Churn']     # target\n",
    "model = X.join(y)\n",
    "model"
   ]
  },
  {
   "cell_type": "markdown",
   "metadata": {},
   "source": [
    "<div class=\"part\">Analysis</div>"
   ]
  },
  {
   "cell_type": "markdown",
   "metadata": {},
   "source": [
    "<h2 data-nbr=\"D1\">Split Data</h2>"
   ]
  },
  {
   "cell_type": "markdown",
   "metadata": {},
   "source": [
    "<div class=\"impact\" data-hdr=\"Split Data\">Split data into training and test data.</div>"
   ]
  },
  {
   "cell_type": "code",
   "execution_count": 57,
   "metadata": {
    "scrolled": true
   },
   "outputs": [],
   "source": [
    "# train test split\n",
    "X_train, X_test = train_test_split(X, test_size=0.3, random_state=13)\n",
    "y_train = df['Churn'].iloc[X_train.index]\n",
    "y_test = df['Churn'].iloc[X_test.index]"
   ]
  },
  {
   "cell_type": "code",
   "execution_count": 58,
   "metadata": {},
   "outputs": [
    {
     "data": {
      "text/html": [
       "<div>\n",
       "<style scoped>\n",
       "    .dataframe tbody tr th:only-of-type {\n",
       "        vertical-align: middle;\n",
       "    }\n",
       "\n",
       "    .dataframe tbody tr th {\n",
       "        vertical-align: top;\n",
       "    }\n",
       "\n",
       "    .dataframe thead th {\n",
       "        text-align: right;\n",
       "    }\n",
       "</style>\n",
       "<table border=\"1\" class=\"dataframe\">\n",
       "  <thead>\n",
       "    <tr style=\"text-align: right;\">\n",
       "      <th></th>\n",
       "      <th>Tenure</th>\n",
       "      <th>MonthlyCharge</th>\n",
       "      <th>Churn</th>\n",
       "    </tr>\n",
       "  </thead>\n",
       "  <tbody>\n",
       "    <tr>\n",
       "      <th>4847</th>\n",
       "      <td>9.525</td>\n",
       "      <td>92.488</td>\n",
       "      <td>False</td>\n",
       "    </tr>\n",
       "    <tr>\n",
       "      <th>9992</th>\n",
       "      <td>56.472</td>\n",
       "      <td>137.439</td>\n",
       "      <td>False</td>\n",
       "    </tr>\n",
       "    <tr>\n",
       "      <th>4621</th>\n",
       "      <td>2.612</td>\n",
       "      <td>124.964</td>\n",
       "      <td>False</td>\n",
       "    </tr>\n",
       "    <tr>\n",
       "      <th>5774</th>\n",
       "      <td>58.787</td>\n",
       "      <td>139.983</td>\n",
       "      <td>False</td>\n",
       "    </tr>\n",
       "    <tr>\n",
       "      <th>9294</th>\n",
       "      <td>64.116</td>\n",
       "      <td>255.120</td>\n",
       "      <td>False</td>\n",
       "    </tr>\n",
       "    <tr>\n",
       "      <th>1085</th>\n",
       "      <td>17.484</td>\n",
       "      <td>202.443</td>\n",
       "      <td>False</td>\n",
       "    </tr>\n",
       "    <tr>\n",
       "      <th>1073</th>\n",
       "      <td>16.640</td>\n",
       "      <td>142.469</td>\n",
       "      <td>True</td>\n",
       "    </tr>\n",
       "    <tr>\n",
       "      <th>950</th>\n",
       "      <td>2.253</td>\n",
       "      <td>150.007</td>\n",
       "      <td>False</td>\n",
       "    </tr>\n",
       "    <tr>\n",
       "      <th>9512</th>\n",
       "      <td>68.207</td>\n",
       "      <td>169.938</td>\n",
       "      <td>False</td>\n",
       "    </tr>\n",
       "    <tr>\n",
       "      <th>3773</th>\n",
       "      <td>4.746</td>\n",
       "      <td>194.966</td>\n",
       "      <td>True</td>\n",
       "    </tr>\n",
       "  </tbody>\n",
       "</table>\n",
       "</div>"
      ],
      "text/plain": [
       "      Tenure  MonthlyCharge  Churn\n",
       "4847   9.525         92.488  False\n",
       "9992  56.472        137.439  False\n",
       "4621   2.612        124.964  False\n",
       "5774  58.787        139.983  False\n",
       "9294  64.116        255.120  False\n",
       "1085  17.484        202.443  False\n",
       "1073  16.640        142.469   True\n",
       "950    2.253        150.007  False\n",
       "9512  68.207        169.938  False\n",
       "3773   4.746        194.966   True"
      ]
     },
     "execution_count": 58,
     "metadata": {},
     "output_type": "execute_result"
    }
   ],
   "source": [
    "# dataframe still looks good, split into two datasets\n",
    "X_train.join(y_train).head(10)"
   ]
  },
  {
   "cell_type": "code",
   "execution_count": 59,
   "metadata": {},
   "outputs": [
    {
     "data": {
      "text/plain": [
       "Tenure            59.153\n",
       "MonthlyCharge    129.948\n",
       "Churn              False\n",
       "Name: 6471, dtype: object"
      ]
     },
     "execution_count": 59,
     "metadata": {},
     "output_type": "execute_result"
    }
   ],
   "source": [
    "X.join(y).iloc[6471] # spot check"
   ]
  },
  {
   "cell_type": "code",
   "execution_count": 60,
   "metadata": {},
   "outputs": [
    {
     "data": {
      "text/plain": [
       "Tenure            59.153\n",
       "MonthlyCharge    129.948\n",
       "Churn              False\n",
       "Name: 6471, dtype: object"
      ]
     },
     "execution_count": 60,
     "metadata": {},
     "output_type": "execute_result"
    }
   ],
   "source": [
    "df[['Tenure','MonthlyCharge','Churn']].iloc[6471] # sport check"
   ]
  },
  {
   "cell_type": "markdown",
   "metadata": {},
   "source": [
    "<div class=\"impact\" data-hdr=\"Export Data\">Provide copy of both datasets in .CSV file format.</div>"
   ]
  },
  {
   "cell_type": "code",
   "execution_count": 61,
   "metadata": {},
   "outputs": [],
   "source": [
    "# Provide copy of train data\n",
    "X_train.to_csv('d209_task1_X_train.csv', index=False, header=True)\n",
    "y_train.to_csv('d209_task1_y_train.csv', index=False, header=True)\n",
    "\n",
    "# Provide copy of test data\n",
    "X_test.to_csv('d209_task1_X_test.csv', index=False, header=True)\n",
    "y_test.to_csv('d209_task1_y_test.csv', index=False, header=True)"
   ]
  },
  {
   "cell_type": "markdown",
   "metadata": {},
   "source": [
    "<div class=\"impact\" data-hdr=\"Define New Customer\">Setup new customer variable.</div>"
   ]
  },
  {
   "cell_type": "code",
   "execution_count": 62,
   "metadata": {},
   "outputs": [
    {
     "name": "stdout",
     "output_type": "stream",
     "text": [
      "   MonthlyCharge  Tenure\n",
      "0          250.6    10.4\n"
     ]
    }
   ],
   "source": [
    "## new customer -> list[int]\n",
    "new = pd.DataFrame([{'MonthlyCharge': 250.6, 'Tenure': 10.4}])\n",
    "print(new)"
   ]
  },
  {
   "cell_type": "markdown",
   "metadata": {},
   "source": [
    "<div class=\"impact\" data-hdr=\"Create Figure\">Create scatter plot of data.</div>"
   ]
  },
  {
   "cell_type": "code",
   "execution_count": 63,
   "metadata": {},
   "outputs": [
    {
     "data": {
      "image/png": "[encoded data removed]",
      "text/plain": [
       "<Figure size 1332x756 with 1 Axes>"
      ]
     },
     "metadata": {},
     "output_type": "display_data"
    }
   ],
   "source": [
    "## scatter plot\n",
    "def plotDataset(ax, data, showLabel=True, **kwargs):\n",
    "    subset = data.loc[data['Churn']==True]\n",
    "    ax.scatter(subset.MonthlyCharge, subset.Tenure, marker='o',\n",
    "              label='Churn' if showLabel else None, color='C1', **kwargs)\n",
    "    subset = data.loc[data['Churn']==False]\n",
    "    ax.scatter(subset.MonthlyCharge, subset.Tenure, marker='D',\n",
    "              label='Non Churn' if showLabel else None, color='C0', **kwargs)\n",
    "fig, ax = plt.subplots()\n",
    "fig.set_size_inches(18.5, 10.5)\n",
    "plotDataset(ax, X_train.join(y_train))\n",
    "plotDataset(ax, X_test.join(y_test), showLabel=False, facecolors='none')\n",
    "ax.scatter(new.MonthlyCharge, new.Tenure, marker='*',\n",
    "          label='New customer', color='black', s=270)\n",
    "plt.title('MonthlyCharge vs Tenure Scatter Plot')\n",
    "plt.xlabel('MonthlyCharge')\n",
    "plt.ylabel('Tenure')\n",
    "handles, labels = ax.get_legend_handles_labels()\n",
    "ax.legend(handles, labels, loc='upper center', bbox_to_anchor=(0.5, -0.05),\n",
    "          fancybox=True, shadow=True, ncol=5)\n",
    "fig.savefig('d209_fig_4_1_monthlycharge_vs_tenure_scatter.png', dpi=200)\n",
    "plt.show()"
   ]
  },
  {
   "cell_type": "markdown",
   "metadata": {},
   "source": [
    "<div class=\"impact\" data-hdr=\"FIGURE 4.1\">SCATTER PLOT OF MONTHLYCHARGE VS TENURE FOR TRAINING SET (SOLID MARKERS) AND TEST SET (HOLLOW MARKERS) AND THE NEW CUSTOMER (STAR MARKER) TO BE CLASSIFIED. From intial observation, it looks like the new customer should be classified as \"Churn = True\". The prediction is calculated below:</div>"
   ]
  },
  {
   "cell_type": "code",
   "execution_count": 64,
   "metadata": {},
   "outputs": [
    {
     "data": {
      "text/html": [
       "<div>\n",
       "<style scoped>\n",
       "    .dataframe tbody tr th:only-of-type {\n",
       "        vertical-align: middle;\n",
       "    }\n",
       "\n",
       "    .dataframe tbody tr th {\n",
       "        vertical-align: top;\n",
       "    }\n",
       "\n",
       "    .dataframe thead th {\n",
       "        text-align: right;\n",
       "    }\n",
       "</style>\n",
       "<table border=\"1\" class=\"dataframe\">\n",
       "  <thead>\n",
       "    <tr style=\"text-align: right;\">\n",
       "      <th></th>\n",
       "      <th>Tenure</th>\n",
       "      <th>MonthlyCharge</th>\n",
       "      <th>Churn</th>\n",
       "    </tr>\n",
       "  </thead>\n",
       "  <tbody>\n",
       "    <tr>\n",
       "      <th>4847</th>\n",
       "      <td>9.525</td>\n",
       "      <td>92.488</td>\n",
       "      <td>False</td>\n",
       "    </tr>\n",
       "    <tr>\n",
       "      <th>9992</th>\n",
       "      <td>56.472</td>\n",
       "      <td>137.439</td>\n",
       "      <td>False</td>\n",
       "    </tr>\n",
       "    <tr>\n",
       "      <th>4621</th>\n",
       "      <td>2.612</td>\n",
       "      <td>124.964</td>\n",
       "      <td>False</td>\n",
       "    </tr>\n",
       "    <tr>\n",
       "      <th>5774</th>\n",
       "      <td>58.787</td>\n",
       "      <td>139.983</td>\n",
       "      <td>False</td>\n",
       "    </tr>\n",
       "    <tr>\n",
       "      <th>9294</th>\n",
       "      <td>64.116</td>\n",
       "      <td>255.120</td>\n",
       "      <td>False</td>\n",
       "    </tr>\n",
       "    <tr>\n",
       "      <th>...</th>\n",
       "      <td>...</td>\n",
       "      <td>...</td>\n",
       "      <td>...</td>\n",
       "    </tr>\n",
       "    <tr>\n",
       "      <th>5876</th>\n",
       "      <td>61.002</td>\n",
       "      <td>229.993</td>\n",
       "      <td>False</td>\n",
       "    </tr>\n",
       "    <tr>\n",
       "      <th>866</th>\n",
       "      <td>5.541</td>\n",
       "      <td>242.614</td>\n",
       "      <td>True</td>\n",
       "    </tr>\n",
       "    <tr>\n",
       "      <th>7696</th>\n",
       "      <td>44.605</td>\n",
       "      <td>270.160</td>\n",
       "      <td>False</td>\n",
       "    </tr>\n",
       "    <tr>\n",
       "      <th>74</th>\n",
       "      <td>2.379</td>\n",
       "      <td>214.966</td>\n",
       "      <td>True</td>\n",
       "    </tr>\n",
       "    <tr>\n",
       "      <th>338</th>\n",
       "      <td>7.692</td>\n",
       "      <td>104.978</td>\n",
       "      <td>False</td>\n",
       "    </tr>\n",
       "  </tbody>\n",
       "</table>\n",
       "<p>7000 rows × 3 columns</p>\n",
       "</div>"
      ],
      "text/plain": [
       "      Tenure  MonthlyCharge  Churn\n",
       "4847   9.525         92.488  False\n",
       "9992  56.472        137.439  False\n",
       "4621   2.612        124.964  False\n",
       "5774  58.787        139.983  False\n",
       "9294  64.116        255.120  False\n",
       "...      ...            ...    ...\n",
       "5876  61.002        229.993  False\n",
       "866    5.541        242.614   True\n",
       "7696  44.605        270.160  False\n",
       "74     2.379        214.966   True\n",
       "338    7.692        104.978  False\n",
       "\n",
       "[7000 rows x 3 columns]"
      ]
     },
     "execution_count": 64,
     "metadata": {},
     "output_type": "execute_result"
    }
   ],
   "source": [
    "X_train.join(y_train)"
   ]
  },
  {
   "cell_type": "code",
   "execution_count": 65,
   "metadata": {},
   "outputs": [
    {
     "ename": "NameError",
     "evalue": "name 'stop' is not defined",
     "output_type": "error",
     "traceback": [
      "\u001b[1;31m----------------------------------------------------------------\u001b[0m",
      "\u001b[1;31mNameError\u001b[0m                      Traceback (most recent call last)",
      "\u001b[1;32m~\\AppData\\Local\\Temp/ipykernel_13852/3957423419.py\u001b[0m in \u001b[0;36m<module>\u001b[1;34m\u001b[0m\n\u001b[1;32m----> 1\u001b[1;33m \u001b[0mstop\u001b[0m\u001b[1;33m\u001b[0m\u001b[1;33m\u001b[0m\u001b[0m\n\u001b[0m",
      "\u001b[1;31mNameError\u001b[0m: name 'stop' is not defined"
     ]
    }
   ],
   "source": [
    "stop"
   ]
  },
  {
   "cell_type": "markdown",
   "metadata": {},
   "source": [
    "<div class=\"impact\" data-hdr=\"Standardize Data\">Standardize training and test data as well as the new customer using sklearn scaler transformation. The normalized data will be used to make final predictions.</div>"
   ]
  },
  {
   "cell_type": "code",
   "execution_count": null,
   "metadata": {},
   "outputs": [],
   "source": [
    "# feature scaling\n",
    "from sklearn.preprocessing import StandardScaler\n",
    "scaler = StandardScaler()\n",
    "scaler.fit(X_train)\n",
    "X_train = scaler.transform(X_train) # no longer dataframe... lose index...\n",
    "X_test = scaler.transform(X_test)\n",
    "new_norm = scaler.transform(new)"
   ]
  },
  {
   "cell_type": "markdown",
   "metadata": {},
   "source": [
    "<div class=\"impact\" data-hdr=\"Confusion and Classification Report\">Using the sklearn KNeighborsClassifier, we can calculate the confusion and classification report to show expected model accuracy.</div>"
   ]
  },
  {
   "cell_type": "markdown",
   "metadata": {},
   "source": [
    "<div class=\"impact\" data-hdr=\"TABLE 4.x\">CONFUSION MATRIX AND CLASSIFICATION REPORT</div>"
   ]
  },
  {
   "cell_type": "code",
   "execution_count": null,
   "metadata": {},
   "outputs": [],
   "source": [
    "# confusion and classification report\n",
    "from sklearn.neighbors import KNeighborsClassifier\n",
    "classifier = KNeighborsClassifier(n_neighbors=3)\n",
    "classifier.fit(X_train, y_train)\n",
    "y_pred = classifier.predict(X_test)\n",
    "from sklearn.metrics import classification_report, confusion_matrix\n",
    "print(confusion_matrix(y_test, y_pred))\n",
    "print(classification_report(y_test, y_pred))"
   ]
  },
  {
   "cell_type": "markdown",
   "metadata": {},
   "source": [
    "<div class=\"impact\" data-hdr=\"TABLE 4.x\">RUNNING KNN FOR A SINGLE VALUE, K = 4</div>"
   ]
  },
  {
   "cell_type": "code",
   "execution_count": 66,
   "metadata": {},
   "outputs": [
    {
     "ename": "NameError",
     "evalue": "name 'new_norm' is not defined",
     "output_type": "error",
     "traceback": [
      "\u001b[1;31m----------------------------------------------------------------\u001b[0m",
      "\u001b[1;31mNameError\u001b[0m                      Traceback (most recent call last)",
      "\u001b[1;32m~\\AppData\\Local\\Temp/ipykernel_13852/3483318424.py\u001b[0m in \u001b[0;36m<module>\u001b[1;34m\u001b[0m\n\u001b[0;32m      5\u001b[0m \u001b[0mknn\u001b[0m \u001b[1;33m=\u001b[0m \u001b[0mNearestNeighbors\u001b[0m\u001b[1;33m(\u001b[0m\u001b[0mn_neighbors\u001b[0m\u001b[1;33m=\u001b[0m\u001b[1;36m7\u001b[0m\u001b[1;33m)\u001b[0m\u001b[1;33m\u001b[0m\u001b[1;33m\u001b[0m\u001b[0m\n\u001b[0;32m      6\u001b[0m \u001b[0mknn\u001b[0m\u001b[1;33m.\u001b[0m\u001b[0mfit\u001b[0m\u001b[1;33m(\u001b[0m\u001b[0mtrain\u001b[0m\u001b[1;33m.\u001b[0m\u001b[0miloc\u001b[0m\u001b[1;33m[\u001b[0m\u001b[1;33m:\u001b[0m\u001b[1;33m,\u001b[0m\u001b[1;36m0\u001b[0m\u001b[1;33m:\u001b[0m\u001b[1;36m2\u001b[0m\u001b[1;33m]\u001b[0m\u001b[1;33m)\u001b[0m\u001b[1;33m\u001b[0m\u001b[1;33m\u001b[0m\u001b[0m\n\u001b[1;32m----> 7\u001b[1;33m \u001b[0mdistances\u001b[0m\u001b[1;33m,\u001b[0m \u001b[0mindices\u001b[0m \u001b[1;33m=\u001b[0m \u001b[0mknn\u001b[0m\u001b[1;33m.\u001b[0m\u001b[0mkneighbors\u001b[0m\u001b[1;33m(\u001b[0m\u001b[0mnew_norm\u001b[0m\u001b[1;33m)\u001b[0m\u001b[1;33m\u001b[0m\u001b[1;33m\u001b[0m\u001b[0m\n\u001b[0m\u001b[0;32m      8\u001b[0m \u001b[0mtrain\u001b[0m\u001b[1;33m.\u001b[0m\u001b[0miloc\u001b[0m\u001b[1;33m[\u001b[0m\u001b[0mindices\u001b[0m\u001b[1;33m[\u001b[0m\u001b[1;36m0\u001b[0m\u001b[1;33m]\u001b[0m\u001b[1;33m,\u001b[0m\u001b[1;33m:\u001b[0m\u001b[1;33m]\u001b[0m\u001b[1;33m\u001b[0m\u001b[1;33m\u001b[0m\u001b[0m\n",
      "\u001b[1;31mNameError\u001b[0m: name 'new_norm' is not defined"
     ]
    }
   ],
   "source": [
    "# use NearestNeighbors from scikit-learn to compute knn\n",
    "train = pd.DataFrame(X_train, columns=['Tenure','MonthlyCharge'])\n",
    "train = train.merge(y_train, left_index=True, right_index=True)\n",
    "from sklearn.neighbors import NearestNeighbors\n",
    "knn = NearestNeighbors(n_neighbors=7)\n",
    "knn.fit(train.iloc[:,0:2])\n",
    "distances, indices = knn.kneighbors(new_norm)\n",
    "train.iloc[indices[0],:]"
   ]
  },
  {
   "cell_type": "markdown",
   "metadata": {},
   "source": [
    "<div class=\"impact\" data-hdr=\"Accuracy\">Calculate accuracy and error rates for range of k-values.</div>"
   ]
  },
  {
   "cell_type": "code",
   "execution_count": null,
   "metadata": {},
   "outputs": [],
   "source": [
    "# Calculating and plot error rate for range of k-values\n",
    "error = []\n",
    "for i in range(1, 30):\n",
    "    knn = KNeighborsClassifier(n_neighbors=i)\n",
    "    knn.fit(X_train, y_train)\n",
    "    pred_i = knn.predict(X_test)\n",
    "    error.append(np.mean(pred_i != y_test))\n",
    "plt.figure(figsize=(12, 6))\n",
    "plt.plot(range(1, 30), error, color='red', linestyle='dashed', marker='o',\n",
    "         markerfacecolor='blue', markersize=10)\n",
    "plt.title('Error Rate by k-value')\n",
    "plt.xlabel('K Value')\n",
    "plt.ylabel('Mean Error')\n",
    "fig.savefig('d209_fig_4_2_error_rates_by_k_value.png', dpi=200)\n",
    "plt.show()"
   ]
  },
  {
   "cell_type": "markdown",
   "metadata": {},
   "source": [
    "<div class=\"impact\" data-hdr=\"FIGURE 4.2\">ERROR RATES BY K-VALUE. Looks like the best performance we can expect is approx. 83-84%.</div>"
   ]
  },
  {
   "cell_type": "markdown",
   "metadata": {},
   "source": [
    "<div class=\"impact\" data-hdr=\"TABLE 4.x\">CLASSIFYING NEW CUSTOMER USING SPECIFIC K-VALUE USING ORIGINAL FULL DATASET</div>"
   ]
  },
  {
   "cell_type": "code",
   "execution_count": null,
   "metadata": {},
   "outputs": [],
   "source": [
    "type(X)"
   ]
  },
  {
   "cell_type": "code",
   "execution_count": null,
   "metadata": {},
   "outputs": [],
   "source": [
    "type(y)"
   ]
  },
  {
   "cell_type": "code",
   "execution_count": null,
   "metadata": {},
   "outputs": [],
   "source": [
    "y = pd.DataFrame(y, columns=['Churn'])\n",
    "type(y)"
   ]
  },
  {
   "cell_type": "code",
   "execution_count": null,
   "metadata": {},
   "outputs": [],
   "source": [
    "# retrain with full dataset\n",
    "k=3\n",
    "from sklearn.neighbors import KNeighborsClassifier\n",
    "classifier = KNeighborsClassifier(n_neighbors=k)\n",
    "classifier.fit(X, y)\n",
    "print('Prediction for new customer: ',classifier.predict(new))\n",
    "print('Distances: ',distances)\n",
    "print('Indices: ',indices)\n",
    "#print(churn_norm.iloc[indices[0],:])"
   ]
  },
  {
   "cell_type": "markdown",
   "metadata": {},
   "source": [
    "<div class=\"part\">Data Summary and Implications</div>"
   ]
  },
  {
   "cell_type": "markdown",
   "metadata": {},
   "source": [
    "<h2 data-nbr=\"E1\">Explain Accuracy</h2>"
   ]
  },
  {
   "cell_type": "markdown",
   "metadata": {},
   "source": [
    "<div class=\"impact\" data-hdr=\"Accuracy\">For an example, with k=3, we found that the three (3) nearest neighbors to the new customer (with MonthlyCharge = $155.60 and Tenure = 12.4) are customers 1215, 370, and 2498. Since two (2) of them are False and one (1) of them are True, we can estimate for the new customer a probability of 2/3 = 0.667 of not churning (and a probability of 1/3 = 0.333 of churning).</div>"
   ]
  },
  {
   "cell_type": "markdown",
   "metadata": {},
   "source": [
    "<h2 data-nbr=\"E4\">Recommendations</h2>"
   ]
  },
  {
   "cell_type": "markdown",
   "metadata": {},
   "source": [
    "<div class=\"impact\" data-hdr=\"Recommendations\">Customers will be less likely to churn if their <b>MonthlyCharge</b> is minimized and if the customer has any of the additionaly available services. Focus marketing efforts on which additional services are best for each customer, maybe bundle some of the services at a slightly reduced monthly payment.  Increase customers' awareness of the value of the additional services for what they are paying each month. Keeping their monthly payment low and increasing the number of extra services will minimize likelihood of churn, and provide company with increase in the customer lifetime revenue.</div>"
   ]
  },
  {
   "cell_type": "markdown",
   "metadata": {},
   "source": [
    "<div class=\"part\">Demonstration</div>"
   ]
  },
  {
   "cell_type": "markdown",
   "metadata": {},
   "source": [
    "<h2 data-nbr=\"F\">Provide Panopto Video</h2>"
   ]
  },
  {
   "cell_type": "markdown",
   "metadata": {},
   "source": [
    "The Panopto video recording was created and here is the link: https://wgu.hosted.panopto.com/Panopto/Pages/Viewer.aspx?id=a90e1811-2440-4e27-a081-adbb01855443"
   ]
  },
  {
   "cell_type": "markdown",
   "metadata": {},
   "source": [
    "<h2 data-nbr=\"G\">Provide Web Sources</h2>"
   ]
  },
  {
   "cell_type": "code",
   "execution_count": null,
   "metadata": {},
   "outputs": [],
   "source": []
  }
 ],
 "metadata": {
  "interpreter": {
   "hash": "7ec9ddab846ab35e0b593fcb4cf136937a9f858131f0b99e6e6fda1922a58995"
  },
  "kernelspec": {
   "display_name": "v",
   "language": "python",
   "name": "v"
  },
  "language_info": {
   "codemirror_mode": {
    "name": "ipython",
    "version": 3
   },
   "file_extension": ".py",
   "mimetype": "text/x-python",
   "name": "python",
   "nbconvert_exporter": "python",
   "pygments_lexer": "ipython3",
   "version": "3.9.6"
  }
 },
 "nbformat": 4,
 "nbformat_minor": 2
}
