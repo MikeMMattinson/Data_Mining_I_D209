{
 "cells": [
  {
   "cell_type": "markdown",
   "id": "b48d908f",
   "metadata": {},
   "source": [
    "# WGU D209 TASK 1 REV 1 - MATTINSON"
   ]
  },
  {
   "cell_type": "markdown",
   "id": "0b532625",
   "metadata": {},
   "source": [
    "<div class=\"title\">\n",
    "    KNN Classification Using Churn Data<br>\n",
    "    Mike Mattinson<br>\n",
    "    Master of Science, Data Analytics, WGU.edu<br>\n",
    "    D209: Data Mining I<br>\n",
    "    Task 1 - 1st Submission<br>\n",
    "    Dr. Festus Elleh<br>\n",
    "    October 18, 2021<br>\n",
    "</div>"
   ]
  },
  {
   "cell_type": "markdown",
   "id": "01eda7ac",
   "metadata": {},
   "source": [
    "<div class=\"impact\" data-hdr=\"Abstract\">___.</div>"
   ]
  },
  {
   "cell_type": "markdown",
   "id": "39fde2c0",
   "metadata": {},
   "source": [
    "<div class=\"impact\" data-hdr=\"Keywords\">Data Mining. KNN. Classification.</div>"
   ]
  },
  {
   "cell_type": "markdown",
   "id": "ca88463d",
   "metadata": {},
   "source": [
    "<div class=\"part\">Research Question (I)</div>"
   ]
  },
  {
   "cell_type": "markdown",
   "id": "27789606",
   "metadata": {},
   "source": [
    "<h2 data-nbr=\"A1\">Propose One Question</h2>Propose <b>one</b> question relevant to a real-world organizational situation that you will answer using one of the following classification methods:\n",
    "•  k-nearest neighbor (KNN)\n",
    "•  Naive Bayes"
   ]
  },
  {
   "cell_type": "markdown",
   "id": "60201b80",
   "metadata": {},
   "source": [
    "<div class=\"impact\" data-hdr=\"Primary Question\">The question has come up for a telecommunicatiosn company regarding churn. <b>Churn</b> is defined when a customer chooses to stop services. If the company has data on customers that have and have not churned in the past, is it possible to classify a new (or existing) customer based on their similarity to other customers with similar attributes that have and have not churned in the past. This analysis will consider two (2) attributes, <b>MonthlyCharge</b> and <b>Tenure</b> within the company's customer data of 10,000 customers. In addition, if the prediction is made, the analysis will also attempt to quantify the accuracy of the prediction.</div>"
   ]
  },
  {
   "cell_type": "markdown",
   "id": "99ca4d65",
   "metadata": {},
   "source": [
    "<h2 data-nbr=\"A2\">Define One Goal</h2>Define <b>one</b> goal of the data analysis. Ensure that your goal is reasonable within the scope of the scenario and is represented in the available data."
   ]
  },
  {
   "cell_type": "markdown",
   "id": "08b665f6",
   "metadata": {},
   "source": [
    "<div class=\"impact\" data-hdr=\"Primary Goal\">The analysis will attempt to predict <b>Churn</b> for a new customer with values of <b>MonthlyCharge</b> = $170.00 and <b>Tenure</b> = 1.0. This goal is within the scope of the company's customer data, both attributes are contained with the data for 10,000 customers and should provide adequate data for the prediction. The analysis will use K-nearest neighbors (KNN) to classify the new customer based on the k-nearest other customers with similar attributes.</div>"
   ]
  },
  {
   "cell_type": "code",
   "execution_count": 1,
   "id": "2f5126ca",
   "metadata": {},
   "outputs": [],
   "source": [
    "# define the new customer\n",
    "import pandas as pd\n",
    "newCustomer = pd.DataFrame([{'MonthlyCharge': 120.0 ,'Tenure': 5.0}])"
   ]
  },
  {
   "cell_type": "markdown",
   "id": "0a64ef3f",
   "metadata": {},
   "source": [
    "<div class=\"part\">Method Justification (II)</div>"
   ]
  },
  {
   "cell_type": "markdown",
   "id": "97580c86",
   "metadata": {},
   "source": [
    "<h2 data-nbr=\"B1\">Explain Method and Outcomes</h2>Explain how the classification method you chose analyzes the selected data set. Include expected outcomes."
   ]
  },
  {
   "cell_type": "markdown",
   "id": "45c86845",
   "metadata": {},
   "source": [
    "Explain KNN classification and expected outcomes_______"
   ]
  },
  {
   "cell_type": "markdown",
   "id": "6a7e7c22",
   "metadata": {},
   "source": [
    "<h2 data-nbr=\"B2\">Summarize One Assumption</h2>Summarize <b>one</b> assumption of the chosen classification method."
   ]
  },
  {
   "cell_type": "markdown",
   "id": "4e098b95",
   "metadata": {},
   "source": [
    "Summarize one KNN assumption_______"
   ]
  },
  {
   "cell_type": "markdown",
   "id": "3a81d88b",
   "metadata": {},
   "source": [
    "<h2 data-nbr=\"B3\">Justify Packages</h2>List the packages or libraries you have chosen for <b>Python</b> or R, and justify how each item on the list supports the analysis."
   ]
  },
  {
   "cell_type": "markdown",
   "id": "477c8ea9",
   "metadata": {},
   "source": [
    "<div class=\"impact\" data-hdr=\"Data Manipulation\">The pandas package enables common data analytics.</div>"
   ]
  },
  {
   "cell_type": "code",
   "execution_count": 2,
   "id": "99be3bf8",
   "metadata": {},
   "outputs": [],
   "source": [
    "# import and configure pandas\n",
    "import pandas as pd\n",
    "pd.set_option('precision',2)\n",
    "pd.set_option('max_columns',9)\n",
    "pd.set_option('display.width', None)"
   ]
  },
  {
   "cell_type": "markdown",
   "id": "0eccb17d",
   "metadata": {},
   "source": [
    "<div class=\"impact\" data-hdr=\"Scientific Comptuing\">Standard packages enable scientific computing and number crunching.</div>"
   ]
  },
  {
   "cell_type": "code",
   "execution_count": 3,
   "id": "9dc2bf3f",
   "metadata": {},
   "outputs": [],
   "source": [
    "# import and configure scientific computing\n",
    "import numpy as np\n",
    "import scipy.stats as stats\n",
    "import statsmodels.api as sm\n",
    "import statsmodels.formula.api as smf"
   ]
  },
  {
   "cell_type": "markdown",
   "id": "32ed3446",
   "metadata": {},
   "source": [
    "<div class=\"impact\" data-hdr=\"Modeling and Metrics\">Standard packages that enable modeling and metrics..</div>"
   ]
  },
  {
   "cell_type": "code",
   "execution_count": 4,
   "id": "f642e716",
   "metadata": {},
   "outputs": [],
   "source": [
    "# import and configure sklearn\n",
    "from sklearn.metrics import confusion_matrix\n",
    "from sklearn import preprocessing\n",
    "from sklearn.decomposition import PCA\n",
    "from sklearn.linear_model import LogisticRegression\n",
    "from sklearn.model_selection import train_test_split\n",
    "from sklearn.metrics import roc_auc_score\n",
    "from sklearn.metrics import roc_curve\n",
    "from sklearn.metrics import classification_report\n",
    "from sklearn import metrics\n",
    "from sklearn.model_selection import train_test_split\n",
    "from sklearn.neighbors import KNeighborsClassifier\n",
    "from sklearn.metrics import accuracy_score\n",
    "from sklearn.neighbors import NearestNeighbors"
   ]
  },
  {
   "cell_type": "markdown",
   "id": "6d090926",
   "metadata": {},
   "source": [
    "<div class=\"impact\" data-hdr=\"Plotting\">Matplotlib is a standard plotting library for Python that enables custom visualizations of the data.</div>"
   ]
  },
  {
   "cell_type": "code",
   "execution_count": 5,
   "id": "663f016f",
   "metadata": {},
   "outputs": [],
   "source": [
    "# import and configure matplotlib\n",
    "import matplotlib.pyplot as plt\n",
    "plt.rc(\"font\", size=14)\n",
    "%matplotlib inline"
   ]
  },
  {
   "cell_type": "markdown",
   "id": "f4bf42aa",
   "metadata": {},
   "source": [
    "<div class=\"impact\" data-hdr=\"Jupyter Notebook and IPython\">These libraries enable the Jupyter notebook to work with HTML code. And, I am able to apply custom CSS styles to the notebook.</div>"
   ]
  },
  {
   "cell_type": "code",
   "execution_count": 6,
   "id": "7d08000f",
   "metadata": {},
   "outputs": [],
   "source": [
    "# import and configure IPython.display\n",
    "from IPython.core.display import HTML\n",
    "from IPython.display import Image\n",
    "from IPython.display import display"
   ]
  },
  {
   "cell_type": "code",
   "execution_count": 7,
   "id": "a7c77151",
   "metadata": {},
   "outputs": [
    {
     "data": {
      "text/html": [
       "<style>\n",
       "\n",
       "body {\n",
       "    counter-reset: part-counter 0;\n",
       "}\n",
       "\n",
       "h1 {\n",
       "    margin: 0 0 0 0;\n",
       "    font-family: 'Times New Roman', serif;\n",
       "    font-size: 40px;\n",
       "    padding: 5px;\n",
       "    text-transform: uppercase;\n",
       "    letter-spacing: 5px;\n",
       "    color: #0000ff;\n",
       "}\n",
       "\n",
       ".part {\n",
       "    margin: 0 0 0 0;\n",
       "    font-family: 'Impact';\n",
       "    font-size: 20px;\n",
       "    padding: 5px;\n",
       "    text-transform: uppercase;\n",
       "    letter-spacing: 5px;\n",
       "    color: #000000;\n",
       "    background: inherit;\n",
       "}\n",
       "\n",
       ".part:before {\n",
       "    counter-increment: part-counter;\n",
       "    content: \"Part \" counter(part-counter, upper-roman)\": \";\n",
       "}\n",
       "\n",
       "h2 {\n",
       "    margin: 0 0 0 0;\n",
       "    font-family: 'Times New Roman', serif;\n",
       "    font-size: 36px;\n",
       "    padding: 5px;\n",
       "    text-transform: uppercase;\n",
       "    letter-spacing: 5px;\n",
       "    color: #0000ff;\n",
       "    background: inherit;\n",
       "\n",
       "}\n",
       "\n",
       "h2:before {\n",
       "    content: attr(data-nbr)\". \";\n",
       "}\n",
       "\n",
       "\n",
       "h3 {\n",
       "    background: #E6EFFA;\n",
       "    font-family: 'Impact';\n",
       "    font-size: 100%;\n",
       "    text-align: center;\n",
       "    text-transform: uppercase;\n",
       "    padding: 5px 0;\n",
       "\n",
       "}\n",
       "\n",
       ".title {\n",
       "    text-align: center; \n",
       "    line-height: 48px;\n",
       "    font-size: 20px; \n",
       "}\n",
       "\n",
       ".quote {\n",
       "    padding: 10px;\n",
       "    border: 1px groove gray;\n",
       "    background-color: rgb(202, 197, 198);\n",
       "}\n",
       "\n",
       ".impact {\n",
       "    font-family: 'Courier New';\n",
       "    font-size: 18px; \n",
       "    line-height: 24px;\n",
       "}\n",
       "\n",
       ".impact:before {\n",
       "    content: attr(data-hdr)\". \";\n",
       "    font-family: 'Impact';\n",
       "}\n",
       "    \n",
       ".step {\n",
       "    font-family: 'Courier New';\n",
       "    font-size: 18px; \n",
       "    line-height: 24px;\n",
       "    color: #000000;\n",
       "}\n",
       "\n",
       ".step:before {\n",
       "    content: \"Step \" attr(data-hdr)\" - \";\n",
       "    font-family: 'Impact';\n",
       "}\n",
       "\n",
       "p {\n",
       "    font-family: 'Courier New';\n",
       "    font-size: 18px; \n",
       "    color: #000000;\n",
       "    line-height: 24px;\n",
       "}\n",
       "\n",
       "ul.a {\n",
       "    list-style-position: outside;\n",
       "    list-style-type: upper-alpha;\n",
       "    line-height: 2.0;\n",
       "  }\n",
       "\n",
       ".apa {\n",
       "    padding-left: 4em;\n",
       "    text-indent: -4em;\n",
       "    background: powderblue;\n",
       "    font-size: 18px;\n",
       "    line-height: 2.0;\n",
       "}\n",
       "\n",
       ".apa:before {\n",
       "    content: attr(data-author) \" (\" attr(data-date) \"). \";\n",
       "}\n",
       "\n",
       ".apa:after {\n",
       "    content: \". Retrieved from: \" attr(data-url);\n",
       "}\n",
       "    \n",
       ".tick-mark {\n",
       "    position: relative;\n",
       "    display: inline-block;\n",
       "    width: 30px;\n",
       "    height: 30px;\n",
       "}\n",
       "\n",
       ".tick-mark::before {\n",
       "    position: absolute;\n",
       "    left: 0;\n",
       "    top: 50%;\n",
       "    height: 50%;\n",
       "    width: 3px;\n",
       "    background-color: #336699;\n",
       "    content: \"\";\n",
       "    transform: translateX(10px) rotate(-45deg);\n",
       "    transform-origin: left bottom;\n",
       "}\n",
       "\n",
       ".tick-mark::after {\n",
       "    position: absolute;\n",
       "    left: 0;\n",
       "    bottom: 0;\n",
       "    height: 3px;\n",
       "    width: 100%;\n",
       "    background-color: #336699;\n",
       "    content: \"\";\n",
       "    transform: translateX(10px) rotate(-45deg);\n",
       "    transform-origin: left bottom;\n",
       "}\n",
       "\n",
       "</style>"
      ],
      "text/plain": [
       "<IPython.core.display.HTML object>"
      ]
     },
     "execution_count": 7,
     "metadata": {},
     "output_type": "execute_result"
    }
   ],
   "source": [
    "HTML(open('custom.css', 'r').read()) # apply custom styles"
   ]
  },
  {
   "cell_type": "markdown",
   "id": "1370e713",
   "metadata": {},
   "source": [
    "<div class=\"impact\" data-hdr=\"Helper Functions\">In addition to above packages, the following functions are defined within the notebook to help with common tasks.</div>"
   ]
  },
  {
   "cell_type": "code",
   "execution_count": 8,
   "id": "16e7999f",
   "metadata": {},
   "outputs": [],
   "source": [
    "# helper function\n",
    "def plotDataset(ax, data, xFeature, yFeature, target, neighbors, showLabel=True, **kwargs):\n",
    "    \n",
    "    # Churn == True\n",
    "    subset = data.loc[data[target]==True]\n",
    "    ax.scatter(subset[xFeature], subset[yFeature], marker='o',\n",
    "              label=str(target)+'=True' if showLabel else None, color='C1', **kwargs)\n",
    "    \n",
    "    # Churn == False\n",
    "    subset = data.loc[data[target]==False]\n",
    "    ax.scatter(subset[xFeature], subset[yFeature], marker='D',\n",
    "              label=str(target)+'=False' if showLabel else None, color='C0', **kwargs)\n",
    "    \n",
    "    # labels\n",
    "    if data.shape[0] < 200:\n",
    "        for idx, row in data.iterrows():\n",
    "            ax.annotate(row.Number, (row[xFeature]+1, row[yFeature]+1))  "
   ]
  },
  {
   "cell_type": "markdown",
   "id": "57937026",
   "metadata": {},
   "source": [
    "<div class=\"part\">Data Preparation (III)</div>"
   ]
  },
  {
   "cell_type": "markdown",
   "id": "359f4930",
   "metadata": {},
   "source": [
    "<h2 data-nbr=\"C1\">Describe One Goal</h2>Describe <b>one</b> data preprocessing goal relevant to the classification method from part A1."
   ]
  },
  {
   "cell_type": "markdown",
   "id": "86c1319a",
   "metadata": {},
   "source": [
    "<div class=\"impact\" data-hdr=\"Data Goal\">In order to apply the KNN classification analysis to this problem, the company data must be imported into the Python environment and then the raw numerical data must be normalized. In addition, the company data will be broken up into two (2) subsets, 70% in a training dataset, and the remain 30% in a testing or validation dataset. The KNN will then use the training set to build the model, and it will use the test set to validate the model. The main goal for data preparation will be to define these subsets of data is a manner that is as simple and intuitive as possible, to allow anyone to follow the analysis throughout the notebook.</div>\n",
    "<ul class=\"a\">\n",
    "    <li><b>df</b> = the raw set of 10,000 customer records\n",
    "    <li><b>trainData</b> = a 70% subset of the raw data \n",
    "    <li><b>validData</b> = a 30% subset of the raw data\n",
    "    <li><b>churnNorm</b> = the standardized set of 10,000 customer records\n",
    "    <li><b>trainNorm</b> = a 70% subset of the standardized data. This will be created so that the index of records matches the index for <b>trainData</b>\n",
    "    <li><b>validNorm</b> = a 30% subset of the standardized data. This will be created so that the index of the records matches the index for <b>validData</b>\n",
    "    <li><b>X</b> the feature data from the standardized data (i.e. <b>MonthlyCharge</b>, and <b>Tenure</b>)\n",
    "    <li><b>y</b> = the target data from the standardized data (i.e. <b>Churn</b>)\n",
    "</ul>"
   ]
  },
  {
   "cell_type": "markdown",
   "id": "5f6d2781",
   "metadata": {},
   "source": [
    "<h2 data-nbr=\"C2\">Describe Variables</h2>Identify the initial data set variables that you will use to perform the analysis for the classification question from part A1, and classify each variable as continuous or categorical."
   ]
  },
  {
   "cell_type": "markdown",
   "id": "09830b09",
   "metadata": {},
   "source": [
    "For this analysis, I will consider two (2) features, <b>MonthlyCharge</b> and <b>Tenure</b>, and one (1) target, <b>Churn</b>."
   ]
  },
  {
   "cell_type": "markdown",
   "id": "bfebd834",
   "metadata": {},
   "source": [
    "<div class=\"impact\" data-hdr=\"Churn (Target)\">Whether the customer discontinued service within the last month (yes, no)</div>"
   ]
  },
  {
   "cell_type": "markdown",
   "id": "e69a10b2",
   "metadata": {},
   "source": [
    "<div class=\"impact\" data-hdr=\"Tenure\">Number of months the customer has stayed with the provider</div>"
   ]
  },
  {
   "cell_type": "markdown",
   "id": "7a54b428",
   "metadata": {},
   "source": [
    "<div class=\"impact\" data-hdr=\"MonthlyCharge\">The amount charged to the customer monthly. This valu e reflects an average per customer.</div>"
   ]
  },
  {
   "cell_type": "code",
   "execution_count": 9,
   "id": "bab9d644",
   "metadata": {},
   "outputs": [],
   "source": [
    "# define target and feature data\n",
    "features = ['MonthlyCharge','Tenure']\n",
    "target = 'Churn'"
   ]
  },
  {
   "cell_type": "code",
   "execution_count": 10,
   "id": "bf43d942",
   "metadata": {},
   "outputs": [
    {
     "data": {
      "text/html": [
       "<div>\n",
       "<style scoped>\n",
       "    .dataframe tbody tr th:only-of-type {\n",
       "        vertical-align: middle;\n",
       "    }\n",
       "\n",
       "    .dataframe tbody tr th {\n",
       "        vertical-align: top;\n",
       "    }\n",
       "\n",
       "    .dataframe thead th {\n",
       "        text-align: right;\n",
       "    }\n",
       "</style>\n",
       "<table border=\"1\" class=\"dataframe\">\n",
       "  <thead>\n",
       "    <tr style=\"text-align: right;\">\n",
       "      <th></th>\n",
       "      <th>MonthlyCharge</th>\n",
       "      <th>Tenure</th>\n",
       "      <th>Churn</th>\n",
       "      <th>Number</th>\n",
       "    </tr>\n",
       "  </thead>\n",
       "  <tbody>\n",
       "    <tr>\n",
       "      <th>0</th>\n",
       "      <td>172.46</td>\n",
       "      <td>6.80</td>\n",
       "      <td>False</td>\n",
       "      <td>0</td>\n",
       "    </tr>\n",
       "    <tr>\n",
       "      <th>1</th>\n",
       "      <td>222.66</td>\n",
       "      <td>14.46</td>\n",
       "      <td>True</td>\n",
       "      <td>1</td>\n",
       "    </tr>\n",
       "    <tr>\n",
       "      <th>2</th>\n",
       "      <td>252.64</td>\n",
       "      <td>1.47</td>\n",
       "      <td>True</td>\n",
       "      <td>2</td>\n",
       "    </tr>\n",
       "    <tr>\n",
       "      <th>3</th>\n",
       "      <td>214.95</td>\n",
       "      <td>4.44</td>\n",
       "      <td>False</td>\n",
       "      <td>3</td>\n",
       "    </tr>\n",
       "    <tr>\n",
       "      <th>4</th>\n",
       "      <td>220.12</td>\n",
       "      <td>8.61</td>\n",
       "      <td>True</td>\n",
       "      <td>4</td>\n",
       "    </tr>\n",
       "    <tr>\n",
       "      <th>5</th>\n",
       "      <td>92.46</td>\n",
       "      <td>11.92</td>\n",
       "      <td>False</td>\n",
       "      <td>5</td>\n",
       "    </tr>\n",
       "    <tr>\n",
       "      <th>6</th>\n",
       "      <td>149.98</td>\n",
       "      <td>16.12</td>\n",
       "      <td>False</td>\n",
       "      <td>6</td>\n",
       "    </tr>\n",
       "    <tr>\n",
       "      <th>7</th>\n",
       "      <td>117.49</td>\n",
       "      <td>9.84</td>\n",
       "      <td>False</td>\n",
       "      <td>7</td>\n",
       "    </tr>\n",
       "    <tr>\n",
       "      <th>8</th>\n",
       "      <td>232.62</td>\n",
       "      <td>8.06</td>\n",
       "      <td>True</td>\n",
       "      <td>8</td>\n",
       "    </tr>\n",
       "    <tr>\n",
       "      <th>9</th>\n",
       "      <td>129.96</td>\n",
       "      <td>11.56</td>\n",
       "      <td>True</td>\n",
       "      <td>9</td>\n",
       "    </tr>\n",
       "  </tbody>\n",
       "</table>\n",
       "</div>"
      ],
      "text/plain": [
       "   MonthlyCharge  Tenure  Churn  Number\n",
       "0         172.46    6.80  False       0\n",
       "1         222.66   14.46   True       1\n",
       "2         252.64    1.47   True       2\n",
       "3         214.95    4.44  False       3\n",
       "4         220.12    8.61   True       4\n",
       "5          92.46   11.92  False       5\n",
       "6         149.98   16.12  False       6\n",
       "7         117.49    9.84  False       7\n",
       "8         232.62    8.06   True       8\n",
       "9         129.96   11.56   True       9"
      ]
     },
     "execution_count": 10,
     "metadata": {},
     "output_type": "execute_result"
    }
   ],
   "source": [
    "# read subset of company's customer data from csv file\n",
    "df = pd.read_csv('churn_clean.csv', \n",
    "        usecols=['MonthlyCharge','Tenure','Churn']) \n",
    "# convert churn from object [Yes No] to bool [True False]\n",
    "df['Churn'] = df['Churn'].replace({\"No\":False, \"Yes\":True})\n",
    "df['Churn'] = df['Churn'].astype('bool')\n",
    "df = df.iloc[::100, :] # temp smaller data for trouble shooting...\n",
    "df.reset_index(drop=True, inplace=True)\n",
    "df['Number'] = df.index\n",
    "columns=['MonthlyCharge','Tenure','Churn','Number']\n",
    "df = df[columns]\n",
    "df.head(10)"
   ]
  },
  {
   "cell_type": "code",
   "execution_count": 11,
   "id": "94f8e994",
   "metadata": {},
   "outputs": [
    {
     "name": "stdout",
     "output_type": "stream",
     "text": [
      "\n",
      "1. MonthlyCharge is numerical (CONTINUOUS).\n",
      "\n",
      "2. Tenure is numerical (CONTINUOUS).\n",
      "\n",
      "3. Churn is boolean (BINARY): [False  True].\n",
      "\n",
      "4. Number is numerical (CONTINUOUS).\n"
     ]
    }
   ],
   "source": [
    "# identify the initial set of variables\n",
    "for idx, c in enumerate(df.columns):\n",
    "    if df.dtypes[c] in ('float', 'int', 'int64'):\n",
    "        print('\\n{}. {} is numerical (CONTINUOUS).'.format(idx+1, c))\n",
    "    elif df.dtypes[c] == bool:\n",
    "        print('\\n{}. {} is boolean (BINARY): {}.'.format(idx+1,c,df[c].unique()))\n",
    "    else:\n",
    "        print('\\n{}. {} is categorical (CATEGORICAL): {}.'.format(idx+1,c,df[c].unique()))"
   ]
  },
  {
   "cell_type": "code",
   "execution_count": 12,
   "id": "7236f183",
   "metadata": {},
   "outputs": [
    {
     "data": {
      "text/html": [
       "<div>\n",
       "<style scoped>\n",
       "    .dataframe tbody tr th:only-of-type {\n",
       "        vertical-align: middle;\n",
       "    }\n",
       "\n",
       "    .dataframe tbody tr th {\n",
       "        vertical-align: top;\n",
       "    }\n",
       "\n",
       "    .dataframe thead th {\n",
       "        text-align: right;\n",
       "    }\n",
       "</style>\n",
       "<table border=\"1\" class=\"dataframe\">\n",
       "  <thead>\n",
       "    <tr style=\"text-align: right;\">\n",
       "      <th></th>\n",
       "      <th>MonthlyCharge</th>\n",
       "      <th>Tenure</th>\n",
       "    </tr>\n",
       "  </thead>\n",
       "  <tbody>\n",
       "    <tr>\n",
       "      <th>count</th>\n",
       "      <td>100.00</td>\n",
       "      <td>100.00</td>\n",
       "    </tr>\n",
       "    <tr>\n",
       "      <th>mean</th>\n",
       "      <td>172.59</td>\n",
       "      <td>33.91</td>\n",
       "    </tr>\n",
       "    <tr>\n",
       "      <th>std</th>\n",
       "      <td>46.68</td>\n",
       "      <td>26.42</td>\n",
       "    </tr>\n",
       "    <tr>\n",
       "      <th>min</th>\n",
       "      <td>79.98</td>\n",
       "      <td>1.47</td>\n",
       "    </tr>\n",
       "    <tr>\n",
       "      <th>25%</th>\n",
       "      <td>137.50</td>\n",
       "      <td>8.13</td>\n",
       "    </tr>\n",
       "    <tr>\n",
       "      <th>50%</th>\n",
       "      <td>162.49</td>\n",
       "      <td>29.49</td>\n",
       "    </tr>\n",
       "    <tr>\n",
       "      <th>75%</th>\n",
       "      <td>200.15</td>\n",
       "      <td>60.36</td>\n",
       "    </tr>\n",
       "    <tr>\n",
       "      <th>max</th>\n",
       "      <td>287.64</td>\n",
       "      <td>71.85</td>\n",
       "    </tr>\n",
       "  </tbody>\n",
       "</table>\n",
       "</div>"
      ],
      "text/plain": [
       "       MonthlyCharge  Tenure\n",
       "count         100.00  100.00\n",
       "mean          172.59   33.91\n",
       "std            46.68   26.42\n",
       "min            79.98    1.47\n",
       "25%           137.50    8.13\n",
       "50%           162.49   29.49\n",
       "75%           200.15   60.36\n",
       "max           287.64   71.85"
      ]
     },
     "execution_count": 12,
     "metadata": {},
     "output_type": "execute_result"
    }
   ],
   "source": [
    "# describe numeric feature data\n",
    "df[features].describe()"
   ]
  },
  {
   "cell_type": "code",
   "execution_count": 13,
   "id": "7fed76d5",
   "metadata": {},
   "outputs": [
    {
     "name": "stdout",
     "output_type": "stream",
     "text": [
      "<class 'pandas.core.frame.DataFrame'>\n",
      "RangeIndex: 100 entries, 0 to 99\n",
      "Data columns (total 4 columns):\n",
      " #   Column         Non-Null Count  Dtype  \n",
      "---  ------         --------------  -----  \n",
      " 0   MonthlyCharge  100 non-null    float64\n",
      " 1   Tenure         100 non-null    float64\n",
      " 2   Churn          100 non-null    bool   \n",
      " 3   Number         100 non-null    int64  \n",
      "dtypes: bool(1), float64(2), int64(1)\n",
      "memory usage: 2.6 KB\n"
     ]
    }
   ],
   "source": [
    "# use .info to show the structure of the data\n",
    "df.info()"
   ]
  },
  {
   "cell_type": "code",
   "execution_count": 14,
   "id": "a8c08a7a",
   "metadata": {},
   "outputs": [
    {
     "data": {
      "text/plain": [
       "(100, 4)"
      ]
     },
     "execution_count": 14,
     "metadata": {},
     "output_type": "execute_result"
    }
   ],
   "source": [
    "# use .shape to show total number of row and cols\n",
    "df.shape"
   ]
  },
  {
   "cell_type": "code",
   "execution_count": 15,
   "id": "46728271",
   "metadata": {},
   "outputs": [
    {
     "data": {
      "text/plain": [
       "100"
      ]
     },
     "execution_count": 15,
     "metadata": {},
     "output_type": "execute_result"
    }
   ],
   "source": [
    "df.shape[0]"
   ]
  },
  {
   "cell_type": "markdown",
   "id": "21fd871b",
   "metadata": {},
   "source": [
    "<div class=\"impact\" data-hdr=\"Summary\">The company's customer raw data has been read into the df variable and consists of 10,000 customer records with three (3) variables each. Two (2) of the variables will be used as features and are continuous (numerical) data, and the the third variable is our target, binary variable.</div>"
   ]
  },
  {
   "cell_type": "markdown",
   "id": "31286e58",
   "metadata": {},
   "source": [
    "<h2 data-nbr=\"C3\">Explain Steps</h2>Explain each of the steps used to prepare the data for the analysis. Identify the code segment for each step."
   ]
  },
  {
   "cell_type": "markdown",
   "id": "c15cc9b1",
   "metadata": {},
   "source": [
    "<div class=\"step\" data-hdr=\"1\">Read in selected company data</div>Applicable customer data (<b>Churn</b>, <b>MonthlyCharge</b> and <b>Tenure</b>) from the company data was read into Python environment using pandas .read_cs() function using the usecols=[] option. This was completed in section C2 [9] above."
   ]
  },
  {
   "cell_type": "markdown",
   "id": "7eda7df0",
   "metadata": {},
   "source": [
    "<div class=\"step\" data-hdr=\"2\">Convert cateogrical data</div>Initially, the <b>Churn</b> variable was categorical, each row was Yes or No values, so this step converted the categorical data to boolean data using pandas .replace() function. In Python, boolean data is considered as numerical data, 1 or 0, or type(int). This was completed in section C2 [9] above."
   ]
  },
  {
   "cell_type": "markdown",
   "id": "add41c7e",
   "metadata": {},
   "source": [
    "<div class=\"step\" data-hdr=\"3\">Describe initial set of variables</div>For each variable of data, describe the data whether numerical or categorical. I used a function I created to loop through and list each one and a short description. Also, use pandas .describe() method to show descriptive statistics for numerical data. This was completed in section C2 [10] and C2[11] above."
   ]
  },
  {
   "cell_type": "markdown",
   "id": "80512815",
   "metadata": {},
   "source": [
    "<div class=\"step\" data-hdr=\"4\">Quick check for null values</div>The company data was previously cleaned and prepared, so I do not expect to find null values, but using the pandas .info() I can observe quickly that there are not any null values for any of the 10,000 customer records. This was completed in section C2 [12] above."
   ]
  },
  {
   "cell_type": "markdown",
   "id": "1d6ffdf1",
   "metadata": {},
   "source": [
    "<h2 data-nbr=\"C4\">Provide Clean Data</h2>Provide a copy of the cleaned data set."
   ]
  },
  {
   "cell_type": "code",
   "execution_count": 16,
   "id": "aeaeda5b",
   "metadata": {},
   "outputs": [
    {
     "name": "stdout",
     "output_type": "stream",
     "text": [
      "{bool: ['Churn'], int64: ['Number'], float64: ['MonthlyCharge', 'Tenure']}\n"
     ]
    }
   ],
   "source": [
    "# provide copy of cleaned data\n",
    "df.to_csv('d209_task1_raw_data.csv', index=False, header=True)\n",
    "print(df.columns.to_series().groupby(df.dtypes).groups)"
   ]
  },
  {
   "cell_type": "markdown",
   "id": "2689ce99",
   "metadata": {},
   "source": [
    "<div class=\"part\">Analysis (IV)</div>"
   ]
  },
  {
   "cell_type": "markdown",
   "id": "8be3ef10",
   "metadata": {},
   "source": [
    "<h2 data-nbr=\"D1\">Split Data</h2>Split the data into training and test data sets and provide the file(s)."
   ]
  },
  {
   "cell_type": "code",
   "execution_count": 17,
   "id": "3d7972c4",
   "metadata": {},
   "outputs": [
    {
     "name": "stdout",
     "output_type": "stream",
     "text": [
      "<class 'pandas.core.frame.DataFrame'>\n",
      "Int64Index: 70 entries, 39 to 82\n",
      "Data columns (total 4 columns):\n",
      " #   Column         Non-Null Count  Dtype  \n",
      "---  ------         --------------  -----  \n",
      " 0   MonthlyCharge  70 non-null     float64\n",
      " 1   Tenure         70 non-null     float64\n",
      " 2   Churn          70 non-null     bool   \n",
      " 3   Number         70 non-null     int64  \n",
      "dtypes: bool(1), float64(2), int64(1)\n",
      "memory usage: 2.3 KB\n",
      "None\n",
      "<class 'pandas.core.frame.DataFrame'>\n",
      "Int64Index: 30 entries, 37 to 47\n",
      "Data columns (total 4 columns):\n",
      " #   Column         Non-Null Count  Dtype  \n",
      "---  ------         --------------  -----  \n",
      " 0   MonthlyCharge  30 non-null     float64\n",
      " 1   Tenure         30 non-null     float64\n",
      " 2   Churn          30 non-null     bool   \n",
      " 3   Number         30 non-null     int64  \n",
      "dtypes: bool(1), float64(2), int64(1)\n",
      "memory usage: 990.0 bytes\n",
      "None\n"
     ]
    }
   ],
   "source": [
    "# train test split raw data\n",
    "trainData, validData = train_test_split(df, test_size=0.3, random_state=13)\n",
    "trainData.to_csv('d209_task1_trainData.csv', index=False, header=True)\n",
    "validData.to_csv('d209_task1_validData.csv', index=False, header=True)\n",
    "print(trainData.info())\n",
    "print(validData.info())"
   ]
  },
  {
   "cell_type": "markdown",
   "id": "e142eb57",
   "metadata": {},
   "source": [
    "<h2 data-nbr=\"D2\">Describe Analysis</h2>Describe the analysis technique you used to appropriately analyze the data. Include screenshots of the intermediate calculations you performed."
   ]
  },
  {
   "cell_type": "markdown",
   "id": "bef26836",
   "metadata": {},
   "source": [
    "<div class=\"impact\" data-hdr=\"Data Exploratory Analysis\">I will create a scatter plot of the two (2) features showing differences between Churn=True and Churn=False customers. I will plot the new customer in the same plot to see where the new and existing customers are similar. We will then see what we expect the classification results will yield in the end.</div>"
   ]
  },
  {
   "cell_type": "code",
   "execution_count": 18,
   "id": "60bb0b46",
   "metadata": {},
   "outputs": [
    {
     "data": {
      "image/png": "[encoded data removed]",
      "text/plain": [
       "<Figure size 1332x756 with 1 Axes>"
      ]
     },
     "metadata": {
      "needs_background": "light"
     },
     "output_type": "display_data"
    }
   ],
   "source": [
    "# scatter plot using the plotDataset() helper function\n",
    "xFeature = 'MonthlyCharge' \n",
    "yFeature = 'Tenure'\n",
    "neighbors = []\n",
    "fig, ax = plt.subplots()\n",
    "fig.set_size_inches(18.5, 10.5)\n",
    "plotDataset(ax, trainData, xFeature, yFeature, target, neighbors)\n",
    "plotDataset(ax, validData, xFeature, yFeature, target, neighbors, showLabel=False, facecolors='none')\n",
    "\n",
    "# vertical lines for means for xFeature\n",
    "c = 'black'\n",
    "ax.axvline(trainData[xFeature].mean(), color=c, lw=3)\n",
    "ax.axvline(trainData[xFeature].mean()+1*trainData[xFeature].std(), color=c, lw=2)\n",
    "ax.axvline(trainData[xFeature].mean()-1*trainData[xFeature].std(), color=c, lw=2)\n",
    "ax.axvline(trainData[xFeature].mean()+2*trainData[xFeature].std(), color=c, lw=1)\n",
    "ax.axvline(trainData[xFeature].mean()-2*trainData[xFeature].std(), color=c, lw=1)\n",
    "\n",
    "# horizontal lines for means for yFeature\n",
    "c = 'black'\n",
    "ax.axhline(trainData[yFeature].mean(), color=c, lw=3)\n",
    "ax.axhline(trainData[yFeature].mean()+1*trainData[yFeature].std(), color=c, lw=2)\n",
    "ax.axhline(trainData[yFeature].mean()-1*trainData[yFeature].std(), color=c, lw=2)\n",
    "ax.axhline(trainData[yFeature].mean()+2*trainData[yFeature].std(), color=c, lw=1)\n",
    "ax.axhline(trainData[yFeature].mean()-2*trainData[yFeature].std(), color=c, lw=1)\n",
    "\n",
    "# plot new customer as a Star\n",
    "ax.scatter(newCustomer.MonthlyCharge, newCustomer.Tenure, marker='*',\n",
    "          label='New customer', color='black', s=270)\n",
    "\n",
    "title = str(xFeature) + ' vs ' + str(yFeature) + ' Scatter Plot'\n",
    "plt.title(title)\n",
    "plt.xlabel(xFeature) \n",
    "plt.ylabel(yFeature)\n",
    "ax.set_xlim(df[xFeature].min(),df[xFeature].max())\n",
    "ax.set_ylim(df[yFeature].min(),df[yFeature].max())\n",
    "handles, labels = ax.get_legend_handles_labels()\n",
    "ax.legend(handles, labels, loc='upper center', bbox_to_anchor=(0.5, -0.05),\n",
    "          fancybox=True, shadow=True, ncol=5)\n",
    "file = 'd209_fig_4_1_' + title.replace(' ','_') + '.png'\n",
    "fig.savefig(file, dpi=100)\n",
    "#plt.close(1)\n",
    "plt.show()"
   ]
  },
  {
   "cell_type": "markdown",
   "id": "9e246c74",
   "metadata": {},
   "source": [
    "<div class=\"impact\" data-hdr=\"FIGURE 4.1\">SCATTER PLOT OF MONTHLYCHARGE VS TENURE FOR TRAINING SET (SOLID MARKERS) AND TEST SET (HOLLOW MARKERS) AND THE NEW CUSTOMER (STAR MARKER) TO BE CLASSIFIED.</div>"
   ]
  },
  {
   "cell_type": "markdown",
   "id": "387c5c22",
   "metadata": {},
   "source": [
    "<div class=\"impact\" data-hdr=\"Scale Data\">The z-score method (often called standardization) transforms the info into distribution with a mean of 0 and a typical deviation of 1. Each standardized value is computed by subtracting the mean of the corresponding feature then dividing by the quality deviation. I will use the sklearn .StandardScaler() method to create a standardized data set.</div>https://www.geeksforgeeks.org/data-normalization-with-pandas/"
   ]
  },
  {
   "cell_type": "code",
   "execution_count": 19,
   "id": "11fd3dba",
   "metadata": {},
   "outputs": [
    {
     "data": {
      "text/plain": [
       "StandardScaler()"
      ]
     },
     "execution_count": 19,
     "metadata": {},
     "output_type": "execute_result"
    }
   ],
   "source": [
    "# use training data to learn the transformation\n",
    "scaler = preprocessing.StandardScaler()\n",
    "scaler.fit(trainData[['MonthlyCharge','Tenure']])"
   ]
  },
  {
   "cell_type": "code",
   "execution_count": 20,
   "id": "58b2beca",
   "metadata": {},
   "outputs": [],
   "source": [
    "# transform the full dataset\n",
    "churnNorm = pd.concat([pd.DataFrame(scaler.transform(df[features]),\n",
    "            columns=['zMonthlyCharge','zTenure']),\n",
    "            df[['Churn','Number']]], axis=1)\n",
    "trainNorm = churnNorm.iloc[trainData.index]\n",
    "validNorm = churnNorm.iloc[validData.index]"
   ]
  },
  {
   "cell_type": "code",
   "execution_count": 21,
   "id": "cfe53532",
   "metadata": {},
   "outputs": [
    {
     "name": "stdout",
     "output_type": "stream",
     "text": [
      "<class 'pandas.core.frame.DataFrame'>\n",
      "RangeIndex: 100 entries, 0 to 99\n",
      "Data columns (total 4 columns):\n",
      " #   Column          Non-Null Count  Dtype  \n",
      "---  ------          --------------  -----  \n",
      " 0   zMonthlyCharge  100 non-null    float64\n",
      " 1   zTenure         100 non-null    float64\n",
      " 2   Churn           100 non-null    bool   \n",
      " 3   Number          100 non-null    int64  \n",
      "dtypes: bool(1), float64(2), int64(1)\n",
      "memory usage: 2.6 KB\n"
     ]
    }
   ],
   "source": [
    "churnNorm.info()"
   ]
  },
  {
   "cell_type": "code",
   "execution_count": 22,
   "id": "7a408f8c",
   "metadata": {},
   "outputs": [
    {
     "name": "stdout",
     "output_type": "stream",
     "text": [
      "   zMonthlyCharge  zTenure\n",
      "0           -1.02    -1.12\n",
      "   MonthlyCharge  Tenure\n",
      "0          120.0     5.0\n"
     ]
    }
   ],
   "source": [
    "# scale new customer data\n",
    "newCustomerNorm = pd.DataFrame(scaler.transform(newCustomer),\n",
    "        columns=['zMonthlyCharge', 'zTenure'])\n",
    "print(newCustomerNorm.round(2))\n",
    "print(newCustomer.round(2))"
   ]
  },
  {
   "cell_type": "code",
   "execution_count": 23,
   "id": "ada9aec9",
   "metadata": {},
   "outputs": [
    {
     "data": {
      "text/html": [
       "<div>\n",
       "<style scoped>\n",
       "    .dataframe tbody tr th:only-of-type {\n",
       "        vertical-align: middle;\n",
       "    }\n",
       "\n",
       "    .dataframe tbody tr th {\n",
       "        vertical-align: top;\n",
       "    }\n",
       "\n",
       "    .dataframe thead th {\n",
       "        text-align: right;\n",
       "    }\n",
       "</style>\n",
       "<table border=\"1\" class=\"dataframe\">\n",
       "  <thead>\n",
       "    <tr style=\"text-align: right;\">\n",
       "      <th></th>\n",
       "      <th>zMonthlyCharge</th>\n",
       "      <th>zTenure</th>\n",
       "      <th>Churn</th>\n",
       "      <th>Number</th>\n",
       "    </tr>\n",
       "  </thead>\n",
       "  <tbody>\n",
       "    <tr>\n",
       "      <th>28</th>\n",
       "      <td>-1.08</td>\n",
       "      <td>-1.09</td>\n",
       "      <td>True</td>\n",
       "      <td>28</td>\n",
       "    </tr>\n",
       "    <tr>\n",
       "      <th>7</th>\n",
       "      <td>-1.08</td>\n",
       "      <td>-0.93</td>\n",
       "      <td>False</td>\n",
       "      <td>7</td>\n",
       "    </tr>\n",
       "    <tr>\n",
       "      <th>22</th>\n",
       "      <td>-0.91</td>\n",
       "      <td>-0.90</td>\n",
       "      <td>False</td>\n",
       "      <td>22</td>\n",
       "    </tr>\n",
       "    <tr>\n",
       "      <th>27</th>\n",
       "      <td>-0.79</td>\n",
       "      <td>-0.99</td>\n",
       "      <td>True</td>\n",
       "      <td>27</td>\n",
       "    </tr>\n",
       "    <tr>\n",
       "      <th>48</th>\n",
       "      <td>-0.62</td>\n",
       "      <td>-1.08</td>\n",
       "      <td>False</td>\n",
       "      <td>48</td>\n",
       "    </tr>\n",
       "    <tr>\n",
       "      <th>25</th>\n",
       "      <td>-0.62</td>\n",
       "      <td>-1.18</td>\n",
       "      <td>False</td>\n",
       "      <td>25</td>\n",
       "    </tr>\n",
       "    <tr>\n",
       "      <th>13</th>\n",
       "      <td>-1.36</td>\n",
       "      <td>-0.88</td>\n",
       "      <td>True</td>\n",
       "      <td>13</td>\n",
       "    </tr>\n",
       "  </tbody>\n",
       "</table>\n",
       "</div>"
      ],
      "text/plain": [
       "    zMonthlyCharge  zTenure  Churn  Number\n",
       "28           -1.08    -1.09   True      28\n",
       "7            -1.08    -0.93  False       7\n",
       "22           -0.91    -0.90  False      22\n",
       "27           -0.79    -0.99   True      27\n",
       "48           -0.62    -1.08  False      48\n",
       "25           -0.62    -1.18  False      25\n",
       "13           -1.36    -0.88   True      13"
      ]
     },
     "execution_count": 23,
     "metadata": {},
     "output_type": "execute_result"
    }
   ],
   "source": [
    "# use NearestNeighbors from scikit-learn to compute knn\n",
    "knn = NearestNeighbors(n_neighbors=7)\n",
    "knn.fit(trainNorm.iloc[:,0:2])\n",
    "distances, indices = knn.kneighbors(newCustomerNorm)\n",
    "trainNorm.iloc[indices[0],:] "
   ]
  },
  {
   "cell_type": "code",
   "execution_count": 24,
   "id": "9569135a",
   "metadata": {},
   "outputs": [],
   "source": [
    "# Calculating and plot error rate for range of k-values\n",
    "train_X = trainNorm[['zMonthlyCharge','zTenure']]\n",
    "train_y = trainNorm['Churn']\n",
    "valid_X = validNorm[['zMonthlyCharge','zTenure']]\n",
    "valid_y = validNorm['Churn']\n",
    "error = []\n",
    "for i in range(1, 20):\n",
    "    knn = KNeighborsClassifier(n_neighbors=i)\n",
    "    knn.fit(train_X, train_y)\n",
    "    pred_i = knn.predict(valid_X)\n",
    "    error.append(np.mean(pred_i != valid_y))\n",
    "fig, ax = plt.subplots()\n",
    "fig.set_size_inches(18.5, 10.5)\n",
    "plt.plot(range(1, 20), error, color='red', linestyle='dashed', marker='o',\n",
    "         markerfacecolor='blue', markersize=10)\n",
    "title = 'Error Rate by k-value'\n",
    "plt.title(title)\n",
    "plt.xlabel('K Value')\n",
    "plt.ylabel('Mean Error')\n",
    "file = 'd209_fig_4_2_' + title.replace(' ','_') + '.png'\n",
    "fig.savefig(file, dpi=100)\n",
    "plt.close(1)"
   ]
  },
  {
   "cell_type": "raw",
   "id": "51afabba",
   "metadata": {},
   "source": [
    "<div style=\"page-break-after: always;\"></div>"
   ]
  },
  {
   "cell_type": "code",
   "execution_count": 25,
   "id": "9e7ec580",
   "metadata": {},
   "outputs": [
    {
     "name": "stdout",
     "output_type": "stream",
     "text": [
      "Image retrieved from: d209_fig_4_2_Error_Rate_by_k-value.png\n"
     ]
    },
    {
     "data": {
      "image/png": "[encoded data removed]",
      "text/plain": [
       "<IPython.core.display.Image object>"
      ]
     },
     "execution_count": 25,
     "metadata": {},
     "output_type": "execute_result"
    }
   ],
   "source": [
    "print('Image retrieved from: {}'.format(file))\n",
    "Image(filename=file) "
   ]
  },
  {
   "cell_type": "markdown",
   "id": "4f410a3c",
   "metadata": {},
   "source": [
    "<div class=\"impact\" data-hdr=\"FIGURE 4.2\">ERROR RATE BY K-VALUE</div>"
   ]
  },
  {
   "cell_type": "markdown",
   "id": "21e7d641",
   "metadata": {},
   "source": [
    "<div class=\"impact\" data-hdr=\"Final Prediction\">Calculate final prediction using the complete set of scaled data. Select a value for k from the figure above, let's select k=11 which looks like it should have about 84% accurary.</div>"
   ]
  },
  {
   "cell_type": "code",
   "execution_count": 45,
   "id": "89f1ed17",
   "metadata": {},
   "outputs": [
    {
     "name": "stdout",
     "output_type": "stream",
     "text": [
      "Prediction for new customer (based on k=7 nearest neighbors):\n",
      "   zMonthlyCharge  zTenure\n",
      "0           -1.02    -1.12 is [ True]\n",
      "Distances:  [[0.06897883 0.17126197 0.1980875  0.25101398 0.26285869 0.3419213\n",
      "  0.39777547]]\n",
      "Indices:  [[28 33  7 22 27  9 48]]\n",
      "Max: 0.3977754707666734\n"
     ]
    }
   ],
   "source": [
    "# retrain with full data.\n",
    "X = churnNorm[['zMonthlyCharge','zTenure']]\n",
    "y = churnNorm['Churn']\n",
    "k=7\n",
    "knn = KNeighborsClassifier(n_neighbors=k).fit(X, y)\n",
    "distances, indices = knn.kneighbors(newCustomerNorm)\n",
    "print('Prediction for new customer (based on k={} nearest neighbors):\\n{} is {}'.format(k, newCustomerNorm, knn.predict(newCustomerNorm)))\n",
    "print('Distances: ',distances)\n",
    "print('Indices: ',indices)\n",
    "print('Max:', distances.max())"
   ]
  },
  {
   "cell_type": "code",
   "execution_count": 46,
   "id": "4acd454c",
   "metadata": {},
   "outputs": [
    {
     "data": {
      "text/html": [
       "<div>\n",
       "<style scoped>\n",
       "    .dataframe tbody tr th:only-of-type {\n",
       "        vertical-align: middle;\n",
       "    }\n",
       "\n",
       "    .dataframe tbody tr th {\n",
       "        vertical-align: top;\n",
       "    }\n",
       "\n",
       "    .dataframe thead th {\n",
       "        text-align: right;\n",
       "    }\n",
       "</style>\n",
       "<table border=\"1\" class=\"dataframe\">\n",
       "  <thead>\n",
       "    <tr style=\"text-align: right;\">\n",
       "      <th></th>\n",
       "      <th>zMonthlyCharge</th>\n",
       "      <th>zTenure</th>\n",
       "      <th>Churn</th>\n",
       "      <th>Number</th>\n",
       "    </tr>\n",
       "  </thead>\n",
       "  <tbody>\n",
       "    <tr>\n",
       "      <th>28</th>\n",
       "      <td>-1.08</td>\n",
       "      <td>-1.09</td>\n",
       "      <td>True</td>\n",
       "      <td>28</td>\n",
       "    </tr>\n",
       "    <tr>\n",
       "      <th>33</th>\n",
       "      <td>-0.85</td>\n",
       "      <td>-1.15</td>\n",
       "      <td>True</td>\n",
       "      <td>33</td>\n",
       "    </tr>\n",
       "    <tr>\n",
       "      <th>7</th>\n",
       "      <td>-1.08</td>\n",
       "      <td>-0.93</td>\n",
       "      <td>False</td>\n",
       "      <td>7</td>\n",
       "    </tr>\n",
       "    <tr>\n",
       "      <th>22</th>\n",
       "      <td>-0.91</td>\n",
       "      <td>-0.90</td>\n",
       "      <td>False</td>\n",
       "      <td>22</td>\n",
       "    </tr>\n",
       "    <tr>\n",
       "      <th>27</th>\n",
       "      <td>-0.79</td>\n",
       "      <td>-0.99</td>\n",
       "      <td>True</td>\n",
       "      <td>27</td>\n",
       "    </tr>\n",
       "    <tr>\n",
       "      <th>9</th>\n",
       "      <td>-0.79</td>\n",
       "      <td>-0.87</td>\n",
       "      <td>True</td>\n",
       "      <td>9</td>\n",
       "    </tr>\n",
       "    <tr>\n",
       "      <th>48</th>\n",
       "      <td>-0.62</td>\n",
       "      <td>-1.08</td>\n",
       "      <td>False</td>\n",
       "      <td>48</td>\n",
       "    </tr>\n",
       "  </tbody>\n",
       "</table>\n",
       "</div>"
      ],
      "text/plain": [
       "    zMonthlyCharge  zTenure  Churn  Number\n",
       "28           -1.08    -1.09   True      28\n",
       "33           -0.85    -1.15   True      33\n",
       "7            -1.08    -0.93  False       7\n",
       "22           -0.91    -0.90  False      22\n",
       "27           -0.79    -0.99   True      27\n",
       "9            -0.79    -0.87   True       9\n",
       "48           -0.62    -1.08  False      48"
      ]
     },
     "execution_count": 46,
     "metadata": {},
     "output_type": "execute_result"
    }
   ],
   "source": [
    "# list neighbors from scaled data\n",
    "churnNorm.iloc[indices[0],:]"
   ]
  },
  {
   "cell_type": "code",
   "execution_count": 47,
   "id": "1481ab55",
   "metadata": {},
   "outputs": [
    {
     "data": {
      "text/html": [
       "<div>\n",
       "<style scoped>\n",
       "    .dataframe tbody tr th:only-of-type {\n",
       "        vertical-align: middle;\n",
       "    }\n",
       "\n",
       "    .dataframe tbody tr th {\n",
       "        vertical-align: top;\n",
       "    }\n",
       "\n",
       "    .dataframe thead th {\n",
       "        text-align: right;\n",
       "    }\n",
       "</style>\n",
       "<table border=\"1\" class=\"dataframe\">\n",
       "  <thead>\n",
       "    <tr style=\"text-align: right;\">\n",
       "      <th></th>\n",
       "      <th>MonthlyCharge</th>\n",
       "      <th>Tenure</th>\n",
       "      <th>Churn</th>\n",
       "      <th>Number</th>\n",
       "    </tr>\n",
       "  </thead>\n",
       "  <tbody>\n",
       "    <tr>\n",
       "      <th>28</th>\n",
       "      <td>117.44</td>\n",
       "      <td>5.95</td>\n",
       "      <td>True</td>\n",
       "      <td>28</td>\n",
       "    </tr>\n",
       "    <tr>\n",
       "      <th>33</th>\n",
       "      <td>127.51</td>\n",
       "      <td>4.46</td>\n",
       "      <td>True</td>\n",
       "      <td>33</td>\n",
       "    </tr>\n",
       "    <tr>\n",
       "      <th>7</th>\n",
       "      <td>117.49</td>\n",
       "      <td>9.84</td>\n",
       "      <td>False</td>\n",
       "      <td>7</td>\n",
       "    </tr>\n",
       "    <tr>\n",
       "      <th>22</th>\n",
       "      <td>124.96</td>\n",
       "      <td>10.73</td>\n",
       "      <td>False</td>\n",
       "      <td>22</td>\n",
       "    </tr>\n",
       "    <tr>\n",
       "      <th>27</th>\n",
       "      <td>129.98</td>\n",
       "      <td>8.44</td>\n",
       "      <td>True</td>\n",
       "      <td>27</td>\n",
       "    </tr>\n",
       "    <tr>\n",
       "      <th>9</th>\n",
       "      <td>129.96</td>\n",
       "      <td>11.56</td>\n",
       "      <td>True</td>\n",
       "      <td>9</td>\n",
       "    </tr>\n",
       "    <tr>\n",
       "      <th>48</th>\n",
       "      <td>137.47</td>\n",
       "      <td>6.14</td>\n",
       "      <td>False</td>\n",
       "      <td>48</td>\n",
       "    </tr>\n",
       "  </tbody>\n",
       "</table>\n",
       "</div>"
      ],
      "text/plain": [
       "    MonthlyCharge  Tenure  Churn  Number\n",
       "28         117.44    5.95   True      28\n",
       "33         127.51    4.46   True      33\n",
       "7          117.49    9.84  False       7\n",
       "22         124.96   10.73  False      22\n",
       "27         129.98    8.44   True      27\n",
       "9          129.96   11.56   True       9\n",
       "48         137.47    6.14  False      48"
      ]
     },
     "metadata": {},
     "output_type": "display_data"
    },
    {
     "name": "stdout",
     "output_type": "stream",
     "text": [
      "Int64Index([28, 33, 7, 22, 27, 9, 48], dtype='int64')\n",
      "[28, 33, 7, 22, 27, 9, 48]\n",
      "<class 'list'>\n"
     ]
    }
   ],
   "source": [
    "# list neighbors from raw data\n",
    "df_neighbors = df.iloc[indices[0],:]\n",
    "display(df_neighbors)\n",
    "print(df_neighbors.index)\n",
    "neighbors = df_neighbors.index\n",
    "neighbors = neighbors.to_list()\n",
    "print(neighbors)\n",
    "print(type(neighbors))"
   ]
  },
  {
   "cell_type": "code",
   "execution_count": 51,
   "id": "da01fe44",
   "metadata": {},
   "outputs": [
    {
     "data": {
      "image/png": "[encoded data removed]",
      "text/plain": [
       "<Figure size 1332x756 with 1 Axes>"
      ]
     },
     "metadata": {
      "needs_background": "light"
     },
     "output_type": "display_data"
    }
   ],
   "source": [
    "# scatter plot using the plotDataset() helper function\n",
    "xFeature = 'MonthlyCharge' \n",
    "yFeature = 'Tenure'\n",
    "fig, ax = plt.subplots()\n",
    "fig.set_size_inches(18.5, 10.5)\n",
    "plotDataset(ax, trainData, xFeature, yFeature, target, neighbors)\n",
    "plotDataset(ax, validData, xFeature, yFeature, target, neighbors, showLabel=False, facecolors='none')\n",
    "\n",
    "# vertical lines for means for xFeature\n",
    "c = 'black'\n",
    "ax.axvline(trainData[xFeature].mean(), color=c, lw=3)\n",
    "ax.axvline(trainData[xFeature].mean()+1*trainData[xFeature].std(), color=c, lw=2)\n",
    "ax.axvline(trainData[xFeature].mean()-1*trainData[xFeature].std(), color=c, lw=2)\n",
    "ax.axvline(trainData[xFeature].mean()+2*trainData[xFeature].std(), color=c, lw=1)\n",
    "ax.axvline(trainData[xFeature].mean()-2*trainData[xFeature].std(), color=c, lw=1)\n",
    "\n",
    "# horizontal lines for means for yFeature\n",
    "c = 'black'\n",
    "ax.axhline(trainData[yFeature].mean(), color=c, lw=3)\n",
    "ax.axhline(trainData[yFeature].mean()+1*trainData[yFeature].std(), color=c, lw=2)\n",
    "ax.axhline(trainData[yFeature].mean()-1*trainData[yFeature].std(), color=c, lw=2)\n",
    "ax.axhline(trainData[yFeature].mean()+2*trainData[yFeature].std(), color=c, lw=1)\n",
    "ax.axhline(trainData[yFeature].mean()-2*trainData[yFeature].std(), color=c, lw=1)\n",
    "\n",
    "# plot new customer as a Star\n",
    "ax.scatter(newCustomer.MonthlyCharge, newCustomer.Tenure, marker='*',\n",
    "          label='New customer', color='black', s=270)\n",
    "\n",
    "            \n",
    "# highlight neighbors\n",
    "if len(neighbors) > 0:\n",
    "    for n in neighbors:\n",
    "        point = df.iloc[n]\n",
    "        ax.scatter(point.MonthlyCharge, point.Tenure, marker='o',\n",
    "                color='red', s=300, facecolors='none')\n",
    "\n",
    "title = str(xFeature) + ' vs ' + str(yFeature) + ' Scatter Plot'\n",
    "plt.title(title)\n",
    "plt.xlabel(xFeature) \n",
    "plt.ylabel(yFeature)\n",
    "\n",
    "# set axis limits\n",
    "left = float(newCustomer.MonthlyCharge) - df['MonthlyCharge'].std()\n",
    "right = float(newCustomer.MonthlyCharge) + df['MonthlyCharge'].std()\n",
    "top = float(newCustomer.Tenure) - df['Tenure'].std()\n",
    "bottom = float(newCustomer.Tenure) + df['Tenure'].std()\n",
    "ax.set_xlim(left,right)\n",
    "ax.set_ylim(bottom, top)\n",
    "\n",
    "circle_rad = 220  # radius of most distant neighbor\n",
    "ax.plot(newCustomer.MonthlyCharge, newCustomer.Tenure, 'o',\n",
    "        ms=circle_rad * 2, mec='b', mfc='none', mew=2)\n",
    "\n",
    "handles, labels = ax.get_legend_handles_labels()\n",
    "ax.legend(handles, labels, loc='upper center', bbox_to_anchor=(0.5, -0.05),\n",
    "          fancybox=True, shadow=True, ncol=5)\n",
    "file = 'd209_fig_4_1_' + title.replace(' ','_') + '.png'\n",
    "fig.savefig(file, dpi=100)\n",
    "#plt.close(1)\n",
    "plt.show()\n",
    "\n",
    "\n"
   ]
  },
  {
   "cell_type": "markdown",
   "id": "ea05e8e8",
   "metadata": {},
   "source": [
    "<div class=\"impact\" data-hdr=\"Summary\">The KNN model calculated the new customer as Churn=False, with all of the three (3) nearest neighbors having Churn=False, which is what we expected.</div>"
   ]
  },
  {
   "cell_type": "markdown",
   "id": "b6bede29",
   "metadata": {},
   "source": [
    "<h2 data-nbr=\"D3\">Provide Code</h2>Provide the code used to perform the classification analysis from part D2."
   ]
  },
  {
   "cell_type": "markdown",
   "id": "2c8e2242",
   "metadata": {},
   "source": [
    "All code and output is contained within this Jupyter notebook."
   ]
  },
  {
   "cell_type": "markdown",
   "id": "c2ba2791",
   "metadata": {},
   "source": [
    "<div class=\"part\">Data Summary and Implications (V)</div>"
   ]
  },
  {
   "cell_type": "markdown",
   "id": "57890644",
   "metadata": {},
   "source": [
    "<h2 data-nbr=\"E1\">Explain Accuracy</h2>Explain the accuracy and the area under the curve (AUC) of your classification model."
   ]
  },
  {
   "cell_type": "markdown",
   "id": "72b72e58",
   "metadata": {},
   "source": [
    "<div class=\"impact\" data-hdr=\"Confusion and Classification Report\">Look at confusion and classification report to determin overall accuracy of the knn model.</div>"
   ]
  },
  {
   "cell_type": "code",
   "execution_count": 50,
   "id": "6973f0b2",
   "metadata": {},
   "outputs": [
    {
     "name": "stdout",
     "output_type": "stream",
     "text": [
      "[[74  3]\n",
      " [10 13]]\n",
      "              precision    recall  f1-score   support\n",
      "\n",
      "       False       0.88      0.96      0.92        77\n",
      "        True       0.81      0.57      0.67        23\n",
      "\n",
      "    accuracy                           0.87       100\n",
      "   macro avg       0.85      0.76      0.79       100\n",
      "weighted avg       0.87      0.87      0.86       100\n",
      "\n"
     ]
    }
   ],
   "source": [
    "# confusion and classification report\n",
    "classifier = KNeighborsClassifier(n_neighbors=11)\n",
    "classifier.fit(X, y)\n",
    "y_pred = classifier.predict(X)\n",
    "print(confusion_matrix(y, y_pred))\n",
    "print(classification_report(y, y_pred))"
   ]
  },
  {
   "cell_type": "markdown",
   "id": "ab121efc",
   "metadata": {},
   "source": [
    "<div class=\"impact\" data-hdr=\"Receiver Operation Characteristic (ROC)\">Calculate and plot ROC.</div>"
   ]
  },
  {
   "cell_type": "code",
   "execution_count": null,
   "id": "4a6c2137",
   "metadata": {},
   "outputs": [],
   "source": []
  },
  {
   "cell_type": "markdown",
   "id": "8c0e273f",
   "metadata": {},
   "source": [
    "<div class=\"impact\" data-hdr=\"Area Under the Curve (AOC)\">Calculate AUC.</div>"
   ]
  },
  {
   "cell_type": "code",
   "execution_count": 32,
   "id": "2283222b",
   "metadata": {},
   "outputs": [
    {
     "name": "stderr",
     "output_type": "stream",
     "text": [
      "p:\\code_wgu\\5\\v\\lib\\site-packages\\sklearn\\metrics\\_ranking.py:949: UndefinedMetricWarning: No positive samples in y_true, true positive value should be meaningless\n",
      "  warnings.warn(\"No positive samples in y_true, \"\n"
     ]
    },
    {
     "data": {
      "text/plain": [
       "nan"
      ]
     },
     "execution_count": 32,
     "metadata": {},
     "output_type": "execute_result"
    }
   ],
   "source": [
    "# calculate AUC\n",
    "import numpy as np\n",
    "from sklearn import metrics\n",
    "fpr, tpr, thresholds = metrics.roc_curve(y, y_pred, pos_label=2)\n",
    "metrics.auc(fpr, tpr)"
   ]
  },
  {
   "cell_type": "markdown",
   "id": "87caf119",
   "metadata": {},
   "source": [
    "<h2 data-nbr=\"E2\">Discuss Results and Implications</h2>Discuss the results and implications of your classification analysis."
   ]
  },
  {
   "cell_type": "markdown",
   "id": "7b25c482",
   "metadata": {},
   "source": [
    "<div class=\"impact\" data-hdr=\"Summary\">Looks like [6902+2012] predictions on the diagonal were correct for an accuracy of about 89%. Analysis predicts 89% that the new customer is Churn=False, so, there is an 11% chance that the new customer is actually Churn=True.</div>"
   ]
  },
  {
   "cell_type": "markdown",
   "id": "dd5c3c44",
   "metadata": {},
   "source": [
    "<h2 data-nbr=\"E3\">Discuss One Limitation</h2>Discuss <b>one</b> limitation of your data analysis."
   ]
  },
  {
   "cell_type": "markdown",
   "id": "c0b954e3",
   "metadata": {},
   "source": [
    "<div class=\"impact\" data-hdr=\"Limitation\">It occus to me that a new customer is new, that is, their <b>Tenure</b> will always be low compared to other existing customers. The KNN analysis will never make it to the higher <b>Tenure</b> numbers. Future study may look at other features instead such as <b>Income</b>, <b>Bandwidth_GB_Year</b>, or <b>Outage_sec_perweek</b> which may provide better insight.</div>"
   ]
  },
  {
   "cell_type": "markdown",
   "id": "3c01b288",
   "metadata": {},
   "source": [
    "<h2 data-nbr=\"E4\">Recommendations</h2>Recommend a course of action for the real-world organizational situation from part A1 based on your results and implications discussed in part E2."
   ]
  },
  {
   "cell_type": "markdown",
   "id": "8b8288fc",
   "metadata": {},
   "source": []
  },
  {
   "cell_type": "markdown",
   "id": "ac0f37c9",
   "metadata": {},
   "source": [
    "<div class=\"part\">Demonstration (VI)</div>"
   ]
  },
  {
   "cell_type": "markdown",
   "id": "4828507c",
   "metadata": {},
   "source": [
    "<h2 data-nbr=\"F\">Provide Panapto Video</h2>Provide a Panopto video recording that includes a demonstration of the functionality of the code used for the analysis and a summary of the programming environment."
   ]
  },
  {
   "cell_type": "markdown",
   "id": "d0581c0e",
   "metadata": {},
   "source": [
    "<div class=\"impact\" data-hdr=\"Video\">Panapto video was created and is located at:</div>https://wgu.edu"
   ]
  },
  {
   "cell_type": "markdown",
   "id": "a6c6a4b2",
   "metadata": {},
   "source": [
    "<h2 data-nbr=\"G\">Web Sources</h2>Record the web sources used to acquire data or segments of third-party code to support the analysis. Ensure the web sources are reliable."
   ]
  },
  {
   "cell_type": "markdown",
   "id": "4fb711a3",
   "metadata": {},
   "source": []
  },
  {
   "cell_type": "markdown",
   "id": "9466275e",
   "metadata": {},
   "source": [
    "<h2 data-nbr=\"H\">Acknowledge Sources</h2>Acknowledge sources, using in-text citations and references, for content that is quoted, paraphrased, or summarized."
   ]
  },
  {
   "cell_type": "markdown",
   "id": "5a18d2af",
   "metadata": {},
   "source": []
  },
  {
   "cell_type": "code",
   "execution_count": null,
   "id": "d2350ab3",
   "metadata": {},
   "outputs": [],
   "source": []
  }
 ],
 "metadata": {
  "kernelspec": {
   "display_name": "v",
   "language": "python",
   "name": "v"
  },
  "language_info": {
   "codemirror_mode": {
    "name": "ipython",
    "version": 3
   },
   "file_extension": ".py",
   "mimetype": "text/x-python",
   "name": "python",
   "nbconvert_exporter": "python",
   "pygments_lexer": "ipython3",
   "version": "3.9.6"
  }
 },
 "nbformat": 4,
 "nbformat_minor": 5
}
