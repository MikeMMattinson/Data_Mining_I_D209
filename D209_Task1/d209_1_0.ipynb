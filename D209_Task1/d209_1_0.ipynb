{
 "cells": [
  {
   "cell_type": "markdown",
   "metadata": {},
   "source": [
    "# WGU D209 TASK 1 REV 0 - MATTINSON"
   ]
  },
  {
   "cell_type": "markdown",
   "metadata": {},
   "source": [
    "<div class=\"title\">\n",
    "    KNN Using Churn Data<br>\n",
    "    Mike Mattinson<br>\n",
    "    Master of Science, Data Analytics, WGU.edu<br>\n",
    "    D209: Data Mining I<br>\n",
    "    Dr. Festus Elleh<br>\n",
    "    October 8, 2021<br>\n",
    "</div>"
   ]
  },
  {
   "cell_type": "markdown",
   "metadata": {},
   "source": [
    "<div class=\"impact\" data-hdr=\"Abstract\">This paper provides the _____.</div>"
   ]
  },
  {
   "cell_type": "markdown",
   "metadata": {},
   "source": [
    "<div class=\"impact\" data-hdr=\"Keywords\">Customer churn prediction. Data Mining. K-Nearest Neighbors (KNN).</div>"
   ]
  },
  {
   "cell_type": "markdown",
   "metadata": {},
   "source": [
    "<div class=\"impact\" data-hdr=\"Partial Reuse\">A large portion of this notebook is re-used from Task 1 with the noteable exception that this is a Logistic Regression instead of the Multiple Regression of Task 1. The same data was used in both tasks. Similiar formatting was used in both tasks, as I am trying to be consistent with my submissions and preparation for future thesis work.</div>"
   ]
  },
  {
   "cell_type": "markdown",
   "metadata": {},
   "source": [
    "<div class=\"apa\" data-author=\"Mattinson, M.\" data-date=\"2021, September\" data-url=\"wgu.edu\">WGU D208 TASK 1 REV 8 - MATTINSON</div>"
   ]
  },
  {
   "cell_type": "markdown",
   "metadata": {},
   "source": [
    "<div class=\"impact\" data-hdr=\"Apply Custom Notebook Styles\">\n",
    "   Apply custom .css styles to the notebook.\n",
    "    </div>"
   ]
  },
  {
   "cell_type": "code",
   "execution_count": 1,
   "metadata": {
    "scrolled": true
   },
   "outputs": [
    {
     "name": "stdout",
     "output_type": "stream",
     "text": [
      "custom styles are found in custom.css\n"
     ]
    },
    {
     "data": {
      "text/html": [
       "<style>\n",
       "\n",
       "body {\n",
       "    counter-reset: part-counter 0;\n",
       "}\n",
       "\n",
       "h1 {\n",
       "    margin: 0 0 0 0;\n",
       "    font-family: 'Times New Roman', serif;\n",
       "    font-size: 40px;\n",
       "    padding: 5px;\n",
       "    text-transform: uppercase;\n",
       "    letter-spacing: 5px;\n",
       "    color: #0000ff;\n",
       "}\n",
       "\n",
       ".part {\n",
       "    margin: 0 0 0 0;\n",
       "    font-family: 'Impact';\n",
       "    font-size: 20px;\n",
       "    padding: 5px;\n",
       "    text-transform: uppercase;\n",
       "    letter-spacing: 5px;\n",
       "    color: #000000;\n",
       "    background: inherit;\n",
       "}\n",
       "\n",
       ".part:before {\n",
       "    counter-increment: part-counter;\n",
       "    content: \"Part \" counter(part-counter, upper-roman)\": \";\n",
       "}\n",
       "\n",
       "h2 {\n",
       "    margin: 0 0 0 0;\n",
       "    font-family: 'Times New Roman', serif;\n",
       "    font-size: 36px;\n",
       "    padding: 5px;\n",
       "    text-transform: uppercase;\n",
       "    letter-spacing: 5px;\n",
       "    color: #0000ff;\n",
       "    background: inherit;\n",
       "\n",
       "}\n",
       "\n",
       "h2:before {\n",
       "    content: attr(data-nbr)\". \";\n",
       "}\n",
       "\n",
       "\n",
       "h3 {\n",
       "    background: #E6EFFA;\n",
       "    font-family: 'Impact';\n",
       "    font-size: 100%;\n",
       "    text-align: center;\n",
       "    text-transform: uppercase;\n",
       "    padding: 5px 0;\n",
       "\n",
       "}\n",
       "\n",
       ".title {\n",
       "    text-align: center; \n",
       "    line-height: 48px;\n",
       "    font-size: 20px; \n",
       "}\n",
       "\n",
       ".quote {\n",
       "    padding: 10px;\n",
       "    border: 1px groove gray;\n",
       "    background-color: rgb(202, 197, 198);\n",
       "}\n",
       "\n",
       ".impact {\n",
       "    font-family: 'Courier New';\n",
       "    font-size: 18px; \n",
       "    line-height: 24px;\n",
       "}\n",
       "\n",
       ".impact:before {\n",
       "    content: attr(data-hdr)\". \";\n",
       "    font-family: 'Impact';\n",
       "}\n",
       "\n",
       "p {\n",
       "    font-family: 'Courier New';\n",
       "    font-size: 18px; \n",
       "    color: #000000;\n",
       "    line-height: 24px;\n",
       "}\n",
       "\n",
       "ul.a {\n",
       "    list-style-position: outside;\n",
       "    list-style-type: upper-alpha;\n",
       "    line-height: 2.0;\n",
       "  }\n",
       "\n",
       ".apa {\n",
       "    padding-left: 4em;\n",
       "    text-indent: -4em;\n",
       "    background: powderblue;\n",
       "    font-size: 18px;\n",
       "    line-height: 2.0;\n",
       "}\n",
       "\n",
       ".apa:before {\n",
       "    content: attr(data-author) \" (\" attr(data-date) \"). \";\n",
       "}\n",
       "\n",
       ".apa:after {\n",
       "    content: \". Retrieved from: \" attr(data-url);\n",
       "}\n",
       "\n",
       "</style>"
      ],
      "text/plain": [
       "<IPython.core.display.HTML object>"
      ]
     },
     "execution_count": 1,
     "metadata": {},
     "output_type": "execute_result"
    }
   ],
   "source": [
    "# Styling notebook with custom css\n",
    "s = 'custom.css' # in the root folder\n",
    "print('custom styles are found in {}'.format(s))\n",
    "from IPython.core.display import HTML\n",
    "HTML(open(s, \"r\").read())"
   ]
  },
  {
   "cell_type": "markdown",
   "metadata": {},
   "source": [
    "<div class=\"part\">Research Question</div>"
   ]
  },
  {
   "cell_type": "markdown",
   "metadata": {},
   "source": [
    "<h2 data-nbr=\"A1\">Research Question</h2>"
   ]
  },
  {
   "cell_type": "markdown",
   "metadata": {},
   "source": [
    "<div class=\"impact\" data-hdr=\"Primary Research Question\">\n",
    "    ______ A typical services company’s revenue is maximized based on the total number of customers and how much each of those customers pay for those services. If the company charges too much, then the customer may stop the service, this is known as churn. If the company charges too little, then it will not maximize its revenue. This analysis will attempt to predict the probability of a customer’s churn (dependent variable is ‘Churn’ which is a binary categorical data) using logistic regression with high degree of accuracy based on a minimum set of predictor variables. The final set of predictor variables should include both numeric (e.g., Tenure, Child, and Income, etc.) and categorical data (e.g., Techie, Gender, and Internet Service type, etc.).\n",
    "    </div>"
   ]
  },
  {
   "cell_type": "markdown",
   "metadata": {},
   "source": [
    "<h2 data-nbr=\"A2\">Objectives and Goals</h2>"
   ]
  },
  {
   "cell_type": "markdown",
   "metadata": {},
   "source": [
    "<div class=\"impact\" data-hdr=\"Data Preparation\">Data Preparation objectives are addressed in Part III below and include the following:</div>\n",
    "<ul class=\"a\">\n",
    "    <li>Convert categorical data.\n",
    "    <li>Mitigate missing data.\n",
    "    <li>Select data required for the analysis.\n",
    "    <li>Remove data deemed unneccesary.\n",
    "    <li>Explore data.\n",
    "    <li>Visualize data.\n",
    "    <li>Provide copy of final data.\n",
    "</ul>"
   ]
  },
  {
   "cell_type": "markdown",
   "metadata": {},
   "source": [
    "<div class=\"impact\" data-hdr=\"Model Analysis\">Model Analysis objectives are addressed in Part IV below and include the following:</div>\n",
    "<ul class=\"a\">\n",
    "    <li>Eliminate predictor variables with high p-values.\n",
    "    <li>Eliminate predictor variables with high degree of multicollinearity.\n",
    "    <li>Create initial model using all the data.\n",
    "    <li>Refine model using a reduced set of the data.\n",
    "    <li>Summarize results.  \n",
    "    <li>Ensure independent and dependent variables are linear.  \n",
    "    <li>Ensure independent variables are not highly collinear\n",
    "    <li>Ensure final model residuals are normally distributed.  \n",
    "</ul>"
   ]
  },
  {
   "cell_type": "markdown",
   "metadata": {},
   "source": [
    "<div class=\"part\">\n",
    "    Method Justification\n",
    "</div>"
   ]
  },
  {
   "cell_type": "markdown",
   "metadata": {},
   "source": [
    "<h2 data-nbr=\"B1\">\n",
    "    Assumptions\n",
    "</h2>"
   ]
  },
  {
   "cell_type": "markdown",
   "metadata": {},
   "source": [
    "<div class=\"impact\" data-hdr=\"Assumptions\">According to Massaron and Boschetti (2019), the logistic regression analysis is based on the following assumptions:</div>\n",
    "<ul class=\"a\">\n",
    "    <li><b>Binary Dependent Variable</b>. Binary logistic regression requires the dependent variable to be binary.\n",
    "    <li><b>Desired Outcome</b>. For a binary regression, the factor level 1 of the dependent variable should represent\n",
    "the desired outcome.\n",
    "    <li><b>Only Meaningful Variables</b>. Only the meaningful variables should be included.\n",
    "    <li><b>Multi-Collinearity</b>. The independent variables should be independent of each other. That is, the model\n",
    "should have little or no multicollinearity. \n",
    "    <li><b>Independent Variable Linear to Log Odds</b>. The independent variables are linearly related to the log odds.\n",
    "    <li><b>Large Sample Size</b>. Logistic regression requires large sample sizes.\n",
    "</ul>"
   ]
  },
  {
   "cell_type": "markdown",
   "metadata": {},
   "source": [
    "<div class=\"apa\" data-author=\"Massaron, L., Boschetti, A.\" data-date=\"2016\" data-url=\"https://www.packtpub.com/product/regression-analysis-with-python/9781785286315\">Regression Analysis with Python</div>"
   ]
  },
  {
   "cell_type": "markdown",
   "metadata": {},
   "source": [
    "<h2 data-nbr=\"B2\">Summarize One Assumption of KNN</h2>"
   ]
  },
  {
   "cell_type": "markdown",
   "metadata": {},
   "source": [
    "<div class=\"impact\" data-hdr=\"Assumption 1\">______.</div>"
   ]
  },
  {
   "cell_type": "markdown",
   "metadata": {},
   "source": [
    "<h2 data-nbr=\"B3\">Required Packages</h2>"
   ]
  },
  {
   "cell_type": "markdown",
   "metadata": {},
   "source": [
    "The following packages are required: _____"
   ]
  },
  {
   "cell_type": "markdown",
   "metadata": {},
   "source": [
    "<div class=\"part\">Data Preparation</div>"
   ]
  },
  {
   "cell_type": "markdown",
   "metadata": {},
   "source": [
    "<h2 data-nbr=\"C1\">Describe One Goal</h2>"
   ]
  },
  {
   "cell_type": "markdown",
   "metadata": {},
   "source": [
    "<h2 data-nbr=\"C3\">Explain Each Step</h2>"
   ]
  },
  {
   "cell_type": "markdown",
   "metadata": {},
   "source": [
    "<div class=\"impact\" data-hdr=\"Select Data\">From the original data, determine which attributes fit the best for the primary research question. Load the data from the provided .csv file as a pandas dataframe.</div>"
   ]
  },
  {
   "cell_type": "markdown",
   "metadata": {},
   "source": [
    "<div class=\"impact\" data-hdr=\"Mitigate Missing Data\">Look through data for missing rows or columns. Also, look for Null or NaN values. If found, decide how best to mitigate the issue.</div>"
   ]
  },
  {
   "cell_type": "markdown",
   "metadata": {},
   "source": [
    "<div class=\"impact\" data-hdr=\"Remove Data\">Once data is determined not to be of value to the analysis, use the pandas .drop() method to remove the data.</div>"
   ]
  },
  {
   "cell_type": "markdown",
   "metadata": {},
   "source": [
    "<div class=\"impact\" data-hdr=\"Convert Categorical Data\">In order to use categorical data in the regression model, each variable must be converted into numeric dummy data. I will use pandas .get_dummies() method. This will generate new numeric variables based on the unique values and this will also remove the original attribute.</div>"
   ]
  },
  {
   "cell_type": "markdown",
   "metadata": {},
   "source": [
    "<div class=\"impact\" data-hdr=\"Explore Data\">Explore customer data by calculating traditional statistics. Look for patterns and relationships between attributes. If possible, create visualizations to add in the exploratory process.</div>"
   ]
  },
  {
   "cell_type": "markdown",
   "metadata": {},
   "source": [
    "<div class=\"impact\" data-hdr=\"Visualize Data\">Continue to explore data and their relationships using histogram, countplots, barplots and scatter plot diagrams. Use matplotlib and sns packages to generate these univariate and bivariate diagrams.</div>"
   ]
  },
  {
   "cell_type": "markdown",
   "metadata": {},
   "source": [
    "<div class=\"impact\" data-hdr=\"Import Packages\">Import and configured required math, plotting and model packages.</div>"
   ]
  },
  {
   "cell_type": "code",
   "execution_count": 2,
   "metadata": {
    "scrolled": true
   },
   "outputs": [],
   "source": [
    "# import standard libraries\n",
    "import numpy as np\n",
    "import scipy.stats as stats\n",
    "import statsmodels.api as sm\n",
    "import statsmodels.formula.api as smf\n",
    "from IPython.core.display import HTML\n",
    "from IPython.display import display"
   ]
  },
  {
   "cell_type": "code",
   "execution_count": 3,
   "metadata": {},
   "outputs": [],
   "source": [
    "# import and configure matplotlib\n",
    "import matplotlib.pyplot as plt\n",
    "plt.rc(\"font\", size=14)\n",
    "%matplotlib inline"
   ]
  },
  {
   "cell_type": "code",
   "execution_count": 4,
   "metadata": {},
   "outputs": [],
   "source": [
    "# import and configure sklearn\n",
    "from sklearn.metrics import confusion_matrix\n",
    "from sklearn import preprocessing\n",
    "from sklearn.decomposition import PCA\n",
    "from sklearn.linear_model import LogisticRegression\n",
    "from sklearn.model_selection import train_test_split\n",
    "from sklearn.metrics import roc_auc_score\n",
    "from sklearn.metrics import roc_curve\n",
    "from sklearn.metrics import classification_report\n",
    "from sklearn import metrics\n",
    "from sklearn.model_selection import train_test_split"
   ]
  },
  {
   "cell_type": "code",
   "execution_count": 5,
   "metadata": {},
   "outputs": [],
   "source": [
    "# import and configure seaborn\n",
    "import seaborn as sns\n",
    "sns.set(style=\"white\")\n",
    "sns.set(style=\"whitegrid\", color_codes=True)"
   ]
  },
  {
   "cell_type": "code",
   "execution_count": 6,
   "metadata": {},
   "outputs": [],
   "source": [
    "# import and configure pandas\n",
    "import pandas as pd\n",
    "pd.set_option('precision',3)\n",
    "pd.set_option('max_columns',9)\n",
    "pd.set_option('display.width', None)"
   ]
  },
  {
   "cell_type": "markdown",
   "metadata": {},
   "source": [
    "<div class=\"impact\" data-hdr=\"Configure Scrollbars\">\n",
    "   Disable scrollbars in notebook. And, Disable automatically scroll to bottom.\n",
    "    </div>"
   ]
  },
  {
   "cell_type": "code",
   "execution_count": 7,
   "metadata": {},
   "outputs": [
    {
     "data": {
      "application/javascript": [
       "IPython.OutputArea.prototype._should_scroll = function(lines) {\n",
       "    return false;\n",
       "}\n"
      ],
      "text/plain": [
       "<IPython.core.display.Javascript object>"
      ]
     },
     "metadata": {},
     "output_type": "display_data"
    }
   ],
   "source": [
    "%%javascript\n",
    "IPython.OutputArea.prototype._should_scroll = function(lines) {\n",
    "    return false;\n",
    "}"
   ]
  },
  {
   "cell_type": "code",
   "execution_count": 8,
   "metadata": {},
   "outputs": [
    {
     "data": {
      "application/javascript": [
       "require(\"notebook/js/notebook\").Notebook.prototype.scroll_to_bottom = function () {}\n"
      ],
      "text/plain": [
       "<IPython.core.display.Javascript object>"
      ]
     },
     "metadata": {},
     "output_type": "display_data"
    }
   ],
   "source": [
    "%%javascript\n",
    "require(\"notebook/js/notebook\").Notebook.prototype.scroll_to_bottom = function () {}"
   ]
  },
  {
   "cell_type": "markdown",
   "metadata": {},
   "source": [
    "<div class=\"apa\" data-author=\"Stackoverflow\" data-date=\"2021, October\" data-url=\"https://stackoverflow.com/questions/36757301/disable-ipython-notebook-autoscrolling\">Disable iPython Notebook Autoscrolling</div>"
   ]
  },
  {
   "cell_type": "markdown",
   "metadata": {},
   "source": [
    "<div class=\"impact\" data-hdr=\"Toggle Warnings\">Use the following code to toggle warning messages in the notebook. Another piece of code courtesy of stackoverflow (2021).</div>"
   ]
  },
  {
   "cell_type": "code",
   "execution_count": 9,
   "metadata": {},
   "outputs": [
    {
     "data": {
      "text/html": [
       "<script>\n",
       "code_show_err=false; \n",
       "function code_toggle_err() {\n",
       " if (code_show_err){\n",
       " $('div.output_stderr').hide();\n",
       " } else {\n",
       " $('div.output_stderr').show();\n",
       " }\n",
       " code_show_err = !code_show_err\n",
       "} \n",
       "$( document ).ready(code_toggle_err);\n",
       "</script>\n",
       "To toggle on/off output_stderr, click <a href=\"javascript:code_toggle_err()\">here</a>."
      ],
      "text/plain": [
       "<IPython.core.display.HTML object>"
      ]
     },
     "execution_count": 9,
     "metadata": {},
     "output_type": "execute_result"
    }
   ],
   "source": [
    "from IPython.display import HTML\n",
    "HTML('''<script>\n",
    "code_show_err=false; \n",
    "function code_toggle_err() {\n",
    " if (code_show_err){\n",
    " $('div.output_stderr').hide();\n",
    " } else {\n",
    " $('div.output_stderr').show();\n",
    " }\n",
    " code_show_err = !code_show_err\n",
    "} \n",
    "$( document ).ready(code_toggle_err);\n",
    "</script>\n",
    "To toggle on/off output_stderr, click <a href=\"javascript:code_toggle_err()\">here</a>.''')"
   ]
  },
  {
   "cell_type": "markdown",
   "metadata": {},
   "source": [
    "<div class=\"apa\" data-author=\"Stackoverflow\" data-date=\"2021, October\" data-url=\"https://stackoverflow.com/questions/9031783/hide-all-warnings-in-ipython\">Hide all warnings in ipython</div>"
   ]
  },
  {
   "cell_type": "markdown",
   "metadata": {},
   "source": [
    "<div class=\"impact\" data-hdr=\"Helper Functions\">Here are some helper functions that will be used thoughout the notebook. The coorelation matrix helpers were developed courtesy of stackoverflow (2021).</div>"
   ]
  },
  {
   "cell_type": "code",
   "execution_count": 10,
   "metadata": {
    "scrolled": true
   },
   "outputs": [],
   "source": [
    "def get_redundant_pairs(df):\n",
    "    '''Get diagonal and lower triangular pairs of correlation matrix'''\n",
    "    pairs_to_drop = set()\n",
    "    cols = df.columns\n",
    "    for i in range(0, df.shape[1]):\n",
    "        for j in range(0, i+1):\n",
    "            pairs_to_drop.add((cols[i], cols[j]))\n",
    "    return pairs_to_drop\n",
    "\n",
    "def get_top_abs_correlations(df, n=5):\n",
    "    au_corr = df.corr().abs().unstack()\n",
    "    labels_to_drop = get_redundant_pairs(df)\n",
    "    au_corr = au_corr.drop(labels=labels_to_drop).sort_values(ascending=False)\n",
    "    return au_corr[0:n]\n",
    "\n",
    "def custom_corr_matrix(df, title):\n",
    "    fig = plt.figure(figsize=(30, 30))\n",
    "    sns.set(font_scale=1.0)\n",
    "    sns.heatmap(data=df.corr().round(1), annot=True,annot_kws={'size':30})\n",
    "    print(get_top_abs_correlations(df))\n",
    "    #plt.savefig('output/' + COURSE + '/fig_corr_matrix_' + title + '.png', facecolor='w') \n",
    "    plt.show()\n",
    "    \n",
    "def plot_histogram(c):\n",
    "    df_yes = df[df.Churn_Yes==1][c]\n",
    "    df_no = df[df.Churn_Yes==0][c]\n",
    "    yes_mean = df_yes.mean();\n",
    "    no_mean = df_no.mean(); \n",
    "    fig,ax = plt.subplots(figsize=(6,6))\n",
    "    ax.hist([df_yes,df_no], bins=5, stacked=True)\n",
    "    ax.legend(['Churn - Yes','Churn - No'])\n",
    "    ymin, ymax = ax.get_ylim();\n",
    "    xmin, xmax = ax.get_xlim()\n",
    "    ax.axvline(yes_mean, color='blue', lw=2) # yes mean\n",
    "    ax.axvline(no_mean, color='orangered', lw=2) # no mean\n",
    "    ax.text((xmax-xmin)/2,\n",
    "            (ymax-ymin)/2,\n",
    "            'Delta:\\n' + str(round(abs(yes_mean - no_mean),2)),\n",
    "            bbox={'facecolor':'white'})\n",
    "    plt.title('Histogram with target overlay by ' + str(c))\n",
    "    plt.xlabel(c); \n",
    "    plt.ylabel('# Churn');\n",
    "    plt.show();\n",
    "    \n",
    "# helper function to plot grouped bar plot\n",
    "def plot_stacked(c):\n",
    "    df.groupby([c,target]).size().unstack().plot(kind='bar', stacked=True)"
   ]
  },
  {
   "cell_type": "markdown",
   "metadata": {},
   "source": [
    "<div class=\"apa\" data-author=\"Stackoverflow\" data-date=\"2021, October\" data-url=\"https://stackoverflow.com/questions/17778394/list-highest-correlation-pairs-from-a-large-correlation-matrix-in-pandas\">List Highest Correlation Pairs from a Large Correlation Matrix in Pandas</div>"
   ]
  },
  {
   "cell_type": "markdown",
   "metadata": {},
   "source": [
    "<div class=\"impact\" data-hdr=\"Constants\">Here are a couple of global variables that will be reused thoughout the notebook.</div>"
   ]
  },
  {
   "cell_type": "code",
   "execution_count": 11,
   "metadata": {
    "scrolled": true
   },
   "outputs": [],
   "source": [
    "# constants\n",
    "COURSE = 'd208' # name of course to be added to filename of generated figures and tables.\n",
    "target = 'Churn' # this is the column name of the primary research column"
   ]
  },
  {
   "cell_type": "markdown",
   "metadata": {},
   "source": [
    "<div class=\"impact\" data-hdr=\"Select Data\">The customer dataset as a .csv file is loaded into Python as a Pandas dataframe using the .read_csv() method. After the dataframe is created, I use the df.shape function to show number of rows and columns. To begin the analysis, I have selected to load all of the data from the .csv file.</div>"
   ]
  },
  {
   "cell_type": "code",
   "execution_count": 12,
   "metadata": {
    "scrolled": true
   },
   "outputs": [
    {
     "data": {
      "text/plain": [
       "(10000, 50)"
      ]
     },
     "execution_count": 12,
     "metadata": {},
     "output_type": "execute_result"
    }
   ],
   "source": [
    "# read csv file\n",
    "df = pd.read_csv('churn_clean.csv', header=0) # in the root folder\n",
    "df.shape"
   ]
  },
  {
   "cell_type": "markdown",
   "metadata": {},
   "source": [
    "There are 10,000 customer records with fifty (50) attributes for each customer."
   ]
  },
  {
   "cell_type": "markdown",
   "metadata": {},
   "source": [
    "<div class=\"impact\" data-hdr=\"Mitigate Missing Data\">Use .info() and .isna().any() methods to view a summary of possible missing data. I do not expect to find any missing data as the dataset provided has already been cleaned.</div>"
   ]
  },
  {
   "cell_type": "code",
   "execution_count": 13,
   "metadata": {
    "scrolled": true
   },
   "outputs": [
    {
     "name": "stdout",
     "output_type": "stream",
     "text": [
      "<class 'pandas.core.frame.DataFrame'>\n",
      "RangeIndex: 10000 entries, 0 to 9999\n",
      "Empty DataFrameNone\n"
     ]
    }
   ],
   "source": [
    "# explore missing data\n",
    "missing = df[df.columns[df.isna().any()]].columns\n",
    "df_missing = df[missing]\n",
    "print(df_missing.info())"
   ]
  },
  {
   "cell_type": "markdown",
   "metadata": {},
   "source": [
    "Analysis of the raw data shows no missing data, each attribute has 10,000 non-null values. "
   ]
  },
  {
   "cell_type": "markdown",
   "metadata": {},
   "source": [
    "<div class=\"impact\" data-hdr=\"Duplicate Data\">Look for duplicate data in rows and columns. This dataset had been provided to this assignment in a very clean, ready state, so I don't expect to find anything here.</div>"
   ]
  },
  {
   "cell_type": "code",
   "execution_count": 14,
   "metadata": {
    "scrolled": true
   },
   "outputs": [
    {
     "data": {
      "text/html": [
       "<div>\n",
       "<style scoped>\n",
       "    .dataframe tbody tr th:only-of-type {\n",
       "        vertical-align: middle;\n",
       "    }\n",
       "\n",
       "    .dataframe tbody tr th {\n",
       "        vertical-align: top;\n",
       "    }\n",
       "\n",
       "    .dataframe thead th {\n",
       "        text-align: right;\n",
       "    }\n",
       "</style>\n",
       "<table border=\"1\" class=\"dataframe\">\n",
       "  <thead>\n",
       "    <tr style=\"text-align: right;\">\n",
       "      <th></th>\n",
       "      <th>CaseOrder</th>\n",
       "      <th>Customer_id</th>\n",
       "      <th>Interaction</th>\n",
       "      <th>UID</th>\n",
       "      <th>...</th>\n",
       "      <th>Item5</th>\n",
       "      <th>Item6</th>\n",
       "      <th>Item7</th>\n",
       "      <th>Item8</th>\n",
       "    </tr>\n",
       "  </thead>\n",
       "  <tbody>\n",
       "  </tbody>\n",
       "</table>\n",
       "<p>0 rows × 50 columns</p>\n",
       "</div>"
      ],
      "text/plain": [
       "Empty DataFrame\n",
       "Columns: [CaseOrder, Customer_id, Interaction, UID, City, State, County, Zip, Lat, Lng, Population, Area, TimeZone, Job, Children, Age, Income, Marital, Gender, Churn, Outage_sec_perweek, Email, Contacts, Yearly_equip_failure, Techie, Contract, Port_modem, Tablet, InternetService, Phone, Multiple, OnlineSecurity, OnlineBackup, DeviceProtection, TechSupport, StreamingTV, StreamingMovies, PaperlessBilling, PaymentMethod, Tenure, MonthlyCharge, Bandwidth_GB_Year, Item1, Item2, Item3, Item4, Item5, Item6, Item7, Item8]\n",
       "Index: []\n",
       "\n",
       "[0 rows x 50 columns]"
      ]
     },
     "execution_count": 14,
     "metadata": {},
     "output_type": "execute_result"
    }
   ],
   "source": [
    "# look for duplicate data - looking for zero rows\n",
    "df[df.duplicated()]"
   ]
  },
  {
   "cell_type": "code",
   "execution_count": 15,
   "metadata": {
    "scrolled": true
   },
   "outputs": [
    {
     "data": {
      "text/plain": [
       "False"
      ]
     },
     "execution_count": 15,
     "metadata": {},
     "output_type": "execute_result"
    }
   ],
   "source": [
    "# check if any cols are duplicated - Looking for False\n",
    "df.columns.duplicated().any()"
   ]
  },
  {
   "cell_type": "code",
   "execution_count": 16,
   "metadata": {
    "scrolled": true
   },
   "outputs": [
    {
     "data": {
      "text/plain": [
       "False"
      ]
     },
     "execution_count": 16,
     "metadata": {},
     "output_type": "execute_result"
    }
   ],
   "source": [
    "# check if any rows are duplicated - looing for False\n",
    "df.duplicated().any()"
   ]
  },
  {
   "cell_type": "markdown",
   "metadata": {},
   "source": [
    "<div class=\"impact\" data-hdr=\"Remove Data\">Identify columns that are not needed for the analysis and then use the .drop() method to remove the data. Looking at the data, I select some of the demographic data, customer identification data and the survey data to be removed.</div>"
   ]
  },
  {
   "cell_type": "code",
   "execution_count": 17,
   "metadata": {
    "scrolled": false
   },
   "outputs": [
    {
     "name": "stdout",
     "output_type": "stream",
     "text": [
      "data to be removed: ['City', 'County', 'Zip', 'Job', 'TimeZone', 'State', 'Lat', 'Lng', 'UID', 'Customer_id', 'Interaction', 'CaseOrder', 'Item1', 'Item2', 'Item3', 'Item4', 'Item5', 'Item6', 'Item7', 'Item8']\n",
      "Data named [City] has been removed.\n",
      "Data named [County] has been removed.\n",
      "Data named [Zip] has been removed.\n",
      "Data named [Job] has been removed.\n",
      "Data named [TimeZone] has been removed.\n",
      "Data named [State] has been removed.\n",
      "Data named [Lat] has been removed.\n",
      "Data named [Lng] has been removed.\n",
      "Data named [UID] has been removed.\n",
      "Data named [Customer_id] has been removed.\n",
      "Data named [Interaction] has been removed.\n",
      "Data named [CaseOrder] has been removed.\n",
      "Data named [Item1] has been removed.\n",
      "Data named [Item2] has been removed.\n",
      "Data named [Item3] has been removed.\n",
      "Data named [Item4] has been removed.\n",
      "Data named [Item5] has been removed.\n",
      "Data named [Item6] has been removed.\n",
      "Data named [Item7] has been removed.\n",
      "Data named [Item8] has been removed.\n"
     ]
    }
   ],
   "source": [
    "# drop unwanted data\n",
    "cols_to_be_removed = ['City','County','Zip','Job','TimeZone', 'State', \n",
    "            'Lat', 'Lng', 'UID', 'Customer_id','Interaction', 'CaseOrder',\n",
    "            'Item1','Item2','Item3','Item4','Item5','Item6','Item7','Item8']\n",
    "\n",
    "# print list of dropped data\n",
    "print('data to be removed: {}'.format(cols_to_be_removed))\n",
    "\n",
    "# loop through list, if in current df, drop col\n",
    "for c in cols_to_be_removed:\n",
    "    if c in df.columns:\n",
    "        df.drop(columns = c, inplace=True)\n",
    "        print('Data named [{}] has been removed.'.format(c))"
   ]
  },
  {
   "cell_type": "markdown",
   "metadata": {},
   "source": [
    "<h2 data-nbr=\"C2\">Initial Variables</h2>"
   ]
  },
  {
   "cell_type": "markdown",
   "metadata": {},
   "source": [
    "<div class=\"impact\" data-hdr=\"Numerical Data\">Excluding target data, here is the final list of input variables that are numerical: </div>"
   ]
  },
  {
   "cell_type": "code",
   "execution_count": 18,
   "metadata": {
    "scrolled": false
   },
   "outputs": [
    {
     "name": "stdout",
     "output_type": "stream",
     "text": [
      "\n",
      "Numerical data:\n",
      "\n",
      "1. Population is numerical.\n",
      "\n",
      "3. Children is numerical.\n",
      "\n",
      "4. Age is numerical.\n",
      "\n",
      "5. Income is numerical.\n",
      "\n",
      "8. Outage_sec_perweek is numerical.\n",
      "\n",
      "9. Email is numerical.\n",
      "\n",
      "10. Contacts is numerical.\n",
      "\n",
      "11. Yearly_equip_failure is numerical.\n",
      "\n",
      "27. Tenure is numerical.\n",
      "\n",
      "28. MonthlyCharge is numerical.\n",
      "\n",
      "29. Bandwidth_GB_Year is numerical.\n"
     ]
    }
   ],
   "source": [
    "# print out and describe input variables\n",
    "print('\\n{}'.format(\"Numerical data:\"))\n",
    "num_cols = df.select_dtypes(include=\"number\").columns\n",
    "for idx, c in enumerate(df.loc[:, df.columns != target]):\n",
    "    if df.dtypes[c] != \"object\":\n",
    "        print('\\n{}. {} is numerical.'.format(idx+1, c))\n",
    "        #print('{}'.format(df[c].describe().round(3)))\n",
    "        #groups = df.groupby([target, pd.cut(df[c], bins=4)])\n",
    "        #print(groups.size().unstack().T)"
   ]
  },
  {
   "cell_type": "markdown",
   "metadata": {},
   "source": [
    "<div class=\"impact\" data-hdr=\"Observations on Numerical Data\">______ </div>"
   ]
  },
  {
   "cell_type": "markdown",
   "metadata": {},
   "source": [
    "<div class=\"impact\" data-hdr=\"Categorical Data\">Excluding target data, here is the final list of input variables that are categorical: </div>"
   ]
  },
  {
   "cell_type": "code",
   "execution_count": 19,
   "metadata": {},
   "outputs": [
    {
     "name": "stdout",
     "output_type": "stream",
     "text": [
      "\n",
      "Categorical data:\n",
      "\n",
      "2. Area is categorical: ['Urban' 'Suburban' 'Rural'].\n",
      "\n",
      "6. Marital is categorical: ['Widowed' 'Married' 'Separated' 'Never Married' 'Divorced'].\n",
      "\n",
      "7. Gender is categorical: ['Male' 'Female' 'Nonbinary'].\n",
      "\n",
      "12. Techie is categorical: ['No' 'Yes'].\n",
      "\n",
      "13. Contract is categorical: ['One year' 'Month-to-month' 'Two Year'].\n",
      "\n",
      "14. Port_modem is categorical: ['Yes' 'No'].\n",
      "\n",
      "15. Tablet is categorical: ['Yes' 'No'].\n",
      "\n",
      "16. InternetService is categorical: ['Fiber Optic' 'DSL' 'None'].\n",
      "\n",
      "17. Phone is categorical: ['Yes' 'No'].\n",
      "\n",
      "18. Multiple is categorical: ['No' 'Yes'].\n",
      "\n",
      "19. OnlineSecurity is categorical: ['Yes' 'No'].\n",
      "\n",
      "20. OnlineBackup is categorical: ['Yes' 'No'].\n",
      "\n",
      "21. DeviceProtection is categorical: ['No' 'Yes'].\n",
      "\n",
      "22. TechSupport is categorical: ['No' 'Yes'].\n",
      "\n",
      "23. StreamingTV is categorical: ['No' 'Yes'].\n",
      "\n",
      "24. StreamingMovies is categorical: ['Yes' 'No'].\n",
      "\n",
      "25. PaperlessBilling is categorical: ['Yes' 'No'].\n",
      "\n",
      "26. PaymentMethod is categorical: ['Credit Card (automatic)' 'Bank Transfer(automatic)' 'Mailed Check'\n",
      " 'Electronic Check'].\n"
     ]
    }
   ],
   "source": [
    "# list all categorical variables\n",
    "print('\\n{}'.format(\"Categorical data:\"))\n",
    "cat_cols = df.select_dtypes(include=\"object\").columns\n",
    "for idx, c in enumerate(df.loc[:, df.columns != target]):\n",
    "    if df.dtypes[c] == \"object\":\n",
    "        print('\\n{}. {} is categorical: {}.'.format(idx+1,c,df[c].unique()))\n",
    "        #for idx,name in enumerate(df[c].value_counts().index.tolist()):\n",
    "        #    print('\\t{:<20}:{:>6}'.format(name,df[c].value_counts()[idx]))\n",
    "        #print('{}'.format(df[c].describe()))"
   ]
  },
  {
   "cell_type": "markdown",
   "metadata": {},
   "source": [
    "<div class=\"impact\" data-hdr=\"Observations on Categorical Data\">The first thing is there are many string variables that are Yes-No. I will convert each of those to boolean variables. Boolean type is treated as int(1) for True and int(0) for False, this will work for the models I plan on using. I will also include the target variable 'Churn', it is also a Yes-No variable.</div>"
   ]
  },
  {
   "cell_type": "code",
   "execution_count": 20,
   "metadata": {},
   "outputs": [],
   "source": [
    "# convert categorical yes-no data to boolean\n",
    "for b in ['PaperlessBilling', 'StreamingMovies','StreamingTV',\n",
    "          'TechSupport','DeviceProtection','OnlineBackup',\n",
    "           'OnlineSecurity','Multiple','Phone', 'Tablet',\n",
    "          'Port_modem','Techie','Churn']:\n",
    "    df[b] = df[b].replace({\"No\":False, \"Yes\":True})\n",
    "    df[b] = df[b].astype('bool')"
   ]
  },
  {
   "cell_type": "markdown",
   "metadata": {},
   "source": [
    "<p>Next, there are a couple of variables that have a lot of unique values, I will consolidate those variables so there are just a couple of unique values.</p>"
   ]
  },
  {
   "cell_type": "markdown",
   "metadata": {},
   "source": [
    "<div class=\"impact\" data-hdr=\"PaymentMethod\">The PaymentMethod column has many categories and we can reduce the number of unique values in order to produce a better model. Let's combine all of the data into two (2) categories, 'Automatic' and 'Check'.</div>"
   ]
  },
  {
   "cell_type": "code",
   "execution_count": 21,
   "metadata": {
    "scrolled": true
   },
   "outputs": [
    {
     "data": {
      "text/plain": [
       "array(['Auto', 'Check'], dtype=object)"
      ]
     },
     "execution_count": 21,
     "metadata": {},
     "output_type": "execute_result"
    }
   ],
   "source": [
    "# re-cateogize Marital data\n",
    "df['PaymentMethod']=np.where(df['PaymentMethod'] =='Credit Card (automatic)', 'Auto',df['PaymentMethod'])\n",
    "df['PaymentMethod']=np.where(df['PaymentMethod'] =='Bank Transfer(automatic)', 'Auto',df['PaymentMethod'])\n",
    "df['PaymentMethod']=np.where(df['PaymentMethod'] =='Mailed Check', 'Check',df['PaymentMethod'])\n",
    "df['PaymentMethod']=np.where(df['PaymentMethod'] =='Electronic Check', 'Auto',df['PaymentMethod'])\n",
    "df['PaymentMethod'].unique()"
   ]
  },
  {
   "cell_type": "markdown",
   "metadata": {},
   "source": [
    "<div class=\"impact\" data-hdr=\"Marital\">The Marital column has many categories and we can reduce the number of unique values in order to produce a better model. Let's combine all of the data into two (2) categories, 'Married' and 'Not_Married'.</div>"
   ]
  },
  {
   "cell_type": "code",
   "execution_count": 22,
   "metadata": {
    "scrolled": true
   },
   "outputs": [
    {
     "data": {
      "text/plain": [
       "array(['Not_Married', 'Married'], dtype=object)"
      ]
     },
     "execution_count": 22,
     "metadata": {},
     "output_type": "execute_result"
    }
   ],
   "source": [
    "# re-cateogize Marital data\n",
    "df['Marital']=np.where(df['Marital'] =='Widowed', 'Not_Married',df['Marital'])\n",
    "df['Marital']=np.where(df['Marital'] =='Separated', 'Not_Married',df['Marital'])\n",
    "df['Marital']=np.where(df['Marital'] =='Never Married', 'Not_Married',df['Marital'])\n",
    "df['Marital']=np.where(df['Marital'] =='Divorced', 'Not_Married',df['Marital'])\n",
    "df['Marital'].unique()"
   ]
  },
  {
   "cell_type": "code",
   "execution_count": 23,
   "metadata": {},
   "outputs": [
    {
     "data": {
      "text/html": [
       "<div>\n",
       "<style scoped>\n",
       "    .dataframe tbody tr th:only-of-type {\n",
       "        vertical-align: middle;\n",
       "    }\n",
       "\n",
       "    .dataframe tbody tr th {\n",
       "        vertical-align: top;\n",
       "    }\n",
       "\n",
       "    .dataframe thead th {\n",
       "        text-align: right;\n",
       "    }\n",
       "</style>\n",
       "<table border=\"1\" class=\"dataframe\">\n",
       "  <thead>\n",
       "    <tr style=\"text-align: right;\">\n",
       "      <th></th>\n",
       "      <th>0</th>\n",
       "      <th>1</th>\n",
       "      <th>2</th>\n",
       "      <th>3</th>\n",
       "    </tr>\n",
       "  </thead>\n",
       "  <tbody>\n",
       "    <tr>\n",
       "      <th>Population</th>\n",
       "      <td>38</td>\n",
       "      <td>10446</td>\n",
       "      <td>3735</td>\n",
       "      <td>13863</td>\n",
       "    </tr>\n",
       "    <tr>\n",
       "      <th>Area</th>\n",
       "      <td>Urban</td>\n",
       "      <td>Urban</td>\n",
       "      <td>Urban</td>\n",
       "      <td>Suburban</td>\n",
       "    </tr>\n",
       "    <tr>\n",
       "      <th>Children</th>\n",
       "      <td>0</td>\n",
       "      <td>1</td>\n",
       "      <td>4</td>\n",
       "      <td>1</td>\n",
       "    </tr>\n",
       "    <tr>\n",
       "      <th>Age</th>\n",
       "      <td>68</td>\n",
       "      <td>27</td>\n",
       "      <td>50</td>\n",
       "      <td>48</td>\n",
       "    </tr>\n",
       "    <tr>\n",
       "      <th>Income</th>\n",
       "      <td>28561.99</td>\n",
       "      <td>21704.77</td>\n",
       "      <td>9609.57</td>\n",
       "      <td>18925.23</td>\n",
       "    </tr>\n",
       "    <tr>\n",
       "      <th>Marital</th>\n",
       "      <td>Not_Married</td>\n",
       "      <td>Married</td>\n",
       "      <td>Not_Married</td>\n",
       "      <td>Married</td>\n",
       "    </tr>\n",
       "    <tr>\n",
       "      <th>Gender</th>\n",
       "      <td>Male</td>\n",
       "      <td>Female</td>\n",
       "      <td>Female</td>\n",
       "      <td>Male</td>\n",
       "    </tr>\n",
       "    <tr>\n",
       "      <th>Churn</th>\n",
       "      <td>False</td>\n",
       "      <td>True</td>\n",
       "      <td>False</td>\n",
       "      <td>False</td>\n",
       "    </tr>\n",
       "    <tr>\n",
       "      <th>Outage_sec_perweek</th>\n",
       "      <td>7.978</td>\n",
       "      <td>11.699</td>\n",
       "      <td>10.753</td>\n",
       "      <td>14.914</td>\n",
       "    </tr>\n",
       "    <tr>\n",
       "      <th>Email</th>\n",
       "      <td>10</td>\n",
       "      <td>12</td>\n",
       "      <td>9</td>\n",
       "      <td>15</td>\n",
       "    </tr>\n",
       "    <tr>\n",
       "      <th>Contacts</th>\n",
       "      <td>0</td>\n",
       "      <td>0</td>\n",
       "      <td>0</td>\n",
       "      <td>2</td>\n",
       "    </tr>\n",
       "    <tr>\n",
       "      <th>Yearly_equip_failure</th>\n",
       "      <td>1</td>\n",
       "      <td>1</td>\n",
       "      <td>1</td>\n",
       "      <td>0</td>\n",
       "    </tr>\n",
       "    <tr>\n",
       "      <th>Techie</th>\n",
       "      <td>False</td>\n",
       "      <td>True</td>\n",
       "      <td>True</td>\n",
       "      <td>True</td>\n",
       "    </tr>\n",
       "    <tr>\n",
       "      <th>Contract</th>\n",
       "      <td>One year</td>\n",
       "      <td>Month-to-month</td>\n",
       "      <td>Two Year</td>\n",
       "      <td>Two Year</td>\n",
       "    </tr>\n",
       "    <tr>\n",
       "      <th>Port_modem</th>\n",
       "      <td>True</td>\n",
       "      <td>False</td>\n",
       "      <td>True</td>\n",
       "      <td>False</td>\n",
       "    </tr>\n",
       "    <tr>\n",
       "      <th>Tablet</th>\n",
       "      <td>True</td>\n",
       "      <td>True</td>\n",
       "      <td>False</td>\n",
       "      <td>False</td>\n",
       "    </tr>\n",
       "    <tr>\n",
       "      <th>InternetService</th>\n",
       "      <td>Fiber Optic</td>\n",
       "      <td>Fiber Optic</td>\n",
       "      <td>DSL</td>\n",
       "      <td>DSL</td>\n",
       "    </tr>\n",
       "    <tr>\n",
       "      <th>Phone</th>\n",
       "      <td>True</td>\n",
       "      <td>True</td>\n",
       "      <td>True</td>\n",
       "      <td>True</td>\n",
       "    </tr>\n",
       "    <tr>\n",
       "      <th>Multiple</th>\n",
       "      <td>False</td>\n",
       "      <td>True</td>\n",
       "      <td>True</td>\n",
       "      <td>False</td>\n",
       "    </tr>\n",
       "    <tr>\n",
       "      <th>OnlineSecurity</th>\n",
       "      <td>True</td>\n",
       "      <td>True</td>\n",
       "      <td>False</td>\n",
       "      <td>True</td>\n",
       "    </tr>\n",
       "    <tr>\n",
       "      <th>OnlineBackup</th>\n",
       "      <td>True</td>\n",
       "      <td>False</td>\n",
       "      <td>False</td>\n",
       "      <td>False</td>\n",
       "    </tr>\n",
       "    <tr>\n",
       "      <th>DeviceProtection</th>\n",
       "      <td>False</td>\n",
       "      <td>False</td>\n",
       "      <td>False</td>\n",
       "      <td>False</td>\n",
       "    </tr>\n",
       "    <tr>\n",
       "      <th>TechSupport</th>\n",
       "      <td>False</td>\n",
       "      <td>False</td>\n",
       "      <td>False</td>\n",
       "      <td>False</td>\n",
       "    </tr>\n",
       "    <tr>\n",
       "      <th>StreamingTV</th>\n",
       "      <td>False</td>\n",
       "      <td>True</td>\n",
       "      <td>False</td>\n",
       "      <td>True</td>\n",
       "    </tr>\n",
       "    <tr>\n",
       "      <th>StreamingMovies</th>\n",
       "      <td>True</td>\n",
       "      <td>True</td>\n",
       "      <td>True</td>\n",
       "      <td>False</td>\n",
       "    </tr>\n",
       "    <tr>\n",
       "      <th>PaperlessBilling</th>\n",
       "      <td>True</td>\n",
       "      <td>True</td>\n",
       "      <td>True</td>\n",
       "      <td>True</td>\n",
       "    </tr>\n",
       "    <tr>\n",
       "      <th>PaymentMethod</th>\n",
       "      <td>Auto</td>\n",
       "      <td>Auto</td>\n",
       "      <td>Auto</td>\n",
       "      <td>Check</td>\n",
       "    </tr>\n",
       "    <tr>\n",
       "      <th>Tenure</th>\n",
       "      <td>6.796</td>\n",
       "      <td>1.157</td>\n",
       "      <td>15.754</td>\n",
       "      <td>17.087</td>\n",
       "    </tr>\n",
       "    <tr>\n",
       "      <th>MonthlyCharge</th>\n",
       "      <td>172.456</td>\n",
       "      <td>242.633</td>\n",
       "      <td>159.948</td>\n",
       "      <td>119.957</td>\n",
       "    </tr>\n",
       "    <tr>\n",
       "      <th>Bandwidth_GB_Year</th>\n",
       "      <td>904.536</td>\n",
       "      <td>800.983</td>\n",
       "      <td>2054.707</td>\n",
       "      <td>2164.579</td>\n",
       "    </tr>\n",
       "  </tbody>\n",
       "</table>\n",
       "</div>"
      ],
      "text/plain": [
       "                                0               1            2         3\n",
       "Population                     38           10446         3735     13863\n",
       "Area                        Urban           Urban        Urban  Suburban\n",
       "Children                        0               1            4         1\n",
       "Age                            68              27           50        48\n",
       "Income                   28561.99        21704.77      9609.57  18925.23\n",
       "Marital               Not_Married         Married  Not_Married   Married\n",
       "Gender                       Male          Female       Female      Male\n",
       "Churn                       False            True        False     False\n",
       "Outage_sec_perweek          7.978          11.699       10.753    14.914\n",
       "Email                          10              12            9        15\n",
       "Contacts                        0               0            0         2\n",
       "Yearly_equip_failure            1               1            1         0\n",
       "Techie                      False            True         True      True\n",
       "Contract                 One year  Month-to-month     Two Year  Two Year\n",
       "Port_modem                   True           False         True     False\n",
       "Tablet                       True            True        False     False\n",
       "InternetService       Fiber Optic     Fiber Optic          DSL       DSL\n",
       "Phone                        True            True         True      True\n",
       "Multiple                    False            True         True     False\n",
       "OnlineSecurity               True            True        False      True\n",
       "OnlineBackup                 True           False        False     False\n",
       "DeviceProtection            False           False        False     False\n",
       "TechSupport                 False           False        False     False\n",
       "StreamingTV                 False            True        False      True\n",
       "StreamingMovies              True            True         True     False\n",
       "PaperlessBilling             True            True         True      True\n",
       "PaymentMethod                Auto            Auto         Auto     Check\n",
       "Tenure                      6.796           1.157       15.754    17.087\n",
       "MonthlyCharge             172.456         242.633      159.948   119.957\n",
       "Bandwidth_GB_Year         904.536         800.983     2054.707  2164.579"
      ]
     },
     "execution_count": 23,
     "metadata": {},
     "output_type": "execute_result"
    }
   ],
   "source": [
    "df.head(4).T"
   ]
  },
  {
   "cell_type": "markdown",
   "metadata": {},
   "source": [
    "<div class=\"impact\" data-hdr=\"Observations\">Observations:\n",
    "  </div>\n",
    "<ul class=\"a\">\n",
    "    <li>The <b>Income</b> of churned customers is slightly higher.\n",
    "    <li>The <b>Tenure</b> of churned customers is significantly lower.\n",
    "    <li>The <b>MonthlyCharge</b> of churned customers is considerable higher.\n",
    "    <li>The <b>Bandwidth_GB_Year</b> is significantly lower.        \n",
    "</ul>"
   ]
  },
  {
   "cell_type": "markdown",
   "metadata": {},
   "source": [
    "<div class=\"impact\" data-hdr=\"Convert Selected Categorical Data\">Now that I have selected some of the categorical data that seem to be a good predictors of the outcome, I will convert these categorical data to dummy, numeric data. Each new variable will have a value of either one (1) or zero (0).</div>"
   ]
  },
  {
   "cell_type": "markdown",
   "metadata": {},
   "source": [
    "<h2 data-nbr=\"C4\">Provide Copy of Data</h2>"
   ]
  },
  {
   "cell_type": "markdown",
   "metadata": {},
   "source": [
    "<div class=\"impact\" data-hdr=\"Final Data\">Here is the final list of columns after all data cleaning.</div>"
   ]
  },
  {
   "cell_type": "code",
   "execution_count": 24,
   "metadata": {
    "scrolled": true
   },
   "outputs": [
    {
     "name": "stdout",
     "output_type": "stream",
     "text": [
      "File saved to: d209_task1_final_data.csv\n",
      "{bool: ['Churn', 'Techie', 'Port_modem', 'Tablet', 'Phone', 'Multiple', 'OnlineSecurity', 'OnlineBackup', 'DeviceProtection', 'TechSupport', 'StreamingTV', 'StreamingMovies', 'PaperlessBilling'], int64: ['Population', 'Children', 'Age', 'Email', 'Contacts', 'Yearly_equip_failure'], float64: ['Income', 'Outage_sec_perweek', 'Tenure', 'MonthlyCharge', 'Bandwidth_GB_Year'], object: ['Area', 'Marital', 'Gender', 'Contract', 'InternetService', 'PaymentMethod']}\n"
     ]
    }
   ],
   "source": [
    "# Provide copy of the prepared data set.\n",
    "final_data = 'd209_task1_final_data.csv'\n",
    "df.to_csv(final_data, index=False, header=True)\n",
    "print('File saved to: {}'.format(final_data))\n",
    "print(df.columns.to_series().groupby(df.dtypes).groups)"
   ]
  },
  {
   "cell_type": "code",
   "execution_count": 28,
   "metadata": {},
   "outputs": [
    {
     "data": {
      "text/html": [
       "<div>\n",
       "<style scoped>\n",
       "    .dataframe tbody tr th:only-of-type {\n",
       "        vertical-align: middle;\n",
       "    }\n",
       "\n",
       "    .dataframe tbody tr th {\n",
       "        vertical-align: top;\n",
       "    }\n",
       "\n",
       "    .dataframe thead th {\n",
       "        text-align: right;\n",
       "    }\n",
       "</style>\n",
       "<table border=\"1\" class=\"dataframe\">\n",
       "  <thead>\n",
       "    <tr style=\"text-align: right;\">\n",
       "      <th></th>\n",
       "      <th>0</th>\n",
       "      <th>1</th>\n",
       "      <th>2</th>\n",
       "      <th>3</th>\n",
       "    </tr>\n",
       "  </thead>\n",
       "  <tbody>\n",
       "    <tr>\n",
       "      <th>Population</th>\n",
       "      <td>38</td>\n",
       "      <td>10446</td>\n",
       "      <td>3735</td>\n",
       "      <td>13863</td>\n",
       "    </tr>\n",
       "    <tr>\n",
       "      <th>Area</th>\n",
       "      <td>Urban</td>\n",
       "      <td>Urban</td>\n",
       "      <td>Urban</td>\n",
       "      <td>Suburban</td>\n",
       "    </tr>\n",
       "    <tr>\n",
       "      <th>Children</th>\n",
       "      <td>0</td>\n",
       "      <td>1</td>\n",
       "      <td>4</td>\n",
       "      <td>1</td>\n",
       "    </tr>\n",
       "    <tr>\n",
       "      <th>Age</th>\n",
       "      <td>68</td>\n",
       "      <td>27</td>\n",
       "      <td>50</td>\n",
       "      <td>48</td>\n",
       "    </tr>\n",
       "    <tr>\n",
       "      <th>Income</th>\n",
       "      <td>28561.99</td>\n",
       "      <td>21704.77</td>\n",
       "      <td>9609.57</td>\n",
       "      <td>18925.23</td>\n",
       "    </tr>\n",
       "    <tr>\n",
       "      <th>Marital</th>\n",
       "      <td>Not_Married</td>\n",
       "      <td>Married</td>\n",
       "      <td>Not_Married</td>\n",
       "      <td>Married</td>\n",
       "    </tr>\n",
       "    <tr>\n",
       "      <th>Gender</th>\n",
       "      <td>Male</td>\n",
       "      <td>Female</td>\n",
       "      <td>Female</td>\n",
       "      <td>Male</td>\n",
       "    </tr>\n",
       "    <tr>\n",
       "      <th>Churn</th>\n",
       "      <td>False</td>\n",
       "      <td>True</td>\n",
       "      <td>False</td>\n",
       "      <td>False</td>\n",
       "    </tr>\n",
       "    <tr>\n",
       "      <th>Outage_sec_perweek</th>\n",
       "      <td>7.978</td>\n",
       "      <td>11.699</td>\n",
       "      <td>10.753</td>\n",
       "      <td>14.914</td>\n",
       "    </tr>\n",
       "    <tr>\n",
       "      <th>Email</th>\n",
       "      <td>10</td>\n",
       "      <td>12</td>\n",
       "      <td>9</td>\n",
       "      <td>15</td>\n",
       "    </tr>\n",
       "    <tr>\n",
       "      <th>Contacts</th>\n",
       "      <td>0</td>\n",
       "      <td>0</td>\n",
       "      <td>0</td>\n",
       "      <td>2</td>\n",
       "    </tr>\n",
       "    <tr>\n",
       "      <th>Yearly_equip_failure</th>\n",
       "      <td>1</td>\n",
       "      <td>1</td>\n",
       "      <td>1</td>\n",
       "      <td>0</td>\n",
       "    </tr>\n",
       "    <tr>\n",
       "      <th>Techie</th>\n",
       "      <td>False</td>\n",
       "      <td>True</td>\n",
       "      <td>True</td>\n",
       "      <td>True</td>\n",
       "    </tr>\n",
       "    <tr>\n",
       "      <th>Contract</th>\n",
       "      <td>One year</td>\n",
       "      <td>Month-to-month</td>\n",
       "      <td>Two Year</td>\n",
       "      <td>Two Year</td>\n",
       "    </tr>\n",
       "    <tr>\n",
       "      <th>Port_modem</th>\n",
       "      <td>True</td>\n",
       "      <td>False</td>\n",
       "      <td>True</td>\n",
       "      <td>False</td>\n",
       "    </tr>\n",
       "    <tr>\n",
       "      <th>Tablet</th>\n",
       "      <td>True</td>\n",
       "      <td>True</td>\n",
       "      <td>False</td>\n",
       "      <td>False</td>\n",
       "    </tr>\n",
       "    <tr>\n",
       "      <th>InternetService</th>\n",
       "      <td>Fiber Optic</td>\n",
       "      <td>Fiber Optic</td>\n",
       "      <td>DSL</td>\n",
       "      <td>DSL</td>\n",
       "    </tr>\n",
       "    <tr>\n",
       "      <th>Phone</th>\n",
       "      <td>True</td>\n",
       "      <td>True</td>\n",
       "      <td>True</td>\n",
       "      <td>True</td>\n",
       "    </tr>\n",
       "    <tr>\n",
       "      <th>Multiple</th>\n",
       "      <td>False</td>\n",
       "      <td>True</td>\n",
       "      <td>True</td>\n",
       "      <td>False</td>\n",
       "    </tr>\n",
       "    <tr>\n",
       "      <th>OnlineSecurity</th>\n",
       "      <td>True</td>\n",
       "      <td>True</td>\n",
       "      <td>False</td>\n",
       "      <td>True</td>\n",
       "    </tr>\n",
       "    <tr>\n",
       "      <th>OnlineBackup</th>\n",
       "      <td>True</td>\n",
       "      <td>False</td>\n",
       "      <td>False</td>\n",
       "      <td>False</td>\n",
       "    </tr>\n",
       "    <tr>\n",
       "      <th>DeviceProtection</th>\n",
       "      <td>False</td>\n",
       "      <td>False</td>\n",
       "      <td>False</td>\n",
       "      <td>False</td>\n",
       "    </tr>\n",
       "    <tr>\n",
       "      <th>TechSupport</th>\n",
       "      <td>False</td>\n",
       "      <td>False</td>\n",
       "      <td>False</td>\n",
       "      <td>False</td>\n",
       "    </tr>\n",
       "    <tr>\n",
       "      <th>StreamingTV</th>\n",
       "      <td>False</td>\n",
       "      <td>True</td>\n",
       "      <td>False</td>\n",
       "      <td>True</td>\n",
       "    </tr>\n",
       "    <tr>\n",
       "      <th>StreamingMovies</th>\n",
       "      <td>True</td>\n",
       "      <td>True</td>\n",
       "      <td>True</td>\n",
       "      <td>False</td>\n",
       "    </tr>\n",
       "    <tr>\n",
       "      <th>PaperlessBilling</th>\n",
       "      <td>True</td>\n",
       "      <td>True</td>\n",
       "      <td>True</td>\n",
       "      <td>True</td>\n",
       "    </tr>\n",
       "    <tr>\n",
       "      <th>PaymentMethod</th>\n",
       "      <td>Auto</td>\n",
       "      <td>Auto</td>\n",
       "      <td>Auto</td>\n",
       "      <td>Check</td>\n",
       "    </tr>\n",
       "    <tr>\n",
       "      <th>Tenure</th>\n",
       "      <td>6.796</td>\n",
       "      <td>1.157</td>\n",
       "      <td>15.754</td>\n",
       "      <td>17.087</td>\n",
       "    </tr>\n",
       "    <tr>\n",
       "      <th>MonthlyCharge</th>\n",
       "      <td>172.456</td>\n",
       "      <td>242.633</td>\n",
       "      <td>159.948</td>\n",
       "      <td>119.957</td>\n",
       "    </tr>\n",
       "    <tr>\n",
       "      <th>Bandwidth_GB_Year</th>\n",
       "      <td>904.536</td>\n",
       "      <td>800.983</td>\n",
       "      <td>2054.707</td>\n",
       "      <td>2164.579</td>\n",
       "    </tr>\n",
       "  </tbody>\n",
       "</table>\n",
       "</div>"
      ],
      "text/plain": [
       "                                0               1            2         3\n",
       "Population                     38           10446         3735     13863\n",
       "Area                        Urban           Urban        Urban  Suburban\n",
       "Children                        0               1            4         1\n",
       "Age                            68              27           50        48\n",
       "Income                   28561.99        21704.77      9609.57  18925.23\n",
       "Marital               Not_Married         Married  Not_Married   Married\n",
       "Gender                       Male          Female       Female      Male\n",
       "Churn                       False            True        False     False\n",
       "Outage_sec_perweek          7.978          11.699       10.753    14.914\n",
       "Email                          10              12            9        15\n",
       "Contacts                        0               0            0         2\n",
       "Yearly_equip_failure            1               1            1         0\n",
       "Techie                      False            True         True      True\n",
       "Contract                 One year  Month-to-month     Two Year  Two Year\n",
       "Port_modem                   True           False         True     False\n",
       "Tablet                       True            True        False     False\n",
       "InternetService       Fiber Optic     Fiber Optic          DSL       DSL\n",
       "Phone                        True            True         True      True\n",
       "Multiple                    False            True         True     False\n",
       "OnlineSecurity               True            True        False      True\n",
       "OnlineBackup                 True           False        False     False\n",
       "DeviceProtection            False           False        False     False\n",
       "TechSupport                 False           False        False     False\n",
       "StreamingTV                 False            True        False      True\n",
       "StreamingMovies              True            True         True     False\n",
       "PaperlessBilling             True            True         True      True\n",
       "PaymentMethod                Auto            Auto         Auto     Check\n",
       "Tenure                      6.796           1.157       15.754    17.087\n",
       "MonthlyCharge             172.456         242.633      159.948   119.957\n",
       "Bandwidth_GB_Year         904.536         800.983     2054.707  2164.579"
      ]
     },
     "execution_count": 28,
     "metadata": {},
     "output_type": "execute_result"
    }
   ],
   "source": [
    "df.head(4).T"
   ]
  },
  {
   "cell_type": "markdown",
   "metadata": {},
   "source": [
    "<div class=\"part\">Analysis</div>"
   ]
  },
  {
   "cell_type": "markdown",
   "metadata": {},
   "source": [
    "<h2 data-nbr=\"D1\">Split Data</h2>"
   ]
  },
  {
   "cell_type": "markdown",
   "metadata": {},
   "source": [
    "<div class=\"impact\" data-hdr=\"Split Data\">Split data into training and test data.</div>"
   ]
  },
  {
   "cell_type": "code",
   "execution_count": 29,
   "metadata": {
    "scrolled": true
   },
   "outputs": [],
   "source": [
    "# train test split\n",
    "X = df.loc[:, df.columns != 'Churn_Yes']\n",
    "y = df.loc[:, df.columns == 'Churn_Yes']\n",
    "X_train, X_test, y_train, y_test = train_test_split(X, y,test_size=0.3, random_state=0)"
   ]
  },
  {
   "cell_type": "markdown",
   "metadata": {},
   "source": [
    "<div class=\"impact\" data-hdr=\"Provide Data\">Provide copy of both datasets.</div>"
   ]
  },
  {
   "cell_type": "code",
   "execution_count": 30,
   "metadata": {},
   "outputs": [
    {
     "name": "stdout",
     "output_type": "stream",
     "text": [
      "File saved to: d209_task1_X_train_data.csv\n",
      "(7000, 30)\n",
      "File saved to: d209_task1_y_train_data.csv\n",
      "(7000, 0)\n",
      "File saved to: d209_task1_X_test_data.csv\n",
      "(3000, 30)\n",
      "File saved to: d209_task1_y_test_data.csv\n",
      "(3000, 0)\n"
     ]
    }
   ],
   "source": [
    "# Provide copy of X_train data\n",
    "X_train_file = 'd209_task1_X_train_data.csv'\n",
    "X_train.to_csv(X_train_file, index=False, header=True)\n",
    "print('File saved to: {}'.format(X_train_file))\n",
    "print(X_train.shape)\n",
    "\n",
    "# Provide copy of y_train data\n",
    "y_train_file = 'd209_task1_y_train_data.csv'\n",
    "y_train.to_csv(y_train_file, index=False, header=True)\n",
    "print('File saved to: {}'.format(y_train_file))\n",
    "print(y_train.shape)\n",
    "\n",
    "# Provide copy of X_test data\n",
    "X_test_file = 'd209_task1_X_test_data.csv'\n",
    "X_test.to_csv(X_test_file, index=False, header=True)\n",
    "print('File saved to: {}'.format(X_test_file))\n",
    "print(X_test.shape)\n",
    "\n",
    "# Provide copy of y_test data\n",
    "y_test_file = 'd209_task1_y_test_data.csv'\n",
    "y_test.to_csv(y_test_file, index=False, header=True)\n",
    "print('File saved to: {}'.format(y_test_file))\n",
    "print(y_test.shape)"
   ]
  },
  {
   "cell_type": "markdown",
   "metadata": {},
   "source": [
    "<div class=\"part\">Data Summary and Implications</div>"
   ]
  },
  {
   "cell_type": "markdown",
   "metadata": {},
   "source": [
    "<h2 data-nbr=\"E1\">Explain Accuracy</h2>"
   ]
  },
  {
   "cell_type": "markdown",
   "metadata": {},
   "source": [
    "<h2 data-nbr=\"E4\">Recommendations</h2>"
   ]
  },
  {
   "cell_type": "markdown",
   "metadata": {},
   "source": [
    "<div class=\"impact\" data-hdr=\"Recommendations\">Customers will be less likely to churn if their <b>MonthlyCharge</b> is minimized and if the customer has any of the additionaly available services. Focus marketing efforts on which additional services are best for each customer, maybe bundle some of the services at a slightly reduced monthly payment.  Increase customers' awareness of the value of the additional services for what they are paying each month. Keeping their monthly payment low and increasing the number of extra services will minimize likelihood of churn, and provide company with increase in the customer lifetime revenue.</div>"
   ]
  },
  {
   "cell_type": "markdown",
   "metadata": {},
   "source": [
    "<div class=\"part\">Demonstration</div>"
   ]
  },
  {
   "cell_type": "markdown",
   "metadata": {},
   "source": [
    "<h2 data-nbr=\"F\">Provide Panopto Video</h2>"
   ]
  },
  {
   "cell_type": "markdown",
   "metadata": {},
   "source": [
    "The Panopto video recording was created and here is the link: https://wgu.hosted.panopto.com/Panopto/Pages/Viewer.aspx?id=a90e1811-2440-4e27-a081-adbb01855443"
   ]
  },
  {
   "cell_type": "markdown",
   "metadata": {},
   "source": [
    "<h2 data-nbr=\"G\">Provide Web Sources</h2>"
   ]
  },
  {
   "cell_type": "code",
   "execution_count": null,
   "metadata": {},
   "outputs": [],
   "source": []
  }
 ],
 "metadata": {
  "interpreter": {
   "hash": "7ec9ddab846ab35e0b593fcb4cf136937a9f858131f0b99e6e6fda1922a58995"
  },
  "kernelspec": {
   "display_name": "v",
   "language": "python",
   "name": "v"
  },
  "language_info": {
   "codemirror_mode": {
    "name": "ipython",
    "version": 3
   },
   "file_extension": ".py",
   "mimetype": "text/x-python",
   "name": "python",
   "nbconvert_exporter": "python",
   "pygments_lexer": "ipython3",
   "version": "3.9.6"
  }
 },
 "nbformat": 4,
 "nbformat_minor": 2
}
