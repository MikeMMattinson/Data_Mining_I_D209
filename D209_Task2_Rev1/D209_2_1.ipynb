{
 "cells": [
  {
   "cell_type": "markdown",
   "id": "b48d908f",
   "metadata": {},
   "source": [
    "<h1>WGU D209 TASK 2 REV 1 - MATTINSON</h1>"
   ]
  },
  {
   "cell_type": "markdown",
   "id": "7526e983",
   "metadata": {},
   "source": [
    "<div style=\"text-align: center; \n",
    "    line-height: 48px;\n",
    "    font-size: 24px; \" >  \n",
    "    Classification Tree - Telecom Churn Data<br>\n",
    "    Mike Mattinson<br>\n",
    "    Master of Science, Data Analytics, WGU.edu<br>\n",
    "    Task 2 - Decision Classification Tree<br>\n",
    "    November 15, 2021<br>\n",
    "</div>"
   ]
  },
  {
   "cell_type": "markdown",
   "id": "d524687b",
   "metadata": {},
   "source": [
    "<div style=\"font-family:Impact;\">Configure Notebook.<span style=\"font-family: 'Courier New';font-size: 18px;color: #000000;line-height: 24px;\">Import and configure packages. All of the code for importing and configuring is contained in a imports .PY file. Also, there is a second helpers .PY file to define a few functions used throughout this notebook.</span></div>"
   ]
  },
  {
   "cell_type": "code",
   "execution_count": 3,
   "id": "3755f924",
   "metadata": {},
   "outputs": [],
   "source": [
    "# import and configure packages\n",
    "from imports import *\n",
    "%matplotlib inline\n",
    "warnings.filterwarnings('ignore')"
   ]
  },
  {
   "cell_type": "code",
   "execution_count": 4,
   "id": "51f7eb52",
   "metadata": {},
   "outputs": [],
   "source": [
    "from helpers import *"
   ]
  },
  {
   "cell_type": "markdown",
   "id": "ca88463d",
   "metadata": {},
   "source": [
    "<h2>Part I: Research Question</h2>A.  Describe the purpose of this data mining report by doing the following:"
   ]
  },
  {
   "cell_type": "markdown",
   "id": "6f78ddf1",
   "metadata": {},
   "source": [
    "<h3>A1. Propose <b>one</b> question relevant to a real-world organizational situation that you will answer using one of the following prediction methods: (a) decision trees, (b) random forests or (c) advanced regression (i.e., lasso or ridge regression)</h3>"
   ]
  },
  {
   "cell_type": "markdown",
   "id": "60201b80",
   "metadata": {},
   "source": [
    "<div style=\"font-family:Impact;\">Primary Question. <span style=\"font-family: 'Courier New';font-size: 18px;color: #000000;line-height: 24px;\">A telecomm company is concerned about customer churn. It has collected customer data on 10,000 customers and the analysis will attempt to determine if the target value 'Churn', which is a yes-nop categorical variable, if 'Churn' can be predicted accurately using only a minimum number of predictor variables. The prediction analysis will use the DecisionClassificationTree to predict the target value.</span></div>"
   ]
  },
  {
   "cell_type": "markdown",
   "id": "99ca4d65",
   "metadata": {},
   "source": [
    "<h3>A2. Define <b>one</b> goal of the data analysis. Ensure that your goal is reasonable within the scope of the scenario and is represented in the available data.</h3>"
   ]
  },
  {
   "cell_type": "markdown",
   "id": "08b665f6",
   "metadata": {},
   "source": [
    "<div style=\"font-family:Impact;\">Primary Goal. <span style=\"font-family: 'Courier New';font-size: 18px;color: #000000;line-height: 24px;\">Primary goals will look at all predictor variables and then reduce the number of predictor variables while maintaining a reasonable level of accuracy. The company provided data will be split into training and testing data, 70% training and 30% testing. I will using the confusion matrix to show the total number of correct and incorrect predictions in the training and testing datasets.</span></div>"
   ]
  },
  {
   "cell_type": "markdown",
   "id": "0a64ef3f",
   "metadata": {},
   "source": [
    "<h2>Part II: Method Justification</h2>B.  Explain the reasons for your chosen predictionf method from part A1 by doing the following:"
   ]
  },
  {
   "cell_type": "markdown",
   "id": "79a296d2",
   "metadata": {},
   "source": [
    "<h3>B1. Explain how the prediction method you chose analyzes the selected data set. Include expected outcomes.</h3>"
   ]
  },
  {
   "cell_type": "markdown",
   "id": "45c86845",
   "metadata": {},
   "source": [
    "<div style=\"font-family:Impact;\">Explain Method. <span style=\"font-family: 'Courier New';font-size: 18px;color: #000000;line-height: 24px;\">I choose to use the DecisionClassificationTree to model the data in order to predict the target value using a minimum number of features. Once the model is trained using 70% of the data, then I will calculate the accuracy of the model. If the model is doing well, anyone will be able to enter the model with unclassified data and the model will accurately predict the target value.</span></div> "
   ]
  },
  {
   "cell_type": "markdown",
   "id": "6a7e7c22",
   "metadata": {},
   "source": [
    "<h3>B2. Summarize <b>one</b> assumption of the chosen predition method.</h3>"
   ]
  },
  {
   "cell_type": "markdown",
   "id": "4e098b95",
   "metadata": {},
   "source": [
    "<div style=\"font-family:Impact;\">One Assumption. <span style=\"font-family: 'Courier New';font-size: 18px;color: #000000;line-height: 24px;\">The model is created using the training data and the size of the training data is sufficient large to make the best decision points throughout the tree.</span></div>"
   ]
  },
  {
   "cell_type": "markdown",
   "id": "bdc8000c",
   "metadata": {},
   "source": [
    "<h3>B3. List the packages or libraries you have chosen for <b>Python</b> or R, and justify how each item on the list supports the analysis.</h3>"
   ]
  },
  {
   "cell_type": "markdown",
   "id": "4a4f004a",
   "metadata": {},
   "source": [
    "<span style=\"font-family: 'Courier New';font-size: 18px;color: #000000;line-height: 24px;\">All of the Python packages required for this analysis were loaded at the very top of th notebook. The packages and version numbers are presented. Besides the normal Python packages (numpy, scipy, matplotlib, pandas, etc.) the primary package required to create and view the prediction model comes from sklearn. Also, I use two  (2) .PY files instead of including all that code in this notebook, I reuse it in other notebooks. Imports.py has all of the required packages and Helpers.py has many helpful functions that allow me to standardize my tables, figures and other parts of the notebook. Both of these .PY files will be included with the notebook for reference.</span></div>"
   ]
  },
  {
   "cell_type": "markdown",
   "id": "57937026",
   "metadata": {},
   "source": [
    "<h2>Part III: Data Preparation</h2>C.  Perform data preparation for the chosen data set by doing the following:"
   ]
  },
  {
   "cell_type": "markdown",
   "id": "359f4930",
   "metadata": {},
   "source": [
    "<h3>C1. Describe <b>one</b> data preprocessing goal relevant to the prediction method from part A1.</h3>"
   ]
  },
  {
   "cell_type": "markdown",
   "id": "86c1319a",
   "metadata": {},
   "source": [
    "<div style=\"font-family:Impact;\">Goal. <span style=\"font-family: 'Courier New';font-size: 18px;color: #000000;line-height: 24px;\">The data provided by the company includes both numeric and categoricald data, the first primary goal will be to convert the categorical data into data that the model can understand. I plan to convert the categorical data using the sklearn.preprocessing LabelEncoder. This will happen in section 'C3' below.</span></div>"
   ]
  },
  {
   "cell_type": "markdown",
   "id": "5f6d2781",
   "metadata": {},
   "source": [
    "<h3>C2. Identify the initial data set variables that you will use to perform the analysis for the classification question from part A1, and classify each variable as continuous or categorical.</h3>"
   ]
  },
  {
   "cell_type": "markdown",
   "id": "039e1729",
   "metadata": {},
   "source": [
    "<div style= \"font-weight: bold;font-size: large;border-top: solid;text-transform: uppercase;\">TABLE 3-1.<span style=\"font-weight: normal;\">DESCRIPTION OF DATA IN TELECO CHURN DATASET</span></div>"
   ]
  },
  {
   "cell_type": "raw",
   "id": "9007d8a7",
   "metadata": {},
   "source": [
    "In the telecommunications industry, customers can choose from multiple service providers and actively switch from one provider to another. Customer “churn” is defined as the percentage of customers who stopped using a provider’s product or service during a certain time frame. In this highly competitive market, some telecommunications industries can experience average annual churn rates as high as 25 percent. Given that it costs 10 times more to acquire a new customer than to retain an existing one, customer retention has now become even more important than customer acquisition.\n",
    "\n",
    "For many providers, retaining highly profitable customers is the number one business goal. To reduce customer churn, telecommunications companies need to predict which customers are at high risk of churn.\n",
    "\n",
    "You are an analyst on a team of analysts in a popular telecommunications company, which serves customers in all regions of the United States. You have been asked to clean the raw data set in preparation to explore the data, identif y trends, and compare key metrics.\n"
   ]
  },
  {
   "cell_type": "code",
   "execution_count": 5,
   "id": "05d348df",
   "metadata": {},
   "outputs": [],
   "source": [
    "# load data from .csv\n",
    "raw = pd.read_csv('data/churn_clean.csv')\n",
    "raw = raw.drop(columns=['CaseOrder','UID',\n",
    "        'Customer_id','Interaction',\n",
    "        'City', 'State','County','Zip',\n",
    "        'Lat','Lng','Job','TimeZone'])"
   ]
  },
  {
   "cell_type": "markdown",
   "id": "0bf11633",
   "metadata": {},
   "source": [
    "<div style= \"font-weight: bold;font-size: large;border-top: solid;text-transform: uppercase;\">TABLE 3-2.<span style=\"font-weight: normal;\">RAW DATA</span></div>Initial state of dataset before any manipulations."
   ]
  },
  {
   "cell_type": "code",
   "execution_count": 6,
   "id": "192e0ae8",
   "metadata": {
    "scrolled": false
   },
   "outputs": [
    {
     "data": {
      "text/html": [
       "<div>\n",
       "<style scoped>\n",
       "    .dataframe tbody tr th:only-of-type {\n",
       "        vertical-align: middle;\n",
       "    }\n",
       "\n",
       "    .dataframe tbody tr th {\n",
       "        vertical-align: top;\n",
       "    }\n",
       "\n",
       "    .dataframe thead th {\n",
       "        text-align: right;\n",
       "    }\n",
       "</style>\n",
       "<table border=\"1\" class=\"dataframe\">\n",
       "  <thead>\n",
       "    <tr style=\"text-align: right;\">\n",
       "      <th></th>\n",
       "      <th>0</th>\n",
       "      <th>1</th>\n",
       "      <th>2</th>\n",
       "      <th>3</th>\n",
       "    </tr>\n",
       "  </thead>\n",
       "  <tbody>\n",
       "    <tr>\n",
       "      <th>Population</th>\n",
       "      <td>38</td>\n",
       "      <td>10446</td>\n",
       "      <td>3735</td>\n",
       "      <td>13863</td>\n",
       "    </tr>\n",
       "    <tr>\n",
       "      <th>Area</th>\n",
       "      <td>Urban</td>\n",
       "      <td>Urban</td>\n",
       "      <td>Urban</td>\n",
       "      <td>Suburban</td>\n",
       "    </tr>\n",
       "    <tr>\n",
       "      <th>Children</th>\n",
       "      <td>0</td>\n",
       "      <td>1</td>\n",
       "      <td>4</td>\n",
       "      <td>1</td>\n",
       "    </tr>\n",
       "    <tr>\n",
       "      <th>Age</th>\n",
       "      <td>68</td>\n",
       "      <td>27</td>\n",
       "      <td>50</td>\n",
       "      <td>48</td>\n",
       "    </tr>\n",
       "    <tr>\n",
       "      <th>Income</th>\n",
       "      <td>28561.99</td>\n",
       "      <td>21704.77</td>\n",
       "      <td>9609.57</td>\n",
       "      <td>18925.23</td>\n",
       "    </tr>\n",
       "    <tr>\n",
       "      <th>Marital</th>\n",
       "      <td>Widowed</td>\n",
       "      <td>Married</td>\n",
       "      <td>Widowed</td>\n",
       "      <td>Married</td>\n",
       "    </tr>\n",
       "    <tr>\n",
       "      <th>Gender</th>\n",
       "      <td>Male</td>\n",
       "      <td>Female</td>\n",
       "      <td>Female</td>\n",
       "      <td>Male</td>\n",
       "    </tr>\n",
       "    <tr>\n",
       "      <th>Churn</th>\n",
       "      <td>No</td>\n",
       "      <td>Yes</td>\n",
       "      <td>No</td>\n",
       "      <td>No</td>\n",
       "    </tr>\n",
       "    <tr>\n",
       "      <th>Outage_sec_perweek</th>\n",
       "      <td>7.978</td>\n",
       "      <td>11.699</td>\n",
       "      <td>10.753</td>\n",
       "      <td>14.914</td>\n",
       "    </tr>\n",
       "    <tr>\n",
       "      <th>Email</th>\n",
       "      <td>10</td>\n",
       "      <td>12</td>\n",
       "      <td>9</td>\n",
       "      <td>15</td>\n",
       "    </tr>\n",
       "    <tr>\n",
       "      <th>Contacts</th>\n",
       "      <td>0</td>\n",
       "      <td>0</td>\n",
       "      <td>0</td>\n",
       "      <td>2</td>\n",
       "    </tr>\n",
       "    <tr>\n",
       "      <th>Yearly_equip_failure</th>\n",
       "      <td>1</td>\n",
       "      <td>1</td>\n",
       "      <td>1</td>\n",
       "      <td>0</td>\n",
       "    </tr>\n",
       "    <tr>\n",
       "      <th>Techie</th>\n",
       "      <td>No</td>\n",
       "      <td>Yes</td>\n",
       "      <td>Yes</td>\n",
       "      <td>Yes</td>\n",
       "    </tr>\n",
       "    <tr>\n",
       "      <th>Contract</th>\n",
       "      <td>One year</td>\n",
       "      <td>Month-to-month</td>\n",
       "      <td>Two Year</td>\n",
       "      <td>Two Year</td>\n",
       "    </tr>\n",
       "    <tr>\n",
       "      <th>Port_modem</th>\n",
       "      <td>Yes</td>\n",
       "      <td>No</td>\n",
       "      <td>Yes</td>\n",
       "      <td>No</td>\n",
       "    </tr>\n",
       "    <tr>\n",
       "      <th>Tablet</th>\n",
       "      <td>Yes</td>\n",
       "      <td>Yes</td>\n",
       "      <td>No</td>\n",
       "      <td>No</td>\n",
       "    </tr>\n",
       "    <tr>\n",
       "      <th>InternetService</th>\n",
       "      <td>Fiber Optic</td>\n",
       "      <td>Fiber Optic</td>\n",
       "      <td>DSL</td>\n",
       "      <td>DSL</td>\n",
       "    </tr>\n",
       "    <tr>\n",
       "      <th>Phone</th>\n",
       "      <td>Yes</td>\n",
       "      <td>Yes</td>\n",
       "      <td>Yes</td>\n",
       "      <td>Yes</td>\n",
       "    </tr>\n",
       "    <tr>\n",
       "      <th>Multiple</th>\n",
       "      <td>No</td>\n",
       "      <td>Yes</td>\n",
       "      <td>Yes</td>\n",
       "      <td>No</td>\n",
       "    </tr>\n",
       "    <tr>\n",
       "      <th>OnlineSecurity</th>\n",
       "      <td>Yes</td>\n",
       "      <td>Yes</td>\n",
       "      <td>No</td>\n",
       "      <td>Yes</td>\n",
       "    </tr>\n",
       "    <tr>\n",
       "      <th>OnlineBackup</th>\n",
       "      <td>Yes</td>\n",
       "      <td>No</td>\n",
       "      <td>No</td>\n",
       "      <td>No</td>\n",
       "    </tr>\n",
       "    <tr>\n",
       "      <th>DeviceProtection</th>\n",
       "      <td>No</td>\n",
       "      <td>No</td>\n",
       "      <td>No</td>\n",
       "      <td>No</td>\n",
       "    </tr>\n",
       "    <tr>\n",
       "      <th>TechSupport</th>\n",
       "      <td>No</td>\n",
       "      <td>No</td>\n",
       "      <td>No</td>\n",
       "      <td>No</td>\n",
       "    </tr>\n",
       "    <tr>\n",
       "      <th>StreamingTV</th>\n",
       "      <td>No</td>\n",
       "      <td>Yes</td>\n",
       "      <td>No</td>\n",
       "      <td>Yes</td>\n",
       "    </tr>\n",
       "    <tr>\n",
       "      <th>StreamingMovies</th>\n",
       "      <td>Yes</td>\n",
       "      <td>Yes</td>\n",
       "      <td>Yes</td>\n",
       "      <td>No</td>\n",
       "    </tr>\n",
       "    <tr>\n",
       "      <th>PaperlessBilling</th>\n",
       "      <td>Yes</td>\n",
       "      <td>Yes</td>\n",
       "      <td>Yes</td>\n",
       "      <td>Yes</td>\n",
       "    </tr>\n",
       "    <tr>\n",
       "      <th>PaymentMethod</th>\n",
       "      <td>Credit Card (automatic)</td>\n",
       "      <td>Bank Transfer(automatic)</td>\n",
       "      <td>Credit Card (automatic)</td>\n",
       "      <td>Mailed Check</td>\n",
       "    </tr>\n",
       "    <tr>\n",
       "      <th>Tenure</th>\n",
       "      <td>6.796</td>\n",
       "      <td>1.157</td>\n",
       "      <td>15.754</td>\n",
       "      <td>17.087</td>\n",
       "    </tr>\n",
       "    <tr>\n",
       "      <th>MonthlyCharge</th>\n",
       "      <td>172.456</td>\n",
       "      <td>242.633</td>\n",
       "      <td>159.948</td>\n",
       "      <td>119.957</td>\n",
       "    </tr>\n",
       "    <tr>\n",
       "      <th>Bandwidth_GB_Year</th>\n",
       "      <td>904.536</td>\n",
       "      <td>800.983</td>\n",
       "      <td>2054.707</td>\n",
       "      <td>2164.579</td>\n",
       "    </tr>\n",
       "    <tr>\n",
       "      <th>Item1</th>\n",
       "      <td>5</td>\n",
       "      <td>3</td>\n",
       "      <td>4</td>\n",
       "      <td>4</td>\n",
       "    </tr>\n",
       "    <tr>\n",
       "      <th>Item2</th>\n",
       "      <td>5</td>\n",
       "      <td>4</td>\n",
       "      <td>4</td>\n",
       "      <td>4</td>\n",
       "    </tr>\n",
       "    <tr>\n",
       "      <th>Item3</th>\n",
       "      <td>5</td>\n",
       "      <td>3</td>\n",
       "      <td>2</td>\n",
       "      <td>4</td>\n",
       "    </tr>\n",
       "    <tr>\n",
       "      <th>Item4</th>\n",
       "      <td>3</td>\n",
       "      <td>3</td>\n",
       "      <td>4</td>\n",
       "      <td>2</td>\n",
       "    </tr>\n",
       "    <tr>\n",
       "      <th>Item5</th>\n",
       "      <td>4</td>\n",
       "      <td>4</td>\n",
       "      <td>4</td>\n",
       "      <td>5</td>\n",
       "    </tr>\n",
       "    <tr>\n",
       "      <th>Item6</th>\n",
       "      <td>4</td>\n",
       "      <td>3</td>\n",
       "      <td>3</td>\n",
       "      <td>4</td>\n",
       "    </tr>\n",
       "    <tr>\n",
       "      <th>Item7</th>\n",
       "      <td>3</td>\n",
       "      <td>4</td>\n",
       "      <td>3</td>\n",
       "      <td>3</td>\n",
       "    </tr>\n",
       "    <tr>\n",
       "      <th>Item8</th>\n",
       "      <td>4</td>\n",
       "      <td>4</td>\n",
       "      <td>3</td>\n",
       "      <td>3</td>\n",
       "    </tr>\n",
       "  </tbody>\n",
       "</table>\n",
       "</div>"
      ],
      "text/plain": [
       "                                            0                         1  \\\n",
       "Population                                 38                     10446   \n",
       "Area                                    Urban                     Urban   \n",
       "Children                                    0                         1   \n",
       "Age                                        68                        27   \n",
       "Income                               28561.99                  21704.77   \n",
       "Marital                               Widowed                   Married   \n",
       "Gender                                   Male                    Female   \n",
       "Churn                                      No                       Yes   \n",
       "Outage_sec_perweek                      7.978                    11.699   \n",
       "Email                                      10                        12   \n",
       "Contacts                                    0                         0   \n",
       "Yearly_equip_failure                        1                         1   \n",
       "Techie                                     No                       Yes   \n",
       "Contract                             One year            Month-to-month   \n",
       "Port_modem                                Yes                        No   \n",
       "Tablet                                    Yes                       Yes   \n",
       "InternetService                   Fiber Optic               Fiber Optic   \n",
       "Phone                                     Yes                       Yes   \n",
       "Multiple                                   No                       Yes   \n",
       "OnlineSecurity                            Yes                       Yes   \n",
       "OnlineBackup                              Yes                        No   \n",
       "DeviceProtection                           No                        No   \n",
       "TechSupport                                No                        No   \n",
       "StreamingTV                                No                       Yes   \n",
       "StreamingMovies                           Yes                       Yes   \n",
       "PaperlessBilling                          Yes                       Yes   \n",
       "PaymentMethod         Credit Card (automatic)  Bank Transfer(automatic)   \n",
       "Tenure                                  6.796                     1.157   \n",
       "MonthlyCharge                         172.456                   242.633   \n",
       "Bandwidth_GB_Year                     904.536                   800.983   \n",
       "Item1                                       5                         3   \n",
       "Item2                                       5                         4   \n",
       "Item3                                       5                         3   \n",
       "Item4                                       3                         3   \n",
       "Item5                                       4                         4   \n",
       "Item6                                       4                         3   \n",
       "Item7                                       3                         4   \n",
       "Item8                                       4                         4   \n",
       "\n",
       "                                            2             3  \n",
       "Population                               3735         13863  \n",
       "Area                                    Urban      Suburban  \n",
       "Children                                    4             1  \n",
       "Age                                        50            48  \n",
       "Income                                9609.57      18925.23  \n",
       "Marital                               Widowed       Married  \n",
       "Gender                                 Female          Male  \n",
       "Churn                                      No            No  \n",
       "Outage_sec_perweek                     10.753        14.914  \n",
       "Email                                       9            15  \n",
       "Contacts                                    0             2  \n",
       "Yearly_equip_failure                        1             0  \n",
       "Techie                                    Yes           Yes  \n",
       "Contract                             Two Year      Two Year  \n",
       "Port_modem                                Yes            No  \n",
       "Tablet                                     No            No  \n",
       "InternetService                           DSL           DSL  \n",
       "Phone                                     Yes           Yes  \n",
       "Multiple                                  Yes            No  \n",
       "OnlineSecurity                             No           Yes  \n",
       "OnlineBackup                               No            No  \n",
       "DeviceProtection                           No            No  \n",
       "TechSupport                                No            No  \n",
       "StreamingTV                                No           Yes  \n",
       "StreamingMovies                           Yes            No  \n",
       "PaperlessBilling                          Yes           Yes  \n",
       "PaymentMethod         Credit Card (automatic)  Mailed Check  \n",
       "Tenure                                 15.754        17.087  \n",
       "MonthlyCharge                         159.948       119.957  \n",
       "Bandwidth_GB_Year                    2054.707      2164.579  \n",
       "Item1                                       4             4  \n",
       "Item2                                       4             4  \n",
       "Item3                                       2             4  \n",
       "Item4                                       4             2  \n",
       "Item5                                       4             5  \n",
       "Item6                                       3             4  \n",
       "Item7                                       3             3  \n",
       "Item8                                       3             3  "
      ]
     },
     "metadata": {},
     "output_type": "display_data"
    },
    {
     "name": "stdout",
     "output_type": "stream",
     "text": [
      "shape: (10000, 38)\n",
      "Table saved to: TABLES/D209_TASK2_C2_TAB_3_2_RAW.CSV\n"
     ]
    }
   ],
   "source": [
    "saveTable(data=raw, title='RAW', sect='C2', \n",
    "    course='D209', task='Task2', caption='3 2')"
   ]
  },
  {
   "cell_type": "markdown",
   "id": "31286e58",
   "metadata": {},
   "source": [
    "<h3>C3. Explain each of the steps used to prepare the data for the analysis. Identify the code segment for each step.</h3>"
   ]
  },
  {
   "cell_type": "markdown",
   "id": "c15cc9b1",
   "metadata": {},
   "source": [
    "<div style=\"font-family: 'Impact';\">Step 1.</div>The company data has already been cleaned and prepared. The only step required prior to creating the prediction model is to encode the categorical data. So, the raw data will be copied and then the clean data will encode all of the categorical data. The clean data will have all of the original variables but for example, all of the categorical data will have integer numbers representing the raw data, Area = 2 indicates Area=Rural in the raw data, etc."
   ]
  },
  {
   "cell_type": "code",
   "execution_count": 7,
   "id": "7a2686af",
   "metadata": {},
   "outputs": [],
   "source": [
    "# start with a copy of raw data\n",
    "clean = raw.copy()"
   ]
  },
  {
   "cell_type": "code",
   "execution_count": 8,
   "id": "808ce1fa",
   "metadata": {},
   "outputs": [
    {
     "name": "stdout",
     "output_type": "stream",
     "text": [
      "<class 'pandas.core.frame.DataFrame'>\n",
      "<class 'pandas.core.series.Series'>\n"
     ]
    }
   ],
   "source": [
    "# define target and features\n",
    "target = 'Churn'\n",
    "X = clean.drop(columns=[target])\n",
    "y = clean[target]\n",
    "print(type(X))\n",
    "print(type(y))"
   ]
  },
  {
   "cell_type": "code",
   "execution_count": 9,
   "id": "9aa959bf",
   "metadata": {},
   "outputs": [
    {
     "name": "stdout",
     "output_type": "stream",
     "text": [
      "Index(['Area', 'Marital', 'Gender', 'Techie', 'Contract', 'Port_modem',\n",
      "       'Tablet', 'InternetService', 'Phone', 'Multiple', 'OnlineSecurity',\n",
      "       'OnlineBackup', 'DeviceProtection', 'TechSupport', 'StreamingTV',\n",
      "       'StreamingMovies', 'PaperlessBilling', 'PaymentMethod'],\n",
      "      dtype='object')\n"
     ]
    }
   ],
   "source": [
    "# define categorical features\n",
    "cat_features = X.select_dtypes(include=['object']).columns\n",
    "print(cat_features)"
   ]
  },
  {
   "cell_type": "code",
   "execution_count": 10,
   "id": "3e97ce1c",
   "metadata": {},
   "outputs": [
    {
     "name": "stdout",
     "output_type": "stream",
     "text": [
      "Index(['Population', 'Children', 'Age', 'Income', 'Outage_sec_perweek',\n",
      "       'Email', 'Contacts', 'Yearly_equip_failure', 'Tenure', 'MonthlyCharge',\n",
      "       'Bandwidth_GB_Year', 'Item1', 'Item2', 'Item3', 'Item4', 'Item5',\n",
      "       'Item6', 'Item7', 'Item8'],\n",
      "      dtype='object')\n"
     ]
    }
   ],
   "source": [
    "# define numerical features\n",
    "num_features = X.select_dtypes(exclude=['object']).columns\n",
    "print(num_features)"
   ]
  },
  {
   "cell_type": "code",
   "execution_count": 11,
   "id": "50c4dbe7",
   "metadata": {},
   "outputs": [
    {
     "name": "stdout",
     "output_type": "stream",
     "text": [
      "Label encoder Area - values: ['Rural', 'Suburban', 'Urban']\n",
      "Label encoder Marital - values: ['Divorced', 'Married', 'Never Married', 'Separated', 'Widowed']\n",
      "Label encoder Gender - values: ['Female', 'Male', 'Nonbinary']\n",
      "Label encoder Techie - values: ['No', 'Yes']\n",
      "Label encoder Contract - values: ['Month-to-month', 'One year', 'Two Year']\n",
      "Label encoder Port_modem - values: ['No', 'Yes']\n",
      "Label encoder Tablet - values: ['No', 'Yes']\n",
      "Label encoder InternetService - values: ['DSL', 'Fiber Optic', 'None']\n",
      "Label encoder Phone - values: ['No', 'Yes']\n",
      "Label encoder Multiple - values: ['No', 'Yes']\n",
      "Label encoder OnlineSecurity - values: ['No', 'Yes']\n",
      "Label encoder OnlineBackup - values: ['No', 'Yes']\n",
      "Label encoder DeviceProtection - values: ['No', 'Yes']\n",
      "Label encoder TechSupport - values: ['No', 'Yes']\n",
      "Label encoder StreamingTV - values: ['No', 'Yes']\n",
      "Label encoder StreamingMovies - values: ['No', 'Yes']\n",
      "Label encoder PaperlessBilling - values: ['No', 'Yes']\n",
      "Label encoder PaymentMethod - values: ['Bank Transfer(automatic)', 'Credit Card (automatic)', 'Electronic Check', 'Mailed Check']\n"
     ]
    }
   ],
   "source": [
    "from sklearn.preprocessing import LabelEncoder\n",
    "categorical_feature_names = []\n",
    "label_encoders = {}\n",
    "for categorical in cat_features:\n",
    "    label_encoders[categorical] = LabelEncoder()\n",
    "    clean[categorical] = label_encoders[categorical].fit_transform(clean[categorical])\n",
    "    names = label_encoders[categorical].classes_.tolist()\n",
    "    print('Label encoder %s - values: %s' % (categorical, names))\n",
    "    if categorical == target:\n",
    "        continue\n",
    "    categorical_feature_names.extend([categorical + '_' + str(name) for name in names])"
   ]
  },
  {
   "cell_type": "code",
   "execution_count": 12,
   "id": "c72b6bb6",
   "metadata": {},
   "outputs": [
    {
     "name": "stdout",
     "output_type": "stream",
     "text": [
      "['Area_Rural', 'Area_Suburban', 'Area_Urban', 'Marital_Divorced', 'Marital_Married', 'Marital_Never Married', 'Marital_Separated', 'Marital_Widowed', 'Gender_Female', 'Gender_Male', 'Gender_Nonbinary', 'Techie_No', 'Techie_Yes', 'Contract_Month-to-month', 'Contract_One year', 'Contract_Two Year', 'Port_modem_No', 'Port_modem_Yes', 'Tablet_No', 'Tablet_Yes', 'InternetService_DSL', 'InternetService_Fiber Optic', 'InternetService_None', 'Phone_No', 'Phone_Yes', 'Multiple_No', 'Multiple_Yes', 'OnlineSecurity_No', 'OnlineSecurity_Yes', 'OnlineBackup_No', 'OnlineBackup_Yes', 'DeviceProtection_No', 'DeviceProtection_Yes', 'TechSupport_No', 'TechSupport_Yes', 'StreamingTV_No', 'StreamingTV_Yes', 'StreamingMovies_No', 'StreamingMovies_Yes', 'PaperlessBilling_No', 'PaperlessBilling_Yes', 'PaymentMethod_Bank Transfer(automatic)', 'PaymentMethod_Credit Card (automatic)', 'PaymentMethod_Electronic Check', 'PaymentMethod_Mailed Check']\n",
      "{'Area': LabelEncoder(), 'Marital': LabelEncoder(), 'Gender': LabelEncoder(), 'Techie': LabelEncoder(), 'Contract': LabelEncoder(), 'Port_modem': LabelEncoder(), 'Tablet': LabelEncoder(), 'InternetService': LabelEncoder(), 'Phone': LabelEncoder(), 'Multiple': LabelEncoder(), 'OnlineSecurity': LabelEncoder(), 'OnlineBackup': LabelEncoder(), 'DeviceProtection': LabelEncoder(), 'TechSupport': LabelEncoder(), 'StreamingTV': LabelEncoder(), 'StreamingMovies': LabelEncoder(), 'PaperlessBilling': LabelEncoder(), 'PaymentMethod': LabelEncoder()}\n"
     ]
    }
   ],
   "source": [
    "print(categorical_feature_names)\n",
    "print(label_encoders)"
   ]
  },
  {
   "cell_type": "markdown",
   "id": "1d6ffdf1",
   "metadata": {},
   "source": [
    "<h3>C4. Provide Clean Data</h3>Provide a copy of the cleaned data set."
   ]
  },
  {
   "cell_type": "markdown",
   "id": "6c79619a",
   "metadata": {},
   "source": [
    "<div style= \"font-weight: bold;font-size: large;border-top: solid;text-transform: uppercase;\">TABLE 3-3.<span style=\"font-weight: normal;\">CLEAN DATA</span></div>"
   ]
  },
  {
   "cell_type": "code",
   "execution_count": 13,
   "id": "5451c341",
   "metadata": {},
   "outputs": [
    {
     "data": {
      "text/html": [
       "<div>\n",
       "<style scoped>\n",
       "    .dataframe tbody tr th:only-of-type {\n",
       "        vertical-align: middle;\n",
       "    }\n",
       "\n",
       "    .dataframe tbody tr th {\n",
       "        vertical-align: top;\n",
       "    }\n",
       "\n",
       "    .dataframe thead th {\n",
       "        text-align: right;\n",
       "    }\n",
       "</style>\n",
       "<table border=\"1\" class=\"dataframe\">\n",
       "  <thead>\n",
       "    <tr style=\"text-align: right;\">\n",
       "      <th></th>\n",
       "      <th>0</th>\n",
       "      <th>1</th>\n",
       "      <th>2</th>\n",
       "      <th>3</th>\n",
       "    </tr>\n",
       "  </thead>\n",
       "  <tbody>\n",
       "    <tr>\n",
       "      <th>Population</th>\n",
       "      <td>38</td>\n",
       "      <td>10446</td>\n",
       "      <td>3735</td>\n",
       "      <td>13863</td>\n",
       "    </tr>\n",
       "    <tr>\n",
       "      <th>Area</th>\n",
       "      <td>2</td>\n",
       "      <td>2</td>\n",
       "      <td>2</td>\n",
       "      <td>1</td>\n",
       "    </tr>\n",
       "    <tr>\n",
       "      <th>Children</th>\n",
       "      <td>0</td>\n",
       "      <td>1</td>\n",
       "      <td>4</td>\n",
       "      <td>1</td>\n",
       "    </tr>\n",
       "    <tr>\n",
       "      <th>Age</th>\n",
       "      <td>68</td>\n",
       "      <td>27</td>\n",
       "      <td>50</td>\n",
       "      <td>48</td>\n",
       "    </tr>\n",
       "    <tr>\n",
       "      <th>Income</th>\n",
       "      <td>28561.99</td>\n",
       "      <td>21704.77</td>\n",
       "      <td>9609.57</td>\n",
       "      <td>18925.23</td>\n",
       "    </tr>\n",
       "    <tr>\n",
       "      <th>Marital</th>\n",
       "      <td>4</td>\n",
       "      <td>1</td>\n",
       "      <td>4</td>\n",
       "      <td>1</td>\n",
       "    </tr>\n",
       "    <tr>\n",
       "      <th>Gender</th>\n",
       "      <td>1</td>\n",
       "      <td>0</td>\n",
       "      <td>0</td>\n",
       "      <td>1</td>\n",
       "    </tr>\n",
       "    <tr>\n",
       "      <th>Churn</th>\n",
       "      <td>No</td>\n",
       "      <td>Yes</td>\n",
       "      <td>No</td>\n",
       "      <td>No</td>\n",
       "    </tr>\n",
       "    <tr>\n",
       "      <th>Outage_sec_perweek</th>\n",
       "      <td>7.978</td>\n",
       "      <td>11.699</td>\n",
       "      <td>10.753</td>\n",
       "      <td>14.914</td>\n",
       "    </tr>\n",
       "    <tr>\n",
       "      <th>Email</th>\n",
       "      <td>10</td>\n",
       "      <td>12</td>\n",
       "      <td>9</td>\n",
       "      <td>15</td>\n",
       "    </tr>\n",
       "    <tr>\n",
       "      <th>Contacts</th>\n",
       "      <td>0</td>\n",
       "      <td>0</td>\n",
       "      <td>0</td>\n",
       "      <td>2</td>\n",
       "    </tr>\n",
       "    <tr>\n",
       "      <th>Yearly_equip_failure</th>\n",
       "      <td>1</td>\n",
       "      <td>1</td>\n",
       "      <td>1</td>\n",
       "      <td>0</td>\n",
       "    </tr>\n",
       "    <tr>\n",
       "      <th>Techie</th>\n",
       "      <td>0</td>\n",
       "      <td>1</td>\n",
       "      <td>1</td>\n",
       "      <td>1</td>\n",
       "    </tr>\n",
       "    <tr>\n",
       "      <th>Contract</th>\n",
       "      <td>1</td>\n",
       "      <td>0</td>\n",
       "      <td>2</td>\n",
       "      <td>2</td>\n",
       "    </tr>\n",
       "    <tr>\n",
       "      <th>Port_modem</th>\n",
       "      <td>1</td>\n",
       "      <td>0</td>\n",
       "      <td>1</td>\n",
       "      <td>0</td>\n",
       "    </tr>\n",
       "    <tr>\n",
       "      <th>Tablet</th>\n",
       "      <td>1</td>\n",
       "      <td>1</td>\n",
       "      <td>0</td>\n",
       "      <td>0</td>\n",
       "    </tr>\n",
       "    <tr>\n",
       "      <th>InternetService</th>\n",
       "      <td>1</td>\n",
       "      <td>1</td>\n",
       "      <td>0</td>\n",
       "      <td>0</td>\n",
       "    </tr>\n",
       "    <tr>\n",
       "      <th>Phone</th>\n",
       "      <td>1</td>\n",
       "      <td>1</td>\n",
       "      <td>1</td>\n",
       "      <td>1</td>\n",
       "    </tr>\n",
       "    <tr>\n",
       "      <th>Multiple</th>\n",
       "      <td>0</td>\n",
       "      <td>1</td>\n",
       "      <td>1</td>\n",
       "      <td>0</td>\n",
       "    </tr>\n",
       "    <tr>\n",
       "      <th>OnlineSecurity</th>\n",
       "      <td>1</td>\n",
       "      <td>1</td>\n",
       "      <td>0</td>\n",
       "      <td>1</td>\n",
       "    </tr>\n",
       "    <tr>\n",
       "      <th>OnlineBackup</th>\n",
       "      <td>1</td>\n",
       "      <td>0</td>\n",
       "      <td>0</td>\n",
       "      <td>0</td>\n",
       "    </tr>\n",
       "    <tr>\n",
       "      <th>DeviceProtection</th>\n",
       "      <td>0</td>\n",
       "      <td>0</td>\n",
       "      <td>0</td>\n",
       "      <td>0</td>\n",
       "    </tr>\n",
       "    <tr>\n",
       "      <th>TechSupport</th>\n",
       "      <td>0</td>\n",
       "      <td>0</td>\n",
       "      <td>0</td>\n",
       "      <td>0</td>\n",
       "    </tr>\n",
       "    <tr>\n",
       "      <th>StreamingTV</th>\n",
       "      <td>0</td>\n",
       "      <td>1</td>\n",
       "      <td>0</td>\n",
       "      <td>1</td>\n",
       "    </tr>\n",
       "    <tr>\n",
       "      <th>StreamingMovies</th>\n",
       "      <td>1</td>\n",
       "      <td>1</td>\n",
       "      <td>1</td>\n",
       "      <td>0</td>\n",
       "    </tr>\n",
       "    <tr>\n",
       "      <th>PaperlessBilling</th>\n",
       "      <td>1</td>\n",
       "      <td>1</td>\n",
       "      <td>1</td>\n",
       "      <td>1</td>\n",
       "    </tr>\n",
       "    <tr>\n",
       "      <th>PaymentMethod</th>\n",
       "      <td>1</td>\n",
       "      <td>0</td>\n",
       "      <td>1</td>\n",
       "      <td>3</td>\n",
       "    </tr>\n",
       "    <tr>\n",
       "      <th>Tenure</th>\n",
       "      <td>6.796</td>\n",
       "      <td>1.157</td>\n",
       "      <td>15.754</td>\n",
       "      <td>17.087</td>\n",
       "    </tr>\n",
       "    <tr>\n",
       "      <th>MonthlyCharge</th>\n",
       "      <td>172.456</td>\n",
       "      <td>242.633</td>\n",
       "      <td>159.948</td>\n",
       "      <td>119.957</td>\n",
       "    </tr>\n",
       "    <tr>\n",
       "      <th>Bandwidth_GB_Year</th>\n",
       "      <td>904.536</td>\n",
       "      <td>800.983</td>\n",
       "      <td>2054.707</td>\n",
       "      <td>2164.579</td>\n",
       "    </tr>\n",
       "    <tr>\n",
       "      <th>Item1</th>\n",
       "      <td>5</td>\n",
       "      <td>3</td>\n",
       "      <td>4</td>\n",
       "      <td>4</td>\n",
       "    </tr>\n",
       "    <tr>\n",
       "      <th>Item2</th>\n",
       "      <td>5</td>\n",
       "      <td>4</td>\n",
       "      <td>4</td>\n",
       "      <td>4</td>\n",
       "    </tr>\n",
       "    <tr>\n",
       "      <th>Item3</th>\n",
       "      <td>5</td>\n",
       "      <td>3</td>\n",
       "      <td>2</td>\n",
       "      <td>4</td>\n",
       "    </tr>\n",
       "    <tr>\n",
       "      <th>Item4</th>\n",
       "      <td>3</td>\n",
       "      <td>3</td>\n",
       "      <td>4</td>\n",
       "      <td>2</td>\n",
       "    </tr>\n",
       "    <tr>\n",
       "      <th>Item5</th>\n",
       "      <td>4</td>\n",
       "      <td>4</td>\n",
       "      <td>4</td>\n",
       "      <td>5</td>\n",
       "    </tr>\n",
       "    <tr>\n",
       "      <th>Item6</th>\n",
       "      <td>4</td>\n",
       "      <td>3</td>\n",
       "      <td>3</td>\n",
       "      <td>4</td>\n",
       "    </tr>\n",
       "    <tr>\n",
       "      <th>Item7</th>\n",
       "      <td>3</td>\n",
       "      <td>4</td>\n",
       "      <td>3</td>\n",
       "      <td>3</td>\n",
       "    </tr>\n",
       "    <tr>\n",
       "      <th>Item8</th>\n",
       "      <td>4</td>\n",
       "      <td>4</td>\n",
       "      <td>3</td>\n",
       "      <td>3</td>\n",
       "    </tr>\n",
       "  </tbody>\n",
       "</table>\n",
       "</div>"
      ],
      "text/plain": [
       "                             0         1         2         3\n",
       "Population                  38     10446      3735     13863\n",
       "Area                         2         2         2         1\n",
       "Children                     0         1         4         1\n",
       "Age                         68        27        50        48\n",
       "Income                28561.99  21704.77   9609.57  18925.23\n",
       "Marital                      4         1         4         1\n",
       "Gender                       1         0         0         1\n",
       "Churn                       No       Yes        No        No\n",
       "Outage_sec_perweek       7.978    11.699    10.753    14.914\n",
       "Email                       10        12         9        15\n",
       "Contacts                     0         0         0         2\n",
       "Yearly_equip_failure         1         1         1         0\n",
       "Techie                       0         1         1         1\n",
       "Contract                     1         0         2         2\n",
       "Port_modem                   1         0         1         0\n",
       "Tablet                       1         1         0         0\n",
       "InternetService              1         1         0         0\n",
       "Phone                        1         1         1         1\n",
       "Multiple                     0         1         1         0\n",
       "OnlineSecurity               1         1         0         1\n",
       "OnlineBackup                 1         0         0         0\n",
       "DeviceProtection             0         0         0         0\n",
       "TechSupport                  0         0         0         0\n",
       "StreamingTV                  0         1         0         1\n",
       "StreamingMovies              1         1         1         0\n",
       "PaperlessBilling             1         1         1         1\n",
       "PaymentMethod                1         0         1         3\n",
       "Tenure                   6.796     1.157    15.754    17.087\n",
       "MonthlyCharge          172.456   242.633   159.948   119.957\n",
       "Bandwidth_GB_Year      904.536   800.983  2054.707  2164.579\n",
       "Item1                        5         3         4         4\n",
       "Item2                        5         4         4         4\n",
       "Item3                        5         3         2         4\n",
       "Item4                        3         3         4         2\n",
       "Item5                        4         4         4         5\n",
       "Item6                        4         3         3         4\n",
       "Item7                        3         4         3         3\n",
       "Item8                        4         4         3         3"
      ]
     },
     "metadata": {},
     "output_type": "display_data"
    },
    {
     "name": "stdout",
     "output_type": "stream",
     "text": [
      "shape: (10000, 38)\n",
      "Table saved to: TABLES/D209_TASK2_C4_TAB_3_3_CLEAN.CSV\n"
     ]
    }
   ],
   "source": [
    "#clean = raw.copy()\n",
    "saveTable(data=clean, title='CLEAN', sect='C4', \n",
    "    course='D209', caption='3 3', task='Task2')"
   ]
  },
  {
   "cell_type": "markdown",
   "id": "2689ce99",
   "metadata": {},
   "source": [
    "<h2>Part IV Analysis</h2>D.  Perform the data analysis and report on the results by doing the following:"
   ]
  },
  {
   "cell_type": "markdown",
   "id": "8be3ef10",
   "metadata": {},
   "source": [
    "<h3>D1. Split the data into training and test data sets and provide the file(s).</h3>"
   ]
  },
  {
   "cell_type": "code",
   "execution_count": 14,
   "id": "51d09257",
   "metadata": {},
   "outputs": [],
   "source": [
    "# define primary feature and target data\n",
    "target= 'Churn' # target data\n",
    "X = clean.loc[:, clean.columns != target]\n",
    "y = clean.loc[:, clean.columns == target]"
   ]
  },
  {
   "cell_type": "code",
   "execution_count": 15,
   "id": "3d7972c4",
   "metadata": {
    "scrolled": false
   },
   "outputs": [
    {
     "name": "stdout",
     "output_type": "stream",
     "text": [
      "X_train: (7000, 37)\n",
      "y_train: (7000, 1)\n",
      "X_test: (3000, 37)\n",
      "y_test: (3000, 1)\n"
     ]
    }
   ],
   "source": [
    "# train test split raw data\n",
    "tts = train_test_split(X, y, test_size=0.3, random_state=13)\n",
    "(X_train, X_test, y_train, y_test)=tts\n",
    "print('X_train: {}'.format(X_train.shape))\n",
    "print('y_train: {}'.format(y_train.shape))\n",
    "print('X_test: {}'.format(X_test.shape))\n",
    "print('y_test: {}'.format(y_test.shape))"
   ]
  },
  {
   "cell_type": "markdown",
   "id": "1a8eb6a7",
   "metadata": {},
   "source": [
    "<div style= \"font-weight: bold;font-size: large;border-top: solid;text-transform: uppercase;\">TABLE 4-1.<span style=\"font-weight: normal;\">TRAINING DATA</span></div>"
   ]
  },
  {
   "cell_type": "code",
   "execution_count": 16,
   "id": "c31a0ab7",
   "metadata": {
    "scrolled": false
   },
   "outputs": [
    {
     "data": {
      "text/html": [
       "<div>\n",
       "<style scoped>\n",
       "    .dataframe tbody tr th:only-of-type {\n",
       "        vertical-align: middle;\n",
       "    }\n",
       "\n",
       "    .dataframe tbody tr th {\n",
       "        vertical-align: top;\n",
       "    }\n",
       "\n",
       "    .dataframe thead th {\n",
       "        text-align: right;\n",
       "    }\n",
       "</style>\n",
       "<table border=\"1\" class=\"dataframe\">\n",
       "  <thead>\n",
       "    <tr style=\"text-align: right;\">\n",
       "      <th></th>\n",
       "      <th>4847</th>\n",
       "      <th>9992</th>\n",
       "      <th>4621</th>\n",
       "      <th>5774</th>\n",
       "    </tr>\n",
       "  </thead>\n",
       "  <tbody>\n",
       "    <tr>\n",
       "      <th>Population</th>\n",
       "      <td>48905</td>\n",
       "      <td>4261</td>\n",
       "      <td>10218</td>\n",
       "      <td>54601</td>\n",
       "    </tr>\n",
       "    <tr>\n",
       "      <th>Area</th>\n",
       "      <td>0</td>\n",
       "      <td>1</td>\n",
       "      <td>2</td>\n",
       "      <td>2</td>\n",
       "    </tr>\n",
       "    <tr>\n",
       "      <th>Children</th>\n",
       "      <td>0</td>\n",
       "      <td>1</td>\n",
       "      <td>1</td>\n",
       "      <td>4</td>\n",
       "    </tr>\n",
       "    <tr>\n",
       "      <th>Age</th>\n",
       "      <td>63</td>\n",
       "      <td>18</td>\n",
       "      <td>27</td>\n",
       "      <td>41</td>\n",
       "    </tr>\n",
       "    <tr>\n",
       "      <th>Income</th>\n",
       "      <td>27506.01</td>\n",
       "      <td>35876.21</td>\n",
       "      <td>43148.68</td>\n",
       "      <td>35600.06</td>\n",
       "    </tr>\n",
       "    <tr>\n",
       "      <th>Marital</th>\n",
       "      <td>1</td>\n",
       "      <td>0</td>\n",
       "      <td>1</td>\n",
       "      <td>3</td>\n",
       "    </tr>\n",
       "    <tr>\n",
       "      <th>Gender</th>\n",
       "      <td>1</td>\n",
       "      <td>1</td>\n",
       "      <td>0</td>\n",
       "      <td>0</td>\n",
       "    </tr>\n",
       "    <tr>\n",
       "      <th>Outage_sec_perweek</th>\n",
       "      <td>10.455</td>\n",
       "      <td>9.213</td>\n",
       "      <td>10.526</td>\n",
       "      <td>11.035</td>\n",
       "    </tr>\n",
       "    <tr>\n",
       "      <th>Email</th>\n",
       "      <td>14</td>\n",
       "      <td>15</td>\n",
       "      <td>9</td>\n",
       "      <td>17</td>\n",
       "    </tr>\n",
       "    <tr>\n",
       "      <th>Contacts</th>\n",
       "      <td>1</td>\n",
       "      <td>2</td>\n",
       "      <td>0</td>\n",
       "      <td>0</td>\n",
       "    </tr>\n",
       "    <tr>\n",
       "      <th>Yearly_equip_failure</th>\n",
       "      <td>1</td>\n",
       "      <td>0</td>\n",
       "      <td>0</td>\n",
       "      <td>0</td>\n",
       "    </tr>\n",
       "    <tr>\n",
       "      <th>Techie</th>\n",
       "      <td>0</td>\n",
       "      <td>1</td>\n",
       "      <td>1</td>\n",
       "      <td>0</td>\n",
       "    </tr>\n",
       "    <tr>\n",
       "      <th>Contract</th>\n",
       "      <td>1</td>\n",
       "      <td>2</td>\n",
       "      <td>2</td>\n",
       "      <td>0</td>\n",
       "    </tr>\n",
       "    <tr>\n",
       "      <th>Port_modem</th>\n",
       "      <td>0</td>\n",
       "      <td>0</td>\n",
       "      <td>0</td>\n",
       "      <td>0</td>\n",
       "    </tr>\n",
       "    <tr>\n",
       "      <th>Tablet</th>\n",
       "      <td>0</td>\n",
       "      <td>1</td>\n",
       "      <td>1</td>\n",
       "      <td>0</td>\n",
       "    </tr>\n",
       "    <tr>\n",
       "      <th>InternetService</th>\n",
       "      <td>2</td>\n",
       "      <td>1</td>\n",
       "      <td>1</td>\n",
       "      <td>0</td>\n",
       "    </tr>\n",
       "    <tr>\n",
       "      <th>Phone</th>\n",
       "      <td>1</td>\n",
       "      <td>1</td>\n",
       "      <td>1</td>\n",
       "      <td>1</td>\n",
       "    </tr>\n",
       "    <tr>\n",
       "      <th>Multiple</th>\n",
       "      <td>0</td>\n",
       "      <td>0</td>\n",
       "      <td>0</td>\n",
       "      <td>0</td>\n",
       "    </tr>\n",
       "    <tr>\n",
       "      <th>OnlineSecurity</th>\n",
       "      <td>0</td>\n",
       "      <td>0</td>\n",
       "      <td>0</td>\n",
       "      <td>0</td>\n",
       "    </tr>\n",
       "    <tr>\n",
       "      <th>OnlineBackup</th>\n",
       "      <td>0</td>\n",
       "      <td>0</td>\n",
       "      <td>0</td>\n",
       "      <td>1</td>\n",
       "    </tr>\n",
       "    <tr>\n",
       "      <th>DeviceProtection</th>\n",
       "      <td>0</td>\n",
       "      <td>0</td>\n",
       "      <td>0</td>\n",
       "      <td>1</td>\n",
       "    </tr>\n",
       "    <tr>\n",
       "      <th>TechSupport</th>\n",
       "      <td>1</td>\n",
       "      <td>0</td>\n",
       "      <td>1</td>\n",
       "      <td>1</td>\n",
       "    </tr>\n",
       "    <tr>\n",
       "      <th>StreamingTV</th>\n",
       "      <td>0</td>\n",
       "      <td>1</td>\n",
       "      <td>0</td>\n",
       "      <td>0</td>\n",
       "    </tr>\n",
       "    <tr>\n",
       "      <th>StreamingMovies</th>\n",
       "      <td>0</td>\n",
       "      <td>0</td>\n",
       "      <td>0</td>\n",
       "      <td>0</td>\n",
       "    </tr>\n",
       "    <tr>\n",
       "      <th>PaperlessBilling</th>\n",
       "      <td>1</td>\n",
       "      <td>1</td>\n",
       "      <td>1</td>\n",
       "      <td>1</td>\n",
       "    </tr>\n",
       "    <tr>\n",
       "      <th>PaymentMethod</th>\n",
       "      <td>2</td>\n",
       "      <td>2</td>\n",
       "      <td>2</td>\n",
       "      <td>3</td>\n",
       "    </tr>\n",
       "    <tr>\n",
       "      <th>Tenure</th>\n",
       "      <td>9.525</td>\n",
       "      <td>56.472</td>\n",
       "      <td>2.612</td>\n",
       "      <td>58.787</td>\n",
       "    </tr>\n",
       "    <tr>\n",
       "      <th>MonthlyCharge</th>\n",
       "      <td>92.488</td>\n",
       "      <td>137.439</td>\n",
       "      <td>124.964</td>\n",
       "      <td>139.983</td>\n",
       "    </tr>\n",
       "    <tr>\n",
       "      <th>Bandwidth_GB_Year</th>\n",
       "      <td>820.042</td>\n",
       "      <td>5001.371</td>\n",
       "      <td>320.107</td>\n",
       "      <td>5562.052</td>\n",
       "    </tr>\n",
       "    <tr>\n",
       "      <th>Item1</th>\n",
       "      <td>2</td>\n",
       "      <td>3</td>\n",
       "      <td>5</td>\n",
       "      <td>4</td>\n",
       "    </tr>\n",
       "    <tr>\n",
       "      <th>Item2</th>\n",
       "      <td>3</td>\n",
       "      <td>2</td>\n",
       "      <td>5</td>\n",
       "      <td>4</td>\n",
       "    </tr>\n",
       "    <tr>\n",
       "      <th>Item3</th>\n",
       "      <td>4</td>\n",
       "      <td>4</td>\n",
       "      <td>4</td>\n",
       "      <td>3</td>\n",
       "    </tr>\n",
       "    <tr>\n",
       "      <th>Item4</th>\n",
       "      <td>4</td>\n",
       "      <td>3</td>\n",
       "      <td>1</td>\n",
       "      <td>4</td>\n",
       "    </tr>\n",
       "    <tr>\n",
       "      <th>Item5</th>\n",
       "      <td>3</td>\n",
       "      <td>4</td>\n",
       "      <td>4</td>\n",
       "      <td>3</td>\n",
       "    </tr>\n",
       "    <tr>\n",
       "      <th>Item6</th>\n",
       "      <td>2</td>\n",
       "      <td>3</td>\n",
       "      <td>5</td>\n",
       "      <td>3</td>\n",
       "    </tr>\n",
       "    <tr>\n",
       "      <th>Item7</th>\n",
       "      <td>3</td>\n",
       "      <td>4</td>\n",
       "      <td>4</td>\n",
       "      <td>3</td>\n",
       "    </tr>\n",
       "    <tr>\n",
       "      <th>Item8</th>\n",
       "      <td>4</td>\n",
       "      <td>3</td>\n",
       "      <td>3</td>\n",
       "      <td>3</td>\n",
       "    </tr>\n",
       "    <tr>\n",
       "      <th>Churn</th>\n",
       "      <td>No</td>\n",
       "      <td>No</td>\n",
       "      <td>No</td>\n",
       "      <td>No</td>\n",
       "    </tr>\n",
       "  </tbody>\n",
       "</table>\n",
       "</div>"
      ],
      "text/plain": [
       "                          4847      9992      4621      5774\n",
       "Population               48905      4261     10218     54601\n",
       "Area                         0         1         2         2\n",
       "Children                     0         1         1         4\n",
       "Age                         63        18        27        41\n",
       "Income                27506.01  35876.21  43148.68  35600.06\n",
       "Marital                      1         0         1         3\n",
       "Gender                       1         1         0         0\n",
       "Outage_sec_perweek      10.455     9.213    10.526    11.035\n",
       "Email                       14        15         9        17\n",
       "Contacts                     1         2         0         0\n",
       "Yearly_equip_failure         1         0         0         0\n",
       "Techie                       0         1         1         0\n",
       "Contract                     1         2         2         0\n",
       "Port_modem                   0         0         0         0\n",
       "Tablet                       0         1         1         0\n",
       "InternetService              2         1         1         0\n",
       "Phone                        1         1         1         1\n",
       "Multiple                     0         0         0         0\n",
       "OnlineSecurity               0         0         0         0\n",
       "OnlineBackup                 0         0         0         1\n",
       "DeviceProtection             0         0         0         1\n",
       "TechSupport                  1         0         1         1\n",
       "StreamingTV                  0         1         0         0\n",
       "StreamingMovies              0         0         0         0\n",
       "PaperlessBilling             1         1         1         1\n",
       "PaymentMethod                2         2         2         3\n",
       "Tenure                   9.525    56.472     2.612    58.787\n",
       "MonthlyCharge           92.488   137.439   124.964   139.983\n",
       "Bandwidth_GB_Year      820.042  5001.371   320.107  5562.052\n",
       "Item1                        2         3         5         4\n",
       "Item2                        3         2         5         4\n",
       "Item3                        4         4         4         3\n",
       "Item4                        4         3         1         4\n",
       "Item5                        3         4         4         3\n",
       "Item6                        2         3         5         3\n",
       "Item7                        3         4         4         3\n",
       "Item8                        4         3         3         3\n",
       "Churn                       No        No        No        No"
      ]
     },
     "metadata": {},
     "output_type": "display_data"
    },
    {
     "name": "stdout",
     "output_type": "stream",
     "text": [
      "shape: (7000, 38)\n",
      "Table saved to: TABLES/D209_TASK2_D1_TAB_4_1_TRAIN.CSV\n"
     ]
    }
   ],
   "source": [
    "saveTable(data=X_train.merge(y_train, \n",
    "        left_index=True, right_index=True),\n",
    "    title='TRAIN', sect='D1', \n",
    "    course='D209', caption='4 1', task='Task2')"
   ]
  },
  {
   "cell_type": "markdown",
   "id": "b3dff5b7",
   "metadata": {},
   "source": [
    "<div style= \"font-weight: bold;font-size: large;border-top: solid;text-transform: uppercase;\">TABLE 4-2.<span style=\"font-weight: normal;\">TEST DATA</span></div>"
   ]
  },
  {
   "cell_type": "code",
   "execution_count": 17,
   "id": "887194a8",
   "metadata": {
    "scrolled": false
   },
   "outputs": [
    {
     "data": {
      "text/html": [
       "<div>\n",
       "<style scoped>\n",
       "    .dataframe tbody tr th:only-of-type {\n",
       "        vertical-align: middle;\n",
       "    }\n",
       "\n",
       "    .dataframe tbody tr th {\n",
       "        vertical-align: top;\n",
       "    }\n",
       "\n",
       "    .dataframe thead th {\n",
       "        text-align: right;\n",
       "    }\n",
       "</style>\n",
       "<table border=\"1\" class=\"dataframe\">\n",
       "  <thead>\n",
       "    <tr style=\"text-align: right;\">\n",
       "      <th></th>\n",
       "      <th>5952</th>\n",
       "      <th>1783</th>\n",
       "      <th>4811</th>\n",
       "      <th>145</th>\n",
       "    </tr>\n",
       "  </thead>\n",
       "  <tbody>\n",
       "    <tr>\n",
       "      <th>Population</th>\n",
       "      <td>6399</td>\n",
       "      <td>32000</td>\n",
       "      <td>18951</td>\n",
       "      <td>5157</td>\n",
       "    </tr>\n",
       "    <tr>\n",
       "      <th>Area</th>\n",
       "      <td>2</td>\n",
       "      <td>1</td>\n",
       "      <td>2</td>\n",
       "      <td>0</td>\n",
       "    </tr>\n",
       "    <tr>\n",
       "      <th>Children</th>\n",
       "      <td>4</td>\n",
       "      <td>4</td>\n",
       "      <td>1</td>\n",
       "      <td>8</td>\n",
       "    </tr>\n",
       "    <tr>\n",
       "      <th>Age</th>\n",
       "      <td>59</td>\n",
       "      <td>83</td>\n",
       "      <td>68</td>\n",
       "      <td>75</td>\n",
       "    </tr>\n",
       "    <tr>\n",
       "      <th>Income</th>\n",
       "      <td>36343.28</td>\n",
       "      <td>40031.03</td>\n",
       "      <td>39053.35</td>\n",
       "      <td>36342.31</td>\n",
       "    </tr>\n",
       "    <tr>\n",
       "      <th>Marital</th>\n",
       "      <td>2</td>\n",
       "      <td>4</td>\n",
       "      <td>2</td>\n",
       "      <td>0</td>\n",
       "    </tr>\n",
       "    <tr>\n",
       "      <th>Gender</th>\n",
       "      <td>1</td>\n",
       "      <td>0</td>\n",
       "      <td>0</td>\n",
       "      <td>1</td>\n",
       "    </tr>\n",
       "    <tr>\n",
       "      <th>Outage_sec_perweek</th>\n",
       "      <td>8.923</td>\n",
       "      <td>14.75</td>\n",
       "      <td>11.206</td>\n",
       "      <td>15.409</td>\n",
       "    </tr>\n",
       "    <tr>\n",
       "      <th>Email</th>\n",
       "      <td>13</td>\n",
       "      <td>10</td>\n",
       "      <td>10</td>\n",
       "      <td>15</td>\n",
       "    </tr>\n",
       "    <tr>\n",
       "      <th>Contacts</th>\n",
       "      <td>0</td>\n",
       "      <td>2</td>\n",
       "      <td>7</td>\n",
       "      <td>2</td>\n",
       "    </tr>\n",
       "    <tr>\n",
       "      <th>Yearly_equip_failure</th>\n",
       "      <td>0</td>\n",
       "      <td>0</td>\n",
       "      <td>0</td>\n",
       "      <td>0</td>\n",
       "    </tr>\n",
       "    <tr>\n",
       "      <th>Techie</th>\n",
       "      <td>1</td>\n",
       "      <td>0</td>\n",
       "      <td>0</td>\n",
       "      <td>0</td>\n",
       "    </tr>\n",
       "    <tr>\n",
       "      <th>Contract</th>\n",
       "      <td>2</td>\n",
       "      <td>1</td>\n",
       "      <td>2</td>\n",
       "      <td>0</td>\n",
       "    </tr>\n",
       "    <tr>\n",
       "      <th>Port_modem</th>\n",
       "      <td>0</td>\n",
       "      <td>0</td>\n",
       "      <td>1</td>\n",
       "      <td>0</td>\n",
       "    </tr>\n",
       "    <tr>\n",
       "      <th>Tablet</th>\n",
       "      <td>0</td>\n",
       "      <td>1</td>\n",
       "      <td>1</td>\n",
       "      <td>0</td>\n",
       "    </tr>\n",
       "    <tr>\n",
       "      <th>InternetService</th>\n",
       "      <td>2</td>\n",
       "      <td>2</td>\n",
       "      <td>1</td>\n",
       "      <td>1</td>\n",
       "    </tr>\n",
       "    <tr>\n",
       "      <th>Phone</th>\n",
       "      <td>1</td>\n",
       "      <td>1</td>\n",
       "      <td>1</td>\n",
       "      <td>1</td>\n",
       "    </tr>\n",
       "    <tr>\n",
       "      <th>Multiple</th>\n",
       "      <td>0</td>\n",
       "      <td>0</td>\n",
       "      <td>0</td>\n",
       "      <td>1</td>\n",
       "    </tr>\n",
       "    <tr>\n",
       "      <th>OnlineSecurity</th>\n",
       "      <td>0</td>\n",
       "      <td>1</td>\n",
       "      <td>0</td>\n",
       "      <td>0</td>\n",
       "    </tr>\n",
       "    <tr>\n",
       "      <th>OnlineBackup</th>\n",
       "      <td>1</td>\n",
       "      <td>0</td>\n",
       "      <td>1</td>\n",
       "      <td>1</td>\n",
       "    </tr>\n",
       "    <tr>\n",
       "      <th>DeviceProtection</th>\n",
       "      <td>0</td>\n",
       "      <td>0</td>\n",
       "      <td>0</td>\n",
       "      <td>1</td>\n",
       "    </tr>\n",
       "    <tr>\n",
       "      <th>TechSupport</th>\n",
       "      <td>1</td>\n",
       "      <td>0</td>\n",
       "      <td>0</td>\n",
       "      <td>1</td>\n",
       "    </tr>\n",
       "    <tr>\n",
       "      <th>StreamingTV</th>\n",
       "      <td>0</td>\n",
       "      <td>0</td>\n",
       "      <td>1</td>\n",
       "      <td>1</td>\n",
       "    </tr>\n",
       "    <tr>\n",
       "      <th>StreamingMovies</th>\n",
       "      <td>0</td>\n",
       "      <td>1</td>\n",
       "      <td>1</td>\n",
       "      <td>0</td>\n",
       "    </tr>\n",
       "    <tr>\n",
       "      <th>PaperlessBilling</th>\n",
       "      <td>1</td>\n",
       "      <td>1</td>\n",
       "      <td>1</td>\n",
       "      <td>0</td>\n",
       "    </tr>\n",
       "    <tr>\n",
       "      <th>PaymentMethod</th>\n",
       "      <td>3</td>\n",
       "      <td>2</td>\n",
       "      <td>2</td>\n",
       "      <td>0</td>\n",
       "    </tr>\n",
       "    <tr>\n",
       "      <th>Tenure</th>\n",
       "      <td>56.633</td>\n",
       "      <td>2.851</td>\n",
       "      <td>5.664</td>\n",
       "      <td>2.733</td>\n",
       "    </tr>\n",
       "    <tr>\n",
       "      <th>MonthlyCharge</th>\n",
       "      <td>114.984</td>\n",
       "      <td>117.483</td>\n",
       "      <td>230.105</td>\n",
       "      <td>217.473</td>\n",
       "    </tr>\n",
       "    <tr>\n",
       "      <th>Bandwidth_GB_Year</th>\n",
       "      <td>4910.179</td>\n",
       "      <td>479.016</td>\n",
       "      <td>982.717</td>\n",
       "      <td>882.116</td>\n",
       "    </tr>\n",
       "    <tr>\n",
       "      <th>Item1</th>\n",
       "      <td>3</td>\n",
       "      <td>2</td>\n",
       "      <td>4</td>\n",
       "      <td>5</td>\n",
       "    </tr>\n",
       "    <tr>\n",
       "      <th>Item2</th>\n",
       "      <td>4</td>\n",
       "      <td>3</td>\n",
       "      <td>4</td>\n",
       "      <td>4</td>\n",
       "    </tr>\n",
       "    <tr>\n",
       "      <th>Item3</th>\n",
       "      <td>5</td>\n",
       "      <td>3</td>\n",
       "      <td>3</td>\n",
       "      <td>4</td>\n",
       "    </tr>\n",
       "    <tr>\n",
       "      <th>Item4</th>\n",
       "      <td>2</td>\n",
       "      <td>3</td>\n",
       "      <td>3</td>\n",
       "      <td>4</td>\n",
       "    </tr>\n",
       "    <tr>\n",
       "      <th>Item5</th>\n",
       "      <td>5</td>\n",
       "      <td>3</td>\n",
       "      <td>5</td>\n",
       "      <td>3</td>\n",
       "    </tr>\n",
       "    <tr>\n",
       "      <th>Item6</th>\n",
       "      <td>2</td>\n",
       "      <td>2</td>\n",
       "      <td>4</td>\n",
       "      <td>5</td>\n",
       "    </tr>\n",
       "    <tr>\n",
       "      <th>Item7</th>\n",
       "      <td>2</td>\n",
       "      <td>4</td>\n",
       "      <td>4</td>\n",
       "      <td>5</td>\n",
       "    </tr>\n",
       "    <tr>\n",
       "      <th>Item8</th>\n",
       "      <td>2</td>\n",
       "      <td>4</td>\n",
       "      <td>4</td>\n",
       "      <td>3</td>\n",
       "    </tr>\n",
       "    <tr>\n",
       "      <th>Churn</th>\n",
       "      <td>No</td>\n",
       "      <td>No</td>\n",
       "      <td>Yes</td>\n",
       "      <td>Yes</td>\n",
       "    </tr>\n",
       "  </tbody>\n",
       "</table>\n",
       "</div>"
      ],
      "text/plain": [
       "                          5952      1783      4811      145 \n",
       "Population                6399     32000     18951      5157\n",
       "Area                         2         1         2         0\n",
       "Children                     4         4         1         8\n",
       "Age                         59        83        68        75\n",
       "Income                36343.28  40031.03  39053.35  36342.31\n",
       "Marital                      2         4         2         0\n",
       "Gender                       1         0         0         1\n",
       "Outage_sec_perweek       8.923     14.75    11.206    15.409\n",
       "Email                       13        10        10        15\n",
       "Contacts                     0         2         7         2\n",
       "Yearly_equip_failure         0         0         0         0\n",
       "Techie                       1         0         0         0\n",
       "Contract                     2         1         2         0\n",
       "Port_modem                   0         0         1         0\n",
       "Tablet                       0         1         1         0\n",
       "InternetService              2         2         1         1\n",
       "Phone                        1         1         1         1\n",
       "Multiple                     0         0         0         1\n",
       "OnlineSecurity               0         1         0         0\n",
       "OnlineBackup                 1         0         1         1\n",
       "DeviceProtection             0         0         0         1\n",
       "TechSupport                  1         0         0         1\n",
       "StreamingTV                  0         0         1         1\n",
       "StreamingMovies              0         1         1         0\n",
       "PaperlessBilling             1         1         1         0\n",
       "PaymentMethod                3         2         2         0\n",
       "Tenure                  56.633     2.851     5.664     2.733\n",
       "MonthlyCharge          114.984   117.483   230.105   217.473\n",
       "Bandwidth_GB_Year     4910.179   479.016   982.717   882.116\n",
       "Item1                        3         2         4         5\n",
       "Item2                        4         3         4         4\n",
       "Item3                        5         3         3         4\n",
       "Item4                        2         3         3         4\n",
       "Item5                        5         3         5         3\n",
       "Item6                        2         2         4         5\n",
       "Item7                        2         4         4         5\n",
       "Item8                        2         4         4         3\n",
       "Churn                       No        No       Yes       Yes"
      ]
     },
     "metadata": {},
     "output_type": "display_data"
    },
    {
     "name": "stdout",
     "output_type": "stream",
     "text": [
      "shape: (3000, 38)\n",
      "Table saved to: TABLES/D209_TASK2_D1_TAB_4_2_TEST.CSV\n"
     ]
    }
   ],
   "source": [
    "saveTable(data=X_test.merge(y_test, \n",
    "        left_index=True, right_index=True),\n",
    "    title='TEST', sect='D1', \n",
    "    course='D209', caption='4 2', task='Task2')"
   ]
  },
  {
   "cell_type": "markdown",
   "id": "a5237516",
   "metadata": {},
   "source": [
    "<h3>D2. Describe the analysis technique you used to appropriately analyze the data. Include screenshots of the intermediate calculations you performed.</h3>"
   ]
  },
  {
   "cell_type": "markdown",
   "id": "7bacce7b",
   "metadata": {},
   "source": [
    "<span style=\"font-family: 'Courier New';font-size: 18px;color: #000000;line-height: 24px;\">The data for the model is the training data created above in section 'D1'. I am selected max_depth=2 for the model in order to create a simple model. I want to be able to create a 2D decision boundary plot using a scatter plot.</span>"
   ]
  },
  {
   "cell_type": "code",
   "execution_count": 18,
   "id": "ad5b8291",
   "metadata": {},
   "outputs": [
    {
     "data": {
      "text/plain": [
       "DecisionTreeClassifier(max_depth=2, random_state=13)"
      ]
     },
     "execution_count": 18,
     "metadata": {},
     "output_type": "execute_result"
    }
   ],
   "source": [
    "# create model\n",
    "dt = DecisionTreeClassifier(max_depth=2, random_state=13)\n",
    "dt.fit(X_train, y_train)"
   ]
  },
  {
   "cell_type": "markdown",
   "id": "76e6590b",
   "metadata": {},
   "source": [
    "<div style= \"font-weight: bold;font-size: large;border-top: solid;text-transform: uppercase;\">FIGURE 4-1.<span style=\"font-weight: normal;\">CLASSIFICATION TREE (MAX_DEPTH=2)</span></div>"
   ]
  },
  {
   "cell_type": "code",
   "execution_count": 19,
   "id": "9c2cebb6",
   "metadata": {},
   "outputs": [
    {
     "name": "stdout",
     "output_type": "stream",
     "text": [
      "Target: [Churn: No, Yes]\n"
     ]
    },
    {
     "data": {
      "image/png": "[encoded data removed]",
      "text/plain": [
       "<IPython.core.display.Image object>"
      ]
     },
     "execution_count": 19,
     "metadata": {},
     "output_type": "execute_result"
    }
   ],
   "source": [
    "print('Target: [{}: {}]'.format(target, ', '.join(dt.classes_)))\n",
    "plotDecisionTree(dt, feature_names=X_train.columns.to_list(),\n",
    "            class_names=dt.classes_)"
   ]
  },
  {
   "cell_type": "markdown",
   "id": "b5b844a1",
   "metadata": {},
   "source": [
    "<div style= \"font-weight: bold;font-size: large;border-top: solid;text-transform: uppercase;\">FIGURE 4-2.<span style=\"font-weight: normal;\">DECISION BOUNDARIES </span></div>"
   ]
  },
  {
   "cell_type": "code",
   "execution_count": 20,
   "id": "c8ecbbf5",
   "metadata": {},
   "outputs": [
    {
     "name": "stdout",
     "output_type": "stream",
     "text": [
      "Figure saved to: FIGURES/D209_TASK2_D2_FIG_4_2_DECISION_BOUNDARIES.PNG\n"
     ]
    },
    {
     "data": {
      "image/png": "[encoded data removed]",
      "text/plain": [
       "<Figure size 576x360 with 1 Axes>"
      ]
     },
     "metadata": {
      "needs_background": "light"
     },
     "output_type": "display_data"
    }
   ],
   "source": [
    "# plot decision boundaries\n",
    "fig, ax = plt.subplots()\n",
    "fig.set_size_inches(8, 5)\n",
    "\n",
    "# define plot variables\n",
    "x = 'Tenure'\n",
    "y='MonthlyCharge'\n",
    "title = 'Decision Boundaries'\n",
    "\n",
    "sns.scatterplot(x=x, y=y,\n",
    "    palette=['darkorange','blue'], hue=target,\n",
    "    data=y_train.merge(X_train, left_index=True, right_index=True))\n",
    "ax.axvline(x=27.659)\n",
    "ax.hlines(y=174.977, xmin=-1, xmax=27.659) # horizontal line segment\n",
    "ax.hlines(y=207.624, xmin=27.659, xmax=74) # horizontal line segment\n",
    "\n",
    "ax.set_title(title.upper(), fontsize=16)\n",
    "\n",
    "# create filename and save\n",
    "f=getFilename(title=title, caption='4 2',\n",
    "              course='D209', task='Task2', sect='D2',\n",
    "              ftype='PNG', subfolder='figures')\n",
    "plt.gcf().text(0, -.05, f, fontsize=14)\n",
    "fig.savefig(f, dpi=150, bbox_inches='tight') \n",
    "print('Figure saved to: {}'.format(f)) # feedback to notebook"
   ]
  },
  {
   "cell_type": "markdown",
   "id": "cd76c930",
   "metadata": {},
   "source": [
    "<span style=\"font-family: 'Courier New';font-size: 18px;color: #000000;line-height: 24px;\">The figure above shows the model from another slightly different vantage point. The scatter plot of the two key predictive features is broken down into four (4) section correlating to the four (4) terminal nodes of the decision tree. Each of the vertical and horizontal line segments are created using the numbers shown in the decision tree decision nodes.</span>"
   ]
  },
  {
   "cell_type": "markdown",
   "id": "7f7dee00",
   "metadata": {},
   "source": [
    "<h3>D3. Provide the code used to perform the classification analysis from part D2.</h3>"
   ]
  },
  {
   "cell_type": "markdown",
   "id": "70f2c3cb",
   "metadata": {},
   "source": [
    "<div style=\"font-family:Impact;\">Code. <span style=\"font-family: 'Courier New';font-size: 18px;color: #000000;line-height: 24px;\">All code and output is contained within this Jupyter notebook. The notebook file is called <b>D209_2_x.ipynb</b> and the associated PDF version is called <b>D209_2_x - Jupyter Notebook.pdf</b>.</span></div>"
   ]
  },
  {
   "cell_type": "markdown",
   "id": "a3beadbc",
   "metadata": {},
   "source": [
    "<h2>Part V: Data Summary and Implications</h2>"
   ]
  },
  {
   "cell_type": "markdown",
   "id": "b1032d96",
   "metadata": {},
   "source": [
    "<h3>E1. Explain the accuracy and the mean squared error (MSE) of your prediction model.</h3>"
   ]
  },
  {
   "cell_type": "markdown",
   "id": "e02804df",
   "metadata": {},
   "source": [
    "<span style=\"font-family: 'Courier New';font-size: 18px;color: #000000;line-height: 24px;\">For the classification tree, the measurement of accuracy is found within the confusiion matrix. Below are the confusion matrices for training data (showing 83.44% accuracy) and the test data (showing 83.57% accuracy). The accuracy is calculated by adding the number of True Positives and True Negatives on the diagonal, then divide that number by the total number of records.</span>"
   ]
  },
  {
   "cell_type": "code",
   "execution_count": null,
   "id": "cd44d566",
   "metadata": {},
   "outputs": [],
   "source": [
    "# training summary\n",
    "classificationSummary(y_train, dt.predict(X_train))"
   ]
  },
  {
   "cell_type": "code",
   "execution_count": null,
   "id": "454f9488",
   "metadata": {},
   "outputs": [],
   "source": [
    "# test summary\n",
    "classificationSummary(y_test, dt.predict(X_test))"
   ]
  },
  {
   "cell_type": "markdown",
   "id": "35db4d89",
   "metadata": {},
   "source": [
    "<h3>E2. Discuss the results and implications of your prediction analysis.</h3>"
   ]
  },
  {
   "cell_type": "markdown",
   "id": "77c6caaa",
   "metadata": {},
   "source": [
    "<span style=\"font-family: 'Courier New';font-size: 18px;color: #000000;line-height: 24px;\">The final prediction model uses only two (2) of the original features to predict the target class, and it does it correctly 83% of the time, pretty accurate for such a simple model. The simple model and graphical tree will be easy to explain to those individuals who will be using this prediction model. </span>"
   ]
  },
  {
   "cell_type": "markdown",
   "id": "11b9505d",
   "metadata": {},
   "source": [
    "<h3>E3. Discuss <b>one</b> limitation of your data analysis.</h3>"
   ]
  },
  {
   "cell_type": "markdown",
   "id": "78377084",
   "metadata": {},
   "source": [
    "<div style=\"font-family:Impact;\">Limitations. <span style=\"font-family: 'Courier New';font-size: 18px;color: #000000;line-height: 24px;\">One limitation of the predictive analysis is that it correctly predicts target class only 83% of the time, that is, there is the 17% chance that the predicted class is incorrect.</span></div>"
   ]
  },
  {
   "cell_type": "markdown",
   "id": "15d65ff8",
   "metadata": {},
   "source": [
    "<h3>E4. Recommend a course of action for the real-world organizational situation from part A1 based on your results and implications discussed in part E2.</h3>"
   ]
  },
  {
   "cell_type": "markdown",
   "id": "dee820e1",
   "metadata": {},
   "source": [
    "<div style=\"font-family:Impact;\">Recommendations. <span style=\"font-family: 'Courier New';font-size: 18px;color: #000000;line-height: 24px;\">Recommend that company include policy to include the churn prediction for all customers at intervals during the lifespan of the customer with the company, for example, during the first month, then again a 1-3 monthly intervals. Also, the prediction can be used anytime the customer's MonthlyCharge changes. Lastly, the company can have a 'Customer Support' office reachout to customer's with Churned predicted, possibly lowering their current monthly charge by some calculated amount.</span></div>"
   ]
  },
  {
   "cell_type": "markdown",
   "id": "eba6c3c2",
   "metadata": {},
   "source": [
    "<h2>Part VI: Demonstration</h2>"
   ]
  },
  {
   "cell_type": "markdown",
   "id": "7e98641d",
   "metadata": {},
   "source": [
    "<h3>F. Provide a Panopto video recording that includes a demonstration of the functionality of the code used for the analysis and a summary of the programming environment.</h3>"
   ]
  },
  {
   "cell_type": "markdown",
   "id": "957aa032",
   "metadata": {},
   "source": [
    "<div style=\"font-family:Impact;\">Video. <span style=\"font-family: 'Courier New';font-size: 18px;color: #000000;line-height: 24px;\">Panapto video was created and is located at: <a href=\"https://wgu.edu\" target=\"_blank\" rel=\"noopner noreferrer\">https://wgu.edu</a></span></div>"
   ]
  },
  {
   "cell_type": "markdown",
   "id": "1b085f46",
   "metadata": {},
   "source": [
    "<h3>G. Record the web sources used to acquire data or segments of third-party code to support the analysis. Ensure the web sources are reliable.</h3>"
   ]
  },
  {
   "cell_type": "markdown",
   "id": "1d80097c",
   "metadata": {},
   "source": [
    "<div style=\"font-family:Impact;\">Configure Scrollbars. <span style=\"font-family: 'Courier New';font-size: 18px;color: #000000;line-height: 24px;\">Disable scrollbars in notebook.</span></div>"
   ]
  },
  {
   "cell_type": "code",
   "execution_count": null,
   "id": "c9cbd79b",
   "metadata": {
    "scrolled": false
   },
   "outputs": [],
   "source": [
    "%%javascript\n",
    "IPython.OutputArea.prototype._should_scroll = function(lines) {\n",
    "    return false;\n",
    "}"
   ]
  },
  {
   "cell_type": "markdown",
   "id": "5dcfb814",
   "metadata": {},
   "source": [
    "<div style=\"font-family:Impact;\">Disable Auto Scroll. <span style=\"font-family: 'Courier New';font-size: 18px;color: #000000;line-height: 24px;\">Disable automatically scroll to bottom.</span></div>"
   ]
  },
  {
   "cell_type": "code",
   "execution_count": null,
   "id": "03f9405c",
   "metadata": {
    "scrolled": false
   },
   "outputs": [],
   "source": [
    "%%javascript\n",
    "require(\"notebook/js/notebook\").Notebook.prototype.scroll_to_bottom = function () {}"
   ]
  },
  {
   "cell_type": "markdown",
   "id": "cadb9c60",
   "metadata": {},
   "source": [
    "<div style=\"font-family:Impact;\">Toggle Notebook Warnings. <span style=\"font-family: 'Courier New';font-size: 18px;color: #000000;line-height: 24px;\">Use the following code to toggle warning messages in the notebook. Another piece of code courtesy of stackoverflow (2021). </span></div><a href=\"https://stackoverflow.com/questions/9031783/hide-all-warnings-in-ipython\" target=\"_blank\" rel=\"\">https://stackoverflow.com/questions/9031783/hide-all-warnings-in-ipython</a>"
   ]
  },
  {
   "cell_type": "code",
   "execution_count": null,
   "id": "8dd3c217",
   "metadata": {
    "scrolled": false
   },
   "outputs": [],
   "source": [
    "from IPython.display import HTML\n",
    "HTML('''<script>\n",
    "code_show_err=false; \n",
    "function code_toggle_err() {\n",
    " if (code_show_err){\n",
    " $('div.output_stderr').hide();\n",
    " } else {\n",
    " $('div.output_stderr').show();\n",
    " }\n",
    " code_show_err = !code_show_err\n",
    "} \n",
    "$( document ).ready(code_toggle_err);\n",
    "</script>\n",
    "To toggle on/off output_stderr, click <a href=\"javascript:code_toggle_err()\">here</a>.''')"
   ]
  },
  {
   "cell_type": "markdown",
   "id": "ce25934f",
   "metadata": {},
   "source": [
    "<div style=\"font-family:Impact;\">Terminal List Files. <span style=\"font-family: 'Courier New';font-size: 18px;color: #000000;line-height: 24px;\">List all of the  files from the current working directory. </span></div>Ref: (1) <a href=\"https://www.youtube.com/watch?v=C8MT-A7Mvk4&ab_channel=KimberlyFessel\" target=\"_blank\" rel=\"https://www.youtube.com/watch?v=C8MT-A7Mvk4&ab_channel=KimberlyFessel\">Fessel, K. (2021). How to save a matplotlib figure and fix text cutting off || Matplotlib Tips</a> Retrieved from https://www.youtube.com/watch?v=C8MT-A7Mvk4&ab_channel=KimberlyFessel"
   ]
  },
  {
   "cell_type": "code",
   "execution_count": null,
   "id": "6f0f3d43",
   "metadata": {
    "scrolled": false
   },
   "outputs": [],
   "source": [
    "!ls"
   ]
  },
  {
   "cell_type": "code",
   "execution_count": null,
   "id": "53e25534",
   "metadata": {
    "scrolled": false
   },
   "outputs": [],
   "source": [
    "!du -h *.*"
   ]
  },
  {
   "cell_type": "markdown",
   "id": "33332c02",
   "metadata": {},
   "source": [
    "<div style=\"font-family:Impact;\">List Installed Packages. <span style=\"font-family: 'Courier New';font-size: 18px;color: #000000;line-height: 24px;\">List of all installed PIP packages and the versions.</span></div>Ref: (1) https://pip.pypa.io/en/stable/cli/pip_list/"
   ]
  },
  {
   "cell_type": "raw",
   "id": "bb60881d",
   "metadata": {
    "scrolled": false
   },
   "source": [
    "!pip list"
   ]
  },
  {
   "cell_type": "markdown",
   "id": "696eba1c",
   "metadata": {},
   "source": [
    "<div style=\"font-family:Impact;\">Update Package. <span style=\"font-family: 'Courier New';font-size: 18px;color: #000000;line-height: 24px;\">Update a specific package within notebook.</div>Ref: (1) https://stackoverflow.com/questions/54453219/why-can-i-see-pip-list-sklearn-but-not-in-jupyter-when-i-run-a-code"
   ]
  },
  {
   "cell_type": "code",
   "execution_count": null,
   "id": "690c9c60",
   "metadata": {
    "scrolled": false
   },
   "outputs": [],
   "source": [
    "!python -m pip install -U scikit-learn"
   ]
  },
  {
   "cell_type": "markdown",
   "id": "2ea4e5e3",
   "metadata": {},
   "source": [
    "<div style=\"font-family:Impact;\">Merget Two Dataframes. <span style=\"font-family: 'Courier New';font-size: 18px;color: #000000;line-height: 24px;\">Code to merge two dataframes.</span></div>Ref: (1) https://stackoverflow.com/questions/26265819/how-to-merge-a-series-and-dataframe"
   ]
  },
  {
   "cell_type": "code",
   "execution_count": null,
   "id": "21b361eb",
   "metadata": {
    "scrolled": false
   },
   "outputs": [],
   "source": [
    "# merge X and y back together, for example\n",
    "d = X.merge(y, left_index=True, right_index=True)\n",
    "display(d.head())"
   ]
  },
  {
   "cell_type": "markdown",
   "id": "98dc16e8",
   "metadata": {},
   "source": [
    "<div style=\"font-family:Impact;\">List .index() Function. <span style=\"font-family: 'Courier New';font-size: 18px;color: #000000;line-height: 24px;\">The .index() method returns the index of the specified element in the list. </span></div>Ref: (1) https://www.programiz.com/python-programming/methods/list/index"
   ]
  },
  {
   "cell_type": "code",
   "execution_count": null,
   "id": "28792b2a",
   "metadata": {
    "scrolled": false
   },
   "outputs": [],
   "source": [
    "animals = ['cat', 'dog', 'rabbit', 'horse']\n",
    "# get the index of 'dog'\n",
    "index = animals.index('dog')\n",
    "print(index)"
   ]
  },
  {
   "cell_type": "markdown",
   "id": "19ca20d3",
   "metadata": {},
   "source": [
    "<div style=\"font-family:Impact;\">Row Index Names in Pandas. <span style=\"font-family: 'Courier New';font-size: 18px;color: #000000;line-height: 24px;\">Code to get rows/index names in a Pandas dataframe. </span></div>Ref: (1) https://www.geeksforgeeks.org/how-to-get-rows-index-names-in-pandas-dataframe/"
   ]
  },
  {
   "cell_type": "code",
   "execution_count": null,
   "id": "65167a7e",
   "metadata": {
    "scrolled": false
   },
   "outputs": [],
   "source": [
    "# making data frame \n",
    "data = cleanData\n",
    "  \n",
    "# calling head() method  \n",
    "# storing in new variable \n",
    "data_top = data.head() \n",
    "    \n",
    "# iterating the columns\n",
    "for row in data_top.index:\n",
    "    print(row, end = \" \")"
   ]
  },
  {
   "cell_type": "markdown",
   "id": "c3838ecb",
   "metadata": {},
   "source": [
    "<div style=\"font-family:Impact;\">Tutorial Python Subplots. <span style=\"font-family: 'Courier New';font-size: 18px;color: #000000;line-height: 24px;\">Tutorial: Python Subplots </span></div>Ref: (1) https://www.kaggle.com/asimislam/tutorial-python-subplots"
   ]
  },
  {
   "cell_type": "code",
   "execution_count": null,
   "id": "4a438956",
   "metadata": {
    "scrolled": false
   },
   "outputs": [],
   "source": [
    "#  Categorical Data\n",
    "heart_CAT = ['Churn']\n",
    "\n",
    "#  Categorical Data\n",
    "a = 2  # number of rows\n",
    "b = 3  # number of columns\n",
    "c = 1  # initialize plot counter\n",
    "\n",
    "fig = plt.figure(figsize=(14,10))\n",
    "\n",
    "for i in heart_CAT:\n",
    "    plt.subplot(a, b, c)\n",
    "    plt.title('{}, subplot: {}{}{}'.format(i, a, b, c))\n",
    "    plt.xlabel(i)\n",
    "    sns.countplot(x=i, data=cleanData, palette='hls')\n",
    "    c = c + 1\n",
    "\n",
    "plt.show()"
   ]
  },
  {
   "cell_type": "markdown",
   "id": "d8a16c4c",
   "metadata": {},
   "source": [
    "<div style=\"font-family:Impact;\">PASS FIG TO CUSTOM PLOT FUNCTION. <span style=\"font-family: 'Courier New';font-size: 18px;color: #000000;line-height: 24px;\">A great way to do this is to pass a figure object to your code and have your function add an axis then return the updated figure. </span></div>Ref: (1) https://stackoverflow.com/questions/43925337/matplotlib-returning-a-plot-object"
   ]
  },
  {
   "cell_type": "code",
   "execution_count": null,
   "id": "049ebdc9",
   "metadata": {
    "scrolled": false
   },
   "outputs": [],
   "source": [
    "def plot_hist_overlay(feature, fig, p, bins=8):\n",
    "\n",
    "    # data\n",
    "    df_yes = cleanData[cleanData.Churn==True][feature]\n",
    "    df_no = cleanData[cleanData.Churn==False][feature]\n",
    "    \n",
    "    # plot stacked hist\n",
    "    ax = f.add_subplot() # here is where you add the subplot to f\n",
    "    plt.hist([df_yes,df_no], bins=bins, stacked=True)\n",
    "    \n",
    "    # add title\n",
    "    plt.title(feature + ' grouped by target', size=16)\n",
    "    \n",
    "    # tick marks\n",
    "    ax.set_xticks([])\n",
    "    #ax.set_yticks([]) # use default\n",
    "    \n",
    "    # add axis labels\n",
    "    plt.xlabel(feature)\n",
    "    plt.ylabel('# Churn')\n",
    "    \n",
    "    # add legend\n",
    "    ax.legend(['Churn - Yes','Churn - No'])\n",
    "\n",
    "    return(f)\n",
    "\n",
    "target = 'Churn'\n",
    "features = ['MonthlyCharge','Tenure']\n",
    "bins = 6\n",
    "for idx,fea in enumerate(features):\n",
    "    fig_size = (6,5)\n",
    "    f = plt.figure(figsize=fig_size)\n",
    "    f = plot_hist_overlay(fea, fig=f, p=idx+1, bins=bins)\n",
    "    file = getFilename(fea, 'z1','fig 9 ' + str(idx+1)) # getFilename using helper\n",
    "    plt.gcf().text(0.1, 0, file, fontsize=14) \n",
    "    \n",
    "    # data table\n",
    "    b = pd.cut(cleanData[fea], bins=bins) # create bins (b) of numeric feature\n",
    "    dt = pd.crosstab(cleanData[target], b)\n",
    "    plt.gcf().text(0.1, -.4, dt.T.to_string(), fontsize=14)\n",
    "    #print(dt.T)\n",
    "    \n",
    "    f.savefig(file, dpi=150, bbox_inches='tight')\n",
    "\n",
    "#f = plot_hist_overlay('MonthlyCharge', fig=f, p=3)\n",
    "#f = plot_hist_overlay('Tenure', fig=f, p=2)"
   ]
  },
  {
   "cell_type": "markdown",
   "id": "a6de381e",
   "metadata": {},
   "source": [
    "<div style=\"font-family:Impact;\">Enabling Jupyter Notebook extensions. <span style=\"font-family: 'Courier New';font-size: 18px;color: #000000;line-height: 24px;\"> </span></div>Ref: (1) https://tljh.jupyter.org/en/latest/howto/admin/enable-extensions.html"
   ]
  },
  {
   "cell_type": "raw",
   "id": "ba7621f0",
   "metadata": {},
   "source": [
    "pip install jupyter_contrib_nbextensions\n",
    "jupyter contrib nbextension install --sys-prefix\n",
    "jupyter nbextension enable scratchpad/main --sys-prefix\n",
    "jupyter nbextension list"
   ]
  },
  {
   "cell_type": "markdown",
   "id": "dc5f82c4",
   "metadata": {},
   "source": [
    "<div style=\"font-family:Impact;\">How to Use HTML to Open a Link in a New Tab. <span style=\"font-family: 'Courier New';font-size: 18px;color: #000000;line-height: 24px;\"> </span></div>Ref: (1)https://www.freecodecamp.org/news/how-to-use-html-to-open-link-in-new-tab/"
   ]
  },
  {
   "cell_type": "raw",
   "id": "519b20a7",
   "metadata": {},
   "source": [
    "<p>Check out <a href=\"https://www.freecodecamp.org/\" target=\"_blank\" rel=\"noopener noreferrer\">freeCodeCamp</a>.</p>"
   ]
  },
  {
   "cell_type": "markdown",
   "id": "0cece9f9",
   "metadata": {},
   "source": [
    "<div style=\"font-family:Impact;\">CSS Tutorial. <span style=\"font-family: 'Courier New';font-size: 18px;color: #000000;line-height: 24px;\"> This is a great resource for CSS code with many examples.</span></div> Ref: (1)https://www.w3schools.com/css/default.asp"
   ]
  },
  {
   "cell_type": "markdown",
   "id": "d166dc64",
   "metadata": {},
   "source": [
    "<div style=\"font-family:Impact;\">HTML Tutorial. <span style=\"font-family: 'Courier New';font-size: 18px;color: #000000;line-height: 24px;\"> This is a great resource for HTML code with many examples.</span></div> Ref: (1)https://www.w3schools.com/html/default.asp"
   ]
  },
  {
   "cell_type": "markdown",
   "id": "f4056110",
   "metadata": {},
   "source": [
    "<div style=\"font-family:Impact;\">Inline Styles in HTML. <span style=\"font-family: 'Courier New';font-size: 18px;color: #000000;line-height: 24px;\"> Usually, CSS is written in a separate CSS file (with file extension .css) or in a 'style' tag inside of the 'head' tag, but there is a third place which is also valid. The third place you can write CSS is inside of an HTML tag, using the style attribute. When CSS is written using the style attribute, it’s called an “inline style”. In general, this is not considered a best practice. However, there are times when inline styles are the right (or only) choice. </span></div>Ref: (1) https://www.codecademy.com/articles/html-inline-styles"
   ]
  },
  {
   "cell_type": "markdown",
   "id": "9f4d04f6",
   "metadata": {},
   "source": [
    "<h3>H. Acknowledge sources, using in-text citations and references, for content that is quoted, paraphrased, or summarized.</h3>"
   ]
  },
  {
   "cell_type": "markdown",
   "id": "19e3e4b4",
   "metadata": {},
   "source": [
    "<div style=\"font-family:Impact;\">Deitel, P. +<span style=\"font-family: 'Courier New';font-size: 18px;color: #000000;line-height: 24px;\">(2020). Intro to Python for Computer Science and Data Science: Learning to Program with AI, Big Data and the Cloud</span></div>"
   ]
  },
  {
   "cell_type": "markdown",
   "id": "11304439",
   "metadata": {},
   "source": [
    "<div style=\"font-family:Impact;\">Geron, A.<span style=\"font-family: 'Courier New';font-size: 18px;color: #000000;line-height: 24px;\">(2019). Hands-on Machine Learning with Scikit-Learn, Keras and TensorFlow: Concepts, Tools and Techniques to Build Intelligent Systems</span></div>"
   ]
  },
  {
   "cell_type": "markdown",
   "id": "def9831e",
   "metadata": {},
   "source": [
    "<div style=\"font-family:Impact;\">Larose, C.+<span style=\"font-family: 'Courier New';font-size: 18px;color: #000000;line-height: 24px;\">(2019). Data Science Using Python and R</span></div>"
   ]
  },
  {
   "cell_type": "markdown",
   "id": "fb336848",
   "metadata": {},
   "source": [
    "<div style=\"font-family:Impact;\">Rite, S.<span style=\"font-family: 'Courier New';font-size: 18px;color: #000000;line-height: 24px;\">(2018). Demystifying ‘Confusion Matrix’ Confusion</span></div>https://towardsdatascience.com/demystifying-confusion-matrix-confusion-9e82201592fd"
   ]
  },
  {
   "cell_type": "markdown",
   "id": "378a9af5",
   "metadata": {},
   "source": [
    "<div style=\"font-family:Impact;\">Robinson, S. <span style=\"font-family: 'Courier New';font-size: 18px;color: #000000;line-height: 24px;\">(2021). K-Nearest Neighbors Algorithm in Python and Scikit-Learn</span></div>https://stackabuse.com/k-nearest-neighbors-algorithm-in-python-and-scikit-learn/"
   ]
  },
  {
   "cell_type": "markdown",
   "id": "fe724a0a",
   "metadata": {},
   "source": [
    "<div style=\"font-family:Impact;\">Sharma, A.<span style=\"font-family: 'Courier New';font-size: 18px;color: #000000;line-height: 24px;\">(2021). K-Nearest Neighbors (KNN) on Customer Churn Data</span></div>https://medium.com/data-science-on-customer-churn-data/k-nearest-neighbors-knn-on-customer-churn-data-40e9b2bb9266"
   ]
  },
  {
   "cell_type": "markdown",
   "id": "1bcd7667",
   "metadata": {},
   "source": [
    "<div style=\"font-family:Impact;\">Shmueli, G. +<span style=\"font-family: 'Courier New';font-size: 18px;color: #000000;line-height: 24px;\">(2020). Data Mining for Business Analytics: Concepts, Techniques, and Application in Python</span></div>"
   ]
  },
  {
   "cell_type": "code",
   "execution_count": null,
   "id": "bc00937e",
   "metadata": {},
   "outputs": [],
   "source": []
  }
 ],
 "metadata": {
  "kernelspec": {
   "display_name": "py39",
   "language": "python",
   "name": "py39"
  },
  "language_info": {
   "codemirror_mode": {
    "name": "ipython",
    "version": 3
   },
   "file_extension": ".py",
   "mimetype": "text/x-python",
   "name": "python",
   "nbconvert_exporter": "python",
   "pygments_lexer": "ipython3",
   "version": "3.9.7"
  },
  "toc": {
   "base_numbering": 1,
   "nav_menu": {},
   "number_sections": false,
   "sideBar": true,
   "skip_h1_title": true,
   "title_cell": "Table of Contents",
   "title_sidebar": "Contents",
   "toc_cell": false,
   "toc_position": {
    "height": "calc(100% - 180px)",
    "left": "10px",
    "top": "150px",
    "width": "212px"
   },
   "toc_section_display": true,
   "toc_window_display": false
  }
 },
 "nbformat": 4,
 "nbformat_minor": 5
}
